{
 "cells": [
  {
   "cell_type": "code",
   "execution_count": 14,
   "metadata": {},
   "outputs": [],
   "source": [
    "import joblib as jb\n",
    "import numpy as np\n",
    "\n",
    "def print_res(fpath):\n",
    "    with open(fpath, 'rb') as f:\n",
    "        res = jb.load(f)\n",
    "    return np.exp(res['x'])"
   ]
  },
  {
   "cell_type": "code",
   "execution_count": 18,
   "metadata": {},
   "outputs": [
    {
     "data": {
      "text/plain": [
       "['check_args_15.jb', 'check_args_10.jb', 'check_args_5.jb']"
      ]
     },
     "execution_count": 18,
     "metadata": {},
     "output_type": "execute_result"
    }
   ],
   "source": [
    "glob.glob('check_args_*')"
   ]
  },
  {
   "cell_type": "code",
   "execution_count": 19,
   "metadata": {},
   "outputs": [
    {
     "ename": "TypeError",
     "evalue": "cannot unpack non-iterable numpy.float64 object",
     "output_type": "error",
     "traceback": [
      "\u001b[0;31m---------------------------------------------------------------------------\u001b[0m",
      "\u001b[0;31mTypeError\u001b[0m                                 Traceback (most recent call last)",
      "Cell \u001b[0;32mIn[19], line 9\u001b[0m\n\u001b[1;32m      7\u001b[0m row_vals \u001b[38;5;241m=\u001b[39m {}\n\u001b[1;32m      8\u001b[0m row_vals[\u001b[38;5;124m'\u001b[39m\u001b[38;5;124mn\u001b[39m\u001b[38;5;124m'\u001b[39m] \u001b[38;5;241m=\u001b[39m n\n\u001b[0;32m----> 9\u001b[0m \u001b[38;5;28;01mfor\u001b[39;00m idx, val \u001b[38;5;129;01min\u001b[39;00m vals:\n\u001b[1;32m     10\u001b[0m     row_vals[\u001b[38;5;124mf\u001b[39m\u001b[38;5;124m'\u001b[39m\u001b[38;5;124mbeta_\u001b[39m\u001b[38;5;132;01m{\u001b[39;00midx\u001b[38;5;132;01m}\u001b[39;00m\u001b[38;5;124m'\u001b[39m] \u001b[38;5;241m=\u001b[39m val\n\u001b[1;32m     11\u001b[0m res\u001b[38;5;241m.\u001b[39mappend(\n\u001b[1;32m     12\u001b[0m     row_vals\n\u001b[1;32m     13\u001b[0m )\n",
      "\u001b[0;31mTypeError\u001b[0m: cannot unpack non-iterable numpy.float64 object"
     ]
    }
   ],
   "source": [
    "import glob\n",
    "import pandas as pd\n",
    "res = []\n",
    "for f in glob.glob('check_args_*'):\n",
    "    n = f.split('.')[0].split('_')[-1]\n",
    "    vals = print_res(f)\n",
    "    row_vals = {}\n",
    "    row_vals['n'] = n\n",
    "    for idx, val in vals:\n",
    "        row_vals[f'beta_{idx}'] = val\n",
    "    res.append(\n",
    "        row_vals\n",
    "    )\n",
    "pd.DataFrame(row_vals)"
   ]
  },
  {
   "cell_type": "code",
   "execution_count": null,
   "metadata": {},
   "outputs": [],
   "source": [
    "import tqdm as tqdm\n",
    "def arbitrary_objective_function(params, data, subject_id_c = 'SUBJID',\n",
    "                                 dep_vars = {'k':['mgkg', 'age'], 'vd':['mgkg', 'age']}\n",
    "                                 ):\n",
    "    k_pop, Vd_pop, *other = params\n",
    "    betas = {}\n",
    "    params = []\n",
    "    other_params_idx = 0\n",
    "    for model_param in dep_vars:\n",
    "        #beta_names.extend([f'{model_param}_i' for i in dep_vars[model_param]])\n",
    "        betas[model_param] = {}\n",
    "        for param_col in dep_vars[model_param]:\n",
    "            betas[model_param][param_col] = other[other_params_idx]\n",
    "            params.append(param_col)\n",
    "            other_params_idx = other_params_idx + 1\n",
    "    subject_coeffs_history = {}\n",
    "    for subject in tqdm(data[subject_id_c].unique()):\n",
    "        subject_filt =  data[subject_id_c] == subject\n",
    "        subject_data = data.loc[subject_filt, :].copy()\n",
    "        \n",
    "        subject_coeff = {\n",
    "            'k':k_pop, \n",
    "            'vd':Vd_pop\n",
    "        }\n",
    "        subject_coeff_history = [subject_coeff]\n",
    "        for model_param in betas:\n",
    "            for param_col in betas[model_param]:\n",
    "                param_beta = betas[model_param][param_col]\n",
    "                param_value = subject_data[param_col].values[0]\n",
    "                subject_coeff[model_param] = subject_coeff[model_param] + (param_beta*param_value)\n",
    "                subject_coeff_history.append(subject_coeff)\n",
    "        subject_coeffs_history[subject] = subject_coeff_history\n"
   ]
  },
  {
   "cell_type": "code",
   "execution_count": null,
   "metadata": {},
   "outputs": [],
   "source": [
    "\n",
    "j = arbitrary_objective_function(params = (1,2,3,4,5,6), data = pd.DataFrame())  "
   ]
  }
 ],
 "metadata": {
  "kernelspec": {
   "display_name": "pySunODE",
   "language": "python",
   "name": "python3"
  },
  "language_info": {
   "codemirror_mode": {
    "name": "ipython",
    "version": 3
   },
   "file_extension": ".py",
   "mimetype": "text/x-python",
   "name": "python",
   "nbconvert_exporter": "python",
   "pygments_lexer": "ipython3",
   "version": "3.12.8"
  }
 },
 "nbformat": 4,
 "nbformat_minor": 2
}
