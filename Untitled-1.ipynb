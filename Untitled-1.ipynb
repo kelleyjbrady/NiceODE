{
 "cells": [
  {
   "cell_type": "code",
   "execution_count": 14,
   "metadata": {},
   "outputs": [],
   "source": [
    "import joblib as jb\n",
    "import numpy as np\n",
    "\n",
    "def print_res(fpath):\n",
    "    with open(fpath, 'rb') as f:\n",
    "        res = jb.load(f)\n",
    "    return np.exp(res['x'])"
   ]
  },
  {
   "cell_type": "code",
   "execution_count": 18,
   "metadata": {},
   "outputs": [
    {
     "data": {
      "text/plain": [
       "['check_args_15.jb', 'check_args_10.jb', 'check_args_5.jb']"
      ]
     },
     "execution_count": 18,
     "metadata": {},
     "output_type": "execute_result"
    }
   ],
   "source": [
    "glob.glob('check_args_*')"
   ]
  },
  {
   "cell_type": "code",
   "execution_count": 19,
   "metadata": {},
   "outputs": [
    {
     "ename": "TypeError",
     "evalue": "cannot unpack non-iterable numpy.float64 object",
     "output_type": "error",
     "traceback": [
      "\u001b[0;31m---------------------------------------------------------------------------\u001b[0m",
      "\u001b[0;31mTypeError\u001b[0m                                 Traceback (most recent call last)",
      "Cell \u001b[0;32mIn[19], line 9\u001b[0m\n\u001b[1;32m      7\u001b[0m row_vals \u001b[38;5;241m=\u001b[39m {}\n\u001b[1;32m      8\u001b[0m row_vals[\u001b[38;5;124m'\u001b[39m\u001b[38;5;124mn\u001b[39m\u001b[38;5;124m'\u001b[39m] \u001b[38;5;241m=\u001b[39m n\n\u001b[0;32m----> 9\u001b[0m \u001b[38;5;28;01mfor\u001b[39;00m idx, val \u001b[38;5;129;01min\u001b[39;00m vals:\n\u001b[1;32m     10\u001b[0m     row_vals[\u001b[38;5;124mf\u001b[39m\u001b[38;5;124m'\u001b[39m\u001b[38;5;124mbeta_\u001b[39m\u001b[38;5;132;01m{\u001b[39;00midx\u001b[38;5;132;01m}\u001b[39;00m\u001b[38;5;124m'\u001b[39m] \u001b[38;5;241m=\u001b[39m val\n\u001b[1;32m     11\u001b[0m res\u001b[38;5;241m.\u001b[39mappend(\n\u001b[1;32m     12\u001b[0m     row_vals\n\u001b[1;32m     13\u001b[0m )\n",
      "\u001b[0;31mTypeError\u001b[0m: cannot unpack non-iterable numpy.float64 object"
     ]
    }
   ],
   "source": [
    "import glob\n",
    "import pandas as pd\n",
    "res = []\n",
    "for f in glob.glob('check_args_*'):\n",
    "    n = f.split('.')[0].split('_')[-1]\n",
    "    vals = print_res(f)\n",
    "    row_vals = {}\n",
    "    row_vals['n'] = n\n",
    "    for idx, val in vals:\n",
    "        row_vals[f'beta_{idx}'] = val\n",
    "    res.append(\n",
    "        row_vals\n",
    "    )\n",
    "pd.DataFrame(row_vals)"
   ]
  },
  {
   "cell_type": "code",
   "execution_count": null,
   "metadata": {},
   "outputs": [],
   "source": [
    "print_res('check_args_5.jb')"
   ]
  }
 ],
 "metadata": {
  "kernelspec": {
   "display_name": "pySunODE",
   "language": "python",
   "name": "python3"
  },
  "language_info": {
   "codemirror_mode": {
    "name": "ipython",
    "version": 3
   },
   "file_extension": ".py",
   "mimetype": "text/x-python",
   "name": "python",
   "nbconvert_exporter": "python",
   "pygments_lexer": "ipython3",
   "version": "3.12.8"
  }
 },
 "nbformat": 4,
 "nbformat_minor": 2
}
