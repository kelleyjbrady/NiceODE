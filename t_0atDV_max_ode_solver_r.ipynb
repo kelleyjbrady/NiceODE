{
 "cells": [
  {
   "cell_type": "code",
   "execution_count": 1,
   "metadata": {},
   "outputs": [],
   "source": [
    "import pandas as pd\n",
    "import matplotlib.pyplot as plt\n",
    "import seaborn as sns\n",
    "from utils import plot_subject_levels"
   ]
  },
  {
   "cell_type": "code",
   "execution_count": 2,
   "metadata": {},
   "outputs": [],
   "source": [
    "df = pd.read_csv(r'/workspaces/miniconda/PKdata/data-raw/KI20160914/KI20160914.csv')\n",
    "df_c = pd.read_csv(r'/workspaces/miniconda/PKdata/data-raw/hydrocortisone_Sim/hydrocortisone_Sim.csv')"
   ]
  },
  {
   "cell_type": "code",
   "execution_count": 3,
   "metadata": {},
   "outputs": [],
   "source": [
    "df = df_c.copy()\n",
    "df.columns = [i.strip() for i in df.columns]"
   ]
  },
  {
   "cell_type": "code",
   "execution_count": 4,
   "metadata": {},
   "outputs": [],
   "source": [
    "from scipy.integrate import solve_ivp\n",
    "import numpy as np\n",
    "from tqdm import tqdm\n",
    "from utils import one_compartment_model, objective_function"
   ]
  },
  {
   "cell_type": "code",
   "execution_count": 5,
   "metadata": {},
   "outputs": [
    {
     "data": {
      "application/vnd.microsoft.datawrangler.viewer.v0+json": {
       "columns": [
        {
         "name": "index",
         "rawType": "int64",
         "type": "integer"
        },
        {
         "name": "ID",
         "rawType": "float64",
         "type": "float"
        },
        {
         "name": "TIME",
         "rawType": "float64",
         "type": "float"
        },
        {
         "name": "AMT",
         "rawType": "float64",
         "type": "float"
        },
        {
         "name": "DV",
         "rawType": "float64",
         "type": "float"
        }
       ],
       "conversionMethod": "pd.DataFrame",
       "ref": "bb0e2629-b814-49b5-a229-baa3125f24ae",
       "rows": [
        [
         "0",
         "1.0",
         "0.0",
         "20000.0",
         "0.0"
        ],
        [
         "1",
         "1.0",
         "0.5",
         "0.0",
         "281.28"
        ],
        [
         "2",
         "1.0",
         "1.0",
         "0.0",
         "368.22"
        ],
        [
         "3",
         "1.0",
         "2.0",
         "0.0",
         "304.77"
        ],
        [
         "4",
         "1.0",
         "3.0",
         "0.0",
         "186.59"
        ],
        [
         "5",
         "1.0",
         "4.0",
         "0.0",
         "115.9"
        ],
        [
         "6",
         "1.0",
         "5.0",
         "0.0",
         "83.24"
        ],
        [
         "7",
         "1.0",
         "6.0",
         "0.0",
         "52.79"
        ],
        [
         "8",
         "1.0",
         "7.0",
         "0.0",
         "25.91"
        ],
        [
         "9",
         "1.0",
         "8.0",
         "0.0",
         "16.52"
        ],
        [
         "10",
         "1.0",
         "9.0",
         "0.0",
         "8.24"
        ],
        [
         "11",
         "1.0",
         "10.0",
         "0.0",
         "5.68"
        ],
        [
         "12",
         "1.0",
         "11.0",
         "0.0",
         "2.29"
        ],
        [
         "13",
         "1.0",
         "12.0",
         "0.0",
         "1.5"
        ],
        [
         "14",
         "2.0",
         "0.0",
         "20000.0",
         "0.0"
        ],
        [
         "15",
         "2.0",
         "0.5",
         "0.0",
         "210.72"
        ],
        [
         "16",
         "2.0",
         "1.0",
         "0.0",
         "307.72"
        ],
        [
         "17",
         "2.0",
         "2.0",
         "0.0",
         "279.52"
        ],
        [
         "18",
         "2.0",
         "3.0",
         "0.0",
         "243.52"
        ],
        [
         "19",
         "2.0",
         "4.0",
         "0.0",
         "216.2"
        ],
        [
         "20",
         "2.0",
         "5.0",
         "0.0",
         "177.98"
        ],
        [
         "21",
         "2.0",
         "6.0",
         "0.0",
         "123.62"
        ],
        [
         "22",
         "2.0",
         "7.0",
         "0.0",
         "62.15"
        ],
        [
         "23",
         "2.0",
         "8.0",
         "0.0",
         "71.23"
        ],
        [
         "24",
         "2.0",
         "9.0",
         "0.0",
         "44.8"
        ],
        [
         "25",
         "2.0",
         "10.0",
         "0.0",
         "36.75"
        ],
        [
         "26",
         "2.0",
         "11.0",
         "0.0",
         "26.2"
        ],
        [
         "27",
         "2.0",
         "12.0",
         "0.0",
         "23.33"
        ],
        [
         "28",
         "3.0",
         "0.0",
         "20000.0",
         "0.0"
        ],
        [
         "29",
         "3.0",
         "0.5",
         "0.0",
         "201.19"
        ],
        [
         "30",
         "3.0",
         "1.0",
         "0.0",
         "319.25"
        ],
        [
         "31",
         "3.0",
         "2.0",
         "0.0",
         "339.95"
        ],
        [
         "32",
         "3.0",
         "3.0",
         "0.0",
         "297.52"
        ],
        [
         "33",
         "3.0",
         "4.0",
         "0.0",
         "176.14"
        ],
        [
         "34",
         "3.0",
         "5.0",
         "0.0",
         "125.76"
        ],
        [
         "35",
         "3.0",
         "6.0",
         "0.0",
         "116.51"
        ],
        [
         "36",
         "3.0",
         "7.0",
         "0.0",
         "72.21"
        ],
        [
         "37",
         "3.0",
         "8.0",
         "0.0",
         "66.41"
        ],
        [
         "38",
         "3.0",
         "9.0",
         "0.0",
         "32.73"
        ],
        [
         "39",
         "3.0",
         "10.0",
         "0.0",
         "23.9"
        ],
        [
         "40",
         "3.0",
         "11.0",
         "0.0",
         "16.17"
        ],
        [
         "41",
         "3.0",
         "12.0",
         "0.0",
         "12.62"
        ],
        [
         "42",
         "4.0",
         "0.0",
         "20000.0",
         "0.0"
        ],
        [
         "43",
         "4.0",
         "0.5",
         "0.0",
         "189.85"
        ],
        [
         "44",
         "4.0",
         "1.0",
         "0.0",
         "251.88"
        ],
        [
         "45",
         "4.0",
         "2.0",
         "0.0",
         "291.23"
        ],
        [
         "46",
         "4.0",
         "3.0",
         "0.0",
         "256.74"
        ],
        [
         "47",
         "4.0",
         "4.0",
         "0.0",
         "161.24"
        ],
        [
         "48",
         "4.0",
         "5.0",
         "0.0",
         "175.76"
        ],
        [
         "49",
         "4.0",
         "6.0",
         "0.0",
         "98.65"
        ]
       ],
       "shape": {
        "columns": 4,
        "rows": 280
       }
      },
      "text/html": [
       "<div>\n",
       "<style scoped>\n",
       "    .dataframe tbody tr th:only-of-type {\n",
       "        vertical-align: middle;\n",
       "    }\n",
       "\n",
       "    .dataframe tbody tr th {\n",
       "        vertical-align: top;\n",
       "    }\n",
       "\n",
       "    .dataframe thead th {\n",
       "        text-align: right;\n",
       "    }\n",
       "</style>\n",
       "<table border=\"1\" class=\"dataframe\">\n",
       "  <thead>\n",
       "    <tr style=\"text-align: right;\">\n",
       "      <th></th>\n",
       "      <th>ID</th>\n",
       "      <th>TIME</th>\n",
       "      <th>AMT</th>\n",
       "      <th>DV</th>\n",
       "    </tr>\n",
       "  </thead>\n",
       "  <tbody>\n",
       "    <tr>\n",
       "      <th>0</th>\n",
       "      <td>1.0</td>\n",
       "      <td>0.0</td>\n",
       "      <td>20000.0</td>\n",
       "      <td>0.00</td>\n",
       "    </tr>\n",
       "    <tr>\n",
       "      <th>1</th>\n",
       "      <td>1.0</td>\n",
       "      <td>0.5</td>\n",
       "      <td>0.0</td>\n",
       "      <td>281.28</td>\n",
       "    </tr>\n",
       "    <tr>\n",
       "      <th>2</th>\n",
       "      <td>1.0</td>\n",
       "      <td>1.0</td>\n",
       "      <td>0.0</td>\n",
       "      <td>368.22</td>\n",
       "    </tr>\n",
       "    <tr>\n",
       "      <th>3</th>\n",
       "      <td>1.0</td>\n",
       "      <td>2.0</td>\n",
       "      <td>0.0</td>\n",
       "      <td>304.77</td>\n",
       "    </tr>\n",
       "    <tr>\n",
       "      <th>4</th>\n",
       "      <td>1.0</td>\n",
       "      <td>3.0</td>\n",
       "      <td>0.0</td>\n",
       "      <td>186.59</td>\n",
       "    </tr>\n",
       "    <tr>\n",
       "      <th>...</th>\n",
       "      <td>...</td>\n",
       "      <td>...</td>\n",
       "      <td>...</td>\n",
       "      <td>...</td>\n",
       "    </tr>\n",
       "    <tr>\n",
       "      <th>275</th>\n",
       "      <td>20.0</td>\n",
       "      <td>8.0</td>\n",
       "      <td>0.0</td>\n",
       "      <td>59.32</td>\n",
       "    </tr>\n",
       "    <tr>\n",
       "      <th>276</th>\n",
       "      <td>20.0</td>\n",
       "      <td>9.0</td>\n",
       "      <td>0.0</td>\n",
       "      <td>46.33</td>\n",
       "    </tr>\n",
       "    <tr>\n",
       "      <th>277</th>\n",
       "      <td>20.0</td>\n",
       "      <td>10.0</td>\n",
       "      <td>0.0</td>\n",
       "      <td>35.61</td>\n",
       "    </tr>\n",
       "    <tr>\n",
       "      <th>278</th>\n",
       "      <td>20.0</td>\n",
       "      <td>11.0</td>\n",
       "      <td>0.0</td>\n",
       "      <td>29.10</td>\n",
       "    </tr>\n",
       "    <tr>\n",
       "      <th>279</th>\n",
       "      <td>20.0</td>\n",
       "      <td>12.0</td>\n",
       "      <td>0.0</td>\n",
       "      <td>17.82</td>\n",
       "    </tr>\n",
       "  </tbody>\n",
       "</table>\n",
       "<p>280 rows × 4 columns</p>\n",
       "</div>"
      ],
      "text/plain": [
       "       ID  TIME      AMT      DV\n",
       "0     1.0   0.0  20000.0    0.00\n",
       "1     1.0   0.5      0.0  281.28\n",
       "2     1.0   1.0      0.0  368.22\n",
       "3     1.0   2.0      0.0  304.77\n",
       "4     1.0   3.0      0.0  186.59\n",
       "..    ...   ...      ...     ...\n",
       "275  20.0   8.0      0.0   59.32\n",
       "276  20.0   9.0      0.0   46.33\n",
       "277  20.0  10.0      0.0   35.61\n",
       "278  20.0  11.0      0.0   29.10\n",
       "279  20.0  12.0      0.0   17.82\n",
       "\n",
       "[280 rows x 4 columns]"
      ]
     },
     "execution_count": 5,
     "metadata": {},
     "output_type": "execute_result"
    }
   ],
   "source": [
    "df"
   ]
  },
  {
   "cell_type": "code",
   "execution_count": 6,
   "metadata": {},
   "outputs": [],
   "source": [
    "for c in df:\n",
    "    df.loc[df[c] == '.', c] = pd.NA"
   ]
  },
  {
   "cell_type": "code",
   "execution_count": 7,
   "metadata": {},
   "outputs": [],
   "source": [
    "#prepare day 1 data\n",
    "df['SUBJID'] = df['ID'].copy()\n",
    "opt_df = df.dropna(subset = 'DV').copy()\n",
    "\n",
    "opt_df['DV'] = opt_df['DV'].astype(pd.Float32Dtype())\n",
    "if 'DAY' in df.columns:\n",
    "    opt_df = opt_df.loc[opt_df['DAY'] == 1, :]\n",
    "\n",
    "#Within day 1 data, per subject identify the max concentration\n",
    "#Drop time points occuring before the max, and set the time at that max conc to t=0\n",
    "remove_abs = True\n",
    "\n",
    "if remove_abs:\n",
    "    dfs = []\n",
    "    for c in opt_df['SUBJID'].drop_duplicates():\n",
    "        work_df = opt_df.loc[opt_df['SUBJID'] == c, :].reset_index(drop = True)\n",
    "        max_idx = work_df.loc[work_df['DV'] == work_df['DV'].max(), :].index[0]\n",
    "        work_df = work_df.iloc[max_idx:, :]\n",
    "        work_df['TIME'] = work_df['TIME'] - work_df['TIME'].min()\n",
    "        dfs.append(work_df.copy())\n",
    "    work_df = pd.concat(dfs)\n",
    "else:\n",
    "    work_df = opt_df.copy()"
   ]
  },
  {
   "cell_type": "code",
   "execution_count": 8,
   "metadata": {},
   "outputs": [],
   "source": [
    "#work_df = work_df.loc[work_df['TIME'] <= 8, :].copy()\n",
    "work_df['DV_ln'] = np.log(work_df['DV'])"
   ]
  },
  {
   "cell_type": "code",
   "execution_count": 9,
   "metadata": {},
   "outputs": [],
   "source": [
    "n_gt2_subs = work_df['SUBJID'].unique()[work_df['SUBJID'].value_counts() > 2]\n",
    "work_df = work_df.loc[work_df['SUBJID'].isin(n_gt2_subs), :]"
   ]
  },
  {
   "cell_type": "code",
   "execution_count": 10,
   "metadata": {},
   "outputs": [],
   "source": [
    "from nca import estimate_subject_slope_cv\n",
    "\n",
    "dfs = []\n",
    "for sub in work_df['SUBJID'].unique():\n",
    "    dfs.append(estimate_subject_slope_cv(work_df.loc[work_df['SUBJID'] == sub, :],\n",
    "                                         conc_col='DV', id_col='SUBJID'))"
   ]
  },
  {
   "cell_type": "code",
   "execution_count": 11,
   "metadata": {},
   "outputs": [],
   "source": [
    "from nca import identify_low_conc_zones, estimate_k_halflife\n",
    "\n",
    "\n",
    "zero_starts = identify_low_conc_zones(dfs, low_frac=.01, id_col = 'SUBJID')\n",
    "ks = estimate_k_halflife(dfs, zero_zone_df=zero_starts, id_col = 'SUBJID')"
   ]
  },
  {
   "cell_type": "code",
   "execution_count": 12,
   "metadata": {},
   "outputs": [
    {
     "data": {
      "text/plain": [
       "count    20.000000\n",
       "mean      1.956360\n",
       "std       0.588826\n",
       "min       1.042762\n",
       "25%       1.528218\n",
       "50%       1.997780\n",
       "75%       2.320812\n",
       "max       3.113921\n",
       "Name: window_halflife_est, dtype: float64"
      ]
     },
     "execution_count": 12,
     "metadata": {},
     "output_type": "execute_result"
    }
   ],
   "source": [
    "ks['window_halflife_est'].describe()"
   ]
  },
  {
   "cell_type": "code",
   "execution_count": 13,
   "metadata": {},
   "outputs": [
    {
     "data": {
      "text/plain": [
       "count    20.000000\n",
       "mean      0.388389\n",
       "std       0.125014\n",
       "min       0.222549\n",
       "25%       0.298605\n",
       "50%       0.346996\n",
       "75%       0.454777\n",
       "max       0.664581\n",
       "Name: window_k_est, dtype: float64"
      ]
     },
     "execution_count": 13,
     "metadata": {},
     "output_type": "execute_result"
    }
   ],
   "source": [
    "ks['window_k_est'].describe()"
   ]
  },
  {
   "cell_type": "code",
   "execution_count": 14,
   "metadata": {},
   "outputs": [],
   "source": [
    "from nca import plot_nca_sections\n",
    "\n",
    "make_nca_plot = False\n",
    "if make_nca_plot:\n",
    "    plot_nca_sections(work_df, ks, id_col = 'SUBJID', dv_col = 'DV')"
   ]
  },
  {
   "cell_type": "code",
   "execution_count": 15,
   "metadata": {},
   "outputs": [
    {
     "data": {
      "image/png": "[encoded data removed]",
      "text/plain": [
       "<Figure size 640x480 with 1 Axes>"
      ]
     },
     "metadata": {},
     "output_type": "display_data"
    }
   ],
   "source": [
    "#plot the prepared data\n",
    "plot_subject_levels(work_df, y = 'DV')"
   ]
  },
  {
   "cell_type": "code",
   "execution_count": 16,
   "metadata": {},
   "outputs": [],
   "source": [
    "import numpy as np\n",
    "from scipy.optimize import minimize\n",
    "from joblib import dump, load\n",
    "import os\n",
    "from functools import partial\n",
    "from utils import optimize_with_checkpoint_joblib"
   ]
  },
  {
   "cell_type": "code",
   "execution_count": 17,
   "metadata": {},
   "outputs": [],
   "source": [
    "from sklearn.preprocessing import RobustScaler\n",
    "scale_df = work_df.copy()\n",
    "#scale_df[['DV']] = RobustScaler().fit_transform(scale_df[['DV']])\n"
   ]
  },
  {
   "cell_type": "code",
   "execution_count": 19,
   "metadata": {},
   "outputs": [
    {
     "ename": "KeyError",
     "evalue": "'DOSR'",
     "output_type": "error",
     "traceback": [
      "\u001b[0;31m---------------------------------------------------------------------------\u001b[0m",
      "\u001b[0;31mKeyError\u001b[0m                                  Traceback (most recent call last)",
      "File \u001b[0;32m/opt/conda/envs/pySunODE/lib/python3.12/site-packages/pandas/core/indexes/base.py:3805\u001b[0m, in \u001b[0;36mIndex.get_loc\u001b[0;34m(self, key)\u001b[0m\n\u001b[1;32m   3804\u001b[0m \u001b[38;5;28;01mtry\u001b[39;00m:\n\u001b[0;32m-> 3805\u001b[0m     \u001b[38;5;28;01mreturn\u001b[39;00m \u001b[38;5;28;43mself\u001b[39;49m\u001b[38;5;241;43m.\u001b[39;49m\u001b[43m_engine\u001b[49m\u001b[38;5;241;43m.\u001b[39;49m\u001b[43mget_loc\u001b[49m\u001b[43m(\u001b[49m\u001b[43mcasted_key\u001b[49m\u001b[43m)\u001b[49m\n\u001b[1;32m   3806\u001b[0m \u001b[38;5;28;01mexcept\u001b[39;00m \u001b[38;5;167;01mKeyError\u001b[39;00m \u001b[38;5;28;01mas\u001b[39;00m err:\n",
      "File \u001b[0;32mindex.pyx:167\u001b[0m, in \u001b[0;36mpandas._libs.index.IndexEngine.get_loc\u001b[0;34m()\u001b[0m\n",
      "File \u001b[0;32mindex.pyx:196\u001b[0m, in \u001b[0;36mpandas._libs.index.IndexEngine.get_loc\u001b[0;34m()\u001b[0m\n",
      "File \u001b[0;32mpandas/_libs/hashtable_class_helper.pxi:7081\u001b[0m, in \u001b[0;36mpandas._libs.hashtable.PyObjectHashTable.get_item\u001b[0;34m()\u001b[0m\n",
      "File \u001b[0;32mpandas/_libs/hashtable_class_helper.pxi:7089\u001b[0m, in \u001b[0;36mpandas._libs.hashtable.PyObjectHashTable.get_item\u001b[0;34m()\u001b[0m\n",
      "\u001b[0;31mKeyError\u001b[0m: 'DOSR'",
      "\nThe above exception was the direct cause of the following exception:\n",
      "\u001b[0;31mKeyError\u001b[0m                                  Traceback (most recent call last)",
      "Cell \u001b[0;32mIn[19], line 5\u001b[0m\n\u001b[1;32m      2\u001b[0m age_scaler \u001b[38;5;241m=\u001b[39m RobustScaler()\n\u001b[1;32m      3\u001b[0m wt_scaler \u001b[38;5;241m=\u001b[39m RobustScaler()\n\u001b[0;32m----> 5\u001b[0m scale_df[\u001b[38;5;124m'\u001b[39m\u001b[38;5;124mMGKG\u001b[39m\u001b[38;5;124m'\u001b[39m] \u001b[38;5;241m=\u001b[39m (\u001b[43mscale_df\u001b[49m\u001b[43m[\u001b[49m\u001b[38;5;124;43m'\u001b[39;49m\u001b[38;5;124;43mDOSR\u001b[39;49m\u001b[38;5;124;43m'\u001b[39;49m\u001b[43m]\u001b[49m \u001b[38;5;241m/\u001b[39m scale_df[\u001b[38;5;124m'\u001b[39m\u001b[38;5;124mWT\u001b[39m\u001b[38;5;124m'\u001b[39m]) \u001b[38;5;241m*\u001b[39m \u001b[38;5;241m1000\u001b[39m\n\u001b[1;32m      6\u001b[0m scale_df[\u001b[38;5;124m'\u001b[39m\u001b[38;5;124mWT_scale\u001b[39m\u001b[38;5;124m'\u001b[39m] \u001b[38;5;241m=\u001b[39m wt_scaler\u001b[38;5;241m.\u001b[39mfit_transform(scale_df[[\u001b[38;5;124m'\u001b[39m\u001b[38;5;124mWT\u001b[39m\u001b[38;5;124m'\u001b[39m]])\n\u001b[1;32m      7\u001b[0m scale_df[\u001b[38;5;124m'\u001b[39m\u001b[38;5;124mMGKG_scale\u001b[39m\u001b[38;5;124m'\u001b[39m] \u001b[38;5;241m=\u001b[39m mgkg_scaler\u001b[38;5;241m.\u001b[39mfit_transform(scale_df[[\u001b[38;5;124m'\u001b[39m\u001b[38;5;124mMGKG\u001b[39m\u001b[38;5;124m'\u001b[39m]])\n",
      "File \u001b[0;32m/opt/conda/envs/pySunODE/lib/python3.12/site-packages/pandas/core/frame.py:4102\u001b[0m, in \u001b[0;36mDataFrame.__getitem__\u001b[0;34m(self, key)\u001b[0m\n\u001b[1;32m   4100\u001b[0m \u001b[38;5;28;01mif\u001b[39;00m \u001b[38;5;28mself\u001b[39m\u001b[38;5;241m.\u001b[39mcolumns\u001b[38;5;241m.\u001b[39mnlevels \u001b[38;5;241m>\u001b[39m \u001b[38;5;241m1\u001b[39m:\n\u001b[1;32m   4101\u001b[0m     \u001b[38;5;28;01mreturn\u001b[39;00m \u001b[38;5;28mself\u001b[39m\u001b[38;5;241m.\u001b[39m_getitem_multilevel(key)\n\u001b[0;32m-> 4102\u001b[0m indexer \u001b[38;5;241m=\u001b[39m \u001b[38;5;28;43mself\u001b[39;49m\u001b[38;5;241;43m.\u001b[39;49m\u001b[43mcolumns\u001b[49m\u001b[38;5;241;43m.\u001b[39;49m\u001b[43mget_loc\u001b[49m\u001b[43m(\u001b[49m\u001b[43mkey\u001b[49m\u001b[43m)\u001b[49m\n\u001b[1;32m   4103\u001b[0m \u001b[38;5;28;01mif\u001b[39;00m is_integer(indexer):\n\u001b[1;32m   4104\u001b[0m     indexer \u001b[38;5;241m=\u001b[39m [indexer]\n",
      "File \u001b[0;32m/opt/conda/envs/pySunODE/lib/python3.12/site-packages/pandas/core/indexes/base.py:3812\u001b[0m, in \u001b[0;36mIndex.get_loc\u001b[0;34m(self, key)\u001b[0m\n\u001b[1;32m   3807\u001b[0m     \u001b[38;5;28;01mif\u001b[39;00m \u001b[38;5;28misinstance\u001b[39m(casted_key, \u001b[38;5;28mslice\u001b[39m) \u001b[38;5;129;01mor\u001b[39;00m (\n\u001b[1;32m   3808\u001b[0m         \u001b[38;5;28misinstance\u001b[39m(casted_key, abc\u001b[38;5;241m.\u001b[39mIterable)\n\u001b[1;32m   3809\u001b[0m         \u001b[38;5;129;01mand\u001b[39;00m \u001b[38;5;28many\u001b[39m(\u001b[38;5;28misinstance\u001b[39m(x, \u001b[38;5;28mslice\u001b[39m) \u001b[38;5;28;01mfor\u001b[39;00m x \u001b[38;5;129;01min\u001b[39;00m casted_key)\n\u001b[1;32m   3810\u001b[0m     ):\n\u001b[1;32m   3811\u001b[0m         \u001b[38;5;28;01mraise\u001b[39;00m InvalidIndexError(key)\n\u001b[0;32m-> 3812\u001b[0m     \u001b[38;5;28;01mraise\u001b[39;00m \u001b[38;5;167;01mKeyError\u001b[39;00m(key) \u001b[38;5;28;01mfrom\u001b[39;00m \u001b[38;5;21;01merr\u001b[39;00m\n\u001b[1;32m   3813\u001b[0m \u001b[38;5;28;01mexcept\u001b[39;00m \u001b[38;5;167;01mTypeError\u001b[39;00m:\n\u001b[1;32m   3814\u001b[0m     \u001b[38;5;66;03m# If we have a listlike key, _check_indexing_error will raise\u001b[39;00m\n\u001b[1;32m   3815\u001b[0m     \u001b[38;5;66;03m#  InvalidIndexError. Otherwise we fall through and re-raise\u001b[39;00m\n\u001b[1;32m   3816\u001b[0m     \u001b[38;5;66;03m#  the TypeError.\u001b[39;00m\n\u001b[1;32m   3817\u001b[0m     \u001b[38;5;28mself\u001b[39m\u001b[38;5;241m.\u001b[39m_check_indexing_error(key)\n",
      "\u001b[0;31mKeyError\u001b[0m: 'DOSR'"
     ]
    }
   ],
   "source": [
    "\n",
    "mgkg_scaler = RobustScaler()\n",
    "age_scaler = RobustScaler()\n",
    "wt_scaler = RobustScaler()\n",
    "\n",
    "scale_df['MGKG'] = (scale_df['DOSR'] / scale_df['WT']) * 1000\n",
    "scale_df['WT_scale'] = wt_scaler.fit_transform(scale_df[['WT']])\n",
    "scale_df['MGKG_scale'] = mgkg_scaler.fit_transform(scale_df[['MGKG']])\n",
    "scale_df['AGE_scale'] = age_scaler.fit_transform(scale_df[['AGE']])\n",
    "#scale_df['DOSR'] = scale_df['DOSR'] / 100\n",
    "plot_subject_levels(scale_df)"
   ]
  },
  {
   "cell_type": "code",
   "execution_count": null,
   "metadata": {},
   "outputs": [],
   "source": [
    "scale_df['DVperweight_round'] = scale_df['MGKG'].round(0)"
   ]
  },
  {
   "cell_type": "code",
   "execution_count": 20,
   "metadata": {},
   "outputs": [
    {
     "ename": "ValueError",
     "evalue": "Could not interpret value `DVperweight_round` for `hue`. An entry with this name does not appear in `data`.",
     "output_type": "error",
     "traceback": [
      "\u001b[0;31m---------------------------------------------------------------------------\u001b[0m",
      "\u001b[0;31mValueError\u001b[0m                                Traceback (most recent call last)",
      "Cell \u001b[0;32mIn[20], line 1\u001b[0m\n\u001b[0;32m----> 1\u001b[0m \u001b[43msns\u001b[49m\u001b[38;5;241;43m.\u001b[39;49m\u001b[43mlineplot\u001b[49m\u001b[43m(\u001b[49m\u001b[43mscale_df\u001b[49m\u001b[43m,\u001b[49m\u001b[43m \u001b[49m\u001b[43mx\u001b[49m\u001b[43m \u001b[49m\u001b[38;5;241;43m=\u001b[39;49m\u001b[43m \u001b[49m\u001b[38;5;124;43m'\u001b[39;49m\u001b[38;5;124;43mTIME\u001b[39;49m\u001b[38;5;124;43m'\u001b[39;49m\u001b[43m,\u001b[49m\u001b[43m \u001b[49m\u001b[43my\u001b[49m\u001b[43m \u001b[49m\u001b[38;5;241;43m=\u001b[39;49m\u001b[43m \u001b[49m\u001b[38;5;124;43m'\u001b[39;49m\u001b[38;5;124;43mDV_ln\u001b[39;49m\u001b[38;5;124;43m'\u001b[39;49m\u001b[43m,\u001b[49m\u001b[43m \u001b[49m\u001b[43mhue\u001b[49m\u001b[43m \u001b[49m\u001b[38;5;241;43m=\u001b[39;49m\u001b[43m \u001b[49m\u001b[38;5;124;43m'\u001b[39;49m\u001b[38;5;124;43mDVperweight_round\u001b[39;49m\u001b[38;5;124;43m'\u001b[39;49m\u001b[43m)\u001b[49m\n",
      "File \u001b[0;32m/opt/conda/envs/pySunODE/lib/python3.12/site-packages/seaborn/relational.py:485\u001b[0m, in \u001b[0;36mlineplot\u001b[0;34m(data, x, y, hue, size, style, units, weights, palette, hue_order, hue_norm, sizes, size_order, size_norm, dashes, markers, style_order, estimator, errorbar, n_boot, seed, orient, sort, err_style, err_kws, legend, ci, ax, **kwargs)\u001b[0m\n\u001b[1;32m    471\u001b[0m \u001b[38;5;28;01mdef\u001b[39;00m \u001b[38;5;21mlineplot\u001b[39m(\n\u001b[1;32m    472\u001b[0m     data\u001b[38;5;241m=\u001b[39m\u001b[38;5;28;01mNone\u001b[39;00m, \u001b[38;5;241m*\u001b[39m,\n\u001b[1;32m    473\u001b[0m     x\u001b[38;5;241m=\u001b[39m\u001b[38;5;28;01mNone\u001b[39;00m, y\u001b[38;5;241m=\u001b[39m\u001b[38;5;28;01mNone\u001b[39;00m, hue\u001b[38;5;241m=\u001b[39m\u001b[38;5;28;01mNone\u001b[39;00m, size\u001b[38;5;241m=\u001b[39m\u001b[38;5;28;01mNone\u001b[39;00m, style\u001b[38;5;241m=\u001b[39m\u001b[38;5;28;01mNone\u001b[39;00m, units\u001b[38;5;241m=\u001b[39m\u001b[38;5;28;01mNone\u001b[39;00m, weights\u001b[38;5;241m=\u001b[39m\u001b[38;5;28;01mNone\u001b[39;00m,\n\u001b[0;32m   (...)\u001b[0m\n\u001b[1;32m    481\u001b[0m \n\u001b[1;32m    482\u001b[0m     \u001b[38;5;66;03m# Handle deprecation of ci parameter\u001b[39;00m\n\u001b[1;32m    483\u001b[0m     errorbar \u001b[38;5;241m=\u001b[39m _deprecate_ci(errorbar, ci)\n\u001b[0;32m--> 485\u001b[0m     p \u001b[38;5;241m=\u001b[39m \u001b[43m_LinePlotter\u001b[49m\u001b[43m(\u001b[49m\n\u001b[1;32m    486\u001b[0m \u001b[43m        \u001b[49m\u001b[43mdata\u001b[49m\u001b[38;5;241;43m=\u001b[39;49m\u001b[43mdata\u001b[49m\u001b[43m,\u001b[49m\n\u001b[1;32m    487\u001b[0m \u001b[43m        \u001b[49m\u001b[43mvariables\u001b[49m\u001b[38;5;241;43m=\u001b[39;49m\u001b[38;5;28;43mdict\u001b[39;49m\u001b[43m(\u001b[49m\n\u001b[1;32m    488\u001b[0m \u001b[43m            \u001b[49m\u001b[43mx\u001b[49m\u001b[38;5;241;43m=\u001b[39;49m\u001b[43mx\u001b[49m\u001b[43m,\u001b[49m\u001b[43m \u001b[49m\u001b[43my\u001b[49m\u001b[38;5;241;43m=\u001b[39;49m\u001b[43my\u001b[49m\u001b[43m,\u001b[49m\u001b[43m \u001b[49m\u001b[43mhue\u001b[49m\u001b[38;5;241;43m=\u001b[39;49m\u001b[43mhue\u001b[49m\u001b[43m,\u001b[49m\u001b[43m \u001b[49m\u001b[43msize\u001b[49m\u001b[38;5;241;43m=\u001b[39;49m\u001b[43msize\u001b[49m\u001b[43m,\u001b[49m\u001b[43m \u001b[49m\u001b[43mstyle\u001b[49m\u001b[38;5;241;43m=\u001b[39;49m\u001b[43mstyle\u001b[49m\u001b[43m,\u001b[49m\u001b[43m \u001b[49m\u001b[43munits\u001b[49m\u001b[38;5;241;43m=\u001b[39;49m\u001b[43munits\u001b[49m\u001b[43m,\u001b[49m\u001b[43m \u001b[49m\u001b[43mweight\u001b[49m\u001b[38;5;241;43m=\u001b[39;49m\u001b[43mweights\u001b[49m\n\u001b[1;32m    489\u001b[0m \u001b[43m        \u001b[49m\u001b[43m)\u001b[49m\u001b[43m,\u001b[49m\n\u001b[1;32m    490\u001b[0m \u001b[43m        \u001b[49m\u001b[43mestimator\u001b[49m\u001b[38;5;241;43m=\u001b[39;49m\u001b[43mestimator\u001b[49m\u001b[43m,\u001b[49m\u001b[43m \u001b[49m\u001b[43mn_boot\u001b[49m\u001b[38;5;241;43m=\u001b[39;49m\u001b[43mn_boot\u001b[49m\u001b[43m,\u001b[49m\u001b[43m \u001b[49m\u001b[43mseed\u001b[49m\u001b[38;5;241;43m=\u001b[39;49m\u001b[43mseed\u001b[49m\u001b[43m,\u001b[49m\u001b[43m \u001b[49m\u001b[43merrorbar\u001b[49m\u001b[38;5;241;43m=\u001b[39;49m\u001b[43merrorbar\u001b[49m\u001b[43m,\u001b[49m\n\u001b[1;32m    491\u001b[0m \u001b[43m        \u001b[49m\u001b[43msort\u001b[49m\u001b[38;5;241;43m=\u001b[39;49m\u001b[43msort\u001b[49m\u001b[43m,\u001b[49m\u001b[43m \u001b[49m\u001b[43morient\u001b[49m\u001b[38;5;241;43m=\u001b[39;49m\u001b[43morient\u001b[49m\u001b[43m,\u001b[49m\u001b[43m \u001b[49m\u001b[43merr_style\u001b[49m\u001b[38;5;241;43m=\u001b[39;49m\u001b[43merr_style\u001b[49m\u001b[43m,\u001b[49m\u001b[43m \u001b[49m\u001b[43merr_kws\u001b[49m\u001b[38;5;241;43m=\u001b[39;49m\u001b[43merr_kws\u001b[49m\u001b[43m,\u001b[49m\n\u001b[1;32m    492\u001b[0m \u001b[43m        \u001b[49m\u001b[43mlegend\u001b[49m\u001b[38;5;241;43m=\u001b[39;49m\u001b[43mlegend\u001b[49m\u001b[43m,\u001b[49m\n\u001b[1;32m    493\u001b[0m \u001b[43m    \u001b[49m\u001b[43m)\u001b[49m\n\u001b[1;32m    495\u001b[0m     p\u001b[38;5;241m.\u001b[39mmap_hue(palette\u001b[38;5;241m=\u001b[39mpalette, order\u001b[38;5;241m=\u001b[39mhue_order, norm\u001b[38;5;241m=\u001b[39mhue_norm)\n\u001b[1;32m    496\u001b[0m     p\u001b[38;5;241m.\u001b[39mmap_size(sizes\u001b[38;5;241m=\u001b[39msizes, order\u001b[38;5;241m=\u001b[39msize_order, norm\u001b[38;5;241m=\u001b[39msize_norm)\n",
      "File \u001b[0;32m/opt/conda/envs/pySunODE/lib/python3.12/site-packages/seaborn/relational.py:216\u001b[0m, in \u001b[0;36m_LinePlotter.__init__\u001b[0;34m(self, data, variables, estimator, n_boot, seed, errorbar, sort, orient, err_style, err_kws, legend)\u001b[0m\n\u001b[1;32m    202\u001b[0m \u001b[38;5;28;01mdef\u001b[39;00m \u001b[38;5;21m__init__\u001b[39m(\n\u001b[1;32m    203\u001b[0m     \u001b[38;5;28mself\u001b[39m, \u001b[38;5;241m*\u001b[39m,\n\u001b[1;32m    204\u001b[0m     data\u001b[38;5;241m=\u001b[39m\u001b[38;5;28;01mNone\u001b[39;00m, variables\u001b[38;5;241m=\u001b[39m{},\n\u001b[0;32m   (...)\u001b[0m\n\u001b[1;32m    210\u001b[0m     \u001b[38;5;66;03m# the kind of plot to draw, but for the time being we need to set\u001b[39;00m\n\u001b[1;32m    211\u001b[0m     \u001b[38;5;66;03m# this information so the SizeMapping can use it\u001b[39;00m\n\u001b[1;32m    212\u001b[0m     \u001b[38;5;28mself\u001b[39m\u001b[38;5;241m.\u001b[39m_default_size_range \u001b[38;5;241m=\u001b[39m (\n\u001b[1;32m    213\u001b[0m         np\u001b[38;5;241m.\u001b[39mr_[\u001b[38;5;241m.5\u001b[39m, \u001b[38;5;241m2\u001b[39m] \u001b[38;5;241m*\u001b[39m mpl\u001b[38;5;241m.\u001b[39mrcParams[\u001b[38;5;124m\"\u001b[39m\u001b[38;5;124mlines.linewidth\u001b[39m\u001b[38;5;124m\"\u001b[39m]\n\u001b[1;32m    214\u001b[0m     )\n\u001b[0;32m--> 216\u001b[0m     \u001b[38;5;28;43msuper\u001b[39;49m\u001b[43m(\u001b[49m\u001b[43m)\u001b[49m\u001b[38;5;241;43m.\u001b[39;49m\u001b[38;5;21;43m__init__\u001b[39;49m\u001b[43m(\u001b[49m\u001b[43mdata\u001b[49m\u001b[38;5;241;43m=\u001b[39;49m\u001b[43mdata\u001b[49m\u001b[43m,\u001b[49m\u001b[43m \u001b[49m\u001b[43mvariables\u001b[49m\u001b[38;5;241;43m=\u001b[39;49m\u001b[43mvariables\u001b[49m\u001b[43m)\u001b[49m\n\u001b[1;32m    218\u001b[0m     \u001b[38;5;28mself\u001b[39m\u001b[38;5;241m.\u001b[39mestimator \u001b[38;5;241m=\u001b[39m estimator\n\u001b[1;32m    219\u001b[0m     \u001b[38;5;28mself\u001b[39m\u001b[38;5;241m.\u001b[39merrorbar \u001b[38;5;241m=\u001b[39m errorbar\n",
      "File \u001b[0;32m/opt/conda/envs/pySunODE/lib/python3.12/site-packages/seaborn/_base.py:634\u001b[0m, in \u001b[0;36mVectorPlotter.__init__\u001b[0;34m(self, data, variables)\u001b[0m\n\u001b[1;32m    629\u001b[0m \u001b[38;5;66;03m# var_ordered is relevant only for categorical axis variables, and may\u001b[39;00m\n\u001b[1;32m    630\u001b[0m \u001b[38;5;66;03m# be better handled by an internal axis information object that tracks\u001b[39;00m\n\u001b[1;32m    631\u001b[0m \u001b[38;5;66;03m# such information and is set up by the scale_* methods. The analogous\u001b[39;00m\n\u001b[1;32m    632\u001b[0m \u001b[38;5;66;03m# information for numeric axes would be information about log scales.\u001b[39;00m\n\u001b[1;32m    633\u001b[0m \u001b[38;5;28mself\u001b[39m\u001b[38;5;241m.\u001b[39m_var_ordered \u001b[38;5;241m=\u001b[39m {\u001b[38;5;124m\"\u001b[39m\u001b[38;5;124mx\u001b[39m\u001b[38;5;124m\"\u001b[39m: \u001b[38;5;28;01mFalse\u001b[39;00m, \u001b[38;5;124m\"\u001b[39m\u001b[38;5;124my\u001b[39m\u001b[38;5;124m\"\u001b[39m: \u001b[38;5;28;01mFalse\u001b[39;00m}  \u001b[38;5;66;03m# alt., used DefaultDict\u001b[39;00m\n\u001b[0;32m--> 634\u001b[0m \u001b[38;5;28;43mself\u001b[39;49m\u001b[38;5;241;43m.\u001b[39;49m\u001b[43massign_variables\u001b[49m\u001b[43m(\u001b[49m\u001b[43mdata\u001b[49m\u001b[43m,\u001b[49m\u001b[43m \u001b[49m\u001b[43mvariables\u001b[49m\u001b[43m)\u001b[49m\n\u001b[1;32m    636\u001b[0m \u001b[38;5;66;03m# TODO Lots of tests assume that these are called to initialize the\u001b[39;00m\n\u001b[1;32m    637\u001b[0m \u001b[38;5;66;03m# mappings to default values on class initialization. I'd prefer to\u001b[39;00m\n\u001b[1;32m    638\u001b[0m \u001b[38;5;66;03m# move away from that and only have a mapping when explicitly called.\u001b[39;00m\n\u001b[1;32m    639\u001b[0m \u001b[38;5;28;01mfor\u001b[39;00m var \u001b[38;5;129;01min\u001b[39;00m [\u001b[38;5;124m\"\u001b[39m\u001b[38;5;124mhue\u001b[39m\u001b[38;5;124m\"\u001b[39m, \u001b[38;5;124m\"\u001b[39m\u001b[38;5;124msize\u001b[39m\u001b[38;5;124m\"\u001b[39m, \u001b[38;5;124m\"\u001b[39m\u001b[38;5;124mstyle\u001b[39m\u001b[38;5;124m\"\u001b[39m]:\n",
      "File \u001b[0;32m/opt/conda/envs/pySunODE/lib/python3.12/site-packages/seaborn/_base.py:679\u001b[0m, in \u001b[0;36mVectorPlotter.assign_variables\u001b[0;34m(self, data, variables)\u001b[0m\n\u001b[1;32m    674\u001b[0m \u001b[38;5;28;01melse\u001b[39;00m:\n\u001b[1;32m    675\u001b[0m     \u001b[38;5;66;03m# When dealing with long-form input, use the newer PlotData\u001b[39;00m\n\u001b[1;32m    676\u001b[0m     \u001b[38;5;66;03m# object (internal but introduced for the objects interface)\u001b[39;00m\n\u001b[1;32m    677\u001b[0m     \u001b[38;5;66;03m# to centralize / standardize data consumption logic.\u001b[39;00m\n\u001b[1;32m    678\u001b[0m     \u001b[38;5;28mself\u001b[39m\u001b[38;5;241m.\u001b[39minput_format \u001b[38;5;241m=\u001b[39m \u001b[38;5;124m\"\u001b[39m\u001b[38;5;124mlong\u001b[39m\u001b[38;5;124m\"\u001b[39m\n\u001b[0;32m--> 679\u001b[0m     plot_data \u001b[38;5;241m=\u001b[39m \u001b[43mPlotData\u001b[49m\u001b[43m(\u001b[49m\u001b[43mdata\u001b[49m\u001b[43m,\u001b[49m\u001b[43m \u001b[49m\u001b[43mvariables\u001b[49m\u001b[43m)\u001b[49m\n\u001b[1;32m    680\u001b[0m     frame \u001b[38;5;241m=\u001b[39m plot_data\u001b[38;5;241m.\u001b[39mframe\n\u001b[1;32m    681\u001b[0m     names \u001b[38;5;241m=\u001b[39m plot_data\u001b[38;5;241m.\u001b[39mnames\n",
      "File \u001b[0;32m/opt/conda/envs/pySunODE/lib/python3.12/site-packages/seaborn/_core/data.py:58\u001b[0m, in \u001b[0;36mPlotData.__init__\u001b[0;34m(self, data, variables)\u001b[0m\n\u001b[1;32m     51\u001b[0m \u001b[38;5;28;01mdef\u001b[39;00m \u001b[38;5;21m__init__\u001b[39m(\n\u001b[1;32m     52\u001b[0m     \u001b[38;5;28mself\u001b[39m,\n\u001b[1;32m     53\u001b[0m     data: DataSource,\n\u001b[1;32m     54\u001b[0m     variables: \u001b[38;5;28mdict\u001b[39m[\u001b[38;5;28mstr\u001b[39m, VariableSpec],\n\u001b[1;32m     55\u001b[0m ):\n\u001b[1;32m     57\u001b[0m     data \u001b[38;5;241m=\u001b[39m handle_data_source(data)\n\u001b[0;32m---> 58\u001b[0m     frame, names, ids \u001b[38;5;241m=\u001b[39m \u001b[38;5;28;43mself\u001b[39;49m\u001b[38;5;241;43m.\u001b[39;49m\u001b[43m_assign_variables\u001b[49m\u001b[43m(\u001b[49m\u001b[43mdata\u001b[49m\u001b[43m,\u001b[49m\u001b[43m \u001b[49m\u001b[43mvariables\u001b[49m\u001b[43m)\u001b[49m\n\u001b[1;32m     60\u001b[0m     \u001b[38;5;28mself\u001b[39m\u001b[38;5;241m.\u001b[39mframe \u001b[38;5;241m=\u001b[39m frame\n\u001b[1;32m     61\u001b[0m     \u001b[38;5;28mself\u001b[39m\u001b[38;5;241m.\u001b[39mnames \u001b[38;5;241m=\u001b[39m names\n",
      "File \u001b[0;32m/opt/conda/envs/pySunODE/lib/python3.12/site-packages/seaborn/_core/data.py:232\u001b[0m, in \u001b[0;36mPlotData._assign_variables\u001b[0;34m(self, data, variables)\u001b[0m\n\u001b[1;32m    230\u001b[0m     \u001b[38;5;28;01melse\u001b[39;00m:\n\u001b[1;32m    231\u001b[0m         err \u001b[38;5;241m+\u001b[39m\u001b[38;5;241m=\u001b[39m \u001b[38;5;124m\"\u001b[39m\u001b[38;5;124mAn entry with this name does not appear in `data`.\u001b[39m\u001b[38;5;124m\"\u001b[39m\n\u001b[0;32m--> 232\u001b[0m     \u001b[38;5;28;01mraise\u001b[39;00m \u001b[38;5;167;01mValueError\u001b[39;00m(err)\n\u001b[1;32m    234\u001b[0m \u001b[38;5;28;01melse\u001b[39;00m:\n\u001b[1;32m    235\u001b[0m \n\u001b[1;32m    236\u001b[0m     \u001b[38;5;66;03m# Otherwise, assume the value somehow represents data\u001b[39;00m\n\u001b[1;32m    237\u001b[0m \n\u001b[1;32m    238\u001b[0m     \u001b[38;5;66;03m# Ignore empty data structures\u001b[39;00m\n\u001b[1;32m    239\u001b[0m     \u001b[38;5;28;01mif\u001b[39;00m \u001b[38;5;28misinstance\u001b[39m(val, Sized) \u001b[38;5;129;01mand\u001b[39;00m \u001b[38;5;28mlen\u001b[39m(val) \u001b[38;5;241m==\u001b[39m \u001b[38;5;241m0\u001b[39m:\n",
      "\u001b[0;31mValueError\u001b[0m: Could not interpret value `DVperweight_round` for `hue`. An entry with this name does not appear in `data`."
     ]
    }
   ],
   "source": [
    "sns.lineplot(scale_df, x = 'TIME', y = 'DV_ln', hue = 'DVperweight_round')"
   ]
  },
  {
   "cell_type": "code",
   "execution_count": 21,
   "metadata": {},
   "outputs": [
    {
     "ename": "ValueError",
     "evalue": "Could not interpret value `DVperweight_round` for `hue`. An entry with this name does not appear in `data`.",
     "output_type": "error",
     "traceback": [
      "\u001b[0;31m---------------------------------------------------------------------------\u001b[0m",
      "\u001b[0;31mValueError\u001b[0m                                Traceback (most recent call last)",
      "Cell \u001b[0;32mIn[21], line 1\u001b[0m\n\u001b[0;32m----> 1\u001b[0m \u001b[43msns\u001b[49m\u001b[38;5;241;43m.\u001b[39;49m\u001b[43mlineplot\u001b[49m\u001b[43m(\u001b[49m\u001b[43mscale_df\u001b[49m\u001b[43m,\u001b[49m\u001b[43m \u001b[49m\u001b[43mx\u001b[49m\u001b[43m \u001b[49m\u001b[38;5;241;43m=\u001b[39;49m\u001b[43m \u001b[49m\u001b[38;5;124;43m'\u001b[39;49m\u001b[38;5;124;43mTIME\u001b[39;49m\u001b[38;5;124;43m'\u001b[39;49m\u001b[43m,\u001b[49m\u001b[43m \u001b[49m\u001b[43my\u001b[49m\u001b[43m \u001b[49m\u001b[38;5;241;43m=\u001b[39;49m\u001b[43m \u001b[49m\u001b[38;5;124;43m'\u001b[39;49m\u001b[38;5;124;43mDV\u001b[39;49m\u001b[38;5;124;43m'\u001b[39;49m\u001b[43m,\u001b[49m\u001b[43m \u001b[49m\u001b[43mhue\u001b[49m\u001b[43m \u001b[49m\u001b[38;5;241;43m=\u001b[39;49m\u001b[43m \u001b[49m\u001b[38;5;124;43m'\u001b[39;49m\u001b[38;5;124;43mDVperweight_round\u001b[39;49m\u001b[38;5;124;43m'\u001b[39;49m\u001b[43m)\u001b[49m\n",
      "File \u001b[0;32m/opt/conda/envs/pySunODE/lib/python3.12/site-packages/seaborn/relational.py:485\u001b[0m, in \u001b[0;36mlineplot\u001b[0;34m(data, x, y, hue, size, style, units, weights, palette, hue_order, hue_norm, sizes, size_order, size_norm, dashes, markers, style_order, estimator, errorbar, n_boot, seed, orient, sort, err_style, err_kws, legend, ci, ax, **kwargs)\u001b[0m\n\u001b[1;32m    471\u001b[0m \u001b[38;5;28;01mdef\u001b[39;00m \u001b[38;5;21mlineplot\u001b[39m(\n\u001b[1;32m    472\u001b[0m     data\u001b[38;5;241m=\u001b[39m\u001b[38;5;28;01mNone\u001b[39;00m, \u001b[38;5;241m*\u001b[39m,\n\u001b[1;32m    473\u001b[0m     x\u001b[38;5;241m=\u001b[39m\u001b[38;5;28;01mNone\u001b[39;00m, y\u001b[38;5;241m=\u001b[39m\u001b[38;5;28;01mNone\u001b[39;00m, hue\u001b[38;5;241m=\u001b[39m\u001b[38;5;28;01mNone\u001b[39;00m, size\u001b[38;5;241m=\u001b[39m\u001b[38;5;28;01mNone\u001b[39;00m, style\u001b[38;5;241m=\u001b[39m\u001b[38;5;28;01mNone\u001b[39;00m, units\u001b[38;5;241m=\u001b[39m\u001b[38;5;28;01mNone\u001b[39;00m, weights\u001b[38;5;241m=\u001b[39m\u001b[38;5;28;01mNone\u001b[39;00m,\n\u001b[0;32m   (...)\u001b[0m\n\u001b[1;32m    481\u001b[0m \n\u001b[1;32m    482\u001b[0m     \u001b[38;5;66;03m# Handle deprecation of ci parameter\u001b[39;00m\n\u001b[1;32m    483\u001b[0m     errorbar \u001b[38;5;241m=\u001b[39m _deprecate_ci(errorbar, ci)\n\u001b[0;32m--> 485\u001b[0m     p \u001b[38;5;241m=\u001b[39m \u001b[43m_LinePlotter\u001b[49m\u001b[43m(\u001b[49m\n\u001b[1;32m    486\u001b[0m \u001b[43m        \u001b[49m\u001b[43mdata\u001b[49m\u001b[38;5;241;43m=\u001b[39;49m\u001b[43mdata\u001b[49m\u001b[43m,\u001b[49m\n\u001b[1;32m    487\u001b[0m \u001b[43m        \u001b[49m\u001b[43mvariables\u001b[49m\u001b[38;5;241;43m=\u001b[39;49m\u001b[38;5;28;43mdict\u001b[39;49m\u001b[43m(\u001b[49m\n\u001b[1;32m    488\u001b[0m \u001b[43m            \u001b[49m\u001b[43mx\u001b[49m\u001b[38;5;241;43m=\u001b[39;49m\u001b[43mx\u001b[49m\u001b[43m,\u001b[49m\u001b[43m \u001b[49m\u001b[43my\u001b[49m\u001b[38;5;241;43m=\u001b[39;49m\u001b[43my\u001b[49m\u001b[43m,\u001b[49m\u001b[43m \u001b[49m\u001b[43mhue\u001b[49m\u001b[38;5;241;43m=\u001b[39;49m\u001b[43mhue\u001b[49m\u001b[43m,\u001b[49m\u001b[43m \u001b[49m\u001b[43msize\u001b[49m\u001b[38;5;241;43m=\u001b[39;49m\u001b[43msize\u001b[49m\u001b[43m,\u001b[49m\u001b[43m \u001b[49m\u001b[43mstyle\u001b[49m\u001b[38;5;241;43m=\u001b[39;49m\u001b[43mstyle\u001b[49m\u001b[43m,\u001b[49m\u001b[43m \u001b[49m\u001b[43munits\u001b[49m\u001b[38;5;241;43m=\u001b[39;49m\u001b[43munits\u001b[49m\u001b[43m,\u001b[49m\u001b[43m \u001b[49m\u001b[43mweight\u001b[49m\u001b[38;5;241;43m=\u001b[39;49m\u001b[43mweights\u001b[49m\n\u001b[1;32m    489\u001b[0m \u001b[43m        \u001b[49m\u001b[43m)\u001b[49m\u001b[43m,\u001b[49m\n\u001b[1;32m    490\u001b[0m \u001b[43m        \u001b[49m\u001b[43mestimator\u001b[49m\u001b[38;5;241;43m=\u001b[39;49m\u001b[43mestimator\u001b[49m\u001b[43m,\u001b[49m\u001b[43m \u001b[49m\u001b[43mn_boot\u001b[49m\u001b[38;5;241;43m=\u001b[39;49m\u001b[43mn_boot\u001b[49m\u001b[43m,\u001b[49m\u001b[43m \u001b[49m\u001b[43mseed\u001b[49m\u001b[38;5;241;43m=\u001b[39;49m\u001b[43mseed\u001b[49m\u001b[43m,\u001b[49m\u001b[43m \u001b[49m\u001b[43merrorbar\u001b[49m\u001b[38;5;241;43m=\u001b[39;49m\u001b[43merrorbar\u001b[49m\u001b[43m,\u001b[49m\n\u001b[1;32m    491\u001b[0m \u001b[43m        \u001b[49m\u001b[43msort\u001b[49m\u001b[38;5;241;43m=\u001b[39;49m\u001b[43msort\u001b[49m\u001b[43m,\u001b[49m\u001b[43m \u001b[49m\u001b[43morient\u001b[49m\u001b[38;5;241;43m=\u001b[39;49m\u001b[43morient\u001b[49m\u001b[43m,\u001b[49m\u001b[43m \u001b[49m\u001b[43merr_style\u001b[49m\u001b[38;5;241;43m=\u001b[39;49m\u001b[43merr_style\u001b[49m\u001b[43m,\u001b[49m\u001b[43m \u001b[49m\u001b[43merr_kws\u001b[49m\u001b[38;5;241;43m=\u001b[39;49m\u001b[43merr_kws\u001b[49m\u001b[43m,\u001b[49m\n\u001b[1;32m    492\u001b[0m \u001b[43m        \u001b[49m\u001b[43mlegend\u001b[49m\u001b[38;5;241;43m=\u001b[39;49m\u001b[43mlegend\u001b[49m\u001b[43m,\u001b[49m\n\u001b[1;32m    493\u001b[0m \u001b[43m    \u001b[49m\u001b[43m)\u001b[49m\n\u001b[1;32m    495\u001b[0m     p\u001b[38;5;241m.\u001b[39mmap_hue(palette\u001b[38;5;241m=\u001b[39mpalette, order\u001b[38;5;241m=\u001b[39mhue_order, norm\u001b[38;5;241m=\u001b[39mhue_norm)\n\u001b[1;32m    496\u001b[0m     p\u001b[38;5;241m.\u001b[39mmap_size(sizes\u001b[38;5;241m=\u001b[39msizes, order\u001b[38;5;241m=\u001b[39msize_order, norm\u001b[38;5;241m=\u001b[39msize_norm)\n",
      "File \u001b[0;32m/opt/conda/envs/pySunODE/lib/python3.12/site-packages/seaborn/relational.py:216\u001b[0m, in \u001b[0;36m_LinePlotter.__init__\u001b[0;34m(self, data, variables, estimator, n_boot, seed, errorbar, sort, orient, err_style, err_kws, legend)\u001b[0m\n\u001b[1;32m    202\u001b[0m \u001b[38;5;28;01mdef\u001b[39;00m \u001b[38;5;21m__init__\u001b[39m(\n\u001b[1;32m    203\u001b[0m     \u001b[38;5;28mself\u001b[39m, \u001b[38;5;241m*\u001b[39m,\n\u001b[1;32m    204\u001b[0m     data\u001b[38;5;241m=\u001b[39m\u001b[38;5;28;01mNone\u001b[39;00m, variables\u001b[38;5;241m=\u001b[39m{},\n\u001b[0;32m   (...)\u001b[0m\n\u001b[1;32m    210\u001b[0m     \u001b[38;5;66;03m# the kind of plot to draw, but for the time being we need to set\u001b[39;00m\n\u001b[1;32m    211\u001b[0m     \u001b[38;5;66;03m# this information so the SizeMapping can use it\u001b[39;00m\n\u001b[1;32m    212\u001b[0m     \u001b[38;5;28mself\u001b[39m\u001b[38;5;241m.\u001b[39m_default_size_range \u001b[38;5;241m=\u001b[39m (\n\u001b[1;32m    213\u001b[0m         np\u001b[38;5;241m.\u001b[39mr_[\u001b[38;5;241m.5\u001b[39m, \u001b[38;5;241m2\u001b[39m] \u001b[38;5;241m*\u001b[39m mpl\u001b[38;5;241m.\u001b[39mrcParams[\u001b[38;5;124m\"\u001b[39m\u001b[38;5;124mlines.linewidth\u001b[39m\u001b[38;5;124m\"\u001b[39m]\n\u001b[1;32m    214\u001b[0m     )\n\u001b[0;32m--> 216\u001b[0m     \u001b[38;5;28;43msuper\u001b[39;49m\u001b[43m(\u001b[49m\u001b[43m)\u001b[49m\u001b[38;5;241;43m.\u001b[39;49m\u001b[38;5;21;43m__init__\u001b[39;49m\u001b[43m(\u001b[49m\u001b[43mdata\u001b[49m\u001b[38;5;241;43m=\u001b[39;49m\u001b[43mdata\u001b[49m\u001b[43m,\u001b[49m\u001b[43m \u001b[49m\u001b[43mvariables\u001b[49m\u001b[38;5;241;43m=\u001b[39;49m\u001b[43mvariables\u001b[49m\u001b[43m)\u001b[49m\n\u001b[1;32m    218\u001b[0m     \u001b[38;5;28mself\u001b[39m\u001b[38;5;241m.\u001b[39mestimator \u001b[38;5;241m=\u001b[39m estimator\n\u001b[1;32m    219\u001b[0m     \u001b[38;5;28mself\u001b[39m\u001b[38;5;241m.\u001b[39merrorbar \u001b[38;5;241m=\u001b[39m errorbar\n",
      "File \u001b[0;32m/opt/conda/envs/pySunODE/lib/python3.12/site-packages/seaborn/_base.py:634\u001b[0m, in \u001b[0;36mVectorPlotter.__init__\u001b[0;34m(self, data, variables)\u001b[0m\n\u001b[1;32m    629\u001b[0m \u001b[38;5;66;03m# var_ordered is relevant only for categorical axis variables, and may\u001b[39;00m\n\u001b[1;32m    630\u001b[0m \u001b[38;5;66;03m# be better handled by an internal axis information object that tracks\u001b[39;00m\n\u001b[1;32m    631\u001b[0m \u001b[38;5;66;03m# such information and is set up by the scale_* methods. The analogous\u001b[39;00m\n\u001b[1;32m    632\u001b[0m \u001b[38;5;66;03m# information for numeric axes would be information about log scales.\u001b[39;00m\n\u001b[1;32m    633\u001b[0m \u001b[38;5;28mself\u001b[39m\u001b[38;5;241m.\u001b[39m_var_ordered \u001b[38;5;241m=\u001b[39m {\u001b[38;5;124m\"\u001b[39m\u001b[38;5;124mx\u001b[39m\u001b[38;5;124m\"\u001b[39m: \u001b[38;5;28;01mFalse\u001b[39;00m, \u001b[38;5;124m\"\u001b[39m\u001b[38;5;124my\u001b[39m\u001b[38;5;124m\"\u001b[39m: \u001b[38;5;28;01mFalse\u001b[39;00m}  \u001b[38;5;66;03m# alt., used DefaultDict\u001b[39;00m\n\u001b[0;32m--> 634\u001b[0m \u001b[38;5;28;43mself\u001b[39;49m\u001b[38;5;241;43m.\u001b[39;49m\u001b[43massign_variables\u001b[49m\u001b[43m(\u001b[49m\u001b[43mdata\u001b[49m\u001b[43m,\u001b[49m\u001b[43m \u001b[49m\u001b[43mvariables\u001b[49m\u001b[43m)\u001b[49m\n\u001b[1;32m    636\u001b[0m \u001b[38;5;66;03m# TODO Lots of tests assume that these are called to initialize the\u001b[39;00m\n\u001b[1;32m    637\u001b[0m \u001b[38;5;66;03m# mappings to default values on class initialization. I'd prefer to\u001b[39;00m\n\u001b[1;32m    638\u001b[0m \u001b[38;5;66;03m# move away from that and only have a mapping when explicitly called.\u001b[39;00m\n\u001b[1;32m    639\u001b[0m \u001b[38;5;28;01mfor\u001b[39;00m var \u001b[38;5;129;01min\u001b[39;00m [\u001b[38;5;124m\"\u001b[39m\u001b[38;5;124mhue\u001b[39m\u001b[38;5;124m\"\u001b[39m, \u001b[38;5;124m\"\u001b[39m\u001b[38;5;124msize\u001b[39m\u001b[38;5;124m\"\u001b[39m, \u001b[38;5;124m\"\u001b[39m\u001b[38;5;124mstyle\u001b[39m\u001b[38;5;124m\"\u001b[39m]:\n",
      "File \u001b[0;32m/opt/conda/envs/pySunODE/lib/python3.12/site-packages/seaborn/_base.py:679\u001b[0m, in \u001b[0;36mVectorPlotter.assign_variables\u001b[0;34m(self, data, variables)\u001b[0m\n\u001b[1;32m    674\u001b[0m \u001b[38;5;28;01melse\u001b[39;00m:\n\u001b[1;32m    675\u001b[0m     \u001b[38;5;66;03m# When dealing with long-form input, use the newer PlotData\u001b[39;00m\n\u001b[1;32m    676\u001b[0m     \u001b[38;5;66;03m# object (internal but introduced for the objects interface)\u001b[39;00m\n\u001b[1;32m    677\u001b[0m     \u001b[38;5;66;03m# to centralize / standardize data consumption logic.\u001b[39;00m\n\u001b[1;32m    678\u001b[0m     \u001b[38;5;28mself\u001b[39m\u001b[38;5;241m.\u001b[39minput_format \u001b[38;5;241m=\u001b[39m \u001b[38;5;124m\"\u001b[39m\u001b[38;5;124mlong\u001b[39m\u001b[38;5;124m\"\u001b[39m\n\u001b[0;32m--> 679\u001b[0m     plot_data \u001b[38;5;241m=\u001b[39m \u001b[43mPlotData\u001b[49m\u001b[43m(\u001b[49m\u001b[43mdata\u001b[49m\u001b[43m,\u001b[49m\u001b[43m \u001b[49m\u001b[43mvariables\u001b[49m\u001b[43m)\u001b[49m\n\u001b[1;32m    680\u001b[0m     frame \u001b[38;5;241m=\u001b[39m plot_data\u001b[38;5;241m.\u001b[39mframe\n\u001b[1;32m    681\u001b[0m     names \u001b[38;5;241m=\u001b[39m plot_data\u001b[38;5;241m.\u001b[39mnames\n",
      "File \u001b[0;32m/opt/conda/envs/pySunODE/lib/python3.12/site-packages/seaborn/_core/data.py:58\u001b[0m, in \u001b[0;36mPlotData.__init__\u001b[0;34m(self, data, variables)\u001b[0m\n\u001b[1;32m     51\u001b[0m \u001b[38;5;28;01mdef\u001b[39;00m \u001b[38;5;21m__init__\u001b[39m(\n\u001b[1;32m     52\u001b[0m     \u001b[38;5;28mself\u001b[39m,\n\u001b[1;32m     53\u001b[0m     data: DataSource,\n\u001b[1;32m     54\u001b[0m     variables: \u001b[38;5;28mdict\u001b[39m[\u001b[38;5;28mstr\u001b[39m, VariableSpec],\n\u001b[1;32m     55\u001b[0m ):\n\u001b[1;32m     57\u001b[0m     data \u001b[38;5;241m=\u001b[39m handle_data_source(data)\n\u001b[0;32m---> 58\u001b[0m     frame, names, ids \u001b[38;5;241m=\u001b[39m \u001b[38;5;28;43mself\u001b[39;49m\u001b[38;5;241;43m.\u001b[39;49m\u001b[43m_assign_variables\u001b[49m\u001b[43m(\u001b[49m\u001b[43mdata\u001b[49m\u001b[43m,\u001b[49m\u001b[43m \u001b[49m\u001b[43mvariables\u001b[49m\u001b[43m)\u001b[49m\n\u001b[1;32m     60\u001b[0m     \u001b[38;5;28mself\u001b[39m\u001b[38;5;241m.\u001b[39mframe \u001b[38;5;241m=\u001b[39m frame\n\u001b[1;32m     61\u001b[0m     \u001b[38;5;28mself\u001b[39m\u001b[38;5;241m.\u001b[39mnames \u001b[38;5;241m=\u001b[39m names\n",
      "File \u001b[0;32m/opt/conda/envs/pySunODE/lib/python3.12/site-packages/seaborn/_core/data.py:232\u001b[0m, in \u001b[0;36mPlotData._assign_variables\u001b[0;34m(self, data, variables)\u001b[0m\n\u001b[1;32m    230\u001b[0m     \u001b[38;5;28;01melse\u001b[39;00m:\n\u001b[1;32m    231\u001b[0m         err \u001b[38;5;241m+\u001b[39m\u001b[38;5;241m=\u001b[39m \u001b[38;5;124m\"\u001b[39m\u001b[38;5;124mAn entry with this name does not appear in `data`.\u001b[39m\u001b[38;5;124m\"\u001b[39m\n\u001b[0;32m--> 232\u001b[0m     \u001b[38;5;28;01mraise\u001b[39;00m \u001b[38;5;167;01mValueError\u001b[39;00m(err)\n\u001b[1;32m    234\u001b[0m \u001b[38;5;28;01melse\u001b[39;00m:\n\u001b[1;32m    235\u001b[0m \n\u001b[1;32m    236\u001b[0m     \u001b[38;5;66;03m# Otherwise, assume the value somehow represents data\u001b[39;00m\n\u001b[1;32m    237\u001b[0m \n\u001b[1;32m    238\u001b[0m     \u001b[38;5;66;03m# Ignore empty data structures\u001b[39;00m\n\u001b[1;32m    239\u001b[0m     \u001b[38;5;28;01mif\u001b[39;00m \u001b[38;5;28misinstance\u001b[39m(val, Sized) \u001b[38;5;129;01mand\u001b[39;00m \u001b[38;5;28mlen\u001b[39m(val) \u001b[38;5;241m==\u001b[39m \u001b[38;5;241m0\u001b[39m:\n",
      "\u001b[0;31mValueError\u001b[0m: Could not interpret value `DVperweight_round` for `hue`. An entry with this name does not appear in `data`."
     ]
    }
   ],
   "source": [
    "sns.lineplot(scale_df, x = 'TIME', y = 'DV', hue = 'DVperweight_round')"
   ]
  },
  {
   "cell_type": "markdown",
   "metadata": {},
   "source": [
    "# Just Optimizing the ODE"
   ]
  },
  {
   "cell_type": "code",
   "execution_count": 18,
   "metadata": {},
   "outputs": [],
   "source": [
    "from scipy.optimize import minimize\n",
    "\n",
    "run_ode_only = False\n",
    "if run_ode_only:\n",
    "# opt_df = opt_df.loc[opt_df['TIME'] >= 1, :].copy()\n",
    "    initial_guess = [0.6, 2.0]  # Initial guesses for k and Vd\n",
    "    result_0 = optimize_with_checkpoint_joblib(objective_function, initial_guess, n_checkpoint=5, checkpoint_filename='check.jb', args=(\n",
    "        # Bounds added to prevent negative values\n",
    "        scale_df,), bounds=[(1e-6, None), (1e-6, None)])\n",
    "    # result = minimize(objective_function, initial_guess, args=(work_df,), bounds=[(1e-6,None),(1e-6,None)])"
   ]
  },
  {
   "cell_type": "markdown",
   "metadata": {},
   "source": [
    "result_0\n"
   ]
  },
  {
   "cell_type": "markdown",
   "metadata": {},
   "source": [
    "# With Covariates"
   ]
  },
  {
   "cell_type": "code",
   "execution_count": 19,
   "metadata": {},
   "outputs": [],
   "source": [
    "from utils import arbitrary_objective_function\n",
    "from utils import ObjectiveFunctionColumn\n",
    "import warnings\n",
    "import joblib as jb\n",
    "\n",
    "run_test_mod = False\n",
    "if run_test_mod:\n",
    "    warnings.filterwarnings(\"error\", category= RuntimeWarning)\n",
    "\n",
    "    initial_guess = [np.log(0.6), np.log(2.0), 0, 0, 0 ] \n",
    "    objective_func_arbit_allometric = partial(arbitrary_objective_function,\n",
    "                                dep_vars = {'k':[ ObjectiveFunctionColumn('AGE_scale'),\n",
    "                                                    ObjectiveFunctionColumn('SEX')],\n",
    "                                            'vd':[ObjectiveFunctionColumn('WT_scale',\n",
    "                                                                            model_method='allometric', \n",
    "                                                                            allometric_norm_value=wt_scaler.transform([[70]])[0][0]\n",
    "                                                                            )]})\n",
    "    result_arbit_allo = optimize_with_checkpoint_joblib(objective_func_arbit_allometric, initial_guess, n_checkpoint=5, checkpoint_filename='check_args_arbit_al.jb', args=(\n",
    "        # Bounds added to prevent negative values\n",
    "        scale_df,), bounds=[(None, None), (None, None), (None, None), (None, None), (None, None),])\n",
    "\n",
    "    with open('result_arbit_allo.jb', 'wb') as f:\n",
    "        jb.dump(result_arbit_allo, f)\n",
    "#else:\n",
    "#    with open('result_arbit_allo.jb', 'rb') as f:\n",
    "#        result_arbit_allo = jb.load(f)"
   ]
  },
  {
   "cell_type": "code",
   "execution_count": 20,
   "metadata": {},
   "outputs": [],
   "source": [
    "from utils import OneCompartmentModel\n",
    "from diffeqs import( OneCompartmentFODiffEq,\n",
    "                    mm_one_compartment_model,\n",
    "                    first_order_one_compartment_model,\n",
    "                    first_order_one_compartment_model2,\n",
    "                    parallel_elim_one_compartment_model, \n",
    "                    one_compartment_absorption\n",
    "                    )"
   ]
  },
  {
   "cell_type": "code",
   "execution_count": 21,
   "metadata": {},
   "outputs": [],
   "source": [
    "diffeq_obj = OneCompartmentFODiffEq()\n",
    "pk_model_function = diffeq_obj.diff_eq()"
   ]
  },
  {
   "cell_type": "code",
   "execution_count": 22,
   "metadata": {},
   "outputs": [],
   "source": [
    "\n",
    "from utils import sum_of_squares_loss, numba_one_compartment_model, PopulationCoeffcient, ODEInitVals, mean_squared_error_loss, huber_loss\n",
    "import cProfile\n"
   ]
  },
  {
   "cell_type": "code",
   "execution_count": 23,
   "metadata": {},
   "outputs": [],
   "source": [
    "scale_df['DV']=scale_df['DV']/100"
   ]
  },
  {
   "cell_type": "code",
   "execution_count": 24,
   "metadata": {},
   "outputs": [],
   "source": [
    "with open('debug_scale_df.jb', 'wb') as f:\n",
    "    jb.dump(scale_df, f)"
   ]
  },
  {
   "cell_type": "code",
   "execution_count": 25,
   "metadata": {},
   "outputs": [
    {
     "name": "stdout",
     "output_type": "stream",
     "text": [
      "Iteration 5: Checkpoint saved to logs/mod_abs_test_nome__10__5.jb\n"
     ]
    }
   ],
   "source": [
    "no_me_mod_k =  OneCompartmentModel(\n",
    "     ode_t0_cols=[ODEInitVals('DV')],\n",
    "     population_coeff=[PopulationCoeffcient('k', 0.6, ),\n",
    "                       #PopulationCoeffcient('vd', 20, ),\n",
    "                       ],\n",
    "     dep_vars= None, \n",
    "                              no_me_loss_function=huber_loss, \n",
    "                              optimizer_tol=None, \n",
    "                              pk_model_function=first_order_one_compartment_model2, \n",
    "                              #ode_solver_method='BDF'\n",
    "                              )\n",
    "no_me_mod =  OneCompartmentModel(\n",
    "     ode_t0_cols=[ODEInitVals('DV')],\n",
    "     population_coeff=[PopulationCoeffcient('cl', 20, ),\n",
    "                       PopulationCoeffcient('vd', 50, ),\n",
    "                       ],\n",
    "     dep_vars= None, \n",
    "                              no_me_loss_function=huber_loss, \n",
    "                              optimizer_tol=None, \n",
    "                              pk_model_function=first_order_one_compartment_model2, \n",
    "                              #ode_solver_method='BDF'\n",
    "                              )\n",
    "no_me_mod = no_me_mod.fit2(scale_df,checkpoint_filename=f'mod_abs_test_nome.jb', parallel=False, parallel_n_jobs=4)"
   ]
  },
  {
   "cell_type": "code",
   "execution_count": 26,
   "metadata": {},
   "outputs": [
    {
     "name": "stdout",
     "output_type": "stream",
     "text": [
      "Iteration 5: Checkpoint saved to logs/mod_abs_test_nome__10__5.jb\n",
      "Iteration 5: Checkpoint saved to logs/mod_abs_test_nome__10__5.jb\n",
      "Iteration 5: Checkpoint saved to logs/mod_abs_test_nome__10__5.jb\n",
      "Iteration 5: Checkpoint saved to logs/mod_abs_test_nome__10__5.jb\n",
      "Iteration 5: Checkpoint saved to logs/mod_abs_test_nome__10__5.jb\n",
      "Iteration 5: Checkpoint saved to logs/mod_abs_test_nome__10__5.jb\n"
     ]
    }
   ],
   "source": [
    "fits = []\n",
    "fit_res_dfs = []\n",
    "for sub in scale_df['SUBJID'].unique():\n",
    "    fit_df = scale_df.loc[scale_df['SUBJID'] == sub, :].copy()\n",
    "    fit = no_me_mod.fit2(fit_df,checkpoint_filename=f'mod_abs_test_nome.jb', parallel=False, parallel_n_jobs=4)\n",
    "    fit_df['indiv_no_me'] = fit.predict2(fit_df)\n",
    "    fit_res_dfs.append(fit_df.copy())\n",
    "    fits.append(fit.fit_result_)\n",
    "fit_res_df = pd.concat(fit_res_dfs)"
   ]
  },
  {
   "cell_type": "code",
   "execution_count": 27,
   "metadata": {},
   "outputs": [
    {
     "data": {
      "text/plain": [
       "array([14.15740636, 70.63439966])"
      ]
     },
     "execution_count": 27,
     "metadata": {},
     "output_type": "execute_result"
    }
   ],
   "source": [
    "np.exp(no_me_mod.fit_result_['x'])"
   ]
  },
  {
   "cell_type": "code",
   "execution_count": 37,
   "metadata": {},
   "outputs": [],
   "source": [
    "if len([i['x'] for i in fits][0]) == 1:\n",
    "    resvec = pd.Series(np.concatenate([i['x'] for i in fits]))\n",
    "else:\n",
    "    res_vec = pd.DataFrame(np.vstack([i['x'] for i in fits]))\n",
    "res_vec = res_vec.rename(columns = {0:'k', 1:'vd'})"
   ]
  },
  {
   "cell_type": "code",
   "execution_count": 38,
   "metadata": {},
   "outputs": [],
   "source": [
    "for c in res_vec.columns:\n",
    "    res_vec[f'{c}_mean'] = res_vec[c].mean()\n",
    "    res_vec[f\"{c}_b_i\"] = res_vec[c] - res_vec[f'{c}_mean']"
   ]
  },
  {
   "cell_type": "code",
   "execution_count": 41,
   "metadata": {},
   "outputs": [
    {
     "data": {
      "application/vnd.microsoft.datawrangler.viewer.v0+json": {
       "columns": [
        {
         "name": "index",
         "rawType": "int64",
         "type": "integer"
        },
        {
         "name": "k",
         "rawType": "float64",
         "type": "float"
        },
        {
         "name": "vd",
         "rawType": "float64",
         "type": "float"
        },
        {
         "name": "k_mean",
         "rawType": "float64",
         "type": "float"
        },
        {
         "name": "k_b_i",
         "rawType": "float64",
         "type": "float"
        },
        {
         "name": "vd_mean",
         "rawType": "float64",
         "type": "float"
        },
        {
         "name": "vd_b_i",
         "rawType": "float64",
         "type": "float"
        }
       ],
       "conversionMethod": "pd.DataFrame",
       "ref": "b8da48b1-0bee-43c9-8ee5-0784fd77817a",
       "rows": [
        [
         "0",
         "2.9494711890068435",
         "3.9582840663115557",
         "2.8332633406761043",
         "0.11620784833073916",
         "4.0744919187181665",
         "-0.1162078524066108"
        ],
        [
         "1",
         "2.6229679607141048",
         "4.284787346572116",
         "2.8332633406761043",
         "-0.21029537996199954",
         "4.0744919187181665",
         "0.21029542785394906"
        ],
        [
         "2",
         "2.8458172954539194",
         "4.061937971494578",
         "2.8332633406761043",
         "0.012553954777815068",
         "4.0744919187181665",
         "-0.012553947223588935"
        ],
        [
         "3",
         "2.730783436210283",
         "4.176971803010258",
         "2.8332633406761043",
         "-0.10247990446582111",
         "4.0744919187181665",
         "0.10247988429209176"
        ],
        [
         "4",
         "2.8294811416650507",
         "4.07827410281647",
         "2.8332633406761043",
         "-0.0037821990110535886",
         "4.0744919187181665",
         "0.003782184098303887"
        ],
        [
         "5",
         "2.8018087603152457",
         "4.105946517300073",
         "2.8332633406761043",
         "-0.031454580360858575",
         "4.0744919187181665",
         "0.0314545985819068"
        ],
        [
         "6",
         "3.1967825425598035",
         "3.710972723594845",
         "2.8332633406761043",
         "0.36351920188369924",
         "4.0744919187181665",
         "-0.36351919512332165"
        ],
        [
         "7",
         "2.8315324884696214",
         "4.076222769678475",
         "2.8332633406761043",
         "-0.0017308522064829468",
         "4.0744919187181665",
         "0.001730850960308672"
        ],
        [
         "8",
         "3.1590997126438065",
         "3.7486555434476387",
         "2.8332633406761043",
         "0.3258363719677022",
         "4.0744919187181665",
         "-0.3258363752705278"
        ],
        [
         "9",
         "2.9410010169369487",
         "3.966754233718133",
         "2.8332633406761043",
         "0.1077376762608444",
         "4.0744919187181665",
         "-0.10773768500003333"
        ],
        [
         "10",
         "2.8136374170864533",
         "4.094117835098438",
         "2.8332633406761043",
         "-0.019625923589650984",
         "4.0744919187181665",
         "0.01962591638027167"
        ],
        [
         "11",
         "2.8282933227564024",
         "4.079461950936655",
         "2.8332633406761043",
         "-0.0049700179197018635",
         "4.0744919187181665",
         "0.004970032218488463"
        ],
        [
         "12",
         "3.1546694044925445",
         "3.753085838439964",
         "2.8332633406761043",
         "0.3214060638164402",
         "4.0744919187181665",
         "-0.3214060802782024"
        ],
        [
         "13",
         "2.8398284280207067",
         "4.067926861205932",
         "2.8332633406761043",
         "0.006565087344602372",
         "4.0744919187181665",
         "-0.00656505751223424"
        ],
        [
         "14",
         "2.6600227796862783",
         "4.247732404824875",
         "2.8332633406761043",
         "-0.173240560989826",
         "4.0744919187181665",
         "0.1732404861067085"
        ],
        [
         "15",
         "2.7180168717209234",
         "4.18973841772045",
         "2.8332633406761043",
         "-0.11524646895518087",
         "4.0744919187181665",
         "0.1152464990022839"
        ],
        [
         "16",
         "2.7405628222530476",
         "4.167192516853895",
         "2.8332633406761043",
         "-0.09270051842305671",
         "4.0744919187181665",
         "0.09270059813572828"
        ],
        [
         "17",
         "2.4896896608118557",
         "4.418065585835194",
         "2.8332633406761043",
         "-0.3435736798642486",
         "4.0744919187181665",
         "0.3435736671170275"
        ],
        [
         "18",
         "2.86156265765957",
         "4.046192612376302",
         "2.8332633406761043",
         "0.028299316983465772",
         "4.0744919187181665",
         "-0.028299306341864394"
        ],
        [
         "19",
         "2.6502379050586806",
         "4.257517273127467",
         "2.8332633406761043",
         "-0.18302543561742368",
         "4.0744919187181665",
         "0.1830253544093008"
        ]
       ],
       "shape": {
        "columns": 6,
        "rows": 20
       }
      },
      "text/html": [
       "<div>\n",
       "<style scoped>\n",
       "    .dataframe tbody tr th:only-of-type {\n",
       "        vertical-align: middle;\n",
       "    }\n",
       "\n",
       "    .dataframe tbody tr th {\n",
       "        vertical-align: top;\n",
       "    }\n",
       "\n",
       "    .dataframe thead th {\n",
       "        text-align: right;\n",
       "    }\n",
       "</style>\n",
       "<table border=\"1\" class=\"dataframe\">\n",
       "  <thead>\n",
       "    <tr style=\"text-align: right;\">\n",
       "      <th></th>\n",
       "      <th>k</th>\n",
       "      <th>vd</th>\n",
       "      <th>k_mean</th>\n",
       "      <th>k_b_i</th>\n",
       "      <th>vd_mean</th>\n",
       "      <th>vd_b_i</th>\n",
       "    </tr>\n",
       "  </thead>\n",
       "  <tbody>\n",
       "    <tr>\n",
       "      <th>0</th>\n",
       "      <td>2.949471</td>\n",
       "      <td>3.958284</td>\n",
       "      <td>2.833263</td>\n",
       "      <td>0.116208</td>\n",
       "      <td>4.074492</td>\n",
       "      <td>-0.116208</td>\n",
       "    </tr>\n",
       "    <tr>\n",
       "      <th>1</th>\n",
       "      <td>2.622968</td>\n",
       "      <td>4.284787</td>\n",
       "      <td>2.833263</td>\n",
       "      <td>-0.210295</td>\n",
       "      <td>4.074492</td>\n",
       "      <td>0.210295</td>\n",
       "    </tr>\n",
       "    <tr>\n",
       "      <th>2</th>\n",
       "      <td>2.845817</td>\n",
       "      <td>4.061938</td>\n",
       "      <td>2.833263</td>\n",
       "      <td>0.012554</td>\n",
       "      <td>4.074492</td>\n",
       "      <td>-0.012554</td>\n",
       "    </tr>\n",
       "    <tr>\n",
       "      <th>3</th>\n",
       "      <td>2.730783</td>\n",
       "      <td>4.176972</td>\n",
       "      <td>2.833263</td>\n",
       "      <td>-0.102480</td>\n",
       "      <td>4.074492</td>\n",
       "      <td>0.102480</td>\n",
       "    </tr>\n",
       "    <tr>\n",
       "      <th>4</th>\n",
       "      <td>2.829481</td>\n",
       "      <td>4.078274</td>\n",
       "      <td>2.833263</td>\n",
       "      <td>-0.003782</td>\n",
       "      <td>4.074492</td>\n",
       "      <td>0.003782</td>\n",
       "    </tr>\n",
       "    <tr>\n",
       "      <th>5</th>\n",
       "      <td>2.801809</td>\n",
       "      <td>4.105947</td>\n",
       "      <td>2.833263</td>\n",
       "      <td>-0.031455</td>\n",
       "      <td>4.074492</td>\n",
       "      <td>0.031455</td>\n",
       "    </tr>\n",
       "    <tr>\n",
       "      <th>6</th>\n",
       "      <td>3.196783</td>\n",
       "      <td>3.710973</td>\n",
       "      <td>2.833263</td>\n",
       "      <td>0.363519</td>\n",
       "      <td>4.074492</td>\n",
       "      <td>-0.363519</td>\n",
       "    </tr>\n",
       "    <tr>\n",
       "      <th>7</th>\n",
       "      <td>2.831532</td>\n",
       "      <td>4.076223</td>\n",
       "      <td>2.833263</td>\n",
       "      <td>-0.001731</td>\n",
       "      <td>4.074492</td>\n",
       "      <td>0.001731</td>\n",
       "    </tr>\n",
       "    <tr>\n",
       "      <th>8</th>\n",
       "      <td>3.159100</td>\n",
       "      <td>3.748656</td>\n",
       "      <td>2.833263</td>\n",
       "      <td>0.325836</td>\n",
       "      <td>4.074492</td>\n",
       "      <td>-0.325836</td>\n",
       "    </tr>\n",
       "    <tr>\n",
       "      <th>9</th>\n",
       "      <td>2.941001</td>\n",
       "      <td>3.966754</td>\n",
       "      <td>2.833263</td>\n",
       "      <td>0.107738</td>\n",
       "      <td>4.074492</td>\n",
       "      <td>-0.107738</td>\n",
       "    </tr>\n",
       "    <tr>\n",
       "      <th>10</th>\n",
       "      <td>2.813637</td>\n",
       "      <td>4.094118</td>\n",
       "      <td>2.833263</td>\n",
       "      <td>-0.019626</td>\n",
       "      <td>4.074492</td>\n",
       "      <td>0.019626</td>\n",
       "    </tr>\n",
       "    <tr>\n",
       "      <th>11</th>\n",
       "      <td>2.828293</td>\n",
       "      <td>4.079462</td>\n",
       "      <td>2.833263</td>\n",
       "      <td>-0.004970</td>\n",
       "      <td>4.074492</td>\n",
       "      <td>0.004970</td>\n",
       "    </tr>\n",
       "    <tr>\n",
       "      <th>12</th>\n",
       "      <td>3.154669</td>\n",
       "      <td>3.753086</td>\n",
       "      <td>2.833263</td>\n",
       "      <td>0.321406</td>\n",
       "      <td>4.074492</td>\n",
       "      <td>-0.321406</td>\n",
       "    </tr>\n",
       "    <tr>\n",
       "      <th>13</th>\n",
       "      <td>2.839828</td>\n",
       "      <td>4.067927</td>\n",
       "      <td>2.833263</td>\n",
       "      <td>0.006565</td>\n",
       "      <td>4.074492</td>\n",
       "      <td>-0.006565</td>\n",
       "    </tr>\n",
       "    <tr>\n",
       "      <th>14</th>\n",
       "      <td>2.660023</td>\n",
       "      <td>4.247732</td>\n",
       "      <td>2.833263</td>\n",
       "      <td>-0.173241</td>\n",
       "      <td>4.074492</td>\n",
       "      <td>0.173240</td>\n",
       "    </tr>\n",
       "    <tr>\n",
       "      <th>15</th>\n",
       "      <td>2.718017</td>\n",
       "      <td>4.189738</td>\n",
       "      <td>2.833263</td>\n",
       "      <td>-0.115246</td>\n",
       "      <td>4.074492</td>\n",
       "      <td>0.115246</td>\n",
       "    </tr>\n",
       "    <tr>\n",
       "      <th>16</th>\n",
       "      <td>2.740563</td>\n",
       "      <td>4.167193</td>\n",
       "      <td>2.833263</td>\n",
       "      <td>-0.092701</td>\n",
       "      <td>4.074492</td>\n",
       "      <td>0.092701</td>\n",
       "    </tr>\n",
       "    <tr>\n",
       "      <th>17</th>\n",
       "      <td>2.489690</td>\n",
       "      <td>4.418066</td>\n",
       "      <td>2.833263</td>\n",
       "      <td>-0.343574</td>\n",
       "      <td>4.074492</td>\n",
       "      <td>0.343574</td>\n",
       "    </tr>\n",
       "    <tr>\n",
       "      <th>18</th>\n",
       "      <td>2.861563</td>\n",
       "      <td>4.046193</td>\n",
       "      <td>2.833263</td>\n",
       "      <td>0.028299</td>\n",
       "      <td>4.074492</td>\n",
       "      <td>-0.028299</td>\n",
       "    </tr>\n",
       "    <tr>\n",
       "      <th>19</th>\n",
       "      <td>2.650238</td>\n",
       "      <td>4.257517</td>\n",
       "      <td>2.833263</td>\n",
       "      <td>-0.183025</td>\n",
       "      <td>4.074492</td>\n",
       "      <td>0.183025</td>\n",
       "    </tr>\n",
       "  </tbody>\n",
       "</table>\n",
       "</div>"
      ],
      "text/plain": [
       "           k        vd    k_mean     k_b_i   vd_mean    vd_b_i\n",
       "0   2.949471  3.958284  2.833263  0.116208  4.074492 -0.116208\n",
       "1   2.622968  4.284787  2.833263 -0.210295  4.074492  0.210295\n",
       "2   2.845817  4.061938  2.833263  0.012554  4.074492 -0.012554\n",
       "3   2.730783  4.176972  2.833263 -0.102480  4.074492  0.102480\n",
       "4   2.829481  4.078274  2.833263 -0.003782  4.074492  0.003782\n",
       "5   2.801809  4.105947  2.833263 -0.031455  4.074492  0.031455\n",
       "6   3.196783  3.710973  2.833263  0.363519  4.074492 -0.363519\n",
       "7   2.831532  4.076223  2.833263 -0.001731  4.074492  0.001731\n",
       "8   3.159100  3.748656  2.833263  0.325836  4.074492 -0.325836\n",
       "9   2.941001  3.966754  2.833263  0.107738  4.074492 -0.107738\n",
       "10  2.813637  4.094118  2.833263 -0.019626  4.074492  0.019626\n",
       "11  2.828293  4.079462  2.833263 -0.004970  4.074492  0.004970\n",
       "12  3.154669  3.753086  2.833263  0.321406  4.074492 -0.321406\n",
       "13  2.839828  4.067927  2.833263  0.006565  4.074492 -0.006565\n",
       "14  2.660023  4.247732  2.833263 -0.173241  4.074492  0.173240\n",
       "15  2.718017  4.189738  2.833263 -0.115246  4.074492  0.115246\n",
       "16  2.740563  4.167193  2.833263 -0.092701  4.074492  0.092701\n",
       "17  2.489690  4.418066  2.833263 -0.343574  4.074492  0.343574\n",
       "18  2.861563  4.046193  2.833263  0.028299  4.074492 -0.028299\n",
       "19  2.650238  4.257517  2.833263 -0.183025  4.074492  0.183025"
      ]
     },
     "execution_count": 41,
     "metadata": {},
     "output_type": "execute_result"
    }
   ],
   "source": [
    "res_vec"
   ]
  },
  {
   "cell_type": "code",
   "execution_count": 42,
   "metadata": {},
   "outputs": [],
   "source": [
    "scale_df['no_me_preds'] = no_me_mod.predict2(scale_df)"
   ]
  },
  {
   "cell_type": "code",
   "execution_count": 43,
   "metadata": {},
   "outputs": [
    {
     "data": {
      "text/plain": [
       "(226, 7)"
      ]
     },
     "execution_count": 43,
     "metadata": {},
     "output_type": "execute_result"
    }
   ],
   "source": [
    "scale_df.shape"
   ]
  },
  {
   "cell_type": "code",
   "execution_count": 45,
   "metadata": {},
   "outputs": [
    {
     "ename": "ValueError",
     "evalue": "cannot reshape array of size 452 into shape (226,1)",
     "output_type": "error",
     "traceback": [
      "\u001b[0;31m---------------------------------------------------------------------------\u001b[0m",
      "\u001b[0;31mValueError\u001b[0m                                Traceback (most recent call last)",
      "Cell \u001b[0;32mIn[45], line 29\u001b[0m\n\u001b[1;32m     15\u001b[0m \u001b[38;5;66;03m#PopulationCoeffcient('cl', 5, ),\u001b[39;00m\n\u001b[1;32m     16\u001b[0m \u001b[38;5;66;03m#PopulationCoeffcient('vd', 20, ),\u001b[39;00m\n\u001b[1;32m     17\u001b[0m me_mod \u001b[38;5;241m=\u001b[39m  OneCompartmentModel(\n\u001b[1;32m     18\u001b[0m      ode_t0_cols\u001b[38;5;241m=\u001b[39m[ODEInitVals(\u001b[38;5;124m'\u001b[39m\u001b[38;5;124mDV\u001b[39m\u001b[38;5;124m'\u001b[39m)],\n\u001b[1;32m     19\u001b[0m      population_coeff\u001b[38;5;241m=\u001b[39m[PopulationCoeffcient(\u001b[38;5;124m'\u001b[39m\u001b[38;5;124mcl\u001b[39m\u001b[38;5;124m'\u001b[39m, \u001b[38;5;241m25\u001b[39m, subject_level_intercept\u001b[38;5;241m=\u001b[39m\u001b[38;5;28;01mTrue\u001b[39;00m,\n\u001b[0;32m   (...)\u001b[0m\n\u001b[1;32m     27\u001b[0m                               \u001b[38;5;66;03m#ode_solver_method='BDF'\u001b[39;00m\n\u001b[1;32m     28\u001b[0m                               )\n\u001b[0;32m---> 29\u001b[0m me_mod \u001b[38;5;241m=\u001b[39m \u001b[43mme_mod\u001b[49m\u001b[38;5;241;43m.\u001b[39;49m\u001b[43mfit2\u001b[49m\u001b[43m(\u001b[49m\u001b[43mscale_df\u001b[49m\u001b[43m,\u001b[49m\n\u001b[1;32m     30\u001b[0m \u001b[43m                     \u001b[49m\u001b[43mcheckpoint_filename\u001b[49m\u001b[38;5;241;43m=\u001b[39;49m\u001b[38;5;124;43mf\u001b[39;49m\u001b[38;5;124;43m'\u001b[39;49m\u001b[38;5;124;43mmod_abs_test_me.jb\u001b[39;49m\u001b[38;5;124;43m'\u001b[39;49m\u001b[43m,\u001b[49m\n\u001b[1;32m     31\u001b[0m \u001b[43m                     \u001b[49m\u001b[43mparallel\u001b[49m\u001b[38;5;241;43m=\u001b[39;49m\u001b[38;5;28;43;01mFalse\u001b[39;49;00m\u001b[43m,\u001b[49m\n\u001b[1;32m     32\u001b[0m \u001b[43m                     \u001b[49m\u001b[43mparallel_n_jobs\u001b[49m\u001b[38;5;241;43m=\u001b[39;49m\u001b[38;5;241;43m4\u001b[39;49m\u001b[43m)\u001b[49m\n\u001b[1;32m     33\u001b[0m \u001b[38;5;28;01mwith\u001b[39;00m \u001b[38;5;28mopen\u001b[39m(\u001b[38;5;124m'\u001b[39m\u001b[38;5;124mme_mod_debug.jb\u001b[39m\u001b[38;5;124m'\u001b[39m, \u001b[38;5;124m'\u001b[39m\u001b[38;5;124mwb\u001b[39m\u001b[38;5;124m'\u001b[39m) \u001b[38;5;28;01mas\u001b[39;00m f:\n\u001b[1;32m     34\u001b[0m      jb\u001b[38;5;241m.\u001b[39mdump(me_mod, f)\n",
      "File \u001b[0;32m/workspaces/miniconda/PK-Analysis/utils.py:1467\u001b[0m, in \u001b[0;36mOneCompartmentModel.fit2\u001b[0;34m(self, data, parallel, parallel_n_jobs, warm_start, checkpoint_filename)\u001b[0m\n\u001b[1;32m   1464\u001b[0m init_params \u001b[38;5;241m=\u001b[39m np\u001b[38;5;241m.\u001b[39mconcatenate(init_params, axis \u001b[38;5;241m=\u001b[39m \u001b[38;5;241m1\u001b[39m, dtype\u001b[38;5;241m=\u001b[39mnp\u001b[38;5;241m.\u001b[39mfloat64)\u001b[38;5;241m.\u001b[39mflatten()\n\u001b[1;32m   1466\u001b[0m objective_function \u001b[38;5;241m=\u001b[39m partial(\u001b[38;5;28mself\u001b[39m\u001b[38;5;241m.\u001b[39m_objective_function2, parallel \u001b[38;5;241m=\u001b[39m parallel, parallel_n_jobs \u001b[38;5;241m=\u001b[39m parallel_n_jobs)\n\u001b[0;32m-> 1467\u001b[0m \u001b[38;5;28mself\u001b[39m\u001b[38;5;241m.\u001b[39mfit_result_ \u001b[38;5;241m=\u001b[39m \u001b[43moptimize_with_checkpoint_joblib\u001b[49m\u001b[43m(\u001b[49m\u001b[43mobjective_function\u001b[49m\u001b[43m,\u001b[49m\n\u001b[1;32m   1468\u001b[0m \u001b[43m                                                   \u001b[49m\u001b[43minit_params\u001b[49m\u001b[43m,\u001b[49m\n\u001b[1;32m   1469\u001b[0m \u001b[43m                                                   \u001b[49m\u001b[43mn_checkpoint\u001b[49m\u001b[38;5;241;43m=\u001b[39;49m\u001b[38;5;241;43m5\u001b[39;49m\u001b[43m,\u001b[49m\n\u001b[1;32m   1470\u001b[0m \u001b[43m                                                   \u001b[49m\u001b[43mcheckpoint_filename\u001b[49m\u001b[38;5;241;43m=\u001b[39;49m\u001b[43mcheckpoint_filename\u001b[49m\u001b[43m,\u001b[49m\n\u001b[1;32m   1471\u001b[0m \u001b[43m                                                   \u001b[49m\u001b[43margs\u001b[49m\u001b[38;5;241;43m=\u001b[39;49m\u001b[43m(\u001b[49m\u001b[43mbeta_data\u001b[49m\u001b[43m,\u001b[49m\u001b[43m)\u001b[49m\u001b[43m,\u001b[49m\n\u001b[1;32m   1472\u001b[0m \u001b[43m                                                   \u001b[49m\u001b[43mwarm_start\u001b[49m\u001b[38;5;241;43m=\u001b[39;49m\u001b[43mwarm_start\u001b[49m\u001b[43m,\u001b[49m\n\u001b[1;32m   1473\u001b[0m \u001b[43m                                                   \u001b[49m\u001b[43mtol\u001b[49m\u001b[43m \u001b[49m\u001b[38;5;241;43m=\u001b[39;49m\u001b[43m \u001b[49m\u001b[38;5;28;43mself\u001b[39;49m\u001b[38;5;241;43m.\u001b[39;49m\u001b[43moptimzer_tol\u001b[49m\u001b[43m,\u001b[49m\n\u001b[1;32m   1474\u001b[0m \u001b[43m                                                   \u001b[49m\u001b[43mbounds\u001b[49m\u001b[38;5;241;43m=\u001b[39;49m\u001b[38;5;28;43mself\u001b[39;49m\u001b[38;5;241;43m.\u001b[39;49m\u001b[43mbounds\u001b[49m\n\u001b[1;32m   1475\u001b[0m \u001b[43m                                                   \u001b[49m\u001b[43m)\u001b[49m\n\u001b[1;32m   1476\u001b[0m \u001b[38;5;28;01mreturn\u001b[39;00m deepcopy(\u001b[38;5;28mself\u001b[39m)\n",
      "File \u001b[0;32m/workspaces/miniconda/PK-Analysis/utils.py:787\u001b[0m, in \u001b[0;36moptimize_with_checkpoint_joblib\u001b[0;34m(func, x0, n_checkpoint, checkpoint_filename, warm_start, tol, *args, **kwargs)\u001b[0m\n\u001b[1;32m    783\u001b[0m         user_callback(xk)\n\u001b[1;32m    785\u001b[0m     kwargs[\u001b[38;5;124m'\u001b[39m\u001b[38;5;124mcallback\u001b[39m\u001b[38;5;124m'\u001b[39m] \u001b[38;5;241m=\u001b[39m combined_callback\n\u001b[0;32m--> 787\u001b[0m result \u001b[38;5;241m=\u001b[39m \u001b[43mminimize\u001b[49m\u001b[43m(\u001b[49m\u001b[43mfunc\u001b[49m\u001b[43m,\u001b[49m\u001b[43m \u001b[49m\u001b[43mx0\u001b[49m\u001b[43m,\u001b[49m\u001b[43m \u001b[49m\u001b[38;5;241;43m*\u001b[39;49m\u001b[43margs\u001b[49m\u001b[43m,\u001b[49m\u001b[43m \u001b[49m\u001b[43mtol\u001b[49m\u001b[43m \u001b[49m\u001b[38;5;241;43m=\u001b[39;49m\u001b[43m \u001b[49m\u001b[43mtol\u001b[49m\u001b[43m,\u001b[49m\u001b[43m \u001b[49m\u001b[43moptions\u001b[49m\u001b[38;5;241;43m=\u001b[39;49m\u001b[43m \u001b[49m\u001b[43m{\u001b[49m\u001b[38;5;124;43m'\u001b[39;49m\u001b[38;5;124;43mdisp\u001b[39;49m\u001b[38;5;124;43m'\u001b[39;49m\u001b[43m:\u001b[49m\u001b[38;5;28;43;01mTrue\u001b[39;49;00m\u001b[43m}\u001b[49m\u001b[43m,\u001b[49m\u001b[43m \u001b[49m\u001b[38;5;241;43m*\u001b[39;49m\u001b[38;5;241;43m*\u001b[39;49m\u001b[43mkwargs\u001b[49m\u001b[43m,\u001b[49m\u001b[43m \u001b[49m\u001b[43m)\u001b[49m\n\u001b[1;32m    789\u001b[0m \u001b[38;5;66;03m# Remove checkpoint file at end.\u001b[39;00m\n\u001b[1;32m    790\u001b[0m \u001b[38;5;66;03m# try:\u001b[39;00m\n\u001b[1;32m    791\u001b[0m \u001b[38;5;66;03m#    os.remove(checkpoint_filename)\u001b[39;00m\n\u001b[1;32m    792\u001b[0m \u001b[38;5;66;03m# except:\u001b[39;00m\n\u001b[1;32m    793\u001b[0m \u001b[38;5;66;03m#    pass\u001b[39;00m\n\u001b[1;32m    795\u001b[0m \u001b[38;5;28;01mreturn\u001b[39;00m result\n",
      "File \u001b[0;32m/opt/conda/envs/pySunODE/lib/python3.12/site-packages/scipy/optimize/_minimize.py:738\u001b[0m, in \u001b[0;36mminimize\u001b[0;34m(fun, x0, args, method, jac, hess, hessp, bounds, constraints, tol, callback, options)\u001b[0m\n\u001b[1;32m    735\u001b[0m     res \u001b[38;5;241m=\u001b[39m _minimize_newtoncg(fun, x0, args, jac, hess, hessp, callback,\n\u001b[1;32m    736\u001b[0m                              \u001b[38;5;241m*\u001b[39m\u001b[38;5;241m*\u001b[39moptions)\n\u001b[1;32m    737\u001b[0m \u001b[38;5;28;01melif\u001b[39;00m meth \u001b[38;5;241m==\u001b[39m \u001b[38;5;124m'\u001b[39m\u001b[38;5;124ml-bfgs-b\u001b[39m\u001b[38;5;124m'\u001b[39m:\n\u001b[0;32m--> 738\u001b[0m     res \u001b[38;5;241m=\u001b[39m \u001b[43m_minimize_lbfgsb\u001b[49m\u001b[43m(\u001b[49m\u001b[43mfun\u001b[49m\u001b[43m,\u001b[49m\u001b[43m \u001b[49m\u001b[43mx0\u001b[49m\u001b[43m,\u001b[49m\u001b[43m \u001b[49m\u001b[43margs\u001b[49m\u001b[43m,\u001b[49m\u001b[43m \u001b[49m\u001b[43mjac\u001b[49m\u001b[43m,\u001b[49m\u001b[43m \u001b[49m\u001b[43mbounds\u001b[49m\u001b[43m,\u001b[49m\n\u001b[1;32m    739\u001b[0m \u001b[43m                           \u001b[49m\u001b[43mcallback\u001b[49m\u001b[38;5;241;43m=\u001b[39;49m\u001b[43mcallback\u001b[49m\u001b[43m,\u001b[49m\u001b[43m \u001b[49m\u001b[38;5;241;43m*\u001b[39;49m\u001b[38;5;241;43m*\u001b[39;49m\u001b[43moptions\u001b[49m\u001b[43m)\u001b[49m\n\u001b[1;32m    740\u001b[0m \u001b[38;5;28;01melif\u001b[39;00m meth \u001b[38;5;241m==\u001b[39m \u001b[38;5;124m'\u001b[39m\u001b[38;5;124mtnc\u001b[39m\u001b[38;5;124m'\u001b[39m:\n\u001b[1;32m    741\u001b[0m     res \u001b[38;5;241m=\u001b[39m _minimize_tnc(fun, x0, args, jac, bounds, callback\u001b[38;5;241m=\u001b[39mcallback,\n\u001b[1;32m    742\u001b[0m                         \u001b[38;5;241m*\u001b[39m\u001b[38;5;241m*\u001b[39moptions)\n",
      "File \u001b[0;32m/opt/conda/envs/pySunODE/lib/python3.12/site-packages/scipy/optimize/_lbfgsb_py.py:386\u001b[0m, in \u001b[0;36m_minimize_lbfgsb\u001b[0;34m(fun, x0, args, jac, bounds, disp, maxcor, ftol, gtol, eps, maxfun, maxiter, iprint, callback, maxls, finite_diff_rel_step, **unknown_options)\u001b[0m\n\u001b[1;32m    383\u001b[0m     x0 \u001b[38;5;241m=\u001b[39m np\u001b[38;5;241m.\u001b[39mclip(x0, bounds[\u001b[38;5;241m0\u001b[39m], bounds[\u001b[38;5;241m1\u001b[39m])\n\u001b[1;32m    385\u001b[0m \u001b[38;5;66;03m# _prepare_scalar_function can use bounds=None to represent no bounds\u001b[39;00m\n\u001b[0;32m--> 386\u001b[0m sf \u001b[38;5;241m=\u001b[39m \u001b[43m_prepare_scalar_function\u001b[49m\u001b[43m(\u001b[49m\u001b[43mfun\u001b[49m\u001b[43m,\u001b[49m\u001b[43m \u001b[49m\u001b[43mx0\u001b[49m\u001b[43m,\u001b[49m\u001b[43m \u001b[49m\u001b[43mjac\u001b[49m\u001b[38;5;241;43m=\u001b[39;49m\u001b[43mjac\u001b[49m\u001b[43m,\u001b[49m\u001b[43m \u001b[49m\u001b[43margs\u001b[49m\u001b[38;5;241;43m=\u001b[39;49m\u001b[43margs\u001b[49m\u001b[43m,\u001b[49m\u001b[43m \u001b[49m\u001b[43mepsilon\u001b[49m\u001b[38;5;241;43m=\u001b[39;49m\u001b[43meps\u001b[49m\u001b[43m,\u001b[49m\n\u001b[1;32m    387\u001b[0m \u001b[43m                              \u001b[49m\u001b[43mbounds\u001b[49m\u001b[38;5;241;43m=\u001b[39;49m\u001b[43mbounds\u001b[49m\u001b[43m,\u001b[49m\n\u001b[1;32m    388\u001b[0m \u001b[43m                              \u001b[49m\u001b[43mfinite_diff_rel_step\u001b[49m\u001b[38;5;241;43m=\u001b[39;49m\u001b[43mfinite_diff_rel_step\u001b[49m\u001b[43m)\u001b[49m\n\u001b[1;32m    390\u001b[0m func_and_grad \u001b[38;5;241m=\u001b[39m sf\u001b[38;5;241m.\u001b[39mfun_and_grad\n\u001b[1;32m    392\u001b[0m nbd \u001b[38;5;241m=\u001b[39m zeros(n, np\u001b[38;5;241m.\u001b[39mint32)\n",
      "File \u001b[0;32m/opt/conda/envs/pySunODE/lib/python3.12/site-packages/scipy/optimize/_optimize.py:291\u001b[0m, in \u001b[0;36m_prepare_scalar_function\u001b[0;34m(fun, x0, jac, args, bounds, epsilon, finite_diff_rel_step, hess)\u001b[0m\n\u001b[1;32m    287\u001b[0m     bounds \u001b[38;5;241m=\u001b[39m (\u001b[38;5;241m-\u001b[39mnp\u001b[38;5;241m.\u001b[39minf, np\u001b[38;5;241m.\u001b[39minf)\n\u001b[1;32m    289\u001b[0m \u001b[38;5;66;03m# ScalarFunction caches. Reuse of fun(x) during grad\u001b[39;00m\n\u001b[1;32m    290\u001b[0m \u001b[38;5;66;03m# calculation reduces overall function evaluations.\u001b[39;00m\n\u001b[0;32m--> 291\u001b[0m sf \u001b[38;5;241m=\u001b[39m \u001b[43mScalarFunction\u001b[49m\u001b[43m(\u001b[49m\u001b[43mfun\u001b[49m\u001b[43m,\u001b[49m\u001b[43m \u001b[49m\u001b[43mx0\u001b[49m\u001b[43m,\u001b[49m\u001b[43m \u001b[49m\u001b[43margs\u001b[49m\u001b[43m,\u001b[49m\u001b[43m \u001b[49m\u001b[43mgrad\u001b[49m\u001b[43m,\u001b[49m\u001b[43m \u001b[49m\u001b[43mhess\u001b[49m\u001b[43m,\u001b[49m\n\u001b[1;32m    292\u001b[0m \u001b[43m                    \u001b[49m\u001b[43mfinite_diff_rel_step\u001b[49m\u001b[43m,\u001b[49m\u001b[43m \u001b[49m\u001b[43mbounds\u001b[49m\u001b[43m,\u001b[49m\u001b[43m \u001b[49m\u001b[43mepsilon\u001b[49m\u001b[38;5;241;43m=\u001b[39;49m\u001b[43mepsilon\u001b[49m\u001b[43m)\u001b[49m\n\u001b[1;32m    294\u001b[0m \u001b[38;5;28;01mreturn\u001b[39;00m sf\n",
      "File \u001b[0;32m/opt/conda/envs/pySunODE/lib/python3.12/site-packages/scipy/optimize/_differentiable_functions.py:223\u001b[0m, in \u001b[0;36mScalarFunction.__init__\u001b[0;34m(self, fun, x0, args, grad, hess, finite_diff_rel_step, finite_diff_bounds, epsilon)\u001b[0m\n\u001b[1;32m    220\u001b[0m     finite_diff_options[\u001b[38;5;124m\"\u001b[39m\u001b[38;5;124mas_linear_operator\u001b[39m\u001b[38;5;124m\"\u001b[39m] \u001b[38;5;241m=\u001b[39m \u001b[38;5;28;01mTrue\u001b[39;00m\n\u001b[1;32m    222\u001b[0m \u001b[38;5;66;03m# Initial function evaluation\u001b[39;00m\n\u001b[0;32m--> 223\u001b[0m \u001b[38;5;28;43mself\u001b[39;49m\u001b[38;5;241;43m.\u001b[39;49m\u001b[43m_update_fun\u001b[49m\u001b[43m(\u001b[49m\u001b[43m)\u001b[49m\n\u001b[1;32m    225\u001b[0m \u001b[38;5;66;03m# Initial gradient evaluation\u001b[39;00m\n\u001b[1;32m    226\u001b[0m \u001b[38;5;28mself\u001b[39m\u001b[38;5;241m.\u001b[39m_wrapped_grad, \u001b[38;5;28mself\u001b[39m\u001b[38;5;241m.\u001b[39m_ngev \u001b[38;5;241m=\u001b[39m _wrapper_grad(\n\u001b[1;32m    227\u001b[0m     grad,\n\u001b[1;32m    228\u001b[0m     fun\u001b[38;5;241m=\u001b[39m\u001b[38;5;28mself\u001b[39m\u001b[38;5;241m.\u001b[39m_wrapped_fun,\n\u001b[1;32m    229\u001b[0m     args\u001b[38;5;241m=\u001b[39margs,\n\u001b[1;32m    230\u001b[0m     finite_diff_options\u001b[38;5;241m=\u001b[39mfinite_diff_options\n\u001b[1;32m    231\u001b[0m )\n",
      "File \u001b[0;32m/opt/conda/envs/pySunODE/lib/python3.12/site-packages/scipy/optimize/_differentiable_functions.py:295\u001b[0m, in \u001b[0;36mScalarFunction._update_fun\u001b[0;34m(self)\u001b[0m\n\u001b[1;32m    293\u001b[0m \u001b[38;5;28;01mdef\u001b[39;00m \u001b[38;5;21m_update_fun\u001b[39m(\u001b[38;5;28mself\u001b[39m):\n\u001b[1;32m    294\u001b[0m     \u001b[38;5;28;01mif\u001b[39;00m \u001b[38;5;129;01mnot\u001b[39;00m \u001b[38;5;28mself\u001b[39m\u001b[38;5;241m.\u001b[39mf_updated:\n\u001b[0;32m--> 295\u001b[0m         fx \u001b[38;5;241m=\u001b[39m \u001b[38;5;28;43mself\u001b[39;49m\u001b[38;5;241;43m.\u001b[39;49m\u001b[43m_wrapped_fun\u001b[49m\u001b[43m(\u001b[49m\u001b[38;5;28;43mself\u001b[39;49m\u001b[38;5;241;43m.\u001b[39;49m\u001b[43mx\u001b[49m\u001b[43m)\u001b[49m\n\u001b[1;32m    296\u001b[0m         \u001b[38;5;28;01mif\u001b[39;00m fx \u001b[38;5;241m<\u001b[39m \u001b[38;5;28mself\u001b[39m\u001b[38;5;241m.\u001b[39m_lowest_f:\n\u001b[1;32m    297\u001b[0m             \u001b[38;5;28mself\u001b[39m\u001b[38;5;241m.\u001b[39m_lowest_x \u001b[38;5;241m=\u001b[39m \u001b[38;5;28mself\u001b[39m\u001b[38;5;241m.\u001b[39mx\n",
      "File \u001b[0;32m/opt/conda/envs/pySunODE/lib/python3.12/site-packages/scipy/optimize/_differentiable_functions.py:21\u001b[0m, in \u001b[0;36m_wrapper_fun.<locals>.wrapped\u001b[0;34m(x)\u001b[0m\n\u001b[1;32m     17\u001b[0m ncalls[\u001b[38;5;241m0\u001b[39m] \u001b[38;5;241m+\u001b[39m\u001b[38;5;241m=\u001b[39m \u001b[38;5;241m1\u001b[39m\n\u001b[1;32m     18\u001b[0m \u001b[38;5;66;03m# Send a copy because the user may overwrite it.\u001b[39;00m\n\u001b[1;32m     19\u001b[0m \u001b[38;5;66;03m# Overwriting results in undefined behaviour because\u001b[39;00m\n\u001b[1;32m     20\u001b[0m \u001b[38;5;66;03m# fun(self.x) will change self.x, with the two no longer linked.\u001b[39;00m\n\u001b[0;32m---> 21\u001b[0m fx \u001b[38;5;241m=\u001b[39m \u001b[43mfun\u001b[49m\u001b[43m(\u001b[49m\u001b[43mnp\u001b[49m\u001b[38;5;241;43m.\u001b[39;49m\u001b[43mcopy\u001b[49m\u001b[43m(\u001b[49m\u001b[43mx\u001b[49m\u001b[43m)\u001b[49m\u001b[43m,\u001b[49m\u001b[43m \u001b[49m\u001b[38;5;241;43m*\u001b[39;49m\u001b[43margs\u001b[49m\u001b[43m)\u001b[49m\n\u001b[1;32m     22\u001b[0m \u001b[38;5;66;03m# Make sure the function returns a true scalar\u001b[39;00m\n\u001b[1;32m     23\u001b[0m \u001b[38;5;28;01mif\u001b[39;00m \u001b[38;5;129;01mnot\u001b[39;00m np\u001b[38;5;241m.\u001b[39misscalar(fx):\n",
      "File \u001b[0;32m/workspaces/miniconda/PK-Analysis/utils.py:1397\u001b[0m, in \u001b[0;36mOneCompartmentModel._objective_function2\u001b[0;34m(self, params, beta_data, parallel, parallel_n_jobs)\u001b[0m\n\u001b[1;32m   1395\u001b[0m     start_idx \u001b[38;5;241m=\u001b[39m end_idx\n\u001b[1;32m   1396\u001b[0m     thetas \u001b[38;5;241m=\u001b[39m pd\u001b[38;5;241m.\u001b[39mDataFrame(params[start_idx:]\u001b[38;5;241m.\u001b[39mreshape(\u001b[38;5;241m1\u001b[39m,\u001b[38;5;241m-\u001b[39m\u001b[38;5;241m1\u001b[39m), columns \u001b[38;5;241m=\u001b[39m \u001b[38;5;28mself\u001b[39m\u001b[38;5;241m.\u001b[39minit_betas\u001b[38;5;241m.\u001b[39mcolumns)\n\u001b[0;32m-> 1397\u001b[0m     error, _ \u001b[38;5;241m=\u001b[39m \u001b[38;5;28;43mself\u001b[39;49m\u001b[38;5;241;43m.\u001b[39;49m\u001b[43mme_loss_function\u001b[49m\u001b[43m(\u001b[49m\u001b[43mpop_coeffs\u001b[49m\u001b[43m,\u001b[49m\u001b[43m \u001b[49m\u001b[43msigma\u001b[49m\u001b[43m,\u001b[49m\u001b[43m \u001b[49m\u001b[43momegas\u001b[49m\u001b[43m,\u001b[49m\u001b[43m \u001b[49m\u001b[43mthetas\u001b[49m\u001b[43m,\u001b[49m\u001b[43m \u001b[49m\u001b[43mbeta_data\u001b[49m\u001b[43m,\u001b[49m\u001b[43m \u001b[49m\u001b[38;5;28;43mself\u001b[39;49m\u001b[43m)\u001b[49m\n\u001b[1;32m   1399\u001b[0m \u001b[38;5;28;01mreturn\u001b[39;00m error\n",
      "File \u001b[0;32m/workspaces/miniconda/PK-Analysis/utils.py:484\u001b[0m, in \u001b[0;36mFO_approx_ll_loss\u001b[0;34m(pop_coeffs, sigma, omegas, thetas, theta_data, model_obj, solve_for_omegas)\u001b[0m\n\u001b[1;32m    482\u001b[0m apprx_fprime_jac \u001b[38;5;241m=\u001b[39m \u001b[38;5;28;01mTrue\u001b[39;00m\n\u001b[1;32m    483\u001b[0m central_diff_jac \u001b[38;5;241m=\u001b[39m \u001b[38;5;28;01mFalse\u001b[39;00m\n\u001b[0;32m--> 484\u001b[0m J \u001b[38;5;241m=\u001b[39m \u001b[43mestimate_jacobian\u001b[49m\u001b[43m(\u001b[49m\u001b[43mpop_coeffs\u001b[49m\u001b[43m,\u001b[49m\n\u001b[1;32m    485\u001b[0m \u001b[43m                      \u001b[49m\u001b[43mthetas\u001b[49m\u001b[43m,\u001b[49m\u001b[43m \u001b[49m\u001b[43mtheta_data\u001b[49m\u001b[43m,\u001b[49m\u001b[43m \u001b[49m\u001b[43momegas_names\u001b[49m\u001b[43m,\u001b[49m\u001b[43m \u001b[49m\u001b[43my\u001b[49m\u001b[43m,\u001b[49m\n\u001b[1;32m    486\u001b[0m \u001b[43m                      \u001b[49m\u001b[43mmodel_obj\u001b[49m\u001b[43m,\u001b[49m\u001b[43m \u001b[49m\u001b[43muse_fprime\u001b[49m\u001b[43m \u001b[49m\u001b[38;5;241;43m=\u001b[39;49m\u001b[43m \u001b[49m\u001b[43mapprx_fprime_jac\u001b[49m\u001b[43m,\u001b[49m\n\u001b[1;32m    487\u001b[0m \u001b[43m                      \u001b[49m\u001b[43muse_cdiff\u001b[49m\u001b[43m \u001b[49m\u001b[38;5;241;43m=\u001b[39;49m\u001b[43m \u001b[49m\u001b[43mcentral_diff_jac\u001b[49m\u001b[43m)\u001b[49m\n\u001b[1;32m    489\u001b[0m \u001b[38;5;66;03m#drop initial values from relevant arrays if `model_obj.ode_t0_vals_are_subject_y0`\u001b[39;00m\n\u001b[1;32m    490\u001b[0m \u001b[38;5;66;03m#perfect predictions can cause issues during optimization and also add no information to the loss\u001b[39;00m\n\u001b[1;32m    491\u001b[0m \u001b[38;5;66;03m#If there are any subjects with only one data point this will fail by dropping the entire subject\u001b[39;00m\n\u001b[1;32m    492\u001b[0m \u001b[38;5;28;01mif\u001b[39;00m model_obj\u001b[38;5;241m.\u001b[39mode_t0_vals_are_subject_y0:\n",
      "File \u001b[0;32m/workspaces/miniconda/PK-Analysis/utils.py:255\u001b[0m, in \u001b[0;36mestimate_jacobian\u001b[0;34m(pop_coeffs, thetas, theta_data, omega_names, y, model_obj, use_fprime, use_cdiff)\u001b[0m\n\u001b[1;32m    253\u001b[0m J_cd \u001b[38;5;241m=\u001b[39m \u001b[38;5;28;01mNone\u001b[39;00m\n\u001b[1;32m    254\u001b[0m \u001b[38;5;28;01mif\u001b[39;00m use_fprime:\n\u001b[0;32m--> 255\u001b[0m     J_afp \u001b[38;5;241m=\u001b[39m \u001b[43mestimate_fprime_jac\u001b[49m\u001b[43m(\u001b[49m\u001b[43mpop_coeffs\u001b[49m\u001b[43m,\u001b[49m\u001b[43mthetas\u001b[49m\u001b[43m,\u001b[49m\u001b[43m \u001b[49m\u001b[43mtheta_data\u001b[49m\u001b[43m,\u001b[49m\u001b[43m \u001b[49m\u001b[43mn_random_effects\u001b[49m\u001b[43m,\u001b[49m\u001b[43m \u001b[49m\u001b[43my\u001b[49m\u001b[43m,\u001b[49m\u001b[43m \u001b[49m\u001b[43mmodel_obj\u001b[49m\u001b[43m)\u001b[49m\n\u001b[1;32m    256\u001b[0m \u001b[38;5;28;01mif\u001b[39;00m use_cdiff:\n\u001b[1;32m    257\u001b[0m     J_cd \u001b[38;5;241m=\u001b[39m estimate_cdiff_jac(pop_coeffs,thetas, theta_data, n_random_effects, omega_names, model_obj)\n",
      "File \u001b[0;32m/workspaces/miniconda/PK-Analysis/utils.py:214\u001b[0m, in \u001b[0;36mestimate_fprime_jac\u001b[0;34m(pop_coeffs, thetas, theta_data, n_random_effects, y, model_obj)\u001b[0m\n\u001b[1;32m    212\u001b[0m         \u001b[38;5;28;01mreturn\u001b[39;00m model_obj\u001b[38;5;241m.\u001b[39m_solve_ivp(model_coeffs_local, parallel\u001b[38;5;241m=\u001b[39m\u001b[38;5;28;01mFalse\u001b[39;00m)\n\u001b[1;32m    213\u001b[0m J_afp \u001b[38;5;241m=\u001b[39m approx_fprime(pop_coeffs\u001b[38;5;241m.\u001b[39mvalues\u001b[38;5;241m.\u001b[39mflatten(), wrapped_solve_ivp, epsilon\u001b[38;5;241m=\u001b[39m\u001b[38;5;241m1e-6\u001b[39m)\n\u001b[0;32m--> 214\u001b[0m J_afp \u001b[38;5;241m=\u001b[39m \u001b[43mJ_afp\u001b[49m\u001b[38;5;241;43m.\u001b[39;49m\u001b[43mreshape\u001b[49m\u001b[43m(\u001b[49m\u001b[38;5;28;43mlen\u001b[39;49m\u001b[43m(\u001b[49m\u001b[43my\u001b[49m\u001b[43m)\u001b[49m\u001b[43m,\u001b[49m\u001b[43m \u001b[49m\u001b[43mn_random_effects\u001b[49m\u001b[43m)\u001b[49m\n\u001b[1;32m    215\u001b[0m \u001b[38;5;28;01mreturn\u001b[39;00m J_afp\n",
      "\u001b[0;31mValueError\u001b[0m: cannot reshape array of size 452 into shape (226,1)"
     ]
    }
   ],
   "source": [
    "fit_me_mod = True\n",
    "if fit_me_mod:\n",
    "     me_mod_k =  OneCompartmentModel(\n",
    "          ode_t0_cols=[ODEInitVals('DV')],\n",
    "          population_coeff=[PopulationCoeffcient('k', .4, subject_level_intercept=True,\n",
    "                                                 subject_level_intercept_init_val = 0.2),\n",
    "                         ],\n",
    "          dep_vars= None, \n",
    "                                   no_me_loss_function=sum_of_squares_loss, \n",
    "                                   optimizer_tol=None, \n",
    "                                   pk_model_function=first_order_one_compartment_model, \n",
    "                                   #ode_solver_method='BDF'\n",
    "                                   )\n",
    "     \n",
    "     #PopulationCoeffcient('cl', 5, ),\n",
    "     #PopulationCoeffcient('vd', 20, ),\n",
    "     me_mod =  OneCompartmentModel(\n",
    "          ode_t0_cols=[ODEInitVals('DV')],\n",
    "          population_coeff=[PopulationCoeffcient('cl', 25, subject_level_intercept=True,\n",
    "                                                 subject_level_intercept_init_val = 0.2),\n",
    "                            PopulationCoeffcient('vd', 80, ),\n",
    "                         ],\n",
    "          dep_vars= None, \n",
    "                                   no_me_loss_function=sum_of_squares_loss, \n",
    "                                   optimizer_tol=None, \n",
    "                                   pk_model_function=first_order_one_compartment_model2, \n",
    "                                   #ode_solver_method='BDF'\n",
    "                                   )\n",
    "     me_mod = me_mod.fit2(scale_df,\n",
    "                          checkpoint_filename=f'mod_abs_test_me.jb',\n",
    "                          parallel=False,\n",
    "                          parallel_n_jobs=4)\n",
    "     with open('me_mod_debug.jb', 'wb') as f:\n",
    "          jb.dump(me_mod, f)\n",
    "else:\n",
    "     with open('me_mod_debug.jb', 'rb') as f:\n",
    "          me_mod = jb.load(f)"
   ]
  },
  {
   "cell_type": "code",
   "execution_count": 34,
   "metadata": {},
   "outputs": [
    {
     "data": {
      "text/plain": [
       "array([3.68219995, 2.73175515, 2.02610454, 1.50254947, 1.11576654,\n",
       "       0.82788885, 0.6140002 , 0.45586843, 0.33819505, 0.25083264,\n",
       "       0.18624134, 0.13819297, 3.07719994, 2.38839956, 1.85344656,\n",
       "       1.43786197, 1.11647391, 0.86734641, 0.67297307, 0.52226111,\n",
       "       0.4056407 , 0.31491563, 0.24441824, 0.18972807, 3.39950013,\n",
       "       2.564601  , 1.93430059, 1.45860194, 1.10121518, 0.83115741,\n",
       "       0.62675249, 0.47303807, 0.35704569, 0.26923117, 0.20317554,\n",
       "       2.91230011, 2.22529744, 1.70000292, 1.29836488, 0.99268682,\n",
       "       0.75904578, 0.57973113, 0.44304685, 0.33879427, 0.25882211,\n",
       "       0.19777571, 2.35070014, 1.77879162, 1.34572028, 1.01785788,\n",
       "       0.77077912, 0.58356444, 0.44138863, 0.33412928, 0.25298815,\n",
       "       0.19134938, 0.14482693, 3.23280001, 2.45290798, 1.86074872,\n",
       "       1.4112105 , 1.07150707, 0.81348506, 0.61695728, 0.46827026,\n",
       "       0.35553653, 0.26966171, 0.20463893, 0.15536976, 3.06149983,\n",
       "       2.24155763, 1.64074204, 1.2009192 , 0.88021501, 0.64440659,\n",
       "       0.47175652, 0.34571379, 0.25302783, 0.1852792 , 0.13576566,\n",
       "       2.33570004, 1.76736063, 1.33701146, 1.01122499, 0.76572195,\n",
       "       0.57970879, 0.43845246, 0.33189187, 0.25128239, 0.19005054,\n",
       "       0.14383756, 3.20970011, 2.34762123, 1.7165856 , 1.25513109,\n",
       "       0.91899921, 0.67208802, 0.49151816, 0.35982046, 0.26307313,\n",
       "       0.19244102, 0.14086369, 3.58519983, 2.66708353, 1.98357127,\n",
       "       1.47502369, 1.09829863, 0.81720586, 0.60772076, 0.45242345,\n",
       "       0.33658939, 0.25031196, 0.1863536 , 0.1386658 , 3.55439997,\n",
       "       2.69274909, 2.03952151, 1.54440492, 1.17084581, 0.88750199,\n",
       "       0.67205166, 0.50931508, 0.3860878 , 0.29236706, 0.22153356,\n",
       "       2.72989988, 2.06539625, 1.56229051, 1.18147127, 0.8945315 ,\n",
       "       0.67714547, 0.51208646, 0.38758515, 0.29341328, 0.22188872,\n",
       "       0.16791476, 2.71760011, 2.01013022, 1.4864354 , 1.09906261,\n",
       "       0.81373629, 0.6019512 , 0.44512033, 0.32951125, 0.2437033 ,\n",
       "       0.18022413, 0.13342212, 2.99049997, 2.25956554, 1.70689481,\n",
       "       1.28912231, 0.97476052, 0.73688225, 0.5565257 , 0.4206748 ,\n",
       "       0.31803056, 0.24018574, 0.18152886, 1.99210012, 1.52425541,\n",
       "       1.16604435, 0.89177574, 0.68274489, 0.52277926, 0.39982832,\n",
       "       0.30596959, 0.23429547, 0.17924203, 0.13715134, 0.10497765,\n",
       "       3.40569997, 2.61362424, 2.00536297, 1.53823128, 1.1811328 ,\n",
       "       0.90712706, 0.69585562, 0.5340561 , 0.4101725 , 0.3147514 ,\n",
       "       0.24155049, 3.16790009, 2.42229865, 1.85180013, 1.4152883 ,\n",
       "       1.08283165, 0.82856338, 0.63327101, 0.48429537, 0.37059834,\n",
       "       0.28332254, 0.21664757, 0.16571739, 2.57140017, 2.00719298,\n",
       "       1.56651547, 1.22218885, 0.95435144, 0.74565134, 0.58189498,\n",
       "       0.45411462, 0.35468624, 0.27696937, 0.21619204, 2.66350007,\n",
       "       2.00937688, 1.51554736, 1.14284211, 0.8628306 , 0.65123948,\n",
       "       0.49108583, 0.37064765, 0.27976483, 0.21095923, 0.15920193,\n",
       "       2.54820013, 1.95949818, 1.50650593, 1.15790436, 0.8908684 ,\n",
       "       0.68559888, 0.52698775, 0.40525174, 0.31187308, 0.23981586,\n",
       "       0.18441134])"
      ]
     },
     "execution_count": 34,
     "metadata": {},
     "output_type": "execute_result"
    }
   ],
   "source": [
    "me_mod.predict2(scale_df)"
   ]
  },
  {
   "cell_type": "code",
   "execution_count": 45,
   "metadata": {},
   "outputs": [
    {
     "data": {
      "text/plain": [
       "array([1.67397032, 2.95579202, 0.248921  , 0.12320922, 0.12320957])"
      ]
     },
     "execution_count": 45,
     "metadata": {},
     "output_type": "execute_result"
    }
   ],
   "source": [
    "me_mod.fit_result_['x']"
   ]
  },
  {
   "cell_type": "code",
   "execution_count": 35,
   "metadata": {},
   "outputs": [
    {
     "data": {
      "text/plain": [
       "array([1.67397032, 2.95579202, 0.248921  , 0.12320922, 0.12320957])"
      ]
     },
     "execution_count": 35,
     "metadata": {},
     "output_type": "execute_result"
    }
   ],
   "source": [
    "me_mod.fit_result_['x']"
   ]
  },
  {
   "cell_type": "code",
   "execution_count": 47,
   "metadata": {},
   "outputs": [
    {
     "data": {
      "text/plain": [
       "array([ 5.33330074, 19.21693689])"
      ]
     },
     "execution_count": 47,
     "metadata": {},
     "output_type": "execute_result"
    }
   ],
   "source": [
    "np.exp(me_mod.fit_result_['x'][:2])"
   ]
  },
  {
   "cell_type": "code",
   "execution_count": 48,
   "metadata": {},
   "outputs": [
    {
     "data": {
      "application/vnd.microsoft.datawrangler.viewer.v0+json": {
       "columns": [
        {
         "name": "index",
         "rawType": "int64",
         "type": "integer"
        },
        {
         "name": "model_coeff",
         "rawType": "object",
         "type": "string"
        },
        {
         "name": "model_coeff_dep_var",
         "rawType": "object",
         "type": "unknown"
        },
        {
         "name": "population_coeff",
         "rawType": "bool",
         "type": "boolean"
        },
        {
         "name": "init_val",
         "rawType": "float64",
         "type": "float"
        },
        {
         "name": "model_coeff_lower_bound",
         "rawType": "object",
         "type": "unknown"
        },
        {
         "name": "model_coeff_upper_bound",
         "rawType": "object",
         "type": "unknown"
        },
        {
         "name": "allometric",
         "rawType": "bool",
         "type": "boolean"
        },
        {
         "name": "allometric_norm_value",
         "rawType": "object",
         "type": "unknown"
        },
        {
         "name": "subject_level_intercept",
         "rawType": "bool",
         "type": "boolean"
        },
        {
         "name": "subject_level_intercept_init_val",
         "rawType": "float64",
         "type": "float"
        },
        {
         "name": "subject_level_intercect_var_lower_bound",
         "rawType": "float64",
         "type": "float"
        },
        {
         "name": "subject_level_intercect_var_upper_bound",
         "rawType": "object",
         "type": "unknown"
        }
       ],
       "conversionMethod": "pd.DataFrame",
       "ref": "191f2235-6c97-43b9-9313-fc1995e10ecb",
       "rows": [
        [
         "0",
         "cl",
         null,
         "True",
         "1.6094379124341003",
         null,
         null,
         "False",
         null,
         "True",
         "0.2",
         "1e-06",
         null
        ],
        [
         "1",
         "vd",
         null,
         "True",
         "2.995732273553991",
         null,
         null,
         "False",
         null,
         "True",
         "0.2",
         "1e-06",
         null
        ]
       ],
       "shape": {
        "columns": 12,
        "rows": 2
       }
      },
      "text/html": [
       "<div>\n",
       "<style scoped>\n",
       "    .dataframe tbody tr th:only-of-type {\n",
       "        vertical-align: middle;\n",
       "    }\n",
       "\n",
       "    .dataframe tbody tr th {\n",
       "        vertical-align: top;\n",
       "    }\n",
       "\n",
       "    .dataframe thead th {\n",
       "        text-align: right;\n",
       "    }\n",
       "</style>\n",
       "<table border=\"1\" class=\"dataframe\">\n",
       "  <thead>\n",
       "    <tr style=\"text-align: right;\">\n",
       "      <th></th>\n",
       "      <th>model_coeff</th>\n",
       "      <th>model_coeff_dep_var</th>\n",
       "      <th>population_coeff</th>\n",
       "      <th>init_val</th>\n",
       "      <th>model_coeff_lower_bound</th>\n",
       "      <th>model_coeff_upper_bound</th>\n",
       "      <th>allometric</th>\n",
       "      <th>allometric_norm_value</th>\n",
       "      <th>subject_level_intercept</th>\n",
       "      <th>subject_level_intercept_init_val</th>\n",
       "      <th>subject_level_intercect_var_lower_bound</th>\n",
       "      <th>subject_level_intercect_var_upper_bound</th>\n",
       "    </tr>\n",
       "  </thead>\n",
       "  <tbody>\n",
       "    <tr>\n",
       "      <th>0</th>\n",
       "      <td>cl</td>\n",
       "      <td>None</td>\n",
       "      <td>True</td>\n",
       "      <td>1.609438</td>\n",
       "      <td>None</td>\n",
       "      <td>None</td>\n",
       "      <td>False</td>\n",
       "      <td>None</td>\n",
       "      <td>True</td>\n",
       "      <td>0.2</td>\n",
       "      <td>0.000001</td>\n",
       "      <td>None</td>\n",
       "    </tr>\n",
       "    <tr>\n",
       "      <th>1</th>\n",
       "      <td>vd</td>\n",
       "      <td>None</td>\n",
       "      <td>True</td>\n",
       "      <td>2.995732</td>\n",
       "      <td>None</td>\n",
       "      <td>None</td>\n",
       "      <td>False</td>\n",
       "      <td>None</td>\n",
       "      <td>True</td>\n",
       "      <td>0.2</td>\n",
       "      <td>0.000001</td>\n",
       "      <td>None</td>\n",
       "    </tr>\n",
       "  </tbody>\n",
       "</table>\n",
       "</div>"
      ],
      "text/plain": [
       "  model_coeff model_coeff_dep_var  population_coeff  init_val  \\\n",
       "0          cl                None              True  1.609438   \n",
       "1          vd                None              True  2.995732   \n",
       "\n",
       "  model_coeff_lower_bound model_coeff_upper_bound  allometric  \\\n",
       "0                    None                    None       False   \n",
       "1                    None                    None       False   \n",
       "\n",
       "  allometric_norm_value  subject_level_intercept  \\\n",
       "0                  None                     True   \n",
       "1                  None                     True   \n",
       "\n",
       "   subject_level_intercept_init_val  subject_level_intercect_var_lower_bound  \\\n",
       "0                               0.2                                 0.000001   \n",
       "1                               0.2                                 0.000001   \n",
       "\n",
       "  subject_level_intercect_var_upper_bound  \n",
       "0                                    None  \n",
       "1                                    None  "
      ]
     },
     "execution_count": 48,
     "metadata": {},
     "output_type": "execute_result"
    }
   ],
   "source": [
    "me_mod.init_vals_pd"
   ]
  },
  {
   "cell_type": "code",
   "execution_count": 49,
   "metadata": {},
   "outputs": [
    {
     "data": {
      "text/plain": [
       "  message: CONVERGENCE: RELATIVE REDUCTION OF F <= FACTR*EPSMCH\n",
       "  success: True\n",
       "   status: 0\n",
       "      fun: 28.773582671532978\n",
       "        x: [ 1.674e+00  2.956e+00  2.489e-01  1.232e-01  1.232e-01]\n",
       "      nit: 6\n",
       "      jac: [-2.316e+01  2.016e+01  9.038e+01 -2.550e+02 -2.550e+02]\n",
       "     nfev: 174\n",
       "     njev: 29\n",
       " hess_inv: <5x5 LbfgsInvHessProduct with dtype=float64>"
      ]
     },
     "execution_count": 49,
     "metadata": {},
     "output_type": "execute_result"
    }
   ],
   "source": [
    "me_mod.fit_result_"
   ]
  },
  {
   "cell_type": "code",
   "execution_count": 50,
   "metadata": {},
   "outputs": [],
   "source": [
    "scale_df['me_preds'] = me_mod.predict2(scale_df)"
   ]
  },
  {
   "cell_type": "code",
   "execution_count": 57,
   "metadata": {},
   "outputs": [],
   "source": [
    "scale_df = scale_df.merge(fit_res_df[['SUBJID', 'TIME', 'indiv_no_me']], \n",
    "                          how = 'left', \n",
    "                          on = ['SUBJID', 'TIME'])"
   ]
  },
  {
   "cell_type": "code",
   "execution_count": 62,
   "metadata": {},
   "outputs": [],
   "source": [
    "stack_cols = ['DV', 'me_preds', 'no_me_preds', 'indiv_no_me']\n",
    "\n",
    "long_df = scale_df.melt(id_vars = ['SUBJID', 'TIME'], value_vars = stack_cols, value_name='Conc', var_name = 'pred_method')\n"
   ]
  },
  {
   "cell_type": "code",
   "execution_count": 63,
   "metadata": {},
   "outputs": [],
   "source": [
    "with open('plotly_df.jb', 'wb') as f:\n",
    "    jb.dump(long_df, f)"
   ]
  },
  {
   "cell_type": "code",
   "execution_count": null,
   "metadata": {},
   "outputs": [
    {
     "ename": "ModuleNotFoundError",
     "evalue": "No module named 'plotly'",
     "output_type": "error",
     "traceback": [
      "\u001b[0;31m---------------------------------------------------------------------------\u001b[0m",
      "\u001b[0;31mModuleNotFoundError\u001b[0m                       Traceback (most recent call last)",
      "Cell \u001b[0;32mIn[60], line 1\u001b[0m\n\u001b[0;32m----> 1\u001b[0m \u001b[38;5;28;01mimport\u001b[39;00m \u001b[38;5;21;01mplotly\u001b[39;00m\u001b[38;5;21;01m.\u001b[39;00m\u001b[38;5;21;01mexpress\u001b[39;00m \u001b[38;5;28;01mas\u001b[39;00m \u001b[38;5;21;01mpx\u001b[39;00m\n",
      "\u001b[0;31mModuleNotFoundError\u001b[0m: No module named 'plotly'"
     ]
    }
   ],
   "source": [
    "px.line(data_frame=df, x = 'TIME', y = 'Conc', color = 'pred_method', line_group='SUBJID', animation_frame='SUBJID')"
   ]
  },
  {
   "cell_type": "code",
   "execution_count": 51,
   "metadata": {},
   "outputs": [
    {
     "data": {
      "text/plain": [
       "<matplotlib.legend.Legend at 0x7f09c4d22780>"
      ]
     },
     "execution_count": 51,
     "metadata": {},
     "output_type": "execute_result"
    },
    {
     "data": {
      "image/png": "[encoded data removed]",
      "text/plain": [
       "<Figure size 640x480 with 1 Axes>"
      ]
     },
     "metadata": {},
     "output_type": "display_data"
    }
   ],
   "source": [
    "plot_df = scale_df.loc[scale_df['SUBJID'] == 3, :]\n",
    "fig, axs = plt.subplots(1)\n",
    "sns.lineplot(plot_df, x = 'TIME', y = 'DV', ax = axs, label = 'True')\n",
    "sns.lineplot(plot_df, x = 'TIME', y = 'me_preds', ax = axs, label = 'Mixed Effects')\n",
    "sns.lineplot(plot_df, x = 'TIME', y = 'no_me_preds', ax = axs, label = 'No Mixed Effects')\n",
    "plt.legend()"
   ]
  },
  {
   "cell_type": "code",
   "execution_count": 23,
   "metadata": {},
   "outputs": [],
   "source": [
    "\n",
    "mods = {}\n",
    "orig_sse_mod = OneCompartmentModel(\n",
    "     ode_t0_cols=[ODEInitVals('DV')],\n",
    "     population_coeff=[PopulationCoeffcient('cl', .6), PopulationCoeffcient('vd', 1)],\n",
    "     dep_vars= {'cl':[ ObjectiveFunctionColumn('AGE'),\n",
    "                                                ObjectiveFunctionColumn('SEX' ),\n",
    "                                                ObjectiveFunctionColumn('WT',\n",
    "                                                                         model_method='allometric',\n",
    "                                                                         \n",
    "                                                                         #allometric_norm_value=wt_scaler.transform([[70]])[0][0], \n",
    "                                                                         allometric_norm_value=70,\n",
    "                                                                         )\n",
    "                                                ],\n",
    "                                           'vd':[ObjectiveFunctionColumn('WT',\n",
    "                                                                         model_method='allometric',\n",
    "                                                                         \n",
    "                                                                         #allometric_norm_value=wt_scaler.transform([[70]])[0][0], \n",
    "                                                                         allometric_norm_value=70,\n",
    "                                                                         )]}, \n",
    "                              loss_function=mean_squared_error_loss, \n",
    "                              optimizer_tol=None, \n",
    "                              pk_model_function=first_order_one_compartment_model2,\n",
    "                              verbose=True\n",
    "                              )\n",
    "\n",
    "mods['see_konly'] = OneCompartmentModel(\n",
    "     ode_t0_cols=[ODEInitVals('DV')],\n",
    "     population_coeff=[PopulationCoeffcient('k', .6/2.0), ],\n",
    "     dep_vars= None, \n",
    "                              loss_function=sum_of_squares_loss, \n",
    "                              optimizer_tol=None, \n",
    "                              pk_model_function=first_order_one_compartment_model\n",
    "                              )\n",
    "\n",
    "mods['see_konly_no_init'] = OneCompartmentModel(\n",
    "     ode_t0_cols=[ODEInitVals('DV')],\n",
    "     population_coeff=None,\n",
    "     dep_vars= None, \n",
    "                              loss_function=sum_of_squares_loss, \n",
    "                              optimizer_tol=None, \n",
    "                              pk_model_function=first_order_one_compartment_model, \n",
    "                              #ode_solver_method='BDF'\n",
    "                              )\n",
    "\n",
    "\n",
    "\n",
    "mods['mod_sse_mm_radau'] = OneCompartmentModel(\n",
    "     ode_t0_cols=[ODEInitVals('DV')],\n",
    "     population_coeff=[PopulationCoeffcient('vmax', 40), PopulationCoeffcient('km', 200)],\n",
    "     dep_vars=None,\n",
    "                              loss_function=sum_of_squares_loss, \n",
    "                              optimizer_tol=None, \n",
    "                              pk_model_function=mm_one_compartment_model, \n",
    "                              ode_solver_method='Radau'\n",
    "                              )\n",
    "\n",
    "mods['mod_sse_parallel_bdf'] = OneCompartmentModel(\n",
    "     ode_t0_cols=[ODEInitVals('DV')],\n",
    "     population_coeff=None,\n",
    "     dep_vars=None,\n",
    "                              loss_function=sum_of_squares_loss, \n",
    "                              optimizer_tol=None, \n",
    "                              pk_model_function=parallel_elim_one_compartment_model, \n",
    "                              #ode_solver_method='Radau'\n",
    "                              )\n",
    "\n",
    "mod_sse_mm = OneCompartmentModel(\n",
    "     ode_t0_cols=[ODEInitVals('DV')],\n",
    "     population_coeff=None,\n",
    "     dep_vars=None,\n",
    "                              loss_function=sum_of_squares_loss, \n",
    "                              optimizer_tol=None, \n",
    "                              pk_model_function=mm_one_compartment_model, \n",
    "                              #ode_solver_method='BDF'\n",
    "                              )\n",
    "\n",
    "mod_see_abs = OneCompartmentModel(\n",
    "     ode_t0_cols=[ODEInitVals('DV'), ODEInitVals('MGKG')],\n",
    "     population_coeff=None,\n",
    "     dep_vars=None,\n",
    "     #dep_vars={'ka':[ObjectiveFunctionColumn(column_name = 'FORM'), ObjectiveFunctionColumn('SEX')],\n",
    "               #  'cl':[ObjectiveFunctionColumn('WT_scale',\n",
    "               #                               model_method='allometric',\n",
    "               #                               allometric_norm_value=wt_scaler.transform([[70]])[0][0],)], \n",
    "               #   'vd':[ObjectiveFunctionColumn('WT_scale',\n",
    "               #                               model_method='allometric',\n",
    "               #                               allometric_norm_value=wt_scaler.transform([[70]])[0][0],),                                                        \n",
    "               #                                                           ]\n",
    "              # },\n",
    "                              loss_function=sum_of_squares_loss, \n",
    "                              optimizer_tol=None, \n",
    "                              pk_model_function=one_compartment_absorption, \n",
    "                              #ode_solver_method='BDF'\n",
    "                              )"
   ]
  },
  {
   "cell_type": "code",
   "execution_count": 24,
   "metadata": {},
   "outputs": [
    {
     "data": {
      "application/vnd.microsoft.datawrangler.viewer.v0+json": {
       "columns": [
        {
         "name": "index",
         "rawType": "int64",
         "type": "integer"
        },
        {
         "name": "model_coeff",
         "rawType": "object",
         "type": "string"
        },
        {
         "name": "model_coeff_dep_var",
         "rawType": "object",
         "type": "unknown"
        },
        {
         "name": "population_coeff",
         "rawType": "bool",
         "type": "boolean"
        },
        {
         "name": "init_val",
         "rawType": "float64",
         "type": "float"
        },
        {
         "name": "allometric",
         "rawType": "bool",
         "type": "boolean"
        },
        {
         "name": "allometric_norm_value",
         "rawType": "float64",
         "type": "float"
        },
        {
         "name": "subject_level_intercept",
         "rawType": "bool",
         "type": "boolean"
        },
        {
         "name": "subject_level_intercept_init_val",
         "rawType": "object",
         "type": "unknown"
        }
       ],
       "conversionMethod": "pd.DataFrame",
       "ref": "f5446272-fec2-40d4-9ce1-bb47f9d1075f",
       "rows": [
        [
         "0",
         "cl",
         null,
         "True",
         "-0.5108256237659907",
         "False",
         null,
         "False",
         null
        ],
        [
         "1",
         "vd",
         null,
         "True",
         "0.0",
         "False",
         null,
         "False",
         null
        ],
        [
         "2",
         "cl",
         "AGE",
         "False",
         "0.0",
         "False",
         null,
         "False",
         "False"
        ],
        [
         "3",
         "cl",
         "SEX",
         "False",
         "0.0",
         "False",
         null,
         "False",
         "False"
        ],
        [
         "4",
         "cl",
         "WT",
         "False",
         "0.0",
         "True",
         "70.0",
         "False",
         "False"
        ],
        [
         "5",
         "vd",
         "WT",
         "False",
         "0.0",
         "True",
         "70.0",
         "False",
         "False"
        ]
       ],
       "shape": {
        "columns": 8,
        "rows": 6
       }
      },
      "text/html": [
       "<div>\n",
       "<style scoped>\n",
       "    .dataframe tbody tr th:only-of-type {\n",
       "        vertical-align: middle;\n",
       "    }\n",
       "\n",
       "    .dataframe tbody tr th {\n",
       "        vertical-align: top;\n",
       "    }\n",
       "\n",
       "    .dataframe thead th {\n",
       "        text-align: right;\n",
       "    }\n",
       "</style>\n",
       "<table border=\"1\" class=\"dataframe\">\n",
       "  <thead>\n",
       "    <tr style=\"text-align: right;\">\n",
       "      <th></th>\n",
       "      <th>model_coeff</th>\n",
       "      <th>model_coeff_dep_var</th>\n",
       "      <th>population_coeff</th>\n",
       "      <th>init_val</th>\n",
       "      <th>allometric</th>\n",
       "      <th>allometric_norm_value</th>\n",
       "      <th>subject_level_intercept</th>\n",
       "      <th>subject_level_intercept_init_val</th>\n",
       "    </tr>\n",
       "  </thead>\n",
       "  <tbody>\n",
       "    <tr>\n",
       "      <th>0</th>\n",
       "      <td>cl</td>\n",
       "      <td>None</td>\n",
       "      <td>True</td>\n",
       "      <td>-0.510826</td>\n",
       "      <td>False</td>\n",
       "      <td>NaN</td>\n",
       "      <td>False</td>\n",
       "      <td>None</td>\n",
       "    </tr>\n",
       "    <tr>\n",
       "      <th>1</th>\n",
       "      <td>vd</td>\n",
       "      <td>None</td>\n",
       "      <td>True</td>\n",
       "      <td>0.000000</td>\n",
       "      <td>False</td>\n",
       "      <td>NaN</td>\n",
       "      <td>False</td>\n",
       "      <td>None</td>\n",
       "    </tr>\n",
       "    <tr>\n",
       "      <th>2</th>\n",
       "      <td>cl</td>\n",
       "      <td>AGE</td>\n",
       "      <td>False</td>\n",
       "      <td>0.000000</td>\n",
       "      <td>False</td>\n",
       "      <td>NaN</td>\n",
       "      <td>False</td>\n",
       "      <td>False</td>\n",
       "    </tr>\n",
       "    <tr>\n",
       "      <th>3</th>\n",
       "      <td>cl</td>\n",
       "      <td>SEX</td>\n",
       "      <td>False</td>\n",
       "      <td>0.000000</td>\n",
       "      <td>False</td>\n",
       "      <td>NaN</td>\n",
       "      <td>False</td>\n",
       "      <td>False</td>\n",
       "    </tr>\n",
       "    <tr>\n",
       "      <th>4</th>\n",
       "      <td>cl</td>\n",
       "      <td>WT</td>\n",
       "      <td>False</td>\n",
       "      <td>0.000000</td>\n",
       "      <td>True</td>\n",
       "      <td>70.0</td>\n",
       "      <td>False</td>\n",
       "      <td>False</td>\n",
       "    </tr>\n",
       "    <tr>\n",
       "      <th>5</th>\n",
       "      <td>vd</td>\n",
       "      <td>WT</td>\n",
       "      <td>False</td>\n",
       "      <td>0.000000</td>\n",
       "      <td>True</td>\n",
       "      <td>70.0</td>\n",
       "      <td>False</td>\n",
       "      <td>False</td>\n",
       "    </tr>\n",
       "  </tbody>\n",
       "</table>\n",
       "</div>"
      ],
      "text/plain": [
       "  model_coeff model_coeff_dep_var  population_coeff  init_val  allometric  \\\n",
       "0          cl                None              True -0.510826       False   \n",
       "1          vd                None              True  0.000000       False   \n",
       "2          cl                 AGE             False  0.000000       False   \n",
       "3          cl                 SEX             False  0.000000       False   \n",
       "4          cl                  WT             False  0.000000        True   \n",
       "5          vd                  WT             False  0.000000        True   \n",
       "\n",
       "   allometric_norm_value  subject_level_intercept  \\\n",
       "0                    NaN                    False   \n",
       "1                    NaN                    False   \n",
       "2                    NaN                    False   \n",
       "3                    NaN                    False   \n",
       "4                   70.0                    False   \n",
       "5                   70.0                    False   \n",
       "\n",
       "  subject_level_intercept_init_val  \n",
       "0                             None  \n",
       "1                             None  \n",
       "2                            False  \n",
       "3                            False  \n",
       "4                            False  \n",
       "5                            False  "
      ]
     },
     "execution_count": 24,
     "metadata": {},
     "output_type": "execute_result"
    }
   ],
   "source": [
    "orig_sse_mod.init_vals_pd"
   ]
  },
  {
   "cell_type": "code",
   "execution_count": 25,
   "metadata": {},
   "outputs": [
    {
     "name": "stdout",
     "output_type": "stream",
     "text": [
      "Iteration 5: Checkpoint saved to logs/mod_abs_test__30__5.jb\n",
      "Iteration 10: Checkpoint saved to logs/mod_abs_test__30__10.jb\n",
      "Iteration 15: Checkpoint saved to logs/mod_abs_test__30__15.jb\n",
      "Iteration 20: Checkpoint saved to logs/mod_abs_test__30__20.jb\n",
      "Iteration 25: Checkpoint saved to logs/mod_abs_test__30__25.jb\n",
      "Iteration 30: Checkpoint saved to logs/mod_abs_test__30__30.jb\n"
     ]
    }
   ],
   "source": [
    "orig_sse_mod = orig_sse_mod.fit2(scale_df,checkpoint_filename=f'mod_abs_test.jb', parallel=False, parallel_n_jobs=4)"
   ]
  },
  {
   "cell_type": "code",
   "execution_count": 26,
   "metadata": {},
   "outputs": [
    {
     "data": {
      "text/plain": [
       "  message: CONVERGENCE: RELATIVE REDUCTION OF F <= FACTR*EPSMCH\n",
       "  success: True\n",
       "   status: 0\n",
       "      fun: 1724.6831453975512\n",
       "        x: [-8.023e-01  2.914e-01 -7.538e-03 -3.560e-01  1.081e-01\n",
       "            -1.081e-01]\n",
       "      nit: 33\n",
       "      jac: [-2.956e-04  3.638e-04  7.981e-03 -7.049e-04 -3.865e-04\n",
       "             5.002e-04]\n",
       "     nfev: 280\n",
       "     njev: 40\n",
       " hess_inv: <6x6 LbfgsInvHessProduct with dtype=float64>"
      ]
     },
     "execution_count": 26,
     "metadata": {},
     "output_type": "execute_result"
    }
   ],
   "source": [
    "orig_sse_mod.fit_result_"
   ]
  },
  {
   "cell_type": "code",
   "execution_count": 138,
   "metadata": {},
   "outputs": [],
   "source": [
    "scale_df = scale_df.reset_index(drop = True)"
   ]
  },
  {
   "cell_type": "code",
   "execution_count": 139,
   "metadata": {},
   "outputs": [
    {
     "name": "stderr",
     "output_type": "stream",
     "text": [
      "  0%|          | 0/1000 [00:00<?, ?it/s] This problem is unconstrained.\n"
     ]
    },
    {
     "name": "stdout",
     "output_type": "stream",
     "text": [
      "RUNNING THE L-BFGS-B CODE\n",
      "\n",
      "           * * *\n",
      "\n",
      "Machine precision = 2.220D-16\n",
      " N =            6     M =           10\n",
      "\n",
      "At X0         0 variables are exactly at the bounds\n",
      "\n",
      "At iterate    0    f=  3.67358D+04    |proj g|=  1.07378D+05\n",
      "\n",
      "At iterate    1    f=  3.41252D+04    |proj g|=  5.77499D+04\n",
      "\n",
      "At iterate    2    f=  3.38578D+04    |proj g|=  7.58155D+03\n",
      "\n",
      "At iterate    3    f=  3.38527D+04    |proj g|=  1.72522D+03\n",
      "\n",
      "At iterate    4    f=  3.38475D+04    |proj g|=  1.71179D+03\n",
      "\n",
      "Iteration 5: Checkpoint saved to logs/mod_abs_test__25__5.jb\n",
      "At iterate    5    f=  3.37931D+04    |proj g|=  1.54182D+04\n",
      "\n",
      "At iterate    6    f=  3.36793D+04    |proj g|=  3.29276D+04\n",
      "\n",
      "At iterate    7    f=  3.33907D+04    |proj g|=  5.42099D+04\n",
      "\n",
      "At iterate    8    f=  3.28519D+04    |proj g|=  5.95774D+04\n",
      "\n",
      "At iterate    9    f=  3.25714D+04    |proj g|=  2.91585D+04\n",
      "\n",
      "At iterate   10    f=  3.25061D+04    |proj g|=  2.60299D+04\n",
      "Iteration 10: Checkpoint saved to logs/mod_abs_test__25__10.jb\n",
      "\n",
      "At iterate   11    f=  3.24575D+04    |proj g|=  1.70363D+04\n",
      "\n",
      "At iterate   12    f=  3.24281D+04    |proj g|=  3.99018D+03\n",
      "\n",
      "At iterate   13    f=  3.24261D+04    |proj g|=  4.73768D+02\n",
      "\n",
      "At iterate   14    f=  3.24261D+04    |proj g|=  8.57850D+01\n",
      "\n",
      "At iterate   15    f=  3.24261D+04    |proj g|=  1.79118D+02\n",
      "Iteration 15: Checkpoint saved to logs/mod_abs_test__25__15.jb\n",
      "\n",
      "At iterate   16    f=  3.24257D+04    |proj g|=  1.05563D+03\n",
      "\n",
      "At iterate   17    f=  3.24250D+04    |proj g|=  2.16794D+03\n",
      "\n",
      "At iterate   18    f=  3.24231D+04    |proj g|=  4.11691D+03\n",
      "\n",
      "At iterate   19    f=  3.24184D+04    |proj g|=  6.93367D+03\n",
      "\n",
      "At iterate   20    f=  3.24076D+04    |proj g|=  1.05113D+04\n",
      "Iteration 20: Checkpoint saved to logs/mod_abs_test__25__20.jb\n",
      "\n",
      "At iterate   21    f=  3.23890D+04    |proj g|=  1.26901D+04\n",
      "\n",
      "At iterate   22    f=  3.23691D+04    |proj g|=  8.82088D+03\n",
      "\n",
      "At iterate   23    f=  3.23605D+04    |proj g|=  6.07597D+03\n",
      "\n",
      "At iterate   24    f=  3.23583D+04    |proj g|=  8.39797D+02\n",
      "\n",
      "At iterate   25    f=  3.23579D+04    |proj g|=  1.76450D+02\n",
      "Iteration 25: Checkpoint saved to logs/mod_abs_test__25__25.jb\n",
      "\n",
      "At iterate   26    f=  3.23579D+04    |proj g|=  2.61516D+01\n",
      "\n",
      "At iterate   27    f=  3.23579D+04    |proj g|=  7.74922D+01\n",
      "\n",
      "At iterate   28    f=  3.23578D+04    |proj g|=  1.87617D+02\n",
      "\n",
      "At iterate   29    f=  3.23576D+04    |proj g|=  4.62574D+02\n",
      "\n",
      "At iterate   30    f=  3.23572D+04    |proj g|=  8.16055D+02\n",
      "Iteration 30: Checkpoint saved to logs/mod_abs_test__25__30.jb\n",
      "\n",
      "At iterate   31    f=  3.23562D+04    |proj g|=  1.30230D+03\n",
      "\n",
      "At iterate   32    f=  3.23543D+04    |proj g|=  1.70641D+03\n",
      "\n",
      "At iterate   33    f=  3.23519D+04    |proj g|=  1.57512D+03\n",
      "\n",
      "At iterate   34    f=  3.23504D+04    |proj g|=  8.33666D+02\n",
      "\n",
      "Iteration 35: Checkpoint saved to logs/mod_abs_test__25__35.jb\n",
      "At iterate   35    f=  3.23503D+04    |proj g|=  4.01749D+02\n",
      "\n",
      "At iterate   36    f=  3.23501D+04    |proj g|=  5.51554D+00\n",
      "\n",
      "At iterate   37    f=  3.23500D+04    |proj g|=  3.62194D+01\n",
      "\n",
      "At iterate   38    f=  3.23500D+04    |proj g|=  7.07078D+00\n",
      "\n",
      "At iterate   39    f=  3.23500D+04    |proj g|=  3.66454D+00\n",
      "\n",
      "At iterate   40    f=  3.23500D+04    |proj g|=  5.10772D-01\n",
      "Iteration 40: Checkpoint saved to logs/mod_abs_test__25__40.jb\n"
     ]
    },
    {
     "name": "stderr",
     "output_type": "stream",
     "text": [
      "  0%|          | 1/1000 [01:05<18:14:02, 65.71s/it]"
     ]
    },
    {
     "name": "stdout",
     "output_type": "stream",
     "text": [
      "\n",
      "At iterate   41    f=  3.23500D+04    |proj g|=  7.05768D-02\n",
      "\n",
      "           * * *\n",
      "\n",
      "Tit   = total number of iterations\n",
      "Tnf   = total number of function evaluations\n",
      "Tnint = total number of segments explored during Cauchy searches\n",
      "Skip  = number of BFGS updates skipped\n",
      "Nact  = number of active bounds at final generalized Cauchy point\n",
      "Projg = norm of the final projected gradient\n",
      "F     = final function value\n",
      "\n",
      "           * * *\n",
      "\n",
      "   N    Tit     Tnf  Tnint  Skip  Nact     Projg        F\n",
      "    6     41     50      1     0     0   7.058D-02   3.235D+04\n",
      "  F =   32350.033709172905     \n",
      "\n",
      "CONVERGENCE: REL_REDUCTION_OF_F_<=_FACTR*EPSMCH             \n"
     ]
    },
    {
     "name": "stderr",
     "output_type": "stream",
     "text": [
      " This problem is unconstrained.\n"
     ]
    },
    {
     "name": "stdout",
     "output_type": "stream",
     "text": [
      "RUNNING THE L-BFGS-B CODE\n",
      "\n",
      "           * * *\n",
      "\n",
      "Machine precision = 2.220D-16\n",
      " N =            6     M =           10\n",
      "\n",
      "At X0         0 variables are exactly at the bounds\n",
      "\n",
      "At iterate    0    f=  4.47689D+04    |proj g|=  2.66064D+04\n",
      "\n",
      "At iterate    1    f=  4.45973D+04    |proj g|=  1.01621D+04\n",
      "\n",
      "At iterate    2    f=  4.45561D+04    |proj g|=  3.76069D+03\n",
      "\n",
      "At iterate    3    f=  4.45456D+04    |proj g|=  7.42026D+02\n",
      "\n",
      "At iterate    4    f=  4.45428D+04    |proj g|=  7.26293D+02\n",
      "\n",
      "At iterate    5    f=  4.45390D+04    |proj g|=  1.77534D+03\n",
      "Iteration 5: Checkpoint saved to logs/mod_abs_test__40__5.jb\n",
      "\n",
      "At iterate    6    f=  4.45227D+04    |proj g|=  5.48473D+03\n",
      "\n",
      "At iterate    7    f=  4.44899D+04    |proj g|=  1.04753D+04\n",
      "\n",
      "At iterate    8    f=  4.43624D+04    |proj g|=  2.34410D+04\n",
      "\n",
      "At iterate    9    f=  4.41076D+04    |proj g|=  3.73595D+04\n",
      "\n",
      "At iterate   10    f=  4.38108D+04    |proj g|=  2.32692D+04\n",
      "Iteration 10: Checkpoint saved to logs/mod_abs_test__40__10.jb\n",
      "\n",
      "At iterate   11    f=  4.36148D+04    |proj g|=  1.20890D+04\n",
      "\n",
      "At iterate   12    f=  4.33845D+04    |proj g|=  6.35127D+03\n",
      "\n",
      "At iterate   13    f=  4.31773D+04    |proj g|=  8.85081D+03\n"
     ]
    },
    {
     "name": "stderr",
     "output_type": "stream",
     "text": [
      "  0%|          | 1/1000 [03:08<52:17:11, 188.42s/it]\n"
     ]
    },
    {
     "ename": "KeyboardInterrupt",
     "evalue": "",
     "output_type": "error",
     "traceback": [
      "\u001b[0;31m---------------------------------------------------------------------------\u001b[0m",
      "\u001b[0;31mKeyboardInterrupt\u001b[0m                         Traceback (most recent call last)",
      "Cell \u001b[0;32mIn[139], line 12\u001b[0m\n\u001b[1;32m      9\u001b[0m boot_df \u001b[38;5;241m=\u001b[39m tmp_lab\u001b[38;5;241m.\u001b[39mmerge(scale_df\u001b[38;5;241m.\u001b[39mreset_index(), how \u001b[38;5;241m=\u001b[39m \u001b[38;5;124m'\u001b[39m\u001b[38;5;124mleft\u001b[39m\u001b[38;5;124m'\u001b[39m, on \u001b[38;5;241m=\u001b[39m \u001b[38;5;124m'\u001b[39m\u001b[38;5;124mSUBJID\u001b[39m\u001b[38;5;124m'\u001b[39m)\n\u001b[1;32m     10\u001b[0m boot_df[\u001b[38;5;124m'\u001b[39m\u001b[38;5;124mSUBJID\u001b[39m\u001b[38;5;124m'\u001b[39m] \u001b[38;5;241m=\u001b[39m boot_df[\u001b[38;5;124m'\u001b[39m\u001b[38;5;124mboot_sub\u001b[39m\u001b[38;5;124m'\u001b[39m]\n\u001b[0;32m---> 12\u001b[0m orig_sse_mod \u001b[38;5;241m=\u001b[39m \u001b[43morig_sse_mod\u001b[49m\u001b[38;5;241;43m.\u001b[39;49m\u001b[43mfit2\u001b[49m\u001b[43m(\u001b[49m\u001b[43mboot_df\u001b[49m\u001b[43m,\u001b[49m\u001b[43mcheckpoint_filename\u001b[49m\u001b[38;5;241;43m=\u001b[39;49m\u001b[38;5;124;43mf\u001b[39;49m\u001b[38;5;124;43m'\u001b[39;49m\u001b[38;5;124;43mmod_abs_test.jb\u001b[39;49m\u001b[38;5;124;43m'\u001b[39;49m\u001b[43m,\u001b[49m\u001b[43m \u001b[49m\u001b[43mparallel\u001b[49m\u001b[38;5;241;43m=\u001b[39;49m\u001b[38;5;28;43;01mFalse\u001b[39;49;00m\u001b[43m,\u001b[49m\u001b[43m \u001b[49m\u001b[43mparallel_n_jobs\u001b[49m\u001b[38;5;241;43m=\u001b[39;49m\u001b[38;5;241;43m4\u001b[39;49m\u001b[43m)\u001b[49m\n\u001b[1;32m     13\u001b[0m mods\u001b[38;5;241m.\u001b[39mappend(orig_sse_mod)\n",
      "File \u001b[0;32m/workspaces/miniconda/PK-Analysis/utils.py:713\u001b[0m, in \u001b[0;36mOneCompartmentModel.fit2\u001b[0;34m(self, data, parallel, parallel_n_jobs, warm_start, checkpoint_filename)\u001b[0m\n\u001b[1;32m    711\u001b[0m     init_params \u001b[38;5;241m=\u001b[39m pop_coeffs\u001b[38;5;241m.\u001b[39mvalues\u001b[38;5;241m.\u001b[39mflatten()\u001b[38;5;241m.\u001b[39mastype(np\u001b[38;5;241m.\u001b[39mfloat64)\n\u001b[1;32m    712\u001b[0m objective_function \u001b[38;5;241m=\u001b[39m partial(\u001b[38;5;28mself\u001b[39m\u001b[38;5;241m.\u001b[39m_objective_function2, parallel \u001b[38;5;241m=\u001b[39m parallel, parallel_n_jobs \u001b[38;5;241m=\u001b[39m parallel_n_jobs)\n\u001b[0;32m--> 713\u001b[0m \u001b[38;5;28mself\u001b[39m\u001b[38;5;241m.\u001b[39mfit_result_ \u001b[38;5;241m=\u001b[39m \u001b[43moptimize_with_checkpoint_joblib\u001b[49m\u001b[43m(\u001b[49m\u001b[43mobjective_function\u001b[49m\u001b[43m,\u001b[49m\n\u001b[1;32m    714\u001b[0m \u001b[43m                                                   \u001b[49m\u001b[43minit_params\u001b[49m\u001b[43m,\u001b[49m\n\u001b[1;32m    715\u001b[0m \u001b[43m                                                   \u001b[49m\u001b[43mn_checkpoint\u001b[49m\u001b[38;5;241;43m=\u001b[39;49m\u001b[38;5;241;43m5\u001b[39;49m\u001b[43m,\u001b[49m\n\u001b[1;32m    716\u001b[0m \u001b[43m                                                   \u001b[49m\u001b[43mcheckpoint_filename\u001b[49m\u001b[38;5;241;43m=\u001b[39;49m\u001b[43mcheckpoint_filename\u001b[49m\u001b[43m,\u001b[49m\n\u001b[1;32m    717\u001b[0m \u001b[43m                                                   \u001b[49m\u001b[43margs\u001b[49m\u001b[38;5;241;43m=\u001b[39;49m\u001b[43m(\u001b[49m\u001b[43mbeta_data\u001b[49m\u001b[43m,\u001b[49m\u001b[43m)\u001b[49m\u001b[43m,\u001b[49m\n\u001b[1;32m    718\u001b[0m \u001b[43m                                                   \u001b[49m\u001b[43mwarm_start\u001b[49m\u001b[38;5;241;43m=\u001b[39;49m\u001b[43mwarm_start\u001b[49m\u001b[43m,\u001b[49m\n\u001b[1;32m    719\u001b[0m \u001b[43m                                                   \u001b[49m\u001b[43mtol\u001b[49m\u001b[43m \u001b[49m\u001b[38;5;241;43m=\u001b[39;49m\u001b[43m \u001b[49m\u001b[38;5;28;43mself\u001b[39;49m\u001b[38;5;241;43m.\u001b[39;49m\u001b[43moptimzer_tol\u001b[49m\u001b[43m,\u001b[49m\n\u001b[1;32m    720\u001b[0m \u001b[43m                                                   \u001b[49m\u001b[43mbounds\u001b[49m\u001b[38;5;241;43m=\u001b[39;49m\u001b[38;5;28;43mself\u001b[39;49m\u001b[38;5;241;43m.\u001b[39;49m\u001b[43mbounds\u001b[49m\n\u001b[1;32m    721\u001b[0m \u001b[43m                                                   \u001b[49m\u001b[43m)\u001b[49m\n\u001b[1;32m    722\u001b[0m \u001b[38;5;28;01mreturn\u001b[39;00m deepcopy(\u001b[38;5;28mself\u001b[39m)\n",
      "File \u001b[0;32m/workspaces/miniconda/PK-Analysis/utils.py:1022\u001b[0m, in \u001b[0;36moptimize_with_checkpoint_joblib\u001b[0;34m(func, x0, n_checkpoint, checkpoint_filename, warm_start, tol, *args, **kwargs)\u001b[0m\n\u001b[1;32m   1018\u001b[0m         user_callback(xk)\n\u001b[1;32m   1020\u001b[0m     kwargs[\u001b[38;5;124m'\u001b[39m\u001b[38;5;124mcallback\u001b[39m\u001b[38;5;124m'\u001b[39m] \u001b[38;5;241m=\u001b[39m combined_callback\n\u001b[0;32m-> 1022\u001b[0m result \u001b[38;5;241m=\u001b[39m \u001b[43mminimize\u001b[49m\u001b[43m(\u001b[49m\u001b[43mfunc\u001b[49m\u001b[43m,\u001b[49m\u001b[43m \u001b[49m\u001b[43mx0\u001b[49m\u001b[43m,\u001b[49m\u001b[43m \u001b[49m\u001b[38;5;241;43m*\u001b[39;49m\u001b[43margs\u001b[49m\u001b[43m,\u001b[49m\u001b[43m \u001b[49m\u001b[43mtol\u001b[49m\u001b[43m \u001b[49m\u001b[38;5;241;43m=\u001b[39;49m\u001b[43m \u001b[49m\u001b[43mtol\u001b[49m\u001b[43m,\u001b[49m\u001b[43m \u001b[49m\u001b[43moptions\u001b[49m\u001b[38;5;241;43m=\u001b[39;49m\u001b[43m \u001b[49m\u001b[43m{\u001b[49m\u001b[38;5;124;43m'\u001b[39;49m\u001b[38;5;124;43mdisp\u001b[39;49m\u001b[38;5;124;43m'\u001b[39;49m\u001b[43m:\u001b[49m\u001b[38;5;28;43;01mTrue\u001b[39;49;00m\u001b[43m}\u001b[49m\u001b[43m,\u001b[49m\u001b[43m \u001b[49m\u001b[38;5;241;43m*\u001b[39;49m\u001b[38;5;241;43m*\u001b[39;49m\u001b[43mkwargs\u001b[49m\u001b[43m,\u001b[49m\u001b[43m \u001b[49m\u001b[43m)\u001b[49m\n\u001b[1;32m   1024\u001b[0m \u001b[38;5;66;03m# Remove checkpoint file at end.\u001b[39;00m\n\u001b[1;32m   1025\u001b[0m \u001b[38;5;66;03m# try:\u001b[39;00m\n\u001b[1;32m   1026\u001b[0m \u001b[38;5;66;03m#    os.remove(checkpoint_filename)\u001b[39;00m\n\u001b[1;32m   1027\u001b[0m \u001b[38;5;66;03m# except:\u001b[39;00m\n\u001b[1;32m   1028\u001b[0m \u001b[38;5;66;03m#    pass\u001b[39;00m\n\u001b[1;32m   1030\u001b[0m \u001b[38;5;28;01mreturn\u001b[39;00m result\n",
      "File \u001b[0;32m/opt/conda/envs/pySunODE/lib/python3.12/site-packages/scipy/optimize/_minimize.py:731\u001b[0m, in \u001b[0;36mminimize\u001b[0;34m(fun, x0, args, method, jac, hess, hessp, bounds, constraints, tol, callback, options)\u001b[0m\n\u001b[1;32m    728\u001b[0m     res \u001b[38;5;241m=\u001b[39m _minimize_newtoncg(fun, x0, args, jac, hess, hessp, callback,\n\u001b[1;32m    729\u001b[0m                              \u001b[38;5;241m*\u001b[39m\u001b[38;5;241m*\u001b[39moptions)\n\u001b[1;32m    730\u001b[0m \u001b[38;5;28;01melif\u001b[39;00m meth \u001b[38;5;241m==\u001b[39m \u001b[38;5;124m'\u001b[39m\u001b[38;5;124ml-bfgs-b\u001b[39m\u001b[38;5;124m'\u001b[39m:\n\u001b[0;32m--> 731\u001b[0m     res \u001b[38;5;241m=\u001b[39m \u001b[43m_minimize_lbfgsb\u001b[49m\u001b[43m(\u001b[49m\u001b[43mfun\u001b[49m\u001b[43m,\u001b[49m\u001b[43m \u001b[49m\u001b[43mx0\u001b[49m\u001b[43m,\u001b[49m\u001b[43m \u001b[49m\u001b[43margs\u001b[49m\u001b[43m,\u001b[49m\u001b[43m \u001b[49m\u001b[43mjac\u001b[49m\u001b[43m,\u001b[49m\u001b[43m \u001b[49m\u001b[43mbounds\u001b[49m\u001b[43m,\u001b[49m\n\u001b[1;32m    732\u001b[0m \u001b[43m                           \u001b[49m\u001b[43mcallback\u001b[49m\u001b[38;5;241;43m=\u001b[39;49m\u001b[43mcallback\u001b[49m\u001b[43m,\u001b[49m\u001b[43m \u001b[49m\u001b[38;5;241;43m*\u001b[39;49m\u001b[38;5;241;43m*\u001b[39;49m\u001b[43moptions\u001b[49m\u001b[43m)\u001b[49m\n\u001b[1;32m    733\u001b[0m \u001b[38;5;28;01melif\u001b[39;00m meth \u001b[38;5;241m==\u001b[39m \u001b[38;5;124m'\u001b[39m\u001b[38;5;124mtnc\u001b[39m\u001b[38;5;124m'\u001b[39m:\n\u001b[1;32m    734\u001b[0m     res \u001b[38;5;241m=\u001b[39m _minimize_tnc(fun, x0, args, jac, bounds, callback\u001b[38;5;241m=\u001b[39mcallback,\n\u001b[1;32m    735\u001b[0m                         \u001b[38;5;241m*\u001b[39m\u001b[38;5;241m*\u001b[39moptions)\n",
      "File \u001b[0;32m/opt/conda/envs/pySunODE/lib/python3.12/site-packages/scipy/optimize/_lbfgsb_py.py:407\u001b[0m, in \u001b[0;36m_minimize_lbfgsb\u001b[0;34m(fun, x0, args, jac, bounds, disp, maxcor, ftol, gtol, eps, maxfun, maxiter, iprint, callback, maxls, finite_diff_rel_step, **unknown_options)\u001b[0m\n\u001b[1;32m    401\u001b[0m task_str \u001b[38;5;241m=\u001b[39m task\u001b[38;5;241m.\u001b[39mtobytes()\n\u001b[1;32m    402\u001b[0m \u001b[38;5;28;01mif\u001b[39;00m task_str\u001b[38;5;241m.\u001b[39mstartswith(\u001b[38;5;124mb\u001b[39m\u001b[38;5;124m'\u001b[39m\u001b[38;5;124mFG\u001b[39m\u001b[38;5;124m'\u001b[39m):\n\u001b[1;32m    403\u001b[0m     \u001b[38;5;66;03m# The minimization routine wants f and g at the current x.\u001b[39;00m\n\u001b[1;32m    404\u001b[0m     \u001b[38;5;66;03m# Note that interruptions due to maxfun are postponed\u001b[39;00m\n\u001b[1;32m    405\u001b[0m     \u001b[38;5;66;03m# until the completion of the current minimization iteration.\u001b[39;00m\n\u001b[1;32m    406\u001b[0m     \u001b[38;5;66;03m# Overwrite f and g:\u001b[39;00m\n\u001b[0;32m--> 407\u001b[0m     f, g \u001b[38;5;241m=\u001b[39m \u001b[43mfunc_and_grad\u001b[49m\u001b[43m(\u001b[49m\u001b[43mx\u001b[49m\u001b[43m)\u001b[49m\n\u001b[1;32m    408\u001b[0m \u001b[38;5;28;01melif\u001b[39;00m task_str\u001b[38;5;241m.\u001b[39mstartswith(\u001b[38;5;124mb\u001b[39m\u001b[38;5;124m'\u001b[39m\u001b[38;5;124mNEW_X\u001b[39m\u001b[38;5;124m'\u001b[39m):\n\u001b[1;32m    409\u001b[0m     \u001b[38;5;66;03m# new iteration\u001b[39;00m\n\u001b[1;32m    410\u001b[0m     n_iterations \u001b[38;5;241m+\u001b[39m\u001b[38;5;241m=\u001b[39m \u001b[38;5;241m1\u001b[39m\n",
      "File \u001b[0;32m/opt/conda/envs/pySunODE/lib/python3.12/site-packages/scipy/optimize/_differentiable_functions.py:344\u001b[0m, in \u001b[0;36mScalarFunction.fun_and_grad\u001b[0;34m(self, x)\u001b[0m\n\u001b[1;32m    342\u001b[0m     \u001b[38;5;28mself\u001b[39m\u001b[38;5;241m.\u001b[39m_update_x(x)\n\u001b[1;32m    343\u001b[0m \u001b[38;5;28mself\u001b[39m\u001b[38;5;241m.\u001b[39m_update_fun()\n\u001b[0;32m--> 344\u001b[0m \u001b[38;5;28;43mself\u001b[39;49m\u001b[38;5;241;43m.\u001b[39;49m\u001b[43m_update_grad\u001b[49m\u001b[43m(\u001b[49m\u001b[43m)\u001b[49m\n\u001b[1;32m    345\u001b[0m \u001b[38;5;28;01mreturn\u001b[39;00m \u001b[38;5;28mself\u001b[39m\u001b[38;5;241m.\u001b[39mf, \u001b[38;5;28mself\u001b[39m\u001b[38;5;241m.\u001b[39mg\n",
      "File \u001b[0;32m/opt/conda/envs/pySunODE/lib/python3.12/site-packages/scipy/optimize/_differentiable_functions.py:306\u001b[0m, in \u001b[0;36mScalarFunction._update_grad\u001b[0;34m(self)\u001b[0m\n\u001b[1;32m    304\u001b[0m \u001b[38;5;28;01mif\u001b[39;00m \u001b[38;5;28mself\u001b[39m\u001b[38;5;241m.\u001b[39m_orig_grad \u001b[38;5;129;01min\u001b[39;00m FD_METHODS:\n\u001b[1;32m    305\u001b[0m     \u001b[38;5;28mself\u001b[39m\u001b[38;5;241m.\u001b[39m_update_fun()\n\u001b[0;32m--> 306\u001b[0m \u001b[38;5;28mself\u001b[39m\u001b[38;5;241m.\u001b[39mg \u001b[38;5;241m=\u001b[39m \u001b[38;5;28;43mself\u001b[39;49m\u001b[38;5;241;43m.\u001b[39;49m\u001b[43m_wrapped_grad\u001b[49m\u001b[43m(\u001b[49m\u001b[38;5;28;43mself\u001b[39;49m\u001b[38;5;241;43m.\u001b[39;49m\u001b[43mx\u001b[49m\u001b[43m,\u001b[49m\u001b[43m \u001b[49m\u001b[43mf0\u001b[49m\u001b[38;5;241;43m=\u001b[39;49m\u001b[38;5;28;43mself\u001b[39;49m\u001b[38;5;241;43m.\u001b[39;49m\u001b[43mf\u001b[49m\u001b[43m)\u001b[49m\n\u001b[1;32m    307\u001b[0m \u001b[38;5;28mself\u001b[39m\u001b[38;5;241m.\u001b[39mg_updated \u001b[38;5;241m=\u001b[39m \u001b[38;5;28;01mTrue\u001b[39;00m\n",
      "File \u001b[0;32m/opt/conda/envs/pySunODE/lib/python3.12/site-packages/scipy/optimize/_differentiable_functions.py:47\u001b[0m, in \u001b[0;36m_wrapper_grad.<locals>.wrapped1\u001b[0;34m(x, f0)\u001b[0m\n\u001b[1;32m     45\u001b[0m \u001b[38;5;28;01mdef\u001b[39;00m \u001b[38;5;21mwrapped1\u001b[39m(x, f0\u001b[38;5;241m=\u001b[39m\u001b[38;5;28;01mNone\u001b[39;00m):\n\u001b[1;32m     46\u001b[0m     ncalls[\u001b[38;5;241m0\u001b[39m] \u001b[38;5;241m+\u001b[39m\u001b[38;5;241m=\u001b[39m \u001b[38;5;241m1\u001b[39m\n\u001b[0;32m---> 47\u001b[0m     \u001b[38;5;28;01mreturn\u001b[39;00m \u001b[43mapprox_derivative\u001b[49m\u001b[43m(\u001b[49m\n\u001b[1;32m     48\u001b[0m \u001b[43m        \u001b[49m\u001b[43mfun\u001b[49m\u001b[43m,\u001b[49m\u001b[43m \u001b[49m\u001b[43mx\u001b[49m\u001b[43m,\u001b[49m\u001b[43m \u001b[49m\u001b[43mf0\u001b[49m\u001b[38;5;241;43m=\u001b[39;49m\u001b[43mf0\u001b[49m\u001b[43m,\u001b[49m\u001b[43m \u001b[49m\u001b[38;5;241;43m*\u001b[39;49m\u001b[38;5;241;43m*\u001b[39;49m\u001b[43mfinite_diff_options\u001b[49m\n\u001b[1;32m     49\u001b[0m \u001b[43m    \u001b[49m\u001b[43m)\u001b[49m\n",
      "File \u001b[0;32m/opt/conda/envs/pySunODE/lib/python3.12/site-packages/scipy/optimize/_numdiff.py:519\u001b[0m, in \u001b[0;36mapprox_derivative\u001b[0;34m(fun, x0, method, rel_step, abs_step, f0, bounds, sparsity, as_linear_operator, args, kwargs)\u001b[0m\n\u001b[1;32m    516\u001b[0m     use_one_sided \u001b[38;5;241m=\u001b[39m \u001b[38;5;28;01mFalse\u001b[39;00m\n\u001b[1;32m    518\u001b[0m \u001b[38;5;28;01mif\u001b[39;00m sparsity \u001b[38;5;129;01mis\u001b[39;00m \u001b[38;5;28;01mNone\u001b[39;00m:\n\u001b[0;32m--> 519\u001b[0m     \u001b[38;5;28;01mreturn\u001b[39;00m \u001b[43m_dense_difference\u001b[49m\u001b[43m(\u001b[49m\u001b[43mfun_wrapped\u001b[49m\u001b[43m,\u001b[49m\u001b[43m \u001b[49m\u001b[43mx0\u001b[49m\u001b[43m,\u001b[49m\u001b[43m \u001b[49m\u001b[43mf0\u001b[49m\u001b[43m,\u001b[49m\u001b[43m \u001b[49m\u001b[43mh\u001b[49m\u001b[43m,\u001b[49m\n\u001b[1;32m    520\u001b[0m \u001b[43m                             \u001b[49m\u001b[43muse_one_sided\u001b[49m\u001b[43m,\u001b[49m\u001b[43m \u001b[49m\u001b[43mmethod\u001b[49m\u001b[43m)\u001b[49m\n\u001b[1;32m    521\u001b[0m \u001b[38;5;28;01melse\u001b[39;00m:\n\u001b[1;32m    522\u001b[0m     \u001b[38;5;28;01mif\u001b[39;00m \u001b[38;5;129;01mnot\u001b[39;00m issparse(sparsity) \u001b[38;5;129;01mand\u001b[39;00m \u001b[38;5;28mlen\u001b[39m(sparsity) \u001b[38;5;241m==\u001b[39m \u001b[38;5;241m2\u001b[39m:\n",
      "File \u001b[0;32m/opt/conda/envs/pySunODE/lib/python3.12/site-packages/scipy/optimize/_numdiff.py:592\u001b[0m, in \u001b[0;36m_dense_difference\u001b[0;34m(fun, x0, f0, h, use_one_sided, method)\u001b[0m\n\u001b[1;32m    590\u001b[0m     x1[i] \u001b[38;5;241m+\u001b[39m\u001b[38;5;241m=\u001b[39m h[i]\n\u001b[1;32m    591\u001b[0m     dx \u001b[38;5;241m=\u001b[39m x1[i] \u001b[38;5;241m-\u001b[39m x0[i]  \u001b[38;5;66;03m# Recompute dx as exactly representable number.\u001b[39;00m\n\u001b[0;32m--> 592\u001b[0m     df \u001b[38;5;241m=\u001b[39m \u001b[43mfun\u001b[49m\u001b[43m(\u001b[49m\u001b[43mx1\u001b[49m\u001b[43m)\u001b[49m \u001b[38;5;241m-\u001b[39m f0\n\u001b[1;32m    593\u001b[0m \u001b[38;5;28;01melif\u001b[39;00m method \u001b[38;5;241m==\u001b[39m \u001b[38;5;124m'\u001b[39m\u001b[38;5;124m3-point\u001b[39m\u001b[38;5;124m'\u001b[39m \u001b[38;5;129;01mand\u001b[39;00m use_one_sided[i]:\n\u001b[1;32m    594\u001b[0m     x1[i] \u001b[38;5;241m+\u001b[39m\u001b[38;5;241m=\u001b[39m h[i]\n",
      "File \u001b[0;32m/opt/conda/envs/pySunODE/lib/python3.12/site-packages/scipy/optimize/_numdiff.py:470\u001b[0m, in \u001b[0;36mapprox_derivative.<locals>.fun_wrapped\u001b[0;34m(x)\u001b[0m\n\u001b[1;32m    467\u001b[0m \u001b[38;5;28;01mif\u001b[39;00m xp\u001b[38;5;241m.\u001b[39misdtype(x\u001b[38;5;241m.\u001b[39mdtype, \u001b[38;5;124m\"\u001b[39m\u001b[38;5;124mreal floating\u001b[39m\u001b[38;5;124m\"\u001b[39m):\n\u001b[1;32m    468\u001b[0m     x \u001b[38;5;241m=\u001b[39m xp\u001b[38;5;241m.\u001b[39mastype(x, x0\u001b[38;5;241m.\u001b[39mdtype)\n\u001b[0;32m--> 470\u001b[0m f \u001b[38;5;241m=\u001b[39m np\u001b[38;5;241m.\u001b[39matleast_1d(\u001b[43mfun\u001b[49m\u001b[43m(\u001b[49m\u001b[43mx\u001b[49m\u001b[43m,\u001b[49m\u001b[43m \u001b[49m\u001b[38;5;241;43m*\u001b[39;49m\u001b[43margs\u001b[49m\u001b[43m,\u001b[49m\u001b[43m \u001b[49m\u001b[38;5;241;43m*\u001b[39;49m\u001b[38;5;241;43m*\u001b[39;49m\u001b[43mkwargs\u001b[49m\u001b[43m)\u001b[49m)\n\u001b[1;32m    471\u001b[0m \u001b[38;5;28;01mif\u001b[39;00m f\u001b[38;5;241m.\u001b[39mndim \u001b[38;5;241m>\u001b[39m \u001b[38;5;241m1\u001b[39m:\n\u001b[1;32m    472\u001b[0m     \u001b[38;5;28;01mraise\u001b[39;00m \u001b[38;5;167;01mRuntimeError\u001b[39;00m(\u001b[38;5;124m\"\u001b[39m\u001b[38;5;124m`fun` return value has \u001b[39m\u001b[38;5;124m\"\u001b[39m\n\u001b[1;32m    473\u001b[0m                        \u001b[38;5;124m\"\u001b[39m\u001b[38;5;124mmore than 1 dimension.\u001b[39m\u001b[38;5;124m\"\u001b[39m)\n",
      "File \u001b[0;32m/opt/conda/envs/pySunODE/lib/python3.12/site-packages/scipy/optimize/_differentiable_functions.py:20\u001b[0m, in \u001b[0;36m_wrapper_fun.<locals>.wrapped\u001b[0;34m(x)\u001b[0m\n\u001b[1;32m     16\u001b[0m ncalls[\u001b[38;5;241m0\u001b[39m] \u001b[38;5;241m+\u001b[39m\u001b[38;5;241m=\u001b[39m \u001b[38;5;241m1\u001b[39m\n\u001b[1;32m     17\u001b[0m \u001b[38;5;66;03m# Send a copy because the user may overwrite it.\u001b[39;00m\n\u001b[1;32m     18\u001b[0m \u001b[38;5;66;03m# Overwriting results in undefined behaviour because\u001b[39;00m\n\u001b[1;32m     19\u001b[0m \u001b[38;5;66;03m# fun(self.x) will change self.x, with the two no longer linked.\u001b[39;00m\n\u001b[0;32m---> 20\u001b[0m fx \u001b[38;5;241m=\u001b[39m \u001b[43mfun\u001b[49m\u001b[43m(\u001b[49m\u001b[43mnp\u001b[49m\u001b[38;5;241;43m.\u001b[39;49m\u001b[43mcopy\u001b[49m\u001b[43m(\u001b[49m\u001b[43mx\u001b[49m\u001b[43m)\u001b[49m\u001b[43m,\u001b[49m\u001b[43m \u001b[49m\u001b[38;5;241;43m*\u001b[39;49m\u001b[43margs\u001b[49m\u001b[43m)\u001b[49m\n\u001b[1;32m     21\u001b[0m \u001b[38;5;66;03m# Make sure the function returns a true scalar\u001b[39;00m\n\u001b[1;32m     22\u001b[0m \u001b[38;5;28;01mif\u001b[39;00m \u001b[38;5;129;01mnot\u001b[39;00m np\u001b[38;5;241m.\u001b[39misscalar(fx):\n",
      "File \u001b[0;32m/workspaces/miniconda/PK-Analysis/utils.py:690\u001b[0m, in \u001b[0;36mOneCompartmentModel._objective_function2\u001b[0;34m(self, params, beta_data, parallel, parallel_n_jobs)\u001b[0m\n\u001b[1;32m    688\u001b[0m thetas \u001b[38;5;241m=\u001b[39m pd\u001b[38;5;241m.\u001b[39mDataFrame(params[\u001b[38;5;28mself\u001b[39m\u001b[38;5;241m.\u001b[39mn_population_coeff:]\u001b[38;5;241m.\u001b[39mreshape(\u001b[38;5;241m1\u001b[39m,\u001b[38;5;241m-\u001b[39m\u001b[38;5;241m1\u001b[39m), columns \u001b[38;5;241m=\u001b[39m \u001b[38;5;28mself\u001b[39m\u001b[38;5;241m.\u001b[39minit_betas\u001b[38;5;241m.\u001b[39mcolumns)\n\u001b[1;32m    689\u001b[0m model_coeffs \u001b[38;5;241m=\u001b[39m \u001b[38;5;28mself\u001b[39m\u001b[38;5;241m.\u001b[39m_generate_pk_model_coeff_vectorized(pop_coeffs, thetas, beta_data)\n\u001b[0;32m--> 690\u001b[0m preds \u001b[38;5;241m=\u001b[39m \u001b[38;5;28;43mself\u001b[39;49m\u001b[38;5;241;43m.\u001b[39;49m\u001b[43m_solve_ivp\u001b[49m\u001b[43m(\u001b[49m\u001b[43mmodel_coeffs\u001b[49m\u001b[43m,\u001b[49m\u001b[43m \u001b[49m\u001b[43mparallel\u001b[49m\u001b[43m \u001b[49m\u001b[38;5;241;43m=\u001b[39;49m\u001b[43m \u001b[49m\u001b[43mparallel\u001b[49m\u001b[43m,\u001b[49m\u001b[43m \u001b[49m\u001b[43mparallel_n_jobs\u001b[49m\u001b[43m \u001b[49m\u001b[38;5;241;43m=\u001b[39;49m\u001b[43m \u001b[49m\u001b[43mparallel_n_jobs\u001b[49m\u001b[43m)\u001b[49m\n\u001b[1;32m    691\u001b[0m error \u001b[38;5;241m=\u001b[39m \u001b[38;5;28mself\u001b[39m\u001b[38;5;241m.\u001b[39mloss_function(\u001b[38;5;28mself\u001b[39m\u001b[38;5;241m.\u001b[39my, preds, \u001b[38;5;241m*\u001b[39m\u001b[38;5;241m*\u001b[39m\u001b[38;5;28mself\u001b[39m\u001b[38;5;241m.\u001b[39mloss_params)\n\u001b[1;32m    692\u001b[0m \u001b[38;5;28;01mreturn\u001b[39;00m error\n",
      "File \u001b[0;32m/workspaces/miniconda/PK-Analysis/utils.py:575\u001b[0m, in \u001b[0;36mOneCompartmentModel._solve_ivp\u001b[0;34m(self, model_coeffs, parallel, parallel_n_jobs, timepoints)\u001b[0m\n\u001b[1;32m    573\u001b[0m             coeff_idx_row \u001b[38;5;241m=\u001b[39m coeff_idx_row[\u001b[38;5;241m1\u001b[39m]\n\u001b[1;32m    574\u001b[0m             ode_inits \u001b[38;5;241m=\u001b[39m ode_inits_idx_row[\u001b[38;5;241m1\u001b[39m]\n\u001b[0;32m--> 575\u001b[0m             ode_sol \u001b[38;5;241m=\u001b[39m \u001b[43msolve_ivp\u001b[49m\u001b[43m(\u001b[49m\u001b[38;5;28;43mself\u001b[39;49m\u001b[38;5;241;43m.\u001b[39;49m\u001b[43mpk_model_function\u001b[49m\u001b[43m,\u001b[49m\n\u001b[1;32m    576\u001b[0m \u001b[43m                            \u001b[49m\u001b[38;5;28;43mself\u001b[39;49m\u001b[38;5;241;43m.\u001b[39;49m\u001b[43mglobal_tspan\u001b[49m\u001b[43m,\u001b[49m\n\u001b[1;32m    577\u001b[0m \u001b[43m                        \u001b[49m\u001b[43mode_inits\u001b[49m\u001b[43m,\u001b[49m\n\u001b[1;32m    578\u001b[0m \u001b[43m                        \u001b[49m\u001b[43mt_eval\u001b[49m\u001b[38;5;241;43m=\u001b[39;49m\u001b[38;5;28;43mself\u001b[39;49m\u001b[38;5;241;43m.\u001b[39;49m\u001b[43mglobal_tp\u001b[49m\u001b[43m \u001b[49m\u001b[38;5;28;43;01mif\u001b[39;49;00m\u001b[43m \u001b[49m\u001b[43mtimepoints\u001b[49m\u001b[43m \u001b[49m\u001b[38;5;129;43;01mis\u001b[39;49;00m\u001b[43m \u001b[49m\u001b[38;5;28;43;01mNone\u001b[39;49;00m\u001b[43m \u001b[49m\u001b[38;5;28;43;01melse\u001b[39;49;00m\u001b[43m \u001b[49m\u001b[43mtimepoints\u001b[49m\u001b[43m,\u001b[49m\n\u001b[1;32m    579\u001b[0m \u001b[43m                        \u001b[49m\u001b[43mmethod\u001b[49m\u001b[43m \u001b[49m\u001b[38;5;241;43m=\u001b[39;49m\u001b[43m \u001b[49m\u001b[38;5;28;43mself\u001b[39;49m\u001b[38;5;241;43m.\u001b[39;49m\u001b[43mode_solver_method\u001b[49m\u001b[43m,\u001b[49m\n\u001b[1;32m    580\u001b[0m \u001b[43m                        \u001b[49m\u001b[43margs\u001b[49m\u001b[38;5;241;43m=\u001b[39;49m\u001b[43m(\u001b[49m\u001b[38;5;241;43m*\u001b[39;49m\u001b[43mcoeff_idx_row\u001b[49m\u001b[43m,\u001b[49m\u001b[43m)\u001b[49m\u001b[43m)\u001b[49m\n\u001b[1;32m    581\u001b[0m             sol\u001b[38;5;241m.\u001b[39mappend(ode_sol\u001b[38;5;241m.\u001b[39my[\u001b[38;5;241m0\u001b[39m])\n\u001b[1;32m    582\u001b[0m sol \u001b[38;5;241m=\u001b[39m np\u001b[38;5;241m.\u001b[39mconcatenate(sol)\n",
      "File \u001b[0;32m/opt/conda/envs/pySunODE/lib/python3.12/site-packages/scipy/integrate/_ivp/ivp.py:655\u001b[0m, in \u001b[0;36msolve_ivp\u001b[0;34m(fun, t_span, y0, method, t_eval, dense_output, events, vectorized, args, **options)\u001b[0m\n\u001b[1;32m    653\u001b[0m status \u001b[38;5;241m=\u001b[39m \u001b[38;5;28;01mNone\u001b[39;00m\n\u001b[1;32m    654\u001b[0m \u001b[38;5;28;01mwhile\u001b[39;00m status \u001b[38;5;129;01mis\u001b[39;00m \u001b[38;5;28;01mNone\u001b[39;00m:\n\u001b[0;32m--> 655\u001b[0m     message \u001b[38;5;241m=\u001b[39m \u001b[43msolver\u001b[49m\u001b[38;5;241;43m.\u001b[39;49m\u001b[43mstep\u001b[49m\u001b[43m(\u001b[49m\u001b[43m)\u001b[49m\n\u001b[1;32m    657\u001b[0m     \u001b[38;5;28;01mif\u001b[39;00m solver\u001b[38;5;241m.\u001b[39mstatus \u001b[38;5;241m==\u001b[39m \u001b[38;5;124m'\u001b[39m\u001b[38;5;124mfinished\u001b[39m\u001b[38;5;124m'\u001b[39m:\n\u001b[1;32m    658\u001b[0m         status \u001b[38;5;241m=\u001b[39m \u001b[38;5;241m0\u001b[39m\n",
      "File \u001b[0;32m/opt/conda/envs/pySunODE/lib/python3.12/site-packages/scipy/integrate/_ivp/base.py:197\u001b[0m, in \u001b[0;36mOdeSolver.step\u001b[0;34m(self)\u001b[0m\n\u001b[1;32m    195\u001b[0m \u001b[38;5;28;01melse\u001b[39;00m:\n\u001b[1;32m    196\u001b[0m     t \u001b[38;5;241m=\u001b[39m \u001b[38;5;28mself\u001b[39m\u001b[38;5;241m.\u001b[39mt\n\u001b[0;32m--> 197\u001b[0m     success, message \u001b[38;5;241m=\u001b[39m \u001b[38;5;28;43mself\u001b[39;49m\u001b[38;5;241;43m.\u001b[39;49m\u001b[43m_step_impl\u001b[49m\u001b[43m(\u001b[49m\u001b[43m)\u001b[49m\n\u001b[1;32m    199\u001b[0m     \u001b[38;5;28;01mif\u001b[39;00m \u001b[38;5;129;01mnot\u001b[39;00m success:\n\u001b[1;32m    200\u001b[0m         \u001b[38;5;28mself\u001b[39m\u001b[38;5;241m.\u001b[39mstatus \u001b[38;5;241m=\u001b[39m \u001b[38;5;124m'\u001b[39m\u001b[38;5;124mfailed\u001b[39m\u001b[38;5;124m'\u001b[39m\n",
      "File \u001b[0;32m/opt/conda/envs/pySunODE/lib/python3.12/site-packages/scipy/integrate/_ivp/rk.py:147\u001b[0m, in \u001b[0;36mRungeKutta._step_impl\u001b[0;34m(self)\u001b[0m\n\u001b[1;32m    144\u001b[0m y_new, f_new \u001b[38;5;241m=\u001b[39m rk_step(\u001b[38;5;28mself\u001b[39m\u001b[38;5;241m.\u001b[39mfun, t, y, \u001b[38;5;28mself\u001b[39m\u001b[38;5;241m.\u001b[39mf, h, \u001b[38;5;28mself\u001b[39m\u001b[38;5;241m.\u001b[39mA,\n\u001b[1;32m    145\u001b[0m                        \u001b[38;5;28mself\u001b[39m\u001b[38;5;241m.\u001b[39mB, \u001b[38;5;28mself\u001b[39m\u001b[38;5;241m.\u001b[39mC, \u001b[38;5;28mself\u001b[39m\u001b[38;5;241m.\u001b[39mK)\n\u001b[1;32m    146\u001b[0m scale \u001b[38;5;241m=\u001b[39m atol \u001b[38;5;241m+\u001b[39m np\u001b[38;5;241m.\u001b[39mmaximum(np\u001b[38;5;241m.\u001b[39mabs(y), np\u001b[38;5;241m.\u001b[39mabs(y_new)) \u001b[38;5;241m*\u001b[39m rtol\n\u001b[0;32m--> 147\u001b[0m error_norm \u001b[38;5;241m=\u001b[39m \u001b[38;5;28;43mself\u001b[39;49m\u001b[38;5;241;43m.\u001b[39;49m\u001b[43m_estimate_error_norm\u001b[49m\u001b[43m(\u001b[49m\u001b[38;5;28;43mself\u001b[39;49m\u001b[38;5;241;43m.\u001b[39;49m\u001b[43mK\u001b[49m\u001b[43m,\u001b[49m\u001b[43m \u001b[49m\u001b[43mh\u001b[49m\u001b[43m,\u001b[49m\u001b[43m \u001b[49m\u001b[43mscale\u001b[49m\u001b[43m)\u001b[49m\n\u001b[1;32m    149\u001b[0m \u001b[38;5;28;01mif\u001b[39;00m error_norm \u001b[38;5;241m<\u001b[39m \u001b[38;5;241m1\u001b[39m:\n\u001b[1;32m    150\u001b[0m     \u001b[38;5;28;01mif\u001b[39;00m error_norm \u001b[38;5;241m==\u001b[39m \u001b[38;5;241m0\u001b[39m:\n",
      "File \u001b[0;32m/opt/conda/envs/pySunODE/lib/python3.12/site-packages/scipy/integrate/_ivp/rk.py:108\u001b[0m, in \u001b[0;36mRungeKutta._estimate_error_norm\u001b[0;34m(self, K, h, scale)\u001b[0m\n\u001b[1;32m    105\u001b[0m \u001b[38;5;28;01mdef\u001b[39;00m \u001b[38;5;21m_estimate_error\u001b[39m(\u001b[38;5;28mself\u001b[39m, K, h):\n\u001b[1;32m    106\u001b[0m     \u001b[38;5;28;01mreturn\u001b[39;00m np\u001b[38;5;241m.\u001b[39mdot(K\u001b[38;5;241m.\u001b[39mT, \u001b[38;5;28mself\u001b[39m\u001b[38;5;241m.\u001b[39mE) \u001b[38;5;241m*\u001b[39m h\n\u001b[0;32m--> 108\u001b[0m \u001b[38;5;28;01mdef\u001b[39;00m \u001b[38;5;21m_estimate_error_norm\u001b[39m(\u001b[38;5;28mself\u001b[39m, K, h, scale):\n\u001b[1;32m    109\u001b[0m     \u001b[38;5;28;01mreturn\u001b[39;00m norm(\u001b[38;5;28mself\u001b[39m\u001b[38;5;241m.\u001b[39m_estimate_error(K, h) \u001b[38;5;241m/\u001b[39m scale)\n\u001b[1;32m    111\u001b[0m \u001b[38;5;28;01mdef\u001b[39;00m \u001b[38;5;21m_step_impl\u001b[39m(\u001b[38;5;28mself\u001b[39m):\n",
      "\u001b[0;31mKeyboardInterrupt\u001b[0m: "
     ]
    }
   ],
   "source": [
    "from tqdm import tqdm \n",
    "\n",
    "n_boots = 1000\n",
    "mods = []\n",
    "for idx in tqdm(range(n_boots)):\n",
    "    tmp_lab = scale_df['SUBJID'].drop_duplicates().sample(frac = 1, replace=True).reset_index().copy()\n",
    "    tmp_lab['cumidx'] = tmp_lab.groupby('SUBJID').cumcount()\n",
    "    tmp_lab['boot_sub'] = tmp_lab['SUBJID'].astype(str) + '_' + tmp_lab['cumidx'].astype(str)\n",
    "    boot_df = tmp_lab.merge(scale_df.reset_index(), how = 'left', on = 'SUBJID')\n",
    "    boot_df['SUBJID'] = boot_df['boot_sub']\n",
    "\n",
    "    orig_sse_mod = orig_sse_mod.fit2(boot_df,checkpoint_filename=f'mod_abs_test.jb', parallel=False, parallel_n_jobs=4)\n",
    "    mods.append(orig_sse_mod)"
   ]
  },
  {
   "cell_type": "code",
   "execution_count": 25,
   "metadata": {},
   "outputs": [],
   "source": [
    "tmp_df = scale_df.copy()\n",
    "tmp_df['pred_conc'] = orig_sse_mod.predict2(scale_df)"
   ]
  },
  {
   "cell_type": "code",
   "execution_count": 26,
   "metadata": {},
   "outputs": [],
   "source": [
    "tmp_df['sq_error'] = (tmp_df['DV'] - tmp_df['pred_conc'])**2\n",
    "a = tmp_df.groupby('SUBJID')['sq_error'].mean().reset_index().rename(columns = {'sq_error':'mse'})\n",
    "mplot = tmp_df.merge(a, how = 'left', on = 'SUBJID')[['mse', 'FORM', 'TRTCD', 'WT', 'MGKG', 'AGE']].drop_duplicates()"
   ]
  },
  {
   "cell_type": "code",
   "execution_count": 27,
   "metadata": {},
   "outputs": [],
   "source": [
    "tmp_df['resid'] =  tmp_df['pred_conc'] - tmp_df['DV']\n",
    "tmp_df['%resid'] = (tmp_df['pred_conc'] - tmp_df['DV']) / ((tmp_df['pred_conc'] + tmp_df['DV'])/2)"
   ]
  },
  {
   "cell_type": "code",
   "execution_count": 28,
   "metadata": {},
   "outputs": [
    {
     "data": {
      "text/plain": [
       "<Axes: xlabel='TIME', ylabel='resid'>"
      ]
     },
     "execution_count": 28,
     "metadata": {},
     "output_type": "execute_result"
    },
    {
     "data": {
      "image/png": "[encoded data removed]",
      "text/plain": [
       "<Figure size 640x480 with 1 Axes>"
      ]
     },
     "metadata": {},
     "output_type": "display_data"
    }
   ],
   "source": [
    "sns.scatterplot(tmp_df.loc[tmp_df['SUBJID'] == 1, :], x = 'TIME', y = 'resid')"
   ]
  },
  {
   "cell_type": "code",
   "execution_count": 133,
   "metadata": {},
   "outputs": [
    {
     "data": {
      "text/plain": [
       "<Axes: xlabel='TIME', ylabel='resid'>"
      ]
     },
     "execution_count": 133,
     "metadata": {},
     "output_type": "execute_result"
    },
    {
     "data": {
      "image/png": "[encoded data removed]",
      "text/plain": [
       "<Figure size 640x480 with 1 Axes>"
      ]
     },
     "metadata": {},
     "output_type": "display_data"
    }
   ],
   "source": [
    "sns.scatterplot(tmp_df.loc[tmp_df['SUBJID'] == 1, :], x = 'TIME', y = 'resid')"
   ]
  },
  {
   "cell_type": "code",
   "execution_count": 134,
   "metadata": {},
   "outputs": [
    {
     "data": {
      "text/plain": [
       "<seaborn.axisgrid.PairGrid at 0x7fe6e43c5580>"
      ]
     },
     "execution_count": 134,
     "metadata": {},
     "output_type": "execute_result"
    },
    {
     "data": {
      "image/png": "[encoded data removed]",
      "text/plain": [
       "<Figure size 1250x1250 with 30 Axes>"
      ]
     },
     "metadata": {},
     "output_type": "display_data"
    }
   ],
   "source": [
    "sns.pairplot(mplot)"
   ]
  },
  {
   "cell_type": "code",
   "execution_count": 29,
   "metadata": {},
   "outputs": [
    {
     "data": {
      "text/plain": [
       "<matplotlib.legend.Legend at 0x7fd957fe6ff0>"
      ]
     },
     "execution_count": 29,
     "metadata": {},
     "output_type": "execute_result"
    },
    {
     "data": {
      "image/png": "[encoded data removed]",
      "text/plain": [
       "<Figure size 640x480 with 1 Axes>"
      ]
     },
     "metadata": {},
     "output_type": "display_data"
    }
   ],
   "source": [
    "sub = 10\n",
    "plot_me = tmp_df.loc[tmp_df['SUBJID'] == sub, :]\n",
    "plt.plot(plot_me['TIME'], plot_me['DV'], label = 'True DV')\n",
    "plt.plot(plot_me['TIME'], plot_me['pred_conc'], label = 'Pred DV')\n",
    "plt.legend()"
   ]
  },
  {
   "cell_type": "code",
   "execution_count": 137,
   "metadata": {},
   "outputs": [
    {
     "data": {
      "text/plain": [
       "<matplotlib.legend.Legend at 0x7fe6dc384cb0>"
      ]
     },
     "execution_count": 137,
     "metadata": {},
     "output_type": "execute_result"
    },
    {
     "data": {
      "image/png": "[encoded data removed]",
      "text/plain": [
       "<Figure size 640x480 with 1 Axes>"
      ]
     },
     "metadata": {},
     "output_type": "display_data"
    }
   ],
   "source": [
    "sub = 10\n",
    "plot_me = tmp_df.loc[tmp_df['SUBJID'] == sub, :]\n",
    "plt.plot(plot_me['TIME'], plot_me['DV'], label = 'True DV')\n",
    "plt.plot(plot_me['TIME'], plot_me['pred_conc'], label = 'Pred DV')\n",
    "plt.legend()"
   ]
  },
  {
   "cell_type": "code",
   "execution_count": 25,
   "metadata": {},
   "outputs": [
    {
     "data": {
      "text/plain": [
       "array([  0.        ,  35.29999924, 275.        , ...,   1.70000005,\n",
       "         1.41999996,   0.85100001])"
      ]
     },
     "execution_count": 25,
     "metadata": {},
     "output_type": "execute_result"
    }
   ],
   "source": [
    "_.y"
   ]
  },
  {
   "cell_type": "code",
   "execution_count": 19,
   "metadata": {},
   "outputs": [
    {
     "name": "stdout",
     "output_type": "stream",
     "text": [
      "RUNNING THE L-BFGS-B CODE\n",
      "\n",
      "           * * *\n",
      "\n",
      "Machine precision = 2.220D-16\n",
      " N =            6     M =           10\n",
      "\n",
      "At X0         0 variables are exactly at the bounds\n",
      "\n",
      "At iterate    0    f=  6.15942D+06    |proj g|=  7.62488D+06\n"
     ]
    },
    {
     "name": "stderr",
     "output_type": "stream",
     "text": [
      " This problem is unconstrained.\n"
     ]
    },
    {
     "name": "stdout",
     "output_type": "stream",
     "text": [
      "\n",
      "At iterate    1    f=  2.21855D+06    |proj g|=  3.01774D+06\n",
      "\n",
      "At iterate    2    f=  1.99650D+06    |proj g|=  2.51184D+06\n",
      "\n",
      "At iterate    3    f=  1.74668D+06    |proj g|=  3.09021D+05\n",
      "\n",
      "At iterate    4    f=  1.73980D+06    |proj g|=  2.97677D+05\n",
      "\n",
      "At iterate    5    f=  1.73452D+06    |proj g|=  1.87682D+05\n",
      "Iteration 5: Checkpoint saved to logs/mod_allo_test__15__5.jb\n",
      "\n",
      "At iterate    6    f=  1.73291D+06    |proj g|=  3.35968D+04\n",
      "\n",
      "At iterate    7    f=  1.73285D+06    |proj g|=  1.47412D+04\n",
      "\n",
      "At iterate    8    f=  1.73284D+06    |proj g|=  5.31171D+03\n",
      "\n",
      "At iterate    9    f=  1.73284D+06    |proj g|=  4.78486D+03\n",
      "\n",
      "At iterate   10    f=  1.73283D+06    |proj g|=  6.19181D+03\n",
      "Iteration 10: Checkpoint saved to logs/mod_allo_test__15__10.jb\n",
      "\n",
      "At iterate   11    f=  1.73282D+06    |proj g|=  6.57211D+03\n",
      "\n",
      "At iterate   12    f=  1.73282D+06    |proj g|=  1.53407D+03\n",
      "\n",
      "At iterate   13    f=  1.73282D+06    |proj g|=  7.57398D+01\n",
      "\n",
      "At iterate   14    f=  1.73282D+06    |proj g|=  7.07805D+00\n",
      "\n",
      "           * * *\n",
      "\n",
      "Tit   = total number of iterations\n",
      "Tnf   = total number of function evaluations\n",
      "Tnint = total number of segments explored during Cauchy searches\n",
      "Skip  = number of BFGS updates skipped\n",
      "Nact  = number of active bounds at final generalized Cauchy point\n",
      "Projg = norm of the final projected gradient\n",
      "F     = final function value\n",
      "\n",
      "           * * *\n",
      "\n",
      "   N    Tit     Tnf  Tnint  Skip  Nact     Projg        F\n",
      "    6     14     16      1     0     0   7.078D+00   1.733D+06\n",
      "  F =   1732819.3808486375     \n",
      "\n",
      "CONVERGENCE: REL_REDUCTION_OF_F_<=_FACTR*EPSMCH             \n"
     ]
    }
   ],
   "source": [
    "_ = orig_sse_mod.fit2(scale_df,checkpoint_filename=f'mod_allo_test.jb', parallel=False, parallel_n_jobs=4)"
   ]
  },
  {
   "cell_type": "code",
   "execution_count": 20,
   "metadata": {},
   "outputs": [
    {
     "data": {
      "text/plain": [
       "array([0.4287569 , 1.39939321, 0.91662759, 0.73975228, 0.96799804,\n",
       "       1.03305876])"
      ]
     },
     "execution_count": 20,
     "metadata": {},
     "output_type": "execute_result"
    }
   ],
   "source": [
    "np.exp(_.fit_result_['x'])"
   ]
  },
  {
   "cell_type": "code",
   "execution_count": 25,
   "metadata": {},
   "outputs": [
    {
     "data": {
      "text/plain": [
       "array([0.42875754, 1.39939336, 0.91662751, 0.73975127, 1.06721238])"
      ]
     },
     "execution_count": 25,
     "metadata": {},
     "output_type": "execute_result"
    }
   ],
   "source": [
    "np.exp(_.fit_result_['x'])"
   ]
  },
  {
   "cell_type": "code",
   "execution_count": 19,
   "metadata": {},
   "outputs": [
    {
     "name": "stdout",
     "output_type": "stream",
     "text": [
      "RUNNING THE L-BFGS-B CODE\n",
      "\n",
      "           * * *\n",
      "\n",
      "Machine precision = 2.220D-16\n",
      " N =            1     M =           10\n",
      "\n",
      "At X0         0 variables are exactly at the bounds\n",
      "\n",
      "At iterate    0    f=  2.24543D+06    |proj g|=  2.89945D+06\n"
     ]
    },
    {
     "name": "stderr",
     "output_type": "stream",
     "text": [
      " This problem is unconstrained.\n"
     ]
    },
    {
     "name": "stdout",
     "output_type": "stream",
     "text": [
      "\n",
      "At iterate    1    f=  1.85852D+06    |proj g|=  2.23860D+05\n",
      "\n",
      "At iterate    2    f=  1.85649D+06    |proj g|=  2.28781D+04\n",
      "\n",
      "At iterate    3    f=  1.85647D+06    |proj g|=  1.46055D+02\n",
      "\n",
      "At iterate    4    f=  1.85647D+06    |proj g|=  4.65661D-02\n",
      "\n",
      "           * * *\n",
      "\n",
      "Tit   = total number of iterations\n",
      "Tnf   = total number of function evaluations\n",
      "Tnint = total number of segments explored during Cauchy searches\n",
      "Skip  = number of BFGS updates skipped\n",
      "Nact  = number of active bounds at final generalized Cauchy point\n",
      "Projg = norm of the final projected gradient\n",
      "F     = final function value\n",
      "\n",
      "           * * *\n",
      "\n",
      "   N    Tit     Tnf  Tnint  Skip  Nact     Projg        F\n",
      "    1      4      6      1     0     0   4.657D-02   1.856D+06\n",
      "  F =   1856467.4158051827     \n",
      "\n",
      "CONVERGENCE: REL_REDUCTION_OF_F_<=_FACTR*EPSMCH             \n"
     ]
    }
   ],
   "source": [
    "_ = mods['see_konly'].fit2(scale_df,checkpoint_filename=f'mod_see_konly_test.jb', parallel=True, parallel_n_jobs=4)"
   ]
  },
  {
   "cell_type": "code",
   "execution_count": 20,
   "metadata": {},
   "outputs": [
    {
     "data": {
      "text/html": [
       "<div>\n",
       "<style scoped>\n",
       "    .dataframe tbody tr th:only-of-type {\n",
       "        vertical-align: middle;\n",
       "    }\n",
       "\n",
       "    .dataframe tbody tr th {\n",
       "        vertical-align: top;\n",
       "    }\n",
       "\n",
       "    .dataframe thead th {\n",
       "        text-align: right;\n",
       "    }\n",
       "</style>\n",
       "<table border=\"1\" class=\"dataframe\">\n",
       "  <thead>\n",
       "    <tr style=\"text-align: right;\">\n",
       "      <th></th>\n",
       "      <th>model_coeff</th>\n",
       "      <th>model_coeff_dep_var</th>\n",
       "      <th>population_coeff</th>\n",
       "      <th>init_val</th>\n",
       "      <th>allometric</th>\n",
       "      <th>allometric_norm_value</th>\n",
       "      <th>subject_level_intercept</th>\n",
       "    </tr>\n",
       "  </thead>\n",
       "  <tbody>\n",
       "    <tr>\n",
       "      <th>0</th>\n",
       "      <td>k</td>\n",
       "      <td>None</td>\n",
       "      <td>True</td>\n",
       "      <td>-1.203973</td>\n",
       "      <td>False</td>\n",
       "      <td>None</td>\n",
       "      <td>False</td>\n",
       "    </tr>\n",
       "  </tbody>\n",
       "</table>\n",
       "</div>"
      ],
      "text/plain": [
       "  model_coeff model_coeff_dep_var  population_coeff  init_val  allometric  \\\n",
       "0           k                None              True -1.203973       False   \n",
       "\n",
       "  allometric_norm_value  subject_level_intercept  \n",
       "0                  None                    False  "
      ]
     },
     "execution_count": 20,
     "metadata": {},
     "output_type": "execute_result"
    }
   ],
   "source": [
    "_.init_vals_pd"
   ]
  },
  {
   "cell_type": "code",
   "execution_count": 21,
   "metadata": {},
   "outputs": [
    {
     "name": "stdout",
     "output_type": "stream",
     "text": [
      "RUNNING THE L-BFGS-B CODE\n",
      "\n",
      "           * * *\n",
      "\n",
      "Machine precision = 2.220D-16\n",
      " N =            1     M =           10\n",
      "\n",
      "At X0         0 variables are exactly at the bounds\n",
      "\n",
      "At iterate    0    f=  2.24543D+06    |proj g|=  2.89945D+06\n"
     ]
    },
    {
     "name": "stderr",
     "output_type": "stream",
     "text": [
      " This problem is unconstrained.\n"
     ]
    },
    {
     "name": "stdout",
     "output_type": "stream",
     "text": [
      "\n",
      "At iterate    1    f=  1.85852D+06    |proj g|=  2.23860D+05\n",
      "\n",
      "At iterate    2    f=  1.85649D+06    |proj g|=  2.28781D+04\n",
      "\n",
      "At iterate    3    f=  1.85647D+06    |proj g|=  1.46055D+02\n",
      "\n",
      "At iterate    4    f=  1.85647D+06    |proj g|=  4.65661D-02\n",
      "\n",
      "           * * *\n",
      "\n",
      "Tit   = total number of iterations\n",
      "Tnf   = total number of function evaluations\n",
      "Tnint = total number of segments explored during Cauchy searches\n",
      "Skip  = number of BFGS updates skipped\n",
      "Nact  = number of active bounds at final generalized Cauchy point\n",
      "Projg = norm of the final projected gradient\n",
      "F     = final function value\n",
      "\n",
      "           * * *\n",
      "\n",
      "   N    Tit     Tnf  Tnint  Skip  Nact     Projg        F\n",
      "    1      4      6      1     0     0   4.657D-02   1.856D+06\n",
      "  F =   1856467.4158051827     \n",
      "\n",
      "CONVERGENCE: REL_REDUCTION_OF_F_<=_FACTR*EPSMCH             \n"
     ]
    }
   ],
   "source": [
    "_ = mods['see_konly'].fit2(scale_df,checkpoint_filename=f'mod_see_konly_test.jb', parallel=False, parallel_n_jobs=4)"
   ]
  },
  {
   "cell_type": "code",
   "execution_count": 21,
   "metadata": {},
   "outputs": [
    {
     "data": {
      "text/plain": [
       "array([0.23143493])"
      ]
     },
     "execution_count": 21,
     "metadata": {},
     "output_type": "execute_result"
    }
   ],
   "source": [
    "np.exp(_.fit_result_['x'])"
   ]
  },
  {
   "cell_type": "code",
   "execution_count": 26,
   "metadata": {},
   "outputs": [
    {
     "data": {
      "text/plain": [
       "array([275.        , 244.        , 151.        , ...,   1.70000005,\n",
       "         1.41999996,   0.85100001])"
      ]
     },
     "execution_count": 26,
     "metadata": {},
     "output_type": "execute_result"
    }
   ],
   "source": [
    "_.y"
   ]
  },
  {
   "cell_type": "code",
   "execution_count": 23,
   "metadata": {},
   "outputs": [
    {
     "data": {
      "text/plain": [
       "array([2.75000000e+02, 2.18179397e+02, 1.73074712e+02, ...,\n",
       "       6.19005125e-03, 2.38746008e-05, 9.26416715e-08])"
      ]
     },
     "execution_count": 23,
     "metadata": {},
     "output_type": "execute_result"
    }
   ],
   "source": [
    "_.predict2(scale_df)"
   ]
  },
  {
   "cell_type": "code",
   "execution_count": 31,
   "metadata": {},
   "outputs": [
    {
     "data": {
      "text/plain": [
       "array([18.14322407, 19.60637571])"
      ]
     },
     "execution_count": 31,
     "metadata": {},
     "output_type": "execute_result"
    }
   ],
   "source": [
    "_.fit_result_['x']"
   ]
  },
  {
   "cell_type": "code",
   "execution_count": 17,
   "metadata": {},
   "outputs": [
    {
     "name": "stderr",
     "output_type": "stream",
     "text": [
      " This problem is unconstrained.\n"
     ]
    },
    {
     "name": "stdout",
     "output_type": "stream",
     "text": [
      "RUNNING THE L-BFGS-B CODE\n",
      "\n",
      "           * * *\n",
      "\n",
      "Machine precision = 2.220D-16\n",
      " N =            1     M =           10\n",
      "\n",
      "At X0         0 variables are exactly at the bounds\n",
      "\n",
      "At iterate    0    f=  2.24543D+06    |proj g|=  2.89945D+06\n",
      "\n",
      "At iterate    1    f=  1.85852D+06    |proj g|=  2.23860D+05\n",
      "\n",
      "At iterate    2    f=  1.85649D+06    |proj g|=  2.28781D+04\n",
      "\n",
      "At iterate    3    f=  1.85647D+06    |proj g|=  1.46055D+02\n",
      "\n",
      "At iterate    4    f=  1.85647D+06    |proj g|=  4.65661D-02\n",
      "\n",
      "           * * *\n",
      "\n",
      "Tit   = total number of iterations\n",
      "Tnf   = total number of function evaluations\n",
      "Tnint = total number of segments explored during Cauchy searches\n",
      "Skip  = number of BFGS updates skipped\n",
      "Nact  = number of active bounds at final generalized Cauchy point\n",
      "Projg = norm of the final projected gradient\n",
      "F     = final function value\n",
      "\n",
      "           * * *\n",
      "\n",
      "   N    Tit     Tnf  Tnint  Skip  Nact     Projg        F\n",
      "    1      4      6      1     0     0   4.657D-02   1.856D+06\n",
      "  F =   1856467.4158051827     \n",
      "\n",
      "CONVERGENCE: REL_REDUCTION_OF_F_<=_FACTR*EPSMCH             \n",
      "RUNNING THE L-BFGS-B CODE\n",
      "\n",
      "           * * *\n",
      "\n",
      "Machine precision = 2.220D-16\n",
      " N =            1     M =           10\n",
      "\n",
      "At X0         0 variables are exactly at the bounds\n",
      "\n",
      "At iterate    0    f=  7.46898D+06    |proj g|=  8.03953D+06\n"
     ]
    },
    {
     "name": "stderr",
     "output_type": "stream",
     "text": [
      " This problem is unconstrained.\n"
     ]
    },
    {
     "name": "stdout",
     "output_type": "stream",
     "text": [
      "\n",
      "At iterate    1    f=  1.94154D+06    |proj g|=  1.40607D+06\n",
      "\n",
      "At iterate    2    f=  1.91040D+06    |proj g|=  1.17545D+06\n",
      "\n",
      "At iterate    3    f=  1.85656D+06    |proj g|=  4.69666D+04\n",
      "\n",
      "At iterate    4    f=  1.85647D+06    |proj g|=  1.42669D+03\n",
      "\n",
      "At iterate    5    f=  1.85647D+06    |proj g|=  2.02563D+00\n",
      "Iteration 5: Checkpoint saved to logs/see_konly_no_init_test__5.jb\n",
      "\n",
      "At iterate    6    f=  1.85647D+06    |proj g|=  1.39698D-01\n",
      "\n",
      "           * * *\n",
      "\n",
      "Tit   = total number of iterations\n",
      "Tnf   = total number of function evaluations\n",
      "Tnint = total number of segments explored during Cauchy searches\n",
      "Skip  = number of BFGS updates skipped\n",
      "Nact  = number of active bounds at final generalized Cauchy point\n",
      "Projg = norm of the final projected gradient\n",
      "F     = final function value\n",
      "\n",
      "           * * *\n",
      "\n",
      "   N    Tit     Tnf  Tnint  Skip  Nact     Projg        F\n",
      "    1      6      7      1     0     0   1.397D-01   1.856D+06\n",
      "  F =   1856467.4158051834     \n",
      "\n",
      "CONVERGENCE: REL_REDUCTION_OF_F_<=_FACTR*EPSMCH             \n",
      "RUNNING THE L-BFGS-B CODE\n",
      "\n",
      "           * * *\n",
      "\n",
      "Machine precision = 2.220D-16\n",
      " N =            2     M =           10\n",
      "\n",
      "At X0         0 variables are exactly at the bounds\n",
      "\n",
      "At iterate    0    f=  1.26788D+08    |proj g|=  1.19632D+07\n"
     ]
    },
    {
     "name": "stderr",
     "output_type": "stream",
     "text": [
      " This problem is unconstrained.\n"
     ]
    },
    {
     "name": "stdout",
     "output_type": "stream",
     "text": [
      "\n",
      "At iterate    1    f=  3.90891D+07    |proj g|=  7.92715D+06\n",
      "\n",
      "At iterate    2    f=  3.90390D+07    |proj g|=  7.22444D+06\n"
     ]
    },
    {
     "name": "stderr",
     "output_type": "stream",
     "text": [
      "\n",
      " Bad direction in the line search;\n",
      "   refresh the lbfgs memory and restart the iteration.\n",
      "/workspaces/miniconda/PK-Analysis/utils.py:482: RuntimeWarning: overflow encountered in exp\n",
      "  out = np.exp((X @ theta) + pop_coeff) + 1e-6\n",
      "/opt/conda/envs/pySunODE/lib/python3.12/site-packages/scipy/integrate/_ivp/common.py:125: RuntimeWarning: invalid value encountered in multiply\n",
      "  y1 = y0 + h0 * direction * f0\n",
      "/opt/conda/envs/pySunODE/lib/python3.12/site-packages/scipy/integrate/_ivp/common.py:125: RuntimeWarning: invalid value encountered in multiply\n",
      "  y1 = y0 + h0 * direction * f0\n",
      "/opt/conda/envs/pySunODE/lib/python3.12/site-packages/scipy/integrate/_ivp/common.py:125: RuntimeWarning: invalid value encountered in multiply\n",
      "  y1 = y0 + h0 * direction * f0\n",
      "/opt/conda/envs/pySunODE/lib/python3.12/site-packages/scipy/integrate/_ivp/common.py:125: RuntimeWarning: invalid value encountered in multiply\n",
      "  y1 = y0 + h0 * direction * f0\n",
      "/opt/conda/envs/pySunODE/lib/python3.12/site-packages/scipy/integrate/_ivp/common.py:347: RuntimeWarning: invalid value encountered in subtract\n",
      "  diff = f_new - f[:, None]\n",
      "/opt/conda/envs/pySunODE/lib/python3.12/site-packages/scipy/integrate/_ivp/common.py:347: RuntimeWarning: invalid value encountered in subtract\n",
      "  diff = f_new - f[:, None]\n",
      "/opt/conda/envs/pySunODE/lib/python3.12/site-packages/scipy/integrate/_ivp/common.py:347: RuntimeWarning: invalid value encountered in subtract\n",
      "  diff = f_new - f[:, None]\n",
      "/opt/conda/envs/pySunODE/lib/python3.12/site-packages/scipy/integrate/_ivp/common.py:347: RuntimeWarning: invalid value encountered in subtract\n",
      "  diff = f_new - f[:, None]\n",
      "/opt/conda/envs/pySunODE/lib/python3.12/site-packages/scipy/integrate/_ivp/radau.py:457: RuntimeWarning: overflow encountered in scalar divide\n",
      "  LU_real = self.lu(MU_REAL / h * self.I - J)\n",
      "/opt/conda/envs/pySunODE/lib/python3.12/site-packages/scipy/integrate/_ivp/radau.py:457: RuntimeWarning: overflow encountered in scalar divide\n",
      "  LU_real = self.lu(MU_REAL / h * self.I - J)\n",
      "/opt/conda/envs/pySunODE/lib/python3.12/site-packages/scipy/integrate/_ivp/radau.py:457: RuntimeWarning: overflow encountered in scalar divide\n",
      "  LU_real = self.lu(MU_REAL / h * self.I - J)\n",
      "/opt/conda/envs/pySunODE/lib/python3.12/site-packages/scipy/integrate/_ivp/radau.py:457: RuntimeWarning: overflow encountered in scalar divide\n",
      "  LU_real = self.lu(MU_REAL / h * self.I - J)\n",
      "/opt/conda/envs/pySunODE/lib/python3.12/site-packages/scipy/integrate/_ivp/common.py:125: RuntimeWarning: invalid value encountered in multiply\n",
      "  y1 = y0 + h0 * direction * f0\n",
      "/opt/conda/envs/pySunODE/lib/python3.12/site-packages/scipy/integrate/_ivp/common.py:347: RuntimeWarning: invalid value encountered in subtract\n",
      "  diff = f_new - f[:, None]\n",
      "/opt/conda/envs/pySunODE/lib/python3.12/site-packages/scipy/integrate/_ivp/radau.py:457: RuntimeWarning: overflow encountered in scalar divide\n",
      "  LU_real = self.lu(MU_REAL / h * self.I - J)\n",
      "/opt/conda/envs/pySunODE/lib/python3.12/site-packages/scipy/integrate/_ivp/common.py:125: RuntimeWarning: invalid value encountered in multiply\n",
      "  y1 = y0 + h0 * direction * f0\n",
      "/opt/conda/envs/pySunODE/lib/python3.12/site-packages/scipy/integrate/_ivp/common.py:125: RuntimeWarning: invalid value encountered in multiply\n",
      "  y1 = y0 + h0 * direction * f0\n",
      "/opt/conda/envs/pySunODE/lib/python3.12/site-packages/scipy/integrate/_ivp/common.py:347: RuntimeWarning: invalid value encountered in subtract\n",
      "  diff = f_new - f[:, None]\n",
      "/opt/conda/envs/pySunODE/lib/python3.12/site-packages/scipy/integrate/_ivp/common.py:347: RuntimeWarning: invalid value encountered in subtract\n",
      "  diff = f_new - f[:, None]\n",
      "/opt/conda/envs/pySunODE/lib/python3.12/site-packages/scipy/integrate/_ivp/radau.py:457: RuntimeWarning: overflow encountered in scalar divide\n",
      "  LU_real = self.lu(MU_REAL / h * self.I - J)\n",
      "/opt/conda/envs/pySunODE/lib/python3.12/site-packages/scipy/integrate/_ivp/radau.py:457: RuntimeWarning: overflow encountered in scalar divide\n",
      "  LU_real = self.lu(MU_REAL / h * self.I - J)\n",
      "/opt/conda/envs/pySunODE/lib/python3.12/site-packages/scipy/integrate/_ivp/common.py:125: RuntimeWarning: invalid value encountered in multiply\n",
      "  y1 = y0 + h0 * direction * f0\n",
      "/opt/conda/envs/pySunODE/lib/python3.12/site-packages/scipy/integrate/_ivp/common.py:347: RuntimeWarning: invalid value encountered in subtract\n",
      "  diff = f_new - f[:, None]\n",
      "/opt/conda/envs/pySunODE/lib/python3.12/site-packages/scipy/integrate/_ivp/radau.py:457: RuntimeWarning: overflow encountered in scalar divide\n",
      "  LU_real = self.lu(MU_REAL / h * self.I - J)\n"
     ]
    },
    {
     "ename": "ValueError",
     "evalue": "array must not contain infs or NaNs",
     "output_type": "error",
     "traceback": [
      "\u001b[0;31m---------------------------------------------------------------------------\u001b[0m",
      "\u001b[0;31m_RemoteTraceback\u001b[0m                          Traceback (most recent call last)",
      "\u001b[0;31m_RemoteTraceback\u001b[0m: \n\"\"\"\nTraceback (most recent call last):\n  File \"/opt/conda/envs/pySunODE/lib/python3.12/site-packages/joblib/externals/loky/process_executor.py\", line 463, in _process_worker\n    r = call_item()\n        ^^^^^^^^^^^\n  File \"/opt/conda/envs/pySunODE/lib/python3.12/site-packages/joblib/externals/loky/process_executor.py\", line 291, in __call__\n    return self.fn(*self.args, **self.kwargs)\n           ^^^^^^^^^^^^^^^^^^^^^^^^^^^^^^^^^^\n  File \"/opt/conda/envs/pySunODE/lib/python3.12/site-packages/joblib/parallel.py\", line 598, in __call__\n    return [func(*args, **kwargs)\n            ^^^^^^^^^^^^^^^^^^^^^\n  File \"/workspaces/miniconda/PK-Analysis/utils.py\", line 493, in _solve_ivp_parallel\n    return solve_ivp(fun,\n           ^^^^^^^^^^^^^^\n  File \"/opt/conda/envs/pySunODE/lib/python3.12/site-packages/scipy/integrate/_ivp/ivp.py\", line 655, in solve_ivp\n    message = solver.step()\n              ^^^^^^^^^^^^^\n  File \"/opt/conda/envs/pySunODE/lib/python3.12/site-packages/scipy/integrate/_ivp/base.py\", line 197, in step\n    success, message = self._step_impl()\n                       ^^^^^^^^^^^^^^^^^\n  File \"/opt/conda/envs/pySunODE/lib/python3.12/site-packages/scipy/integrate/_ivp/radau.py\", line 457, in _step_impl\n    LU_real = self.lu(MU_REAL / h * self.I - J)\n              ^^^^^^^^^^^^^^^^^^^^^^^^^^^^^^^^^\n  File \"/opt/conda/envs/pySunODE/lib/python3.12/site-packages/scipy/integrate/_ivp/radau.py\", line 332, in lu\n    return lu_factor(A, overwrite_a=True)\n           ^^^^^^^^^^^^^^^^^^^^^^^^^^^^^^\n  File \"/opt/conda/envs/pySunODE/lib/python3.12/site-packages/scipy/linalg/_decomp_lu.py\", line 106, in lu_factor\n    a1 = asarray_chkfinite(a)\n         ^^^^^^^^^^^^^^^^^^^^\n  File \"/opt/conda/envs/pySunODE/lib/python3.12/site-packages/numpy/lib/function_base.py\", line 630, in asarray_chkfinite\n    raise ValueError(\nValueError: array must not contain infs or NaNs\n\"\"\"",
      "\nThe above exception was the direct cause of the following exception:\n",
      "\u001b[0;31mValueError\u001b[0m                                Traceback (most recent call last)",
      "Cell \u001b[0;32mIn[17], line 2\u001b[0m\n\u001b[1;32m      1\u001b[0m \u001b[38;5;28;01mfor\u001b[39;00m m_key \u001b[38;5;129;01min\u001b[39;00m mods:\n\u001b[0;32m----> 2\u001b[0m     mods[m_key] \u001b[38;5;241m=\u001b[39m \u001b[43mmods\u001b[49m\u001b[43m[\u001b[49m\u001b[43mm_key\u001b[49m\u001b[43m]\u001b[49m\u001b[38;5;241;43m.\u001b[39;49m\u001b[43mfit2\u001b[49m\u001b[43m(\u001b[49m\u001b[43mscale_df\u001b[49m\u001b[43m,\u001b[49m\u001b[43mcheckpoint_filename\u001b[49m\u001b[38;5;241;43m=\u001b[39;49m\u001b[38;5;124;43mf\u001b[39;49m\u001b[38;5;124;43m'\u001b[39;49m\u001b[38;5;132;43;01m{\u001b[39;49;00m\u001b[43mm_key\u001b[49m\u001b[38;5;132;43;01m}\u001b[39;49;00m\u001b[38;5;124;43m_test.jb\u001b[39;49m\u001b[38;5;124;43m'\u001b[39;49m\u001b[43m,\u001b[49m\u001b[43m \u001b[49m\u001b[43mparallel\u001b[49m\u001b[38;5;241;43m=\u001b[39;49m\u001b[38;5;28;43;01mTrue\u001b[39;49;00m\u001b[43m,\u001b[49m\u001b[43m \u001b[49m\u001b[43mparallel_n_jobs\u001b[49m\u001b[38;5;241;43m=\u001b[39;49m\u001b[38;5;241;43m4\u001b[39;49m\u001b[43m)\u001b[49m\n",
      "File \u001b[0;32m/workspaces/miniconda/PK-Analysis/utils.py:654\u001b[0m, in \u001b[0;36mOneCompartmentModel.fit2\u001b[0;34m(self, data, parallel, parallel_n_jobs, warm_start, checkpoint_filename)\u001b[0m\n\u001b[1;32m    652\u001b[0m     init_params \u001b[38;5;241m=\u001b[39m pop_coeffs\u001b[38;5;241m.\u001b[39mvalues\u001b[38;5;241m.\u001b[39mflatten()\u001b[38;5;241m.\u001b[39mastype(np\u001b[38;5;241m.\u001b[39mfloat64)\n\u001b[1;32m    653\u001b[0m objective_function \u001b[38;5;241m=\u001b[39m partial(\u001b[38;5;28mself\u001b[39m\u001b[38;5;241m.\u001b[39m_objective_function2, parallel \u001b[38;5;241m=\u001b[39m parallel, parallel_n_jobs \u001b[38;5;241m=\u001b[39m parallel_n_jobs)\n\u001b[0;32m--> 654\u001b[0m \u001b[38;5;28mself\u001b[39m\u001b[38;5;241m.\u001b[39mfit_result_ \u001b[38;5;241m=\u001b[39m \u001b[43moptimize_with_checkpoint_joblib\u001b[49m\u001b[43m(\u001b[49m\u001b[43mobjective_function\u001b[49m\u001b[43m,\u001b[49m\n\u001b[1;32m    655\u001b[0m \u001b[43m                                                   \u001b[49m\u001b[43minit_params\u001b[49m\u001b[43m,\u001b[49m\n\u001b[1;32m    656\u001b[0m \u001b[43m                                                   \u001b[49m\u001b[43mn_checkpoint\u001b[49m\u001b[38;5;241;43m=\u001b[39;49m\u001b[38;5;241;43m5\u001b[39;49m\u001b[43m,\u001b[49m\n\u001b[1;32m    657\u001b[0m \u001b[43m                                                   \u001b[49m\u001b[43mcheckpoint_filename\u001b[49m\u001b[38;5;241;43m=\u001b[39;49m\u001b[43mcheckpoint_filename\u001b[49m\u001b[43m,\u001b[49m\n\u001b[1;32m    658\u001b[0m \u001b[43m                                                   \u001b[49m\u001b[43margs\u001b[49m\u001b[38;5;241;43m=\u001b[39;49m\u001b[43m(\u001b[49m\u001b[43mbeta_data\u001b[49m\u001b[43m,\u001b[49m\u001b[43m)\u001b[49m\u001b[43m,\u001b[49m\n\u001b[1;32m    659\u001b[0m \u001b[43m                                                   \u001b[49m\u001b[43mwarm_start\u001b[49m\u001b[38;5;241;43m=\u001b[39;49m\u001b[43mwarm_start\u001b[49m\u001b[43m,\u001b[49m\n\u001b[1;32m    660\u001b[0m \u001b[43m                                                   \u001b[49m\u001b[43mtol\u001b[49m\u001b[43m \u001b[49m\u001b[38;5;241;43m=\u001b[39;49m\u001b[43m \u001b[49m\u001b[38;5;28;43mself\u001b[39;49m\u001b[38;5;241;43m.\u001b[39;49m\u001b[43moptimzer_tol\u001b[49m\u001b[43m,\u001b[49m\n\u001b[1;32m    661\u001b[0m \u001b[43m                                                   \u001b[49m\u001b[43mbounds\u001b[49m\u001b[38;5;241;43m=\u001b[39;49m\u001b[38;5;28;43mself\u001b[39;49m\u001b[38;5;241;43m.\u001b[39;49m\u001b[43mbounds\u001b[49m\n\u001b[1;32m    662\u001b[0m \u001b[43m                                                   \u001b[49m\u001b[43m)\u001b[49m\n\u001b[1;32m    663\u001b[0m \u001b[38;5;28;01mreturn\u001b[39;00m deepcopy(\u001b[38;5;28mself\u001b[39m)\n",
      "File \u001b[0;32m/workspaces/miniconda/PK-Analysis/utils.py:963\u001b[0m, in \u001b[0;36moptimize_with_checkpoint_joblib\u001b[0;34m(func, x0, n_checkpoint, checkpoint_filename, warm_start, tol, *args, **kwargs)\u001b[0m\n\u001b[1;32m    959\u001b[0m         user_callback(xk)\n\u001b[1;32m    961\u001b[0m     kwargs[\u001b[38;5;124m'\u001b[39m\u001b[38;5;124mcallback\u001b[39m\u001b[38;5;124m'\u001b[39m] \u001b[38;5;241m=\u001b[39m combined_callback\n\u001b[0;32m--> 963\u001b[0m result \u001b[38;5;241m=\u001b[39m \u001b[43mminimize\u001b[49m\u001b[43m(\u001b[49m\u001b[43mfunc\u001b[49m\u001b[43m,\u001b[49m\u001b[43m \u001b[49m\u001b[43mx0\u001b[49m\u001b[43m,\u001b[49m\u001b[43m \u001b[49m\u001b[38;5;241;43m*\u001b[39;49m\u001b[43margs\u001b[49m\u001b[43m,\u001b[49m\u001b[43m \u001b[49m\u001b[43mtol\u001b[49m\u001b[43m \u001b[49m\u001b[38;5;241;43m=\u001b[39;49m\u001b[43m \u001b[49m\u001b[43mtol\u001b[49m\u001b[43m,\u001b[49m\u001b[43m \u001b[49m\u001b[43moptions\u001b[49m\u001b[38;5;241;43m=\u001b[39;49m\u001b[43m \u001b[49m\u001b[43m{\u001b[49m\u001b[38;5;124;43m'\u001b[39;49m\u001b[38;5;124;43mdisp\u001b[39;49m\u001b[38;5;124;43m'\u001b[39;49m\u001b[43m:\u001b[49m\u001b[38;5;28;43;01mTrue\u001b[39;49;00m\u001b[43m}\u001b[49m\u001b[43m,\u001b[49m\u001b[43m \u001b[49m\u001b[38;5;241;43m*\u001b[39;49m\u001b[38;5;241;43m*\u001b[39;49m\u001b[43mkwargs\u001b[49m\u001b[43m,\u001b[49m\u001b[43m \u001b[49m\u001b[43m)\u001b[49m\n\u001b[1;32m    965\u001b[0m \u001b[38;5;66;03m# Remove checkpoint file at end.\u001b[39;00m\n\u001b[1;32m    966\u001b[0m \u001b[38;5;66;03m# try:\u001b[39;00m\n\u001b[1;32m    967\u001b[0m \u001b[38;5;66;03m#    os.remove(checkpoint_filename)\u001b[39;00m\n\u001b[1;32m    968\u001b[0m \u001b[38;5;66;03m# except:\u001b[39;00m\n\u001b[1;32m    969\u001b[0m \u001b[38;5;66;03m#    pass\u001b[39;00m\n\u001b[1;32m    971\u001b[0m \u001b[38;5;28;01mreturn\u001b[39;00m result\n",
      "File \u001b[0;32m/opt/conda/envs/pySunODE/lib/python3.12/site-packages/scipy/optimize/_minimize.py:731\u001b[0m, in \u001b[0;36mminimize\u001b[0;34m(fun, x0, args, method, jac, hess, hessp, bounds, constraints, tol, callback, options)\u001b[0m\n\u001b[1;32m    728\u001b[0m     res \u001b[38;5;241m=\u001b[39m _minimize_newtoncg(fun, x0, args, jac, hess, hessp, callback,\n\u001b[1;32m    729\u001b[0m                              \u001b[38;5;241m*\u001b[39m\u001b[38;5;241m*\u001b[39moptions)\n\u001b[1;32m    730\u001b[0m \u001b[38;5;28;01melif\u001b[39;00m meth \u001b[38;5;241m==\u001b[39m \u001b[38;5;124m'\u001b[39m\u001b[38;5;124ml-bfgs-b\u001b[39m\u001b[38;5;124m'\u001b[39m:\n\u001b[0;32m--> 731\u001b[0m     res \u001b[38;5;241m=\u001b[39m \u001b[43m_minimize_lbfgsb\u001b[49m\u001b[43m(\u001b[49m\u001b[43mfun\u001b[49m\u001b[43m,\u001b[49m\u001b[43m \u001b[49m\u001b[43mx0\u001b[49m\u001b[43m,\u001b[49m\u001b[43m \u001b[49m\u001b[43margs\u001b[49m\u001b[43m,\u001b[49m\u001b[43m \u001b[49m\u001b[43mjac\u001b[49m\u001b[43m,\u001b[49m\u001b[43m \u001b[49m\u001b[43mbounds\u001b[49m\u001b[43m,\u001b[49m\n\u001b[1;32m    732\u001b[0m \u001b[43m                           \u001b[49m\u001b[43mcallback\u001b[49m\u001b[38;5;241;43m=\u001b[39;49m\u001b[43mcallback\u001b[49m\u001b[43m,\u001b[49m\u001b[43m \u001b[49m\u001b[38;5;241;43m*\u001b[39;49m\u001b[38;5;241;43m*\u001b[39;49m\u001b[43moptions\u001b[49m\u001b[43m)\u001b[49m\n\u001b[1;32m    733\u001b[0m \u001b[38;5;28;01melif\u001b[39;00m meth \u001b[38;5;241m==\u001b[39m \u001b[38;5;124m'\u001b[39m\u001b[38;5;124mtnc\u001b[39m\u001b[38;5;124m'\u001b[39m:\n\u001b[1;32m    734\u001b[0m     res \u001b[38;5;241m=\u001b[39m _minimize_tnc(fun, x0, args, jac, bounds, callback\u001b[38;5;241m=\u001b[39mcallback,\n\u001b[1;32m    735\u001b[0m                         \u001b[38;5;241m*\u001b[39m\u001b[38;5;241m*\u001b[39moptions)\n",
      "File \u001b[0;32m/opt/conda/envs/pySunODE/lib/python3.12/site-packages/scipy/optimize/_lbfgsb_py.py:407\u001b[0m, in \u001b[0;36m_minimize_lbfgsb\u001b[0;34m(fun, x0, args, jac, bounds, disp, maxcor, ftol, gtol, eps, maxfun, maxiter, iprint, callback, maxls, finite_diff_rel_step, **unknown_options)\u001b[0m\n\u001b[1;32m    401\u001b[0m task_str \u001b[38;5;241m=\u001b[39m task\u001b[38;5;241m.\u001b[39mtobytes()\n\u001b[1;32m    402\u001b[0m \u001b[38;5;28;01mif\u001b[39;00m task_str\u001b[38;5;241m.\u001b[39mstartswith(\u001b[38;5;124mb\u001b[39m\u001b[38;5;124m'\u001b[39m\u001b[38;5;124mFG\u001b[39m\u001b[38;5;124m'\u001b[39m):\n\u001b[1;32m    403\u001b[0m     \u001b[38;5;66;03m# The minimization routine wants f and g at the current x.\u001b[39;00m\n\u001b[1;32m    404\u001b[0m     \u001b[38;5;66;03m# Note that interruptions due to maxfun are postponed\u001b[39;00m\n\u001b[1;32m    405\u001b[0m     \u001b[38;5;66;03m# until the completion of the current minimization iteration.\u001b[39;00m\n\u001b[1;32m    406\u001b[0m     \u001b[38;5;66;03m# Overwrite f and g:\u001b[39;00m\n\u001b[0;32m--> 407\u001b[0m     f, g \u001b[38;5;241m=\u001b[39m \u001b[43mfunc_and_grad\u001b[49m\u001b[43m(\u001b[49m\u001b[43mx\u001b[49m\u001b[43m)\u001b[49m\n\u001b[1;32m    408\u001b[0m \u001b[38;5;28;01melif\u001b[39;00m task_str\u001b[38;5;241m.\u001b[39mstartswith(\u001b[38;5;124mb\u001b[39m\u001b[38;5;124m'\u001b[39m\u001b[38;5;124mNEW_X\u001b[39m\u001b[38;5;124m'\u001b[39m):\n\u001b[1;32m    409\u001b[0m     \u001b[38;5;66;03m# new iteration\u001b[39;00m\n\u001b[1;32m    410\u001b[0m     n_iterations \u001b[38;5;241m+\u001b[39m\u001b[38;5;241m=\u001b[39m \u001b[38;5;241m1\u001b[39m\n",
      "File \u001b[0;32m/opt/conda/envs/pySunODE/lib/python3.12/site-packages/scipy/optimize/_differentiable_functions.py:343\u001b[0m, in \u001b[0;36mScalarFunction.fun_and_grad\u001b[0;34m(self, x)\u001b[0m\n\u001b[1;32m    341\u001b[0m \u001b[38;5;28;01mif\u001b[39;00m \u001b[38;5;129;01mnot\u001b[39;00m np\u001b[38;5;241m.\u001b[39marray_equal(x, \u001b[38;5;28mself\u001b[39m\u001b[38;5;241m.\u001b[39mx):\n\u001b[1;32m    342\u001b[0m     \u001b[38;5;28mself\u001b[39m\u001b[38;5;241m.\u001b[39m_update_x(x)\n\u001b[0;32m--> 343\u001b[0m \u001b[38;5;28;43mself\u001b[39;49m\u001b[38;5;241;43m.\u001b[39;49m\u001b[43m_update_fun\u001b[49m\u001b[43m(\u001b[49m\u001b[43m)\u001b[49m\n\u001b[1;32m    344\u001b[0m \u001b[38;5;28mself\u001b[39m\u001b[38;5;241m.\u001b[39m_update_grad()\n\u001b[1;32m    345\u001b[0m \u001b[38;5;28;01mreturn\u001b[39;00m \u001b[38;5;28mself\u001b[39m\u001b[38;5;241m.\u001b[39mf, \u001b[38;5;28mself\u001b[39m\u001b[38;5;241m.\u001b[39mg\n",
      "File \u001b[0;32m/opt/conda/envs/pySunODE/lib/python3.12/site-packages/scipy/optimize/_differentiable_functions.py:294\u001b[0m, in \u001b[0;36mScalarFunction._update_fun\u001b[0;34m(self)\u001b[0m\n\u001b[1;32m    292\u001b[0m \u001b[38;5;28;01mdef\u001b[39;00m \u001b[38;5;21m_update_fun\u001b[39m(\u001b[38;5;28mself\u001b[39m):\n\u001b[1;32m    293\u001b[0m     \u001b[38;5;28;01mif\u001b[39;00m \u001b[38;5;129;01mnot\u001b[39;00m \u001b[38;5;28mself\u001b[39m\u001b[38;5;241m.\u001b[39mf_updated:\n\u001b[0;32m--> 294\u001b[0m         fx \u001b[38;5;241m=\u001b[39m \u001b[38;5;28;43mself\u001b[39;49m\u001b[38;5;241;43m.\u001b[39;49m\u001b[43m_wrapped_fun\u001b[49m\u001b[43m(\u001b[49m\u001b[38;5;28;43mself\u001b[39;49m\u001b[38;5;241;43m.\u001b[39;49m\u001b[43mx\u001b[49m\u001b[43m)\u001b[49m\n\u001b[1;32m    295\u001b[0m         \u001b[38;5;28;01mif\u001b[39;00m fx \u001b[38;5;241m<\u001b[39m \u001b[38;5;28mself\u001b[39m\u001b[38;5;241m.\u001b[39m_lowest_f:\n\u001b[1;32m    296\u001b[0m             \u001b[38;5;28mself\u001b[39m\u001b[38;5;241m.\u001b[39m_lowest_x \u001b[38;5;241m=\u001b[39m \u001b[38;5;28mself\u001b[39m\u001b[38;5;241m.\u001b[39mx\n",
      "File \u001b[0;32m/opt/conda/envs/pySunODE/lib/python3.12/site-packages/scipy/optimize/_differentiable_functions.py:20\u001b[0m, in \u001b[0;36m_wrapper_fun.<locals>.wrapped\u001b[0;34m(x)\u001b[0m\n\u001b[1;32m     16\u001b[0m ncalls[\u001b[38;5;241m0\u001b[39m] \u001b[38;5;241m+\u001b[39m\u001b[38;5;241m=\u001b[39m \u001b[38;5;241m1\u001b[39m\n\u001b[1;32m     17\u001b[0m \u001b[38;5;66;03m# Send a copy because the user may overwrite it.\u001b[39;00m\n\u001b[1;32m     18\u001b[0m \u001b[38;5;66;03m# Overwriting results in undefined behaviour because\u001b[39;00m\n\u001b[1;32m     19\u001b[0m \u001b[38;5;66;03m# fun(self.x) will change self.x, with the two no longer linked.\u001b[39;00m\n\u001b[0;32m---> 20\u001b[0m fx \u001b[38;5;241m=\u001b[39m \u001b[43mfun\u001b[49m\u001b[43m(\u001b[49m\u001b[43mnp\u001b[49m\u001b[38;5;241;43m.\u001b[39;49m\u001b[43mcopy\u001b[49m\u001b[43m(\u001b[49m\u001b[43mx\u001b[49m\u001b[43m)\u001b[49m\u001b[43m,\u001b[49m\u001b[43m \u001b[49m\u001b[38;5;241;43m*\u001b[39;49m\u001b[43margs\u001b[49m\u001b[43m)\u001b[49m\n\u001b[1;32m     21\u001b[0m \u001b[38;5;66;03m# Make sure the function returns a true scalar\u001b[39;00m\n\u001b[1;32m     22\u001b[0m \u001b[38;5;28;01mif\u001b[39;00m \u001b[38;5;129;01mnot\u001b[39;00m np\u001b[38;5;241m.\u001b[39misscalar(fx):\n",
      "File \u001b[0;32m/workspaces/miniconda/PK-Analysis/utils.py:631\u001b[0m, in \u001b[0;36mOneCompartmentModel._objective_function2\u001b[0;34m(self, params, beta_data, parallel, parallel_n_jobs)\u001b[0m\n\u001b[1;32m    629\u001b[0m thetas \u001b[38;5;241m=\u001b[39m pd\u001b[38;5;241m.\u001b[39mDataFrame(params[\u001b[38;5;28mself\u001b[39m\u001b[38;5;241m.\u001b[39mn_population_coeff:]\u001b[38;5;241m.\u001b[39mreshape(\u001b[38;5;241m1\u001b[39m,\u001b[38;5;241m-\u001b[39m\u001b[38;5;241m1\u001b[39m), columns \u001b[38;5;241m=\u001b[39m \u001b[38;5;28mself\u001b[39m\u001b[38;5;241m.\u001b[39minit_betas\u001b[38;5;241m.\u001b[39mcolumns)\n\u001b[1;32m    630\u001b[0m model_coeffs \u001b[38;5;241m=\u001b[39m \u001b[38;5;28mself\u001b[39m\u001b[38;5;241m.\u001b[39m_generate_pk_model_coeff_vectorized(pop_coeffs, thetas, beta_data)\n\u001b[0;32m--> 631\u001b[0m preds \u001b[38;5;241m=\u001b[39m \u001b[38;5;28;43mself\u001b[39;49m\u001b[38;5;241;43m.\u001b[39;49m\u001b[43m_solve_ivp\u001b[49m\u001b[43m(\u001b[49m\u001b[43mmodel_coeffs\u001b[49m\u001b[43m,\u001b[49m\u001b[43m \u001b[49m\u001b[43mparallel\u001b[49m\u001b[43m \u001b[49m\u001b[38;5;241;43m=\u001b[39;49m\u001b[43m \u001b[49m\u001b[43mparallel\u001b[49m\u001b[43m,\u001b[49m\u001b[43m \u001b[49m\u001b[43mparallel_n_jobs\u001b[49m\u001b[43m \u001b[49m\u001b[38;5;241;43m=\u001b[39;49m\u001b[43m \u001b[49m\u001b[43mparallel_n_jobs\u001b[49m\u001b[43m)\u001b[49m\n\u001b[1;32m    632\u001b[0m error \u001b[38;5;241m=\u001b[39m \u001b[38;5;28mself\u001b[39m\u001b[38;5;241m.\u001b[39mloss_function(\u001b[38;5;28mself\u001b[39m\u001b[38;5;241m.\u001b[39my, preds, \u001b[38;5;241m*\u001b[39m\u001b[38;5;241m*\u001b[39m\u001b[38;5;28mself\u001b[39m\u001b[38;5;241m.\u001b[39mloss_params)\n\u001b[1;32m    633\u001b[0m \u001b[38;5;28;01mreturn\u001b[39;00m error\n",
      "File \u001b[0;32m/workspaces/miniconda/PK-Analysis/utils.py:510\u001b[0m, in \u001b[0;36mOneCompartmentModel._solve_ivp\u001b[0;34m(self, model_coeffs, parallel, parallel_n_jobs, timepoints)\u001b[0m\n\u001b[1;32m    503\u001b[0m     iter_obj \u001b[38;5;241m=\u001b[39m  \u001b[38;5;28mzip\u001b[39m(model_coeffs\u001b[38;5;241m.\u001b[39miterrows(), \u001b[38;5;28mself\u001b[39m\u001b[38;5;241m.\u001b[39msubject_y0)\n\u001b[1;32m    504\u001b[0m     partial_solve_ivp \u001b[38;5;241m=\u001b[39m partial(\u001b[38;5;28mself\u001b[39m\u001b[38;5;241m.\u001b[39m_solve_ivp_parallel,\n\u001b[1;32m    505\u001b[0m                          fun \u001b[38;5;241m=\u001b[39m \u001b[38;5;28mself\u001b[39m\u001b[38;5;241m.\u001b[39mpk_model_function,\n\u001b[1;32m    506\u001b[0m                          tspan \u001b[38;5;241m=\u001b[39m \u001b[38;5;28mself\u001b[39m\u001b[38;5;241m.\u001b[39mglobal_tspan,\n\u001b[1;32m    507\u001b[0m                          teval \u001b[38;5;241m=\u001b[39m \u001b[38;5;28mself\u001b[39m\u001b[38;5;241m.\u001b[39mglobal_tp \u001b[38;5;28;01mif\u001b[39;00m timepoints \u001b[38;5;129;01mis\u001b[39;00m \u001b[38;5;28;01mNone\u001b[39;00m \u001b[38;5;28;01melse\u001b[39;00m timepoints,\n\u001b[1;32m    508\u001b[0m                          method \u001b[38;5;241m=\u001b[39m \u001b[38;5;28mself\u001b[39m\u001b[38;5;241m.\u001b[39mode_solver_method,\n\u001b[1;32m    509\u001b[0m                          )\n\u001b[0;32m--> 510\u001b[0m     sol \u001b[38;5;241m=\u001b[39m \u001b[43mParallel\u001b[49m\u001b[43m(\u001b[49m\u001b[43mn_jobs\u001b[49m\u001b[38;5;241;43m=\u001b[39;49m\u001b[43mparallel_n_jobs\u001b[49m\u001b[43m)\u001b[49m\u001b[43m(\u001b[49m\u001b[43mdelayed\u001b[49m\u001b[43m(\u001b[49m\u001b[43mpartial_solve_ivp\u001b[49m\u001b[43m)\u001b[49m\u001b[43m(\u001b[49m\u001b[43my0\u001b[49m\u001b[43m,\u001b[49m\u001b[43m \u001b[49m\u001b[43midx_row\u001b[49m\u001b[43m[\u001b[49m\u001b[38;5;241;43m1\u001b[39;49m\u001b[43m]\u001b[49m\u001b[43m)\u001b[49m\u001b[43m \u001b[49m\u001b[38;5;28;43;01mfor\u001b[39;49;00m\u001b[43m \u001b[49m\u001b[43midx_row\u001b[49m\u001b[43m,\u001b[49m\u001b[43m \u001b[49m\u001b[43my0\u001b[49m\u001b[43m \u001b[49m\u001b[38;5;129;43;01min\u001b[39;49;00m\u001b[43m \u001b[49m\u001b[43miter_obj\u001b[49m\u001b[43m)\u001b[49m\n\u001b[1;32m    511\u001b[0m     sol \u001b[38;5;241m=\u001b[39m [sol_i\u001b[38;5;241m.\u001b[39my[\u001b[38;5;241m0\u001b[39m] \u001b[38;5;28;01mfor\u001b[39;00m sol_i \u001b[38;5;129;01min\u001b[39;00m sol]\n\u001b[1;32m    512\u001b[0m \u001b[38;5;28;01melse\u001b[39;00m:\n",
      "File \u001b[0;32m/opt/conda/envs/pySunODE/lib/python3.12/site-packages/joblib/parallel.py:2007\u001b[0m, in \u001b[0;36mParallel.__call__\u001b[0;34m(self, iterable)\u001b[0m\n\u001b[1;32m   2001\u001b[0m \u001b[38;5;66;03m# The first item from the output is blank, but it makes the interpreter\u001b[39;00m\n\u001b[1;32m   2002\u001b[0m \u001b[38;5;66;03m# progress until it enters the Try/Except block of the generator and\u001b[39;00m\n\u001b[1;32m   2003\u001b[0m \u001b[38;5;66;03m# reaches the first `yield` statement. This starts the asynchronous\u001b[39;00m\n\u001b[1;32m   2004\u001b[0m \u001b[38;5;66;03m# dispatch of the tasks to the workers.\u001b[39;00m\n\u001b[1;32m   2005\u001b[0m \u001b[38;5;28mnext\u001b[39m(output)\n\u001b[0;32m-> 2007\u001b[0m \u001b[38;5;28;01mreturn\u001b[39;00m output \u001b[38;5;28;01mif\u001b[39;00m \u001b[38;5;28mself\u001b[39m\u001b[38;5;241m.\u001b[39mreturn_generator \u001b[38;5;28;01melse\u001b[39;00m \u001b[38;5;28;43mlist\u001b[39;49m\u001b[43m(\u001b[49m\u001b[43moutput\u001b[49m\u001b[43m)\u001b[49m\n",
      "File \u001b[0;32m/opt/conda/envs/pySunODE/lib/python3.12/site-packages/joblib/parallel.py:1650\u001b[0m, in \u001b[0;36mParallel._get_outputs\u001b[0;34m(self, iterator, pre_dispatch)\u001b[0m\n\u001b[1;32m   1647\u001b[0m     \u001b[38;5;28;01myield\u001b[39;00m\n\u001b[1;32m   1649\u001b[0m     \u001b[38;5;28;01mwith\u001b[39;00m \u001b[38;5;28mself\u001b[39m\u001b[38;5;241m.\u001b[39m_backend\u001b[38;5;241m.\u001b[39mretrieval_context():\n\u001b[0;32m-> 1650\u001b[0m         \u001b[38;5;28;01myield from\u001b[39;00m \u001b[38;5;28mself\u001b[39m\u001b[38;5;241m.\u001b[39m_retrieve()\n\u001b[1;32m   1652\u001b[0m \u001b[38;5;28;01mexcept\u001b[39;00m \u001b[38;5;167;01mGeneratorExit\u001b[39;00m:\n\u001b[1;32m   1653\u001b[0m     \u001b[38;5;66;03m# The generator has been garbage collected before being fully\u001b[39;00m\n\u001b[1;32m   1654\u001b[0m     \u001b[38;5;66;03m# consumed. This aborts the remaining tasks if possible and warn\u001b[39;00m\n\u001b[1;32m   1655\u001b[0m     \u001b[38;5;66;03m# the user if necessary.\u001b[39;00m\n\u001b[1;32m   1656\u001b[0m     \u001b[38;5;28mself\u001b[39m\u001b[38;5;241m.\u001b[39m_exception \u001b[38;5;241m=\u001b[39m \u001b[38;5;28;01mTrue\u001b[39;00m\n",
      "File \u001b[0;32m/opt/conda/envs/pySunODE/lib/python3.12/site-packages/joblib/parallel.py:1754\u001b[0m, in \u001b[0;36mParallel._retrieve\u001b[0;34m(self)\u001b[0m\n\u001b[1;32m   1747\u001b[0m \u001b[38;5;28;01mwhile\u001b[39;00m \u001b[38;5;28mself\u001b[39m\u001b[38;5;241m.\u001b[39m_wait_retrieval():\n\u001b[1;32m   1748\u001b[0m \n\u001b[1;32m   1749\u001b[0m     \u001b[38;5;66;03m# If the callback thread of a worker has signaled that its task\u001b[39;00m\n\u001b[1;32m   1750\u001b[0m     \u001b[38;5;66;03m# triggered an exception, or if the retrieval loop has raised an\u001b[39;00m\n\u001b[1;32m   1751\u001b[0m     \u001b[38;5;66;03m# exception (e.g. `GeneratorExit`), exit the loop and surface the\u001b[39;00m\n\u001b[1;32m   1752\u001b[0m     \u001b[38;5;66;03m# worker traceback.\u001b[39;00m\n\u001b[1;32m   1753\u001b[0m     \u001b[38;5;28;01mif\u001b[39;00m \u001b[38;5;28mself\u001b[39m\u001b[38;5;241m.\u001b[39m_aborting:\n\u001b[0;32m-> 1754\u001b[0m         \u001b[38;5;28;43mself\u001b[39;49m\u001b[38;5;241;43m.\u001b[39;49m\u001b[43m_raise_error_fast\u001b[49m\u001b[43m(\u001b[49m\u001b[43m)\u001b[49m\n\u001b[1;32m   1755\u001b[0m         \u001b[38;5;28;01mbreak\u001b[39;00m\n\u001b[1;32m   1757\u001b[0m     \u001b[38;5;66;03m# If the next job is not ready for retrieval yet, we just wait for\u001b[39;00m\n\u001b[1;32m   1758\u001b[0m     \u001b[38;5;66;03m# async callbacks to progress.\u001b[39;00m\n",
      "File \u001b[0;32m/opt/conda/envs/pySunODE/lib/python3.12/site-packages/joblib/parallel.py:1789\u001b[0m, in \u001b[0;36mParallel._raise_error_fast\u001b[0;34m(self)\u001b[0m\n\u001b[1;32m   1785\u001b[0m \u001b[38;5;66;03m# If this error job exists, immediately raise the error by\u001b[39;00m\n\u001b[1;32m   1786\u001b[0m \u001b[38;5;66;03m# calling get_result. This job might not exists if abort has been\u001b[39;00m\n\u001b[1;32m   1787\u001b[0m \u001b[38;5;66;03m# called directly or if the generator is gc'ed.\u001b[39;00m\n\u001b[1;32m   1788\u001b[0m \u001b[38;5;28;01mif\u001b[39;00m error_job \u001b[38;5;129;01mis\u001b[39;00m \u001b[38;5;129;01mnot\u001b[39;00m \u001b[38;5;28;01mNone\u001b[39;00m:\n\u001b[0;32m-> 1789\u001b[0m     \u001b[43merror_job\u001b[49m\u001b[38;5;241;43m.\u001b[39;49m\u001b[43mget_result\u001b[49m\u001b[43m(\u001b[49m\u001b[38;5;28;43mself\u001b[39;49m\u001b[38;5;241;43m.\u001b[39;49m\u001b[43mtimeout\u001b[49m\u001b[43m)\u001b[49m\n",
      "File \u001b[0;32m/opt/conda/envs/pySunODE/lib/python3.12/site-packages/joblib/parallel.py:745\u001b[0m, in \u001b[0;36mBatchCompletionCallBack.get_result\u001b[0;34m(self, timeout)\u001b[0m\n\u001b[1;32m    739\u001b[0m backend \u001b[38;5;241m=\u001b[39m \u001b[38;5;28mself\u001b[39m\u001b[38;5;241m.\u001b[39mparallel\u001b[38;5;241m.\u001b[39m_backend\n\u001b[1;32m    741\u001b[0m \u001b[38;5;28;01mif\u001b[39;00m backend\u001b[38;5;241m.\u001b[39msupports_retrieve_callback:\n\u001b[1;32m    742\u001b[0m     \u001b[38;5;66;03m# We assume that the result has already been retrieved by the\u001b[39;00m\n\u001b[1;32m    743\u001b[0m     \u001b[38;5;66;03m# callback thread, and is stored internally. It's just waiting to\u001b[39;00m\n\u001b[1;32m    744\u001b[0m     \u001b[38;5;66;03m# be returned.\u001b[39;00m\n\u001b[0;32m--> 745\u001b[0m     \u001b[38;5;28;01mreturn\u001b[39;00m \u001b[38;5;28;43mself\u001b[39;49m\u001b[38;5;241;43m.\u001b[39;49m\u001b[43m_return_or_raise\u001b[49m\u001b[43m(\u001b[49m\u001b[43m)\u001b[49m\n\u001b[1;32m    747\u001b[0m \u001b[38;5;66;03m# For other backends, the main thread needs to run the retrieval step.\u001b[39;00m\n\u001b[1;32m    748\u001b[0m \u001b[38;5;28;01mtry\u001b[39;00m:\n",
      "File \u001b[0;32m/opt/conda/envs/pySunODE/lib/python3.12/site-packages/joblib/parallel.py:763\u001b[0m, in \u001b[0;36mBatchCompletionCallBack._return_or_raise\u001b[0;34m(self)\u001b[0m\n\u001b[1;32m    761\u001b[0m \u001b[38;5;28;01mtry\u001b[39;00m:\n\u001b[1;32m    762\u001b[0m     \u001b[38;5;28;01mif\u001b[39;00m \u001b[38;5;28mself\u001b[39m\u001b[38;5;241m.\u001b[39mstatus \u001b[38;5;241m==\u001b[39m TASK_ERROR:\n\u001b[0;32m--> 763\u001b[0m         \u001b[38;5;28;01mraise\u001b[39;00m \u001b[38;5;28mself\u001b[39m\u001b[38;5;241m.\u001b[39m_result\n\u001b[1;32m    764\u001b[0m     \u001b[38;5;28;01mreturn\u001b[39;00m \u001b[38;5;28mself\u001b[39m\u001b[38;5;241m.\u001b[39m_result\n\u001b[1;32m    765\u001b[0m \u001b[38;5;28;01mfinally\u001b[39;00m:\n",
      "\u001b[0;31mValueError\u001b[0m: array must not contain infs or NaNs"
     ]
    }
   ],
   "source": [
    "mods_out = {}\n",
    "for m_key in mods:\n",
    "    mods_out[m_key] = mods[m_key].fit2(scale_df,checkpoint_filename=f'{m_key}_test.jb', parallel=True, parallel_n_jobs=4)"
   ]
  },
  {
   "cell_type": "code",
   "execution_count": 17,
   "metadata": {},
   "outputs": [
    {
     "name": "stderr",
     "output_type": "stream",
     "text": [
      " This problem is unconstrained.\n"
     ]
    },
    {
     "name": "stdout",
     "output_type": "stream",
     "text": [
      "RUNNING THE L-BFGS-B CODE\n",
      "\n",
      "           * * *\n",
      "\n",
      "Machine precision = 2.220D-16\n",
      " N =            1     M =           10\n",
      "\n",
      "At X0         0 variables are exactly at the bounds\n",
      "\n",
      "At iterate    0    f=  5.99515D+06    |proj g|=  7.54893D+06\n",
      "\n",
      "At iterate    1    f=  1.88621D+06    |proj g|=  8.68522D+05\n",
      "\n",
      "At iterate    2    f=  1.86359D+06    |proj g|=  4.15169D+05\n",
      "\n",
      "At iterate    3    f=  1.85647D+06    |proj g|=  9.70264D+03\n",
      "\n",
      "At iterate    4    f=  1.85647D+06    |proj g|=  1.15833D+02\n",
      "\n",
      "At iterate    5    f=  1.85647D+06    |proj g|=  6.98492D-02\n",
      "Iteration 5: Checkpoint saved to logs/test__10__5.jb\n",
      "\n",
      "           * * *\n",
      "\n",
      "Tit   = total number of iterations\n",
      "Tnf   = total number of function evaluations\n",
      "Tnint = total number of segments explored during Cauchy searches\n",
      "Skip  = number of BFGS updates skipped\n",
      "Nact  = number of active bounds at final generalized Cauchy point\n",
      "Projg = norm of the final projected gradient\n",
      "F     = final function value\n",
      "\n",
      "           * * *\n",
      "\n",
      "   N    Tit     Tnf  Tnint  Skip  Nact     Projg        F\n",
      "    1      5      6      1     0     0   6.985D-02   1.856D+06\n",
      "  F =   1856467.4158051831     \n",
      "\n",
      "CONVERGENCE: REL_REDUCTION_OF_F_<=_FACTR*EPSMCH             \n"
     ]
    }
   ],
   "source": [
    "_ = mods['see_konly_no_init'].fit2(scale_df,checkpoint_filename='test.jb', parallel=False, parallel_n_jobs=4)"
   ]
  },
  {
   "cell_type": "code",
   "execution_count": 21,
   "metadata": {},
   "outputs": [
    {
     "data": {
      "text/plain": [
       "array([2.75000000e+02, 2.18183024e+02, 1.73080090e+02, ...,\n",
       "       6.23886211e-03, 2.43961846e-05, 2.17297103e-07])"
      ]
     },
     "execution_count": 21,
     "metadata": {},
     "output_type": "execute_result"
    }
   ],
   "source": [
    "_.predict2(scale_df)"
   ]
  },
  {
   "cell_type": "code",
   "execution_count": 17,
   "metadata": {},
   "outputs": [
    {
     "name": "stdout",
     "output_type": "stream",
     "text": [
      "RUNNING THE L-BFGS-B CODE\n",
      "\n",
      "           * * *\n",
      "\n",
      "Machine precision = 2.220D-16\n",
      " N =            2     M =           10\n",
      "\n",
      "At X0         0 variables are exactly at the bounds\n",
      "\n",
      "At iterate    0    f=  1.20196D+08    |proj g|=  1.75508D+07\n"
     ]
    },
    {
     "name": "stderr",
     "output_type": "stream",
     "text": [
      " This problem is unconstrained.\n"
     ]
    },
    {
     "name": "stdout",
     "output_type": "stream",
     "text": [
      "\n",
      "At iterate    1    f=  6.44453D+06    |proj g|=  3.05588D+06\n",
      "\n",
      "At iterate    2    f=  5.88748D+06    |proj g|=  3.73724D+05\n",
      "\n",
      "At iterate    3    f=  5.88258D+06    |proj g|=  6.42483D+04\n",
      "\n",
      "At iterate    4    f=  5.88252D+06    |proj g|=  4.02607D+04\n",
      "\n",
      "At iterate    5    f=  5.88248D+06    |proj g|=  1.31544D+04\n",
      "Iteration 5: Checkpoint saved to logs/mm_parallel_no_init__5.jb\n",
      "\n",
      "At iterate    6    f=  5.88247D+06    |proj g|=  1.66518D+04\n",
      "\n",
      "At iterate    7    f=  5.88242D+06    |proj g|=  5.14099D+04\n",
      "\n",
      "At iterate    8    f=  5.88240D+06    |proj g|=  4.95869D+04\n",
      "\n",
      "At iterate    9    f=  5.88223D+06    |proj g|=  5.01802D+04\n",
      "\n",
      "At iterate   10    f=  5.88024D+06    |proj g|=  1.29537D+05\n",
      "Iteration 10: Checkpoint saved to logs/mm_parallel_no_init__10.jb\n",
      "\n",
      "At iterate   11    f=  4.03102D+06    |proj g|=  3.65517D+06\n",
      "\n",
      "At iterate   12    f=  4.00578D+06    |proj g|=  2.91207D+06\n",
      "\n",
      "At iterate   13    f=  3.43149D+06    |proj g|=  2.28673D+06\n",
      "\n",
      "At iterate   14    f=  2.66950D+06    |proj g|=  2.43747D+06\n",
      "\n",
      "At iterate   15    f=  2.32041D+06    |proj g|=  8.89689D+05\n",
      "Iteration 15: Checkpoint saved to logs/mm_parallel_no_init__15.jb\n",
      "\n",
      "At iterate   16    f=  2.10336D+06    |proj g|=  5.12171D+05\n",
      "\n",
      "At iterate   17    f=  2.02732D+06    |proj g|=  9.41790D+05\n",
      "\n",
      "At iterate   18    f=  1.95904D+06    |proj g|=  5.07194D+05\n",
      "\n",
      "At iterate   19    f=  1.91204D+06    |proj g|=  1.71070D+05\n",
      "\n",
      "At iterate   20    f=  1.88700D+06    |proj g|=  1.60140D+05\n",
      "Iteration 20: Checkpoint saved to logs/mm_parallel_no_init__20.jb\n",
      "\n",
      "At iterate   21    f=  1.87300D+06    |proj g|=  6.78538D+04\n",
      "\n",
      "At iterate   22    f=  1.86546D+06    |proj g|=  5.76099D+04\n",
      "\n",
      "At iterate   23    f=  1.86153D+06    |proj g|=  1.72065D+04\n",
      "\n",
      "At iterate   24    f=  1.85952D+06    |proj g|=  2.08740D+04\n",
      "\n",
      "At iterate   25    f=  1.85849D+06    |proj g|=  1.87154D+03\n",
      "Iteration 25: Checkpoint saved to logs/mm_parallel_no_init__25.jb\n",
      "\n",
      "At iterate   26    f=  1.85798D+06    |proj g|=  1.81007D+04\n",
      "\n",
      "At iterate   27    f=  1.85781D+06    |proj g|=  5.59291D+04\n",
      "\n",
      "At iterate   28    f=  1.85761D+06    |proj g|=  1.14502D+04\n",
      "\n",
      "At iterate   29    f=  1.85755D+06    |proj g|=  5.88682D+03\n",
      "\n",
      "At iterate   30    f=  1.85751D+06    |proj g|=  7.74637D+03\n",
      "Iteration 30: Checkpoint saved to logs/mm_parallel_no_init__30.jb\n",
      "\n",
      "At iterate   31    f=  1.85749D+06    |proj g|=  1.09512D+03\n",
      "\n",
      "At iterate   32    f=  1.85748D+06    |proj g|=  2.05177D+03\n",
      "\n",
      "At iterate   33    f=  1.85747D+06    |proj g|=  7.52124D+03\n",
      "\n",
      "At iterate   34    f=  1.85746D+06    |proj g|=  2.42267D+03\n",
      "\n",
      "At iterate   35    f=  1.85746D+06    |proj g|=  3.05721D+03\n",
      "Iteration 35: Checkpoint saved to logs/mm_parallel_no_init__35.jb\n",
      "\n",
      "At iterate   36    f=  1.85746D+06    |proj g|=  3.05576D+03\n",
      "\n",
      "           * * *\n",
      "\n",
      "Tit   = total number of iterations\n",
      "Tnf   = total number of function evaluations\n",
      "Tnint = total number of segments explored during Cauchy searches\n",
      "Skip  = number of BFGS updates skipped\n",
      "Nact  = number of active bounds at final generalized Cauchy point\n",
      "Projg = norm of the final projected gradient\n",
      "F     = final function value\n",
      "\n",
      "           * * *\n",
      "\n",
      "   N    Tit     Tnf  Tnint  Skip  Nact     Projg        F\n",
      "    2     36     73      1     0     0   3.056D+03   1.857D+06\n",
      "  F =   1857463.7256999579     \n",
      "\n",
      "CONVERGENCE: REL_REDUCTION_OF_F_<=_FACTR*EPSMCH             \n"
     ]
    },
    {
     "name": "stderr",
     "output_type": "stream",
     "text": [
      "\n",
      " Warning:  more than 10 function and gradient\n",
      "   evaluations in the last line search.  Termination\n",
      "   may possibly be caused by a bad search direction.\n"
     ]
    }
   ],
   "source": [
    "mod_sse_parallel_bdf = mod_sse_parallel_bdf.fit2(scale_df,checkpoint_filename='mm_parallel_no_init.jb', parallel=False, parallel_n_jobs=4)"
   ]
  },
  {
   "cell_type": "code",
   "execution_count": 21,
   "metadata": {},
   "outputs": [
    {
     "data": {
      "text/html": [
       "<div>\n",
       "<style scoped>\n",
       "    .dataframe tbody tr th:only-of-type {\n",
       "        vertical-align: middle;\n",
       "    }\n",
       "\n",
       "    .dataframe tbody tr th {\n",
       "        vertical-align: top;\n",
       "    }\n",
       "\n",
       "    .dataframe thead th {\n",
       "        text-align: right;\n",
       "    }\n",
       "</style>\n",
       "<table border=\"1\" class=\"dataframe\">\n",
       "  <thead>\n",
       "    <tr style=\"text-align: right;\">\n",
       "      <th></th>\n",
       "      <th>model_coeff</th>\n",
       "      <th>model_coeff_dep_var</th>\n",
       "      <th>population_coeff</th>\n",
       "      <th>init_val</th>\n",
       "      <th>allometric</th>\n",
       "      <th>allometric_norm_value</th>\n",
       "      <th>subject_level_intercept</th>\n",
       "    </tr>\n",
       "  </thead>\n",
       "  <tbody>\n",
       "    <tr>\n",
       "      <th>0</th>\n",
       "      <td>vmax</td>\n",
       "      <td>None</td>\n",
       "      <td>True</td>\n",
       "      <td>-0.216584</td>\n",
       "      <td>False</td>\n",
       "      <td>None</td>\n",
       "      <td>False</td>\n",
       "    </tr>\n",
       "    <tr>\n",
       "      <th>1</th>\n",
       "      <td>km</td>\n",
       "      <td>None</td>\n",
       "      <td>True</td>\n",
       "      <td>-0.457831</td>\n",
       "      <td>False</td>\n",
       "      <td>None</td>\n",
       "      <td>False</td>\n",
       "    </tr>\n",
       "  </tbody>\n",
       "</table>\n",
       "</div>"
      ],
      "text/plain": [
       "  model_coeff model_coeff_dep_var  population_coeff  init_val  allometric  \\\n",
       "0        vmax                None              True -0.216584       False   \n",
       "1          km                None              True -0.457831       False   \n",
       "\n",
       "  allometric_norm_value  subject_level_intercept  \n",
       "0                  None                    False  \n",
       "1                  None                    False  "
      ]
     },
     "execution_count": 21,
     "metadata": {},
     "output_type": "execute_result"
    }
   ],
   "source": [
    "mod_sse_parallel_bdf.init_vals_pd"
   ]
  },
  {
   "cell_type": "code",
   "execution_count": 19,
   "metadata": {},
   "outputs": [
    {
     "data": {
      "text/plain": [
       "array([20.1323044 , 21.59520848])"
      ]
     },
     "execution_count": 19,
     "metadata": {},
     "output_type": "execute_result"
    }
   ],
   "source": [
    "mod_sse_parallel_bdf.fit_result_['x']"
   ]
  },
  {
   "cell_type": "code",
   "execution_count": 24,
   "metadata": {},
   "outputs": [],
   "source": [
    "from copy import deepcopy\n",
    "mod_sse_mm_bdf_2 = deepcopy(mod_sse_mm_bdf)\n",
    "mod_sse_mm_bdf_2.init_vals_pd = mod_sse_parallel_bdf.init_vals_pd.copy()"
   ]
  },
  {
   "cell_type": "code",
   "execution_count": 26,
   "metadata": {},
   "outputs": [
    {
     "data": {
      "text/plain": [
       "array([20.1323044 , 21.59520848])"
      ]
     },
     "execution_count": 26,
     "metadata": {},
     "output_type": "execute_result"
    }
   ],
   "source": [
    "_.fit_result_['x']"
   ]
  },
  {
   "cell_type": "code",
   "execution_count": 25,
   "metadata": {},
   "outputs": [
    {
     "name": "stderr",
     "output_type": "stream",
     "text": [
      " This problem is unconstrained.\n"
     ]
    },
    {
     "name": "stdout",
     "output_type": "stream",
     "text": [
      "RUNNING THE L-BFGS-B CODE\n",
      "\n",
      "           * * *\n",
      "\n",
      "Machine precision = 2.220D-16\n",
      " N =            2     M =           10\n",
      "\n",
      "At X0         0 variables are exactly at the bounds\n",
      "\n",
      "At iterate    0    f=  1.20196D+08    |proj g|=  1.75508D+07\n",
      "\n",
      "At iterate    1    f=  6.44453D+06    |proj g|=  3.05588D+06\n",
      "\n",
      "At iterate    2    f=  5.88748D+06    |proj g|=  3.73724D+05\n",
      "\n",
      "At iterate    3    f=  5.88258D+06    |proj g|=  6.42483D+04\n",
      "\n",
      "At iterate    4    f=  5.88252D+06    |proj g|=  4.02607D+04\n",
      "\n",
      "At iterate    5    f=  5.88248D+06    |proj g|=  1.31544D+04\n",
      "Iteration 5: Checkpoint saved to logs/mm_no_init_cp__5.jb\n",
      "\n",
      "At iterate    6    f=  5.88247D+06    |proj g|=  1.66518D+04\n",
      "\n",
      "At iterate    7    f=  5.88242D+06    |proj g|=  5.14099D+04\n",
      "\n",
      "At iterate    8    f=  5.88240D+06    |proj g|=  4.95869D+04\n",
      "\n",
      "At iterate    9    f=  5.88223D+06    |proj g|=  5.01802D+04\n",
      "\n",
      "At iterate   10    f=  5.88024D+06    |proj g|=  1.29537D+05\n",
      "Iteration 10: Checkpoint saved to logs/mm_no_init_cp__10.jb\n",
      "\n",
      "At iterate   11    f=  4.03102D+06    |proj g|=  3.65517D+06\n",
      "\n",
      "At iterate   12    f=  4.00578D+06    |proj g|=  2.91207D+06\n",
      "\n",
      "At iterate   13    f=  3.43149D+06    |proj g|=  2.28673D+06\n",
      "\n",
      "At iterate   14    f=  2.66950D+06    |proj g|=  2.43747D+06\n",
      "\n",
      "At iterate   15    f=  2.32041D+06    |proj g|=  8.89689D+05\n",
      "Iteration 15: Checkpoint saved to logs/mm_no_init_cp__15.jb\n",
      "\n",
      "At iterate   16    f=  2.10336D+06    |proj g|=  5.12171D+05\n",
      "\n",
      "At iterate   17    f=  2.02732D+06    |proj g|=  9.41790D+05\n",
      "\n",
      "At iterate   18    f=  1.95904D+06    |proj g|=  5.07194D+05\n",
      "\n",
      "At iterate   19    f=  1.91204D+06    |proj g|=  1.71070D+05\n",
      "\n",
      "Iteration 20: Checkpoint saved to logs/mm_no_init_cp__20.jb\n",
      "At iterate   20    f=  1.88700D+06    |proj g|=  1.60140D+05\n",
      "\n",
      "At iterate   21    f=  1.87300D+06    |proj g|=  6.78538D+04\n",
      "\n",
      "At iterate   22    f=  1.86546D+06    |proj g|=  5.76099D+04\n",
      "\n",
      "At iterate   23    f=  1.86153D+06    |proj g|=  1.72065D+04\n",
      "\n",
      "At iterate   24    f=  1.85952D+06    |proj g|=  2.08740D+04\n",
      "\n",
      "At iterate   25    f=  1.85849D+06    |proj g|=  1.87154D+03\n",
      "Iteration 25: Checkpoint saved to logs/mm_no_init_cp__25.jb\n",
      "\n",
      "At iterate   26    f=  1.85798D+06    |proj g|=  1.81007D+04\n",
      "\n",
      "At iterate   27    f=  1.85781D+06    |proj g|=  5.59291D+04\n",
      "\n",
      "At iterate   28    f=  1.85761D+06    |proj g|=  1.14502D+04\n",
      "\n",
      "At iterate   29    f=  1.85755D+06    |proj g|=  5.88682D+03\n",
      "\n",
      "Iteration 30: Checkpoint saved to logs/mm_no_init_cp__30.jb\n",
      "At iterate   30    f=  1.85751D+06    |proj g|=  7.74637D+03\n",
      "\n",
      "At iterate   31    f=  1.85749D+06    |proj g|=  1.09512D+03\n",
      "\n",
      "At iterate   32    f=  1.85748D+06    |proj g|=  2.05177D+03\n",
      "\n",
      "At iterate   33    f=  1.85747D+06    |proj g|=  7.52124D+03\n",
      "\n",
      "At iterate   34    f=  1.85746D+06    |proj g|=  2.42267D+03\n",
      "\n",
      "At iterate   35    f=  1.85746D+06    |proj g|=  3.05721D+03\n",
      "Iteration 35: Checkpoint saved to logs/mm_no_init_cp__35.jb\n",
      "\n",
      "At iterate   36    f=  1.85746D+06    |proj g|=  3.05576D+03\n",
      "\n",
      "           * * *\n",
      "\n",
      "Tit   = total number of iterations\n",
      "Tnf   = total number of function evaluations\n",
      "Tnint = total number of segments explored during Cauchy searches\n",
      "Skip  = number of BFGS updates skipped\n",
      "Nact  = number of active bounds at final generalized Cauchy point\n",
      "Projg = norm of the final projected gradient\n",
      "F     = final function value\n",
      "\n",
      "           * * *\n",
      "\n",
      "   N    Tit     Tnf  Tnint  Skip  Nact     Projg        F\n",
      "    2     36     73      1     0     0   3.056D+03   1.857D+06\n",
      "  F =   1857463.7256999579     \n",
      "\n",
      "CONVERGENCE: REL_REDUCTION_OF_F_<=_FACTR*EPSMCH             \n"
     ]
    },
    {
     "name": "stderr",
     "output_type": "stream",
     "text": [
      "\n",
      " Warning:  more than 10 function and gradient\n",
      "   evaluations in the last line search.  Termination\n",
      "   may possibly be caused by a bad search direction.\n"
     ]
    }
   ],
   "source": [
    "_ = mod_sse_mm_bdf_2.fit2(scale_df,checkpoint_filename='mm_no_init_cp.jb', parallel=False, parallel_n_jobs=4)"
   ]
  },
  {
   "cell_type": "code",
   "execution_count": 22,
   "metadata": {},
   "outputs": [
    {
     "name": "stdout",
     "output_type": "stream",
     "text": [
      "RUNNING THE L-BFGS-B CODE\n",
      "\n",
      "           * * *\n",
      "\n",
      "Machine precision = 2.220D-16\n",
      " N =            2     M =           10\n",
      "\n",
      "At X0         0 variables are exactly at the bounds\n",
      "\n",
      "At iterate    0    f=  1.33521D+08    |proj g|=  5.77537D+06\n"
     ]
    },
    {
     "name": "stderr",
     "output_type": "stream",
     "text": [
      " This problem is unconstrained.\n"
     ]
    },
    {
     "name": "stdout",
     "output_type": "stream",
     "text": [
      "\n",
      "At iterate    1    f=  1.68283D+07    |proj g|=  0.00000D+00\n",
      "\n",
      "           * * *\n",
      "\n",
      "Tit   = total number of iterations\n",
      "Tnf   = total number of function evaluations\n",
      "Tnint = total number of segments explored during Cauchy searches\n",
      "Skip  = number of BFGS updates skipped\n",
      "Nact  = number of active bounds at final generalized Cauchy point\n",
      "Projg = norm of the final projected gradient\n",
      "F     = final function value\n",
      "\n",
      "           * * *\n",
      "\n",
      "   N    Tit     Tnf  Tnint  Skip  Nact     Projg        F\n",
      "    2      1      4      1     0     0   0.000D+00   1.683D+07\n",
      "  F =   16828304.754900448     \n",
      "\n",
      "CONVERGENCE: NORM_OF_PROJECTED_GRADIENT_<=_PGTOL            \n"
     ]
    }
   ],
   "source": [
    "mod_sse_mm_bdf = mod_sse_mm_bdf.fit2(scale_df,checkpoint_filename='mm_no_init.jb', parallel=False, parallel_n_jobs=4)"
   ]
  },
  {
   "cell_type": "code",
   "execution_count": 20,
   "metadata": {},
   "outputs": [
    {
     "data": {
      "text/plain": [
       "array([ 2.75000000e+02,  3.20310476e-15, -1.99820878e-18, ...,\n",
       "        6.70143438e-23,  5.35477186e-24,  1.83897258e-28])"
      ]
     },
     "execution_count": 20,
     "metadata": {},
     "output_type": "execute_result"
    }
   ],
   "source": [
    "mod_sse_mm_bdf.predict2(scale_df)"
   ]
  },
  {
   "cell_type": "code",
   "execution_count": 21,
   "metadata": {},
   "outputs": [
    {
     "name": "stdout",
     "output_type": "stream",
     "text": [
      "RUNNING THE L-BFGS-B CODE\n",
      "\n",
      "           * * *\n",
      "\n",
      "Machine precision = 2.220D-16\n",
      " N =            2     M =           10\n",
      "\n",
      "At X0         0 variables are exactly at the bounds\n",
      "\n",
      "At iterate    0    f=  1.29037D+08    |proj g|=  9.94530D+06\n"
     ]
    },
    {
     "name": "stderr",
     "output_type": "stream",
     "text": [
      " This problem is unconstrained.\n"
     ]
    },
    {
     "name": "stdout",
     "output_type": "stream",
     "text": [
      "\n",
      "At iterate    1    f=  6.98363D+07    |proj g|=  1.80059D+07\n",
      "\n",
      "At iterate    2    f=  6.98358D+07    |proj g|=  1.96421D+07\n",
      "  ys=-4.243E+01  -gs= 4.709E+02 BFGS update SKIPPED\n",
      "\n",
      "At iterate    3    f=  6.97642D+07    |proj g|=  5.34741D+09\n",
      "\n",
      "At iterate    4    f=  6.97634D+07    |proj g|=  3.64440D+08\n",
      "\n",
      "Iteration 5: Checkpoint saved to logs/mm_no_init__5.jb\n",
      "At iterate    5    f=  6.97630D+07    |proj g|=  1.86601D+08\n",
      "\n",
      "At iterate    6    f=  6.97630D+07    |proj g|=  1.48536D+08\n",
      "\n",
      "At iterate    7    f=  6.97630D+07    |proj g|=  8.83842D+07\n",
      "\n",
      "At iterate    8    f=  6.97630D+07    |proj g|=  1.18172D+09\n"
     ]
    },
    {
     "ename": "KeyboardInterrupt",
     "evalue": "",
     "output_type": "error",
     "traceback": [
      "\u001b[0;31m---------------------------------------------------------------------------\u001b[0m",
      "\u001b[0;31mKeyboardInterrupt\u001b[0m                         Traceback (most recent call last)",
      "Cell \u001b[0;32mIn[21], line 1\u001b[0m\n\u001b[0;32m----> 1\u001b[0m mod_sse_mm \u001b[38;5;241m=\u001b[39m \u001b[43mmod_sse_mm\u001b[49m\u001b[38;5;241;43m.\u001b[39;49m\u001b[43mfit2\u001b[49m\u001b[43m(\u001b[49m\u001b[43mscale_df\u001b[49m\u001b[43m,\u001b[49m\u001b[43mcheckpoint_filename\u001b[49m\u001b[38;5;241;43m=\u001b[39;49m\u001b[38;5;124;43m'\u001b[39;49m\u001b[38;5;124;43mmm_no_init.jb\u001b[39;49m\u001b[38;5;124;43m'\u001b[39;49m\u001b[43m,\u001b[49m\u001b[43m \u001b[49m\u001b[43mparallel\u001b[49m\u001b[38;5;241;43m=\u001b[39;49m\u001b[38;5;28;43;01mFalse\u001b[39;49;00m\u001b[43m,\u001b[49m\u001b[43m \u001b[49m\u001b[43mparallel_n_jobs\u001b[49m\u001b[38;5;241;43m=\u001b[39;49m\u001b[38;5;241;43m4\u001b[39;49m\u001b[43m)\u001b[49m\n",
      "File \u001b[0;32m/workspaces/miniconda/PK-Analysis/utils.py:654\u001b[0m, in \u001b[0;36mOneCompartmentModel.fit2\u001b[0;34m(self, data, parallel, parallel_n_jobs, warm_start, checkpoint_filename)\u001b[0m\n\u001b[1;32m    652\u001b[0m     init_params \u001b[38;5;241m=\u001b[39m pop_coeffs\u001b[38;5;241m.\u001b[39mvalues\u001b[38;5;241m.\u001b[39mflatten()\u001b[38;5;241m.\u001b[39mastype(np\u001b[38;5;241m.\u001b[39mfloat64)\n\u001b[1;32m    653\u001b[0m objective_function \u001b[38;5;241m=\u001b[39m partial(\u001b[38;5;28mself\u001b[39m\u001b[38;5;241m.\u001b[39m_objective_function2, parallel \u001b[38;5;241m=\u001b[39m parallel, parallel_n_jobs \u001b[38;5;241m=\u001b[39m parallel_n_jobs)\n\u001b[0;32m--> 654\u001b[0m \u001b[38;5;28mself\u001b[39m\u001b[38;5;241m.\u001b[39mfit_result_ \u001b[38;5;241m=\u001b[39m \u001b[43moptimize_with_checkpoint_joblib\u001b[49m\u001b[43m(\u001b[49m\u001b[43mobjective_function\u001b[49m\u001b[43m,\u001b[49m\n\u001b[1;32m    655\u001b[0m \u001b[43m                                                   \u001b[49m\u001b[43minit_params\u001b[49m\u001b[43m,\u001b[49m\n\u001b[1;32m    656\u001b[0m \u001b[43m                                                   \u001b[49m\u001b[43mn_checkpoint\u001b[49m\u001b[38;5;241;43m=\u001b[39;49m\u001b[38;5;241;43m5\u001b[39;49m\u001b[43m,\u001b[49m\n\u001b[1;32m    657\u001b[0m \u001b[43m                                                   \u001b[49m\u001b[43mcheckpoint_filename\u001b[49m\u001b[38;5;241;43m=\u001b[39;49m\u001b[43mcheckpoint_filename\u001b[49m\u001b[43m,\u001b[49m\n\u001b[1;32m    658\u001b[0m \u001b[43m                                                   \u001b[49m\u001b[43margs\u001b[49m\u001b[38;5;241;43m=\u001b[39;49m\u001b[43m(\u001b[49m\u001b[43mbeta_data\u001b[49m\u001b[43m,\u001b[49m\u001b[43m)\u001b[49m\u001b[43m,\u001b[49m\n\u001b[1;32m    659\u001b[0m \u001b[43m                                                   \u001b[49m\u001b[43mwarm_start\u001b[49m\u001b[38;5;241;43m=\u001b[39;49m\u001b[43mwarm_start\u001b[49m\u001b[43m,\u001b[49m\n\u001b[1;32m    660\u001b[0m \u001b[43m                                                   \u001b[49m\u001b[43mtol\u001b[49m\u001b[43m \u001b[49m\u001b[38;5;241;43m=\u001b[39;49m\u001b[43m \u001b[49m\u001b[38;5;28;43mself\u001b[39;49m\u001b[38;5;241;43m.\u001b[39;49m\u001b[43moptimzer_tol\u001b[49m\u001b[43m,\u001b[49m\n\u001b[1;32m    661\u001b[0m \u001b[43m                                                   \u001b[49m\u001b[43mbounds\u001b[49m\u001b[38;5;241;43m=\u001b[39;49m\u001b[38;5;28;43mself\u001b[39;49m\u001b[38;5;241;43m.\u001b[39;49m\u001b[43mbounds\u001b[49m\n\u001b[1;32m    662\u001b[0m \u001b[43m                                                   \u001b[49m\u001b[43m)\u001b[49m\n\u001b[1;32m    663\u001b[0m \u001b[38;5;28;01mreturn\u001b[39;00m deepcopy(\u001b[38;5;28mself\u001b[39m)\n",
      "File \u001b[0;32m/workspaces/miniconda/PK-Analysis/utils.py:963\u001b[0m, in \u001b[0;36moptimize_with_checkpoint_joblib\u001b[0;34m(func, x0, n_checkpoint, checkpoint_filename, warm_start, tol, *args, **kwargs)\u001b[0m\n\u001b[1;32m    959\u001b[0m         user_callback(xk)\n\u001b[1;32m    961\u001b[0m     kwargs[\u001b[38;5;124m'\u001b[39m\u001b[38;5;124mcallback\u001b[39m\u001b[38;5;124m'\u001b[39m] \u001b[38;5;241m=\u001b[39m combined_callback\n\u001b[0;32m--> 963\u001b[0m result \u001b[38;5;241m=\u001b[39m \u001b[43mminimize\u001b[49m\u001b[43m(\u001b[49m\u001b[43mfunc\u001b[49m\u001b[43m,\u001b[49m\u001b[43m \u001b[49m\u001b[43mx0\u001b[49m\u001b[43m,\u001b[49m\u001b[43m \u001b[49m\u001b[38;5;241;43m*\u001b[39;49m\u001b[43margs\u001b[49m\u001b[43m,\u001b[49m\u001b[43m \u001b[49m\u001b[43mtol\u001b[49m\u001b[43m \u001b[49m\u001b[38;5;241;43m=\u001b[39;49m\u001b[43m \u001b[49m\u001b[43mtol\u001b[49m\u001b[43m,\u001b[49m\u001b[43m \u001b[49m\u001b[43moptions\u001b[49m\u001b[38;5;241;43m=\u001b[39;49m\u001b[43m \u001b[49m\u001b[43m{\u001b[49m\u001b[38;5;124;43m'\u001b[39;49m\u001b[38;5;124;43mdisp\u001b[39;49m\u001b[38;5;124;43m'\u001b[39;49m\u001b[43m:\u001b[49m\u001b[38;5;28;43;01mTrue\u001b[39;49;00m\u001b[43m}\u001b[49m\u001b[43m,\u001b[49m\u001b[43m \u001b[49m\u001b[38;5;241;43m*\u001b[39;49m\u001b[38;5;241;43m*\u001b[39;49m\u001b[43mkwargs\u001b[49m\u001b[43m,\u001b[49m\u001b[43m \u001b[49m\u001b[43m)\u001b[49m\n\u001b[1;32m    965\u001b[0m \u001b[38;5;66;03m# Remove checkpoint file at end.\u001b[39;00m\n\u001b[1;32m    966\u001b[0m \u001b[38;5;66;03m# try:\u001b[39;00m\n\u001b[1;32m    967\u001b[0m \u001b[38;5;66;03m#    os.remove(checkpoint_filename)\u001b[39;00m\n\u001b[1;32m    968\u001b[0m \u001b[38;5;66;03m# except:\u001b[39;00m\n\u001b[1;32m    969\u001b[0m \u001b[38;5;66;03m#    pass\u001b[39;00m\n\u001b[1;32m    971\u001b[0m \u001b[38;5;28;01mreturn\u001b[39;00m result\n",
      "File \u001b[0;32m/opt/conda/envs/pySunODE/lib/python3.12/site-packages/scipy/optimize/_minimize.py:731\u001b[0m, in \u001b[0;36mminimize\u001b[0;34m(fun, x0, args, method, jac, hess, hessp, bounds, constraints, tol, callback, options)\u001b[0m\n\u001b[1;32m    728\u001b[0m     res \u001b[38;5;241m=\u001b[39m _minimize_newtoncg(fun, x0, args, jac, hess, hessp, callback,\n\u001b[1;32m    729\u001b[0m                              \u001b[38;5;241m*\u001b[39m\u001b[38;5;241m*\u001b[39moptions)\n\u001b[1;32m    730\u001b[0m \u001b[38;5;28;01melif\u001b[39;00m meth \u001b[38;5;241m==\u001b[39m \u001b[38;5;124m'\u001b[39m\u001b[38;5;124ml-bfgs-b\u001b[39m\u001b[38;5;124m'\u001b[39m:\n\u001b[0;32m--> 731\u001b[0m     res \u001b[38;5;241m=\u001b[39m \u001b[43m_minimize_lbfgsb\u001b[49m\u001b[43m(\u001b[49m\u001b[43mfun\u001b[49m\u001b[43m,\u001b[49m\u001b[43m \u001b[49m\u001b[43mx0\u001b[49m\u001b[43m,\u001b[49m\u001b[43m \u001b[49m\u001b[43margs\u001b[49m\u001b[43m,\u001b[49m\u001b[43m \u001b[49m\u001b[43mjac\u001b[49m\u001b[43m,\u001b[49m\u001b[43m \u001b[49m\u001b[43mbounds\u001b[49m\u001b[43m,\u001b[49m\n\u001b[1;32m    732\u001b[0m \u001b[43m                           \u001b[49m\u001b[43mcallback\u001b[49m\u001b[38;5;241;43m=\u001b[39;49m\u001b[43mcallback\u001b[49m\u001b[43m,\u001b[49m\u001b[43m \u001b[49m\u001b[38;5;241;43m*\u001b[39;49m\u001b[38;5;241;43m*\u001b[39;49m\u001b[43moptions\u001b[49m\u001b[43m)\u001b[49m\n\u001b[1;32m    733\u001b[0m \u001b[38;5;28;01melif\u001b[39;00m meth \u001b[38;5;241m==\u001b[39m \u001b[38;5;124m'\u001b[39m\u001b[38;5;124mtnc\u001b[39m\u001b[38;5;124m'\u001b[39m:\n\u001b[1;32m    734\u001b[0m     res \u001b[38;5;241m=\u001b[39m _minimize_tnc(fun, x0, args, jac, bounds, callback\u001b[38;5;241m=\u001b[39mcallback,\n\u001b[1;32m    735\u001b[0m                         \u001b[38;5;241m*\u001b[39m\u001b[38;5;241m*\u001b[39moptions)\n",
      "File \u001b[0;32m/opt/conda/envs/pySunODE/lib/python3.12/site-packages/scipy/optimize/_lbfgsb_py.py:407\u001b[0m, in \u001b[0;36m_minimize_lbfgsb\u001b[0;34m(fun, x0, args, jac, bounds, disp, maxcor, ftol, gtol, eps, maxfun, maxiter, iprint, callback, maxls, finite_diff_rel_step, **unknown_options)\u001b[0m\n\u001b[1;32m    401\u001b[0m task_str \u001b[38;5;241m=\u001b[39m task\u001b[38;5;241m.\u001b[39mtobytes()\n\u001b[1;32m    402\u001b[0m \u001b[38;5;28;01mif\u001b[39;00m task_str\u001b[38;5;241m.\u001b[39mstartswith(\u001b[38;5;124mb\u001b[39m\u001b[38;5;124m'\u001b[39m\u001b[38;5;124mFG\u001b[39m\u001b[38;5;124m'\u001b[39m):\n\u001b[1;32m    403\u001b[0m     \u001b[38;5;66;03m# The minimization routine wants f and g at the current x.\u001b[39;00m\n\u001b[1;32m    404\u001b[0m     \u001b[38;5;66;03m# Note that interruptions due to maxfun are postponed\u001b[39;00m\n\u001b[1;32m    405\u001b[0m     \u001b[38;5;66;03m# until the completion of the current minimization iteration.\u001b[39;00m\n\u001b[1;32m    406\u001b[0m     \u001b[38;5;66;03m# Overwrite f and g:\u001b[39;00m\n\u001b[0;32m--> 407\u001b[0m     f, g \u001b[38;5;241m=\u001b[39m \u001b[43mfunc_and_grad\u001b[49m\u001b[43m(\u001b[49m\u001b[43mx\u001b[49m\u001b[43m)\u001b[49m\n\u001b[1;32m    408\u001b[0m \u001b[38;5;28;01melif\u001b[39;00m task_str\u001b[38;5;241m.\u001b[39mstartswith(\u001b[38;5;124mb\u001b[39m\u001b[38;5;124m'\u001b[39m\u001b[38;5;124mNEW_X\u001b[39m\u001b[38;5;124m'\u001b[39m):\n\u001b[1;32m    409\u001b[0m     \u001b[38;5;66;03m# new iteration\u001b[39;00m\n\u001b[1;32m    410\u001b[0m     n_iterations \u001b[38;5;241m+\u001b[39m\u001b[38;5;241m=\u001b[39m \u001b[38;5;241m1\u001b[39m\n",
      "File \u001b[0;32m/opt/conda/envs/pySunODE/lib/python3.12/site-packages/scipy/optimize/_differentiable_functions.py:344\u001b[0m, in \u001b[0;36mScalarFunction.fun_and_grad\u001b[0;34m(self, x)\u001b[0m\n\u001b[1;32m    342\u001b[0m     \u001b[38;5;28mself\u001b[39m\u001b[38;5;241m.\u001b[39m_update_x(x)\n\u001b[1;32m    343\u001b[0m \u001b[38;5;28mself\u001b[39m\u001b[38;5;241m.\u001b[39m_update_fun()\n\u001b[0;32m--> 344\u001b[0m \u001b[38;5;28;43mself\u001b[39;49m\u001b[38;5;241;43m.\u001b[39;49m\u001b[43m_update_grad\u001b[49m\u001b[43m(\u001b[49m\u001b[43m)\u001b[49m\n\u001b[1;32m    345\u001b[0m \u001b[38;5;28;01mreturn\u001b[39;00m \u001b[38;5;28mself\u001b[39m\u001b[38;5;241m.\u001b[39mf, \u001b[38;5;28mself\u001b[39m\u001b[38;5;241m.\u001b[39mg\n",
      "File \u001b[0;32m/opt/conda/envs/pySunODE/lib/python3.12/site-packages/scipy/optimize/_differentiable_functions.py:306\u001b[0m, in \u001b[0;36mScalarFunction._update_grad\u001b[0;34m(self)\u001b[0m\n\u001b[1;32m    304\u001b[0m \u001b[38;5;28;01mif\u001b[39;00m \u001b[38;5;28mself\u001b[39m\u001b[38;5;241m.\u001b[39m_orig_grad \u001b[38;5;129;01min\u001b[39;00m FD_METHODS:\n\u001b[1;32m    305\u001b[0m     \u001b[38;5;28mself\u001b[39m\u001b[38;5;241m.\u001b[39m_update_fun()\n\u001b[0;32m--> 306\u001b[0m \u001b[38;5;28mself\u001b[39m\u001b[38;5;241m.\u001b[39mg \u001b[38;5;241m=\u001b[39m \u001b[38;5;28;43mself\u001b[39;49m\u001b[38;5;241;43m.\u001b[39;49m\u001b[43m_wrapped_grad\u001b[49m\u001b[43m(\u001b[49m\u001b[38;5;28;43mself\u001b[39;49m\u001b[38;5;241;43m.\u001b[39;49m\u001b[43mx\u001b[49m\u001b[43m,\u001b[49m\u001b[43m \u001b[49m\u001b[43mf0\u001b[49m\u001b[38;5;241;43m=\u001b[39;49m\u001b[38;5;28;43mself\u001b[39;49m\u001b[38;5;241;43m.\u001b[39;49m\u001b[43mf\u001b[49m\u001b[43m)\u001b[49m\n\u001b[1;32m    307\u001b[0m \u001b[38;5;28mself\u001b[39m\u001b[38;5;241m.\u001b[39mg_updated \u001b[38;5;241m=\u001b[39m \u001b[38;5;28;01mTrue\u001b[39;00m\n",
      "File \u001b[0;32m/opt/conda/envs/pySunODE/lib/python3.12/site-packages/scipy/optimize/_differentiable_functions.py:47\u001b[0m, in \u001b[0;36m_wrapper_grad.<locals>.wrapped1\u001b[0;34m(x, f0)\u001b[0m\n\u001b[1;32m     45\u001b[0m \u001b[38;5;28;01mdef\u001b[39;00m \u001b[38;5;21mwrapped1\u001b[39m(x, f0\u001b[38;5;241m=\u001b[39m\u001b[38;5;28;01mNone\u001b[39;00m):\n\u001b[1;32m     46\u001b[0m     ncalls[\u001b[38;5;241m0\u001b[39m] \u001b[38;5;241m+\u001b[39m\u001b[38;5;241m=\u001b[39m \u001b[38;5;241m1\u001b[39m\n\u001b[0;32m---> 47\u001b[0m     \u001b[38;5;28;01mreturn\u001b[39;00m \u001b[43mapprox_derivative\u001b[49m\u001b[43m(\u001b[49m\n\u001b[1;32m     48\u001b[0m \u001b[43m        \u001b[49m\u001b[43mfun\u001b[49m\u001b[43m,\u001b[49m\u001b[43m \u001b[49m\u001b[43mx\u001b[49m\u001b[43m,\u001b[49m\u001b[43m \u001b[49m\u001b[43mf0\u001b[49m\u001b[38;5;241;43m=\u001b[39;49m\u001b[43mf0\u001b[49m\u001b[43m,\u001b[49m\u001b[43m \u001b[49m\u001b[38;5;241;43m*\u001b[39;49m\u001b[38;5;241;43m*\u001b[39;49m\u001b[43mfinite_diff_options\u001b[49m\n\u001b[1;32m     49\u001b[0m \u001b[43m    \u001b[49m\u001b[43m)\u001b[49m\n",
      "File \u001b[0;32m/opt/conda/envs/pySunODE/lib/python3.12/site-packages/scipy/optimize/_numdiff.py:519\u001b[0m, in \u001b[0;36mapprox_derivative\u001b[0;34m(fun, x0, method, rel_step, abs_step, f0, bounds, sparsity, as_linear_operator, args, kwargs)\u001b[0m\n\u001b[1;32m    516\u001b[0m     use_one_sided \u001b[38;5;241m=\u001b[39m \u001b[38;5;28;01mFalse\u001b[39;00m\n\u001b[1;32m    518\u001b[0m \u001b[38;5;28;01mif\u001b[39;00m sparsity \u001b[38;5;129;01mis\u001b[39;00m \u001b[38;5;28;01mNone\u001b[39;00m:\n\u001b[0;32m--> 519\u001b[0m     \u001b[38;5;28;01mreturn\u001b[39;00m \u001b[43m_dense_difference\u001b[49m\u001b[43m(\u001b[49m\u001b[43mfun_wrapped\u001b[49m\u001b[43m,\u001b[49m\u001b[43m \u001b[49m\u001b[43mx0\u001b[49m\u001b[43m,\u001b[49m\u001b[43m \u001b[49m\u001b[43mf0\u001b[49m\u001b[43m,\u001b[49m\u001b[43m \u001b[49m\u001b[43mh\u001b[49m\u001b[43m,\u001b[49m\n\u001b[1;32m    520\u001b[0m \u001b[43m                             \u001b[49m\u001b[43muse_one_sided\u001b[49m\u001b[43m,\u001b[49m\u001b[43m \u001b[49m\u001b[43mmethod\u001b[49m\u001b[43m)\u001b[49m\n\u001b[1;32m    521\u001b[0m \u001b[38;5;28;01melse\u001b[39;00m:\n\u001b[1;32m    522\u001b[0m     \u001b[38;5;28;01mif\u001b[39;00m \u001b[38;5;129;01mnot\u001b[39;00m issparse(sparsity) \u001b[38;5;129;01mand\u001b[39;00m \u001b[38;5;28mlen\u001b[39m(sparsity) \u001b[38;5;241m==\u001b[39m \u001b[38;5;241m2\u001b[39m:\n",
      "File \u001b[0;32m/opt/conda/envs/pySunODE/lib/python3.12/site-packages/scipy/optimize/_numdiff.py:592\u001b[0m, in \u001b[0;36m_dense_difference\u001b[0;34m(fun, x0, f0, h, use_one_sided, method)\u001b[0m\n\u001b[1;32m    590\u001b[0m     x1[i] \u001b[38;5;241m+\u001b[39m\u001b[38;5;241m=\u001b[39m h[i]\n\u001b[1;32m    591\u001b[0m     dx \u001b[38;5;241m=\u001b[39m x1[i] \u001b[38;5;241m-\u001b[39m x0[i]  \u001b[38;5;66;03m# Recompute dx as exactly representable number.\u001b[39;00m\n\u001b[0;32m--> 592\u001b[0m     df \u001b[38;5;241m=\u001b[39m \u001b[43mfun\u001b[49m\u001b[43m(\u001b[49m\u001b[43mx1\u001b[49m\u001b[43m)\u001b[49m \u001b[38;5;241m-\u001b[39m f0\n\u001b[1;32m    593\u001b[0m \u001b[38;5;28;01melif\u001b[39;00m method \u001b[38;5;241m==\u001b[39m \u001b[38;5;124m'\u001b[39m\u001b[38;5;124m3-point\u001b[39m\u001b[38;5;124m'\u001b[39m \u001b[38;5;129;01mand\u001b[39;00m use_one_sided[i]:\n\u001b[1;32m    594\u001b[0m     x1[i] \u001b[38;5;241m+\u001b[39m\u001b[38;5;241m=\u001b[39m h[i]\n",
      "File \u001b[0;32m/opt/conda/envs/pySunODE/lib/python3.12/site-packages/scipy/optimize/_numdiff.py:470\u001b[0m, in \u001b[0;36mapprox_derivative.<locals>.fun_wrapped\u001b[0;34m(x)\u001b[0m\n\u001b[1;32m    467\u001b[0m \u001b[38;5;28;01mif\u001b[39;00m xp\u001b[38;5;241m.\u001b[39misdtype(x\u001b[38;5;241m.\u001b[39mdtype, \u001b[38;5;124m\"\u001b[39m\u001b[38;5;124mreal floating\u001b[39m\u001b[38;5;124m\"\u001b[39m):\n\u001b[1;32m    468\u001b[0m     x \u001b[38;5;241m=\u001b[39m xp\u001b[38;5;241m.\u001b[39mastype(x, x0\u001b[38;5;241m.\u001b[39mdtype)\n\u001b[0;32m--> 470\u001b[0m f \u001b[38;5;241m=\u001b[39m np\u001b[38;5;241m.\u001b[39matleast_1d(\u001b[43mfun\u001b[49m\u001b[43m(\u001b[49m\u001b[43mx\u001b[49m\u001b[43m,\u001b[49m\u001b[43m \u001b[49m\u001b[38;5;241;43m*\u001b[39;49m\u001b[43margs\u001b[49m\u001b[43m,\u001b[49m\u001b[43m \u001b[49m\u001b[38;5;241;43m*\u001b[39;49m\u001b[38;5;241;43m*\u001b[39;49m\u001b[43mkwargs\u001b[49m\u001b[43m)\u001b[49m)\n\u001b[1;32m    471\u001b[0m \u001b[38;5;28;01mif\u001b[39;00m f\u001b[38;5;241m.\u001b[39mndim \u001b[38;5;241m>\u001b[39m \u001b[38;5;241m1\u001b[39m:\n\u001b[1;32m    472\u001b[0m     \u001b[38;5;28;01mraise\u001b[39;00m \u001b[38;5;167;01mRuntimeError\u001b[39;00m(\u001b[38;5;124m\"\u001b[39m\u001b[38;5;124m`fun` return value has \u001b[39m\u001b[38;5;124m\"\u001b[39m\n\u001b[1;32m    473\u001b[0m                        \u001b[38;5;124m\"\u001b[39m\u001b[38;5;124mmore than 1 dimension.\u001b[39m\u001b[38;5;124m\"\u001b[39m)\n",
      "File \u001b[0;32m/opt/conda/envs/pySunODE/lib/python3.12/site-packages/scipy/optimize/_differentiable_functions.py:20\u001b[0m, in \u001b[0;36m_wrapper_fun.<locals>.wrapped\u001b[0;34m(x)\u001b[0m\n\u001b[1;32m     16\u001b[0m ncalls[\u001b[38;5;241m0\u001b[39m] \u001b[38;5;241m+\u001b[39m\u001b[38;5;241m=\u001b[39m \u001b[38;5;241m1\u001b[39m\n\u001b[1;32m     17\u001b[0m \u001b[38;5;66;03m# Send a copy because the user may overwrite it.\u001b[39;00m\n\u001b[1;32m     18\u001b[0m \u001b[38;5;66;03m# Overwriting results in undefined behaviour because\u001b[39;00m\n\u001b[1;32m     19\u001b[0m \u001b[38;5;66;03m# fun(self.x) will change self.x, with the two no longer linked.\u001b[39;00m\n\u001b[0;32m---> 20\u001b[0m fx \u001b[38;5;241m=\u001b[39m \u001b[43mfun\u001b[49m\u001b[43m(\u001b[49m\u001b[43mnp\u001b[49m\u001b[38;5;241;43m.\u001b[39;49m\u001b[43mcopy\u001b[49m\u001b[43m(\u001b[49m\u001b[43mx\u001b[49m\u001b[43m)\u001b[49m\u001b[43m,\u001b[49m\u001b[43m \u001b[49m\u001b[38;5;241;43m*\u001b[39;49m\u001b[43margs\u001b[49m\u001b[43m)\u001b[49m\n\u001b[1;32m     21\u001b[0m \u001b[38;5;66;03m# Make sure the function returns a true scalar\u001b[39;00m\n\u001b[1;32m     22\u001b[0m \u001b[38;5;28;01mif\u001b[39;00m \u001b[38;5;129;01mnot\u001b[39;00m np\u001b[38;5;241m.\u001b[39misscalar(fx):\n",
      "File \u001b[0;32m/workspaces/miniconda/PK-Analysis/utils.py:631\u001b[0m, in \u001b[0;36mOneCompartmentModel._objective_function2\u001b[0;34m(self, params, beta_data, parallel, parallel_n_jobs)\u001b[0m\n\u001b[1;32m    629\u001b[0m thetas \u001b[38;5;241m=\u001b[39m pd\u001b[38;5;241m.\u001b[39mDataFrame(params[\u001b[38;5;28mself\u001b[39m\u001b[38;5;241m.\u001b[39mn_population_coeff:]\u001b[38;5;241m.\u001b[39mreshape(\u001b[38;5;241m1\u001b[39m,\u001b[38;5;241m-\u001b[39m\u001b[38;5;241m1\u001b[39m), columns \u001b[38;5;241m=\u001b[39m \u001b[38;5;28mself\u001b[39m\u001b[38;5;241m.\u001b[39minit_betas\u001b[38;5;241m.\u001b[39mcolumns)\n\u001b[1;32m    630\u001b[0m model_coeffs \u001b[38;5;241m=\u001b[39m \u001b[38;5;28mself\u001b[39m\u001b[38;5;241m.\u001b[39m_generate_pk_model_coeff_vectorized(pop_coeffs, thetas, beta_data)\n\u001b[0;32m--> 631\u001b[0m preds \u001b[38;5;241m=\u001b[39m \u001b[38;5;28;43mself\u001b[39;49m\u001b[38;5;241;43m.\u001b[39;49m\u001b[43m_solve_ivp\u001b[49m\u001b[43m(\u001b[49m\u001b[43mmodel_coeffs\u001b[49m\u001b[43m,\u001b[49m\u001b[43m \u001b[49m\u001b[43mparallel\u001b[49m\u001b[43m \u001b[49m\u001b[38;5;241;43m=\u001b[39;49m\u001b[43m \u001b[49m\u001b[43mparallel\u001b[49m\u001b[43m,\u001b[49m\u001b[43m \u001b[49m\u001b[43mparallel_n_jobs\u001b[49m\u001b[43m \u001b[49m\u001b[38;5;241;43m=\u001b[39;49m\u001b[43m \u001b[49m\u001b[43mparallel_n_jobs\u001b[49m\u001b[43m)\u001b[49m\n\u001b[1;32m    632\u001b[0m error \u001b[38;5;241m=\u001b[39m \u001b[38;5;28mself\u001b[39m\u001b[38;5;241m.\u001b[39mloss_function(\u001b[38;5;28mself\u001b[39m\u001b[38;5;241m.\u001b[39my, preds, \u001b[38;5;241m*\u001b[39m\u001b[38;5;241m*\u001b[39m\u001b[38;5;28mself\u001b[39m\u001b[38;5;241m.\u001b[39mloss_params)\n\u001b[1;32m    633\u001b[0m \u001b[38;5;28;01mreturn\u001b[39;00m error\n",
      "File \u001b[0;32m/workspaces/miniconda/PK-Analysis/utils.py:516\u001b[0m, in \u001b[0;36mOneCompartmentModel._solve_ivp\u001b[0;34m(self, model_coeffs, parallel, parallel_n_jobs, timepoints)\u001b[0m\n\u001b[1;32m    514\u001b[0m     \u001b[38;5;28;01mfor\u001b[39;00m idx, row \u001b[38;5;129;01min\u001b[39;00m model_coeffs\u001b[38;5;241m.\u001b[39miterrows():\n\u001b[1;32m    515\u001b[0m         initial_conc \u001b[38;5;241m=\u001b[39m \u001b[38;5;28mself\u001b[39m\u001b[38;5;241m.\u001b[39msubject_y0[idx]\n\u001b[0;32m--> 516\u001b[0m         ode_sol \u001b[38;5;241m=\u001b[39m \u001b[43msolve_ivp\u001b[49m\u001b[43m(\u001b[49m\u001b[38;5;28;43mself\u001b[39;49m\u001b[38;5;241;43m.\u001b[39;49m\u001b[43mpk_model_function\u001b[49m\u001b[43m,\u001b[49m\n\u001b[1;32m    517\u001b[0m \u001b[43m                        \u001b[49m\u001b[38;5;28;43mself\u001b[39;49m\u001b[38;5;241;43m.\u001b[39;49m\u001b[43mglobal_tspan\u001b[49m\u001b[43m,\u001b[49m\n\u001b[1;32m    518\u001b[0m \u001b[43m                    \u001b[49m\u001b[43mnp\u001b[49m\u001b[38;5;241;43m.\u001b[39;49m\u001b[43marray\u001b[49m\u001b[43m(\u001b[49m\u001b[43m[\u001b[49m\u001b[43minitial_conc\u001b[49m\u001b[43m]\u001b[49m\u001b[43m,\u001b[49m\u001b[43m \u001b[49m\u001b[43mdtype\u001b[49m\u001b[43m \u001b[49m\u001b[38;5;241;43m=\u001b[39;49m\u001b[43m \u001b[49m\u001b[43mnp\u001b[49m\u001b[38;5;241;43m.\u001b[39;49m\u001b[43mfloat64\u001b[49m\u001b[43m)\u001b[49m\u001b[43m,\u001b[49m\n\u001b[1;32m    519\u001b[0m \u001b[43m                    \u001b[49m\u001b[43mt_eval\u001b[49m\u001b[38;5;241;43m=\u001b[39;49m\u001b[38;5;28;43mself\u001b[39;49m\u001b[38;5;241;43m.\u001b[39;49m\u001b[43mglobal_tp\u001b[49m\u001b[43m \u001b[49m\u001b[38;5;28;43;01mif\u001b[39;49;00m\u001b[43m \u001b[49m\u001b[43mtimepoints\u001b[49m\u001b[43m \u001b[49m\u001b[38;5;129;43;01mis\u001b[39;49;00m\u001b[43m \u001b[49m\u001b[38;5;28;43;01mNone\u001b[39;49;00m\u001b[43m \u001b[49m\u001b[38;5;28;43;01melse\u001b[39;49;00m\u001b[43m \u001b[49m\u001b[43mtimepoints\u001b[49m\u001b[43m,\u001b[49m\n\u001b[1;32m    520\u001b[0m \u001b[43m                    \u001b[49m\u001b[43mmethod\u001b[49m\u001b[43m \u001b[49m\u001b[38;5;241;43m=\u001b[39;49m\u001b[43m \u001b[49m\u001b[38;5;28;43mself\u001b[39;49m\u001b[38;5;241;43m.\u001b[39;49m\u001b[43mode_solver_method\u001b[49m\u001b[43m,\u001b[49m\n\u001b[1;32m    521\u001b[0m \u001b[43m                    \u001b[49m\u001b[43margs\u001b[49m\u001b[38;5;241;43m=\u001b[39;49m\u001b[43m(\u001b[49m\u001b[38;5;241;43m*\u001b[39;49m\u001b[43mrow\u001b[49m\u001b[43m,\u001b[49m\u001b[43m)\u001b[49m\u001b[43m)\u001b[49m\n\u001b[1;32m    522\u001b[0m         sol\u001b[38;5;241m.\u001b[39mappend(ode_sol\u001b[38;5;241m.\u001b[39my[\u001b[38;5;241m0\u001b[39m])\n\u001b[1;32m    523\u001b[0m sol \u001b[38;5;241m=\u001b[39m np\u001b[38;5;241m.\u001b[39mconcatenate(sol)\n",
      "File \u001b[0;32m/opt/conda/envs/pySunODE/lib/python3.12/site-packages/scipy/integrate/_ivp/ivp.py:655\u001b[0m, in \u001b[0;36msolve_ivp\u001b[0;34m(fun, t_span, y0, method, t_eval, dense_output, events, vectorized, args, **options)\u001b[0m\n\u001b[1;32m    653\u001b[0m status \u001b[38;5;241m=\u001b[39m \u001b[38;5;28;01mNone\u001b[39;00m\n\u001b[1;32m    654\u001b[0m \u001b[38;5;28;01mwhile\u001b[39;00m status \u001b[38;5;129;01mis\u001b[39;00m \u001b[38;5;28;01mNone\u001b[39;00m:\n\u001b[0;32m--> 655\u001b[0m     message \u001b[38;5;241m=\u001b[39m \u001b[43msolver\u001b[49m\u001b[38;5;241;43m.\u001b[39;49m\u001b[43mstep\u001b[49m\u001b[43m(\u001b[49m\u001b[43m)\u001b[49m\n\u001b[1;32m    657\u001b[0m     \u001b[38;5;28;01mif\u001b[39;00m solver\u001b[38;5;241m.\u001b[39mstatus \u001b[38;5;241m==\u001b[39m \u001b[38;5;124m'\u001b[39m\u001b[38;5;124mfinished\u001b[39m\u001b[38;5;124m'\u001b[39m:\n\u001b[1;32m    658\u001b[0m         status \u001b[38;5;241m=\u001b[39m \u001b[38;5;241m0\u001b[39m\n",
      "File \u001b[0;32m/opt/conda/envs/pySunODE/lib/python3.12/site-packages/scipy/integrate/_ivp/base.py:197\u001b[0m, in \u001b[0;36mOdeSolver.step\u001b[0;34m(self)\u001b[0m\n\u001b[1;32m    195\u001b[0m \u001b[38;5;28;01melse\u001b[39;00m:\n\u001b[1;32m    196\u001b[0m     t \u001b[38;5;241m=\u001b[39m \u001b[38;5;28mself\u001b[39m\u001b[38;5;241m.\u001b[39mt\n\u001b[0;32m--> 197\u001b[0m     success, message \u001b[38;5;241m=\u001b[39m \u001b[38;5;28;43mself\u001b[39;49m\u001b[38;5;241;43m.\u001b[39;49m\u001b[43m_step_impl\u001b[49m\u001b[43m(\u001b[49m\u001b[43m)\u001b[49m\n\u001b[1;32m    199\u001b[0m     \u001b[38;5;28;01mif\u001b[39;00m \u001b[38;5;129;01mnot\u001b[39;00m success:\n\u001b[1;32m    200\u001b[0m         \u001b[38;5;28mself\u001b[39m\u001b[38;5;241m.\u001b[39mstatus \u001b[38;5;241m=\u001b[39m \u001b[38;5;124m'\u001b[39m\u001b[38;5;124mfailed\u001b[39m\u001b[38;5;124m'\u001b[39m\n",
      "File \u001b[0;32m/opt/conda/envs/pySunODE/lib/python3.12/site-packages/scipy/integrate/_ivp/rk.py:144\u001b[0m, in \u001b[0;36mRungeKutta._step_impl\u001b[0;34m(self)\u001b[0m\n\u001b[1;32m    141\u001b[0m h \u001b[38;5;241m=\u001b[39m t_new \u001b[38;5;241m-\u001b[39m t\n\u001b[1;32m    142\u001b[0m h_abs \u001b[38;5;241m=\u001b[39m np\u001b[38;5;241m.\u001b[39mabs(h)\n\u001b[0;32m--> 144\u001b[0m y_new, f_new \u001b[38;5;241m=\u001b[39m \u001b[43mrk_step\u001b[49m\u001b[43m(\u001b[49m\u001b[38;5;28;43mself\u001b[39;49m\u001b[38;5;241;43m.\u001b[39;49m\u001b[43mfun\u001b[49m\u001b[43m,\u001b[49m\u001b[43m \u001b[49m\u001b[43mt\u001b[49m\u001b[43m,\u001b[49m\u001b[43m \u001b[49m\u001b[43my\u001b[49m\u001b[43m,\u001b[49m\u001b[43m \u001b[49m\u001b[38;5;28;43mself\u001b[39;49m\u001b[38;5;241;43m.\u001b[39;49m\u001b[43mf\u001b[49m\u001b[43m,\u001b[49m\u001b[43m \u001b[49m\u001b[43mh\u001b[49m\u001b[43m,\u001b[49m\u001b[43m \u001b[49m\u001b[38;5;28;43mself\u001b[39;49m\u001b[38;5;241;43m.\u001b[39;49m\u001b[43mA\u001b[49m\u001b[43m,\u001b[49m\n\u001b[1;32m    145\u001b[0m \u001b[43m                       \u001b[49m\u001b[38;5;28;43mself\u001b[39;49m\u001b[38;5;241;43m.\u001b[39;49m\u001b[43mB\u001b[49m\u001b[43m,\u001b[49m\u001b[43m \u001b[49m\u001b[38;5;28;43mself\u001b[39;49m\u001b[38;5;241;43m.\u001b[39;49m\u001b[43mC\u001b[49m\u001b[43m,\u001b[49m\u001b[43m \u001b[49m\u001b[38;5;28;43mself\u001b[39;49m\u001b[38;5;241;43m.\u001b[39;49m\u001b[43mK\u001b[49m\u001b[43m)\u001b[49m\n\u001b[1;32m    146\u001b[0m scale \u001b[38;5;241m=\u001b[39m atol \u001b[38;5;241m+\u001b[39m np\u001b[38;5;241m.\u001b[39mmaximum(np\u001b[38;5;241m.\u001b[39mabs(y), np\u001b[38;5;241m.\u001b[39mabs(y_new)) \u001b[38;5;241m*\u001b[39m rtol\n\u001b[1;32m    147\u001b[0m error_norm \u001b[38;5;241m=\u001b[39m \u001b[38;5;28mself\u001b[39m\u001b[38;5;241m.\u001b[39m_estimate_error_norm(\u001b[38;5;28mself\u001b[39m\u001b[38;5;241m.\u001b[39mK, h, scale)\n",
      "File \u001b[0;32m/opt/conda/envs/pySunODE/lib/python3.12/site-packages/scipy/integrate/_ivp/rk.py:64\u001b[0m, in \u001b[0;36mrk_step\u001b[0;34m(fun, t, y, f, h, A, B, C, K)\u001b[0m\n\u001b[1;32m     62\u001b[0m \u001b[38;5;28;01mfor\u001b[39;00m s, (a, c) \u001b[38;5;129;01min\u001b[39;00m \u001b[38;5;28menumerate\u001b[39m(\u001b[38;5;28mzip\u001b[39m(A[\u001b[38;5;241m1\u001b[39m:], C[\u001b[38;5;241m1\u001b[39m:]), start\u001b[38;5;241m=\u001b[39m\u001b[38;5;241m1\u001b[39m):\n\u001b[1;32m     63\u001b[0m     dy \u001b[38;5;241m=\u001b[39m np\u001b[38;5;241m.\u001b[39mdot(K[:s]\u001b[38;5;241m.\u001b[39mT, a[:s]) \u001b[38;5;241m*\u001b[39m h\n\u001b[0;32m---> 64\u001b[0m     K[s] \u001b[38;5;241m=\u001b[39m \u001b[43mfun\u001b[49m\u001b[43m(\u001b[49m\u001b[43mt\u001b[49m\u001b[43m \u001b[49m\u001b[38;5;241;43m+\u001b[39;49m\u001b[43m \u001b[49m\u001b[43mc\u001b[49m\u001b[43m \u001b[49m\u001b[38;5;241;43m*\u001b[39;49m\u001b[43m \u001b[49m\u001b[43mh\u001b[49m\u001b[43m,\u001b[49m\u001b[43m \u001b[49m\u001b[43my\u001b[49m\u001b[43m \u001b[49m\u001b[38;5;241;43m+\u001b[39;49m\u001b[43m \u001b[49m\u001b[43mdy\u001b[49m\u001b[43m)\u001b[49m\n\u001b[1;32m     66\u001b[0m y_new \u001b[38;5;241m=\u001b[39m y \u001b[38;5;241m+\u001b[39m h \u001b[38;5;241m*\u001b[39m np\u001b[38;5;241m.\u001b[39mdot(K[:\u001b[38;5;241m-\u001b[39m\u001b[38;5;241m1\u001b[39m]\u001b[38;5;241m.\u001b[39mT, B)\n\u001b[1;32m     67\u001b[0m f_new \u001b[38;5;241m=\u001b[39m fun(t \u001b[38;5;241m+\u001b[39m h, y_new)\n",
      "File \u001b[0;32m/opt/conda/envs/pySunODE/lib/python3.12/site-packages/scipy/integrate/_ivp/base.py:152\u001b[0m, in \u001b[0;36mOdeSolver.__init__.<locals>.fun\u001b[0;34m(t, y)\u001b[0m\n\u001b[1;32m    149\u001b[0m             f[:, i] \u001b[38;5;241m=\u001b[39m \u001b[38;5;28mself\u001b[39m\u001b[38;5;241m.\u001b[39m_fun(t, yi)\n\u001b[1;32m    150\u001b[0m         \u001b[38;5;28;01mreturn\u001b[39;00m f\n\u001b[0;32m--> 152\u001b[0m \u001b[38;5;28;01mdef\u001b[39;00m \u001b[38;5;21mfun\u001b[39m(t, y):\n\u001b[1;32m    153\u001b[0m     \u001b[38;5;28mself\u001b[39m\u001b[38;5;241m.\u001b[39mnfev \u001b[38;5;241m+\u001b[39m\u001b[38;5;241m=\u001b[39m \u001b[38;5;241m1\u001b[39m\n\u001b[1;32m    154\u001b[0m     \u001b[38;5;28;01mreturn\u001b[39;00m \u001b[38;5;28mself\u001b[39m\u001b[38;5;241m.\u001b[39mfun_single(t, y)\n",
      "\u001b[0;31mKeyboardInterrupt\u001b[0m: "
     ]
    }
   ],
   "source": [
    "mod_sse_mm = mod_sse_mm.fit2(scale_df,checkpoint_filename='mm_no_init.jb', parallel=False, parallel_n_jobs=4)"
   ]
  },
  {
   "cell_type": "code",
   "execution_count": 22,
   "metadata": {},
   "outputs": [],
   "source": [
    "\n",
    "for m in mods:\n",
    "    mods[m] = mods[m]"
   ]
  },
  {
   "cell_type": "code",
   "execution_count": 34,
   "metadata": {},
   "outputs": [
    {
     "data": {
      "text/plain": [
       "array([0.52699407, 2.27706578])"
      ]
     },
     "execution_count": 34,
     "metadata": {},
     "output_type": "execute_result"
    }
   ],
   "source": [
    "np.exp(mods['see_no_cov'].fit_result_['x'])"
   ]
  },
  {
   "cell_type": "code",
   "execution_count": 35,
   "metadata": {},
   "outputs": [
    {
     "data": {
      "text/plain": [
       "array([0.08435448, 0.3644864 ])"
      ]
     },
     "execution_count": 35,
     "metadata": {},
     "output_type": "execute_result"
    }
   ],
   "source": [
    "np.exp(mods['see_no_cov_no_pop'].fit_result_['x'])"
   ]
  },
  {
   "cell_type": "code",
   "execution_count": 36,
   "metadata": {},
   "outputs": [
    {
     "data": {
      "text/plain": [
       "array([0.44227816, 1.35661307, 0.89983087, 0.70093366, 0.98110022])"
      ]
     },
     "execution_count": 36,
     "metadata": {},
     "output_type": "execute_result"
    }
   ],
   "source": [
    "np.exp(mods['orig_sse'].fit_result_['x'])"
   ]
  },
  {
   "cell_type": "code",
   "execution_count": 19,
   "metadata": {},
   "outputs": [
    {
     "name": "stdout",
     "output_type": "stream",
     "text": [
      "RUNNING THE L-BFGS-B CODE\n",
      "\n",
      "           * * *\n",
      "\n",
      "Machine precision = 2.220D-16\n",
      " N =            2     M =           10\n",
      "\n",
      "At X0         0 variables are exactly at the bounds\n",
      "\n",
      "At iterate    0    f=  1.27099D+08    |proj g|=  1.16872D+07\n"
     ]
    },
    {
     "name": "stderr",
     "output_type": "stream",
     "text": [
      " This problem is unconstrained.\n"
     ]
    },
    {
     "name": "stdout",
     "output_type": "stream",
     "text": [
      "\n",
      "At iterate    1    f=  7.43586D+07    |proj g|=  8.38972D+08\n",
      "\n",
      "At iterate    2    f=  7.43181D+07    |proj g|=  1.24523D+08\n",
      "\n",
      "At iterate    3    f=  7.43177D+07    |proj g|=  3.08267D+07\n",
      "\n",
      "At iterate    4    f=  7.42191D+07    |proj g|=  3.38791D+07\n",
      "  ys=-2.062E+02  -gs= 2.434E+03 BFGS update SKIPPED\n",
      "\n",
      "At iterate    5    f=  7.41049D+07    |proj g|=  5.58327D+07\n",
      "Iteration 5: Checkpoint saved to logs/check_test2_mm__5__5.jb\n",
      "  ys=-1.965E+03  -gs= 3.084E+03 BFGS update SKIPPED\n"
     ]
    },
    {
     "ename": "KeyboardInterrupt",
     "evalue": "",
     "output_type": "error",
     "traceback": [
      "\u001b[0;31m---------------------------------------------------------------------------\u001b[0m",
      "\u001b[0;31mKeyboardInterrupt\u001b[0m                         Traceback (most recent call last)",
      "Cell \u001b[0;32mIn[19], line 1\u001b[0m\n\u001b[0;32m----> 1\u001b[0m mod_sse_mm \u001b[38;5;241m=\u001b[39m \u001b[43mmod_sse_mm\u001b[49m\u001b[38;5;241;43m.\u001b[39;49m\u001b[43mfit2\u001b[49m\u001b[43m(\u001b[49m\u001b[43mscale_df\u001b[49m\u001b[43m,\u001b[49m\u001b[43mcheckpoint_filename\u001b[49m\u001b[38;5;241;43m=\u001b[39;49m\u001b[38;5;124;43m'\u001b[39;49m\u001b[38;5;124;43mcheck_test2_mm.jb\u001b[39;49m\u001b[38;5;124;43m'\u001b[39;49m\u001b[43m,\u001b[49m\u001b[43m \u001b[49m\u001b[43mparallel\u001b[49m\u001b[38;5;241;43m=\u001b[39;49m\u001b[38;5;28;43;01mTrue\u001b[39;49;00m\u001b[43m,\u001b[49m\u001b[43m \u001b[49m\u001b[43mparallel_n_jobs\u001b[49m\u001b[38;5;241;43m=\u001b[39;49m\u001b[38;5;241;43m4\u001b[39;49m\u001b[43m)\u001b[49m\n",
      "File \u001b[0;32m/workspaces/miniconda/PK-Analysis/utils.py:649\u001b[0m, in \u001b[0;36mOneCompartmentModel.fit2\u001b[0;34m(self, data, parallel, parallel_n_jobs, warm_start, checkpoint_filename)\u001b[0m\n\u001b[1;32m    647\u001b[0m     init_params \u001b[38;5;241m=\u001b[39m pop_coeffs\u001b[38;5;241m.\u001b[39mvalues\u001b[38;5;241m.\u001b[39mflatten()\u001b[38;5;241m.\u001b[39mastype(np\u001b[38;5;241m.\u001b[39mfloat64)\n\u001b[1;32m    648\u001b[0m objective_function \u001b[38;5;241m=\u001b[39m partial(\u001b[38;5;28mself\u001b[39m\u001b[38;5;241m.\u001b[39m_objective_function2, parallel \u001b[38;5;241m=\u001b[39m parallel, parallel_n_jobs \u001b[38;5;241m=\u001b[39m parallel_n_jobs)\n\u001b[0;32m--> 649\u001b[0m \u001b[38;5;28mself\u001b[39m\u001b[38;5;241m.\u001b[39mfit_result_ \u001b[38;5;241m=\u001b[39m \u001b[43moptimize_with_checkpoint_joblib\u001b[49m\u001b[43m(\u001b[49m\u001b[43mobjective_function\u001b[49m\u001b[43m,\u001b[49m\n\u001b[1;32m    650\u001b[0m \u001b[43m                                                   \u001b[49m\u001b[43minit_params\u001b[49m\u001b[43m,\u001b[49m\n\u001b[1;32m    651\u001b[0m \u001b[43m                                                   \u001b[49m\u001b[43mn_checkpoint\u001b[49m\u001b[38;5;241;43m=\u001b[39;49m\u001b[38;5;241;43m5\u001b[39;49m\u001b[43m,\u001b[49m\n\u001b[1;32m    652\u001b[0m \u001b[43m                                                   \u001b[49m\u001b[43mcheckpoint_filename\u001b[49m\u001b[38;5;241;43m=\u001b[39;49m\u001b[43mcheckpoint_filename\u001b[49m\u001b[43m,\u001b[49m\n\u001b[1;32m    653\u001b[0m \u001b[43m                                                   \u001b[49m\u001b[43margs\u001b[49m\u001b[38;5;241;43m=\u001b[39;49m\u001b[43m(\u001b[49m\u001b[43mbeta_data\u001b[49m\u001b[43m,\u001b[49m\u001b[43m)\u001b[49m\u001b[43m,\u001b[49m\n\u001b[1;32m    654\u001b[0m \u001b[43m                                                   \u001b[49m\u001b[43mwarm_start\u001b[49m\u001b[38;5;241;43m=\u001b[39;49m\u001b[43mwarm_start\u001b[49m\u001b[43m,\u001b[49m\n\u001b[1;32m    655\u001b[0m \u001b[43m                                                   \u001b[49m\u001b[43mtol\u001b[49m\u001b[43m \u001b[49m\u001b[38;5;241;43m=\u001b[39;49m\u001b[43m \u001b[49m\u001b[38;5;28;43mself\u001b[39;49m\u001b[38;5;241;43m.\u001b[39;49m\u001b[43moptimzer_tol\u001b[49m\u001b[43m,\u001b[49m\n\u001b[1;32m    656\u001b[0m \u001b[43m                                                   \u001b[49m\u001b[43mbounds\u001b[49m\u001b[38;5;241;43m=\u001b[39;49m\u001b[38;5;28;43mself\u001b[39;49m\u001b[38;5;241;43m.\u001b[39;49m\u001b[43mbounds\u001b[49m\n\u001b[1;32m    657\u001b[0m \u001b[43m                                                   \u001b[49m\u001b[43m)\u001b[49m\n\u001b[1;32m    658\u001b[0m \u001b[38;5;28;01mreturn\u001b[39;00m deepcopy(\u001b[38;5;28mself\u001b[39m)\n",
      "File \u001b[0;32m/workspaces/miniconda/PK-Analysis/utils.py:958\u001b[0m, in \u001b[0;36moptimize_with_checkpoint_joblib\u001b[0;34m(func, x0, n_checkpoint, checkpoint_filename, warm_start, tol, *args, **kwargs)\u001b[0m\n\u001b[1;32m    954\u001b[0m         user_callback(xk)\n\u001b[1;32m    956\u001b[0m     kwargs[\u001b[38;5;124m'\u001b[39m\u001b[38;5;124mcallback\u001b[39m\u001b[38;5;124m'\u001b[39m] \u001b[38;5;241m=\u001b[39m combined_callback\n\u001b[0;32m--> 958\u001b[0m result \u001b[38;5;241m=\u001b[39m \u001b[43mminimize\u001b[49m\u001b[43m(\u001b[49m\u001b[43mfunc\u001b[49m\u001b[43m,\u001b[49m\u001b[43m \u001b[49m\u001b[43mx0\u001b[49m\u001b[43m,\u001b[49m\u001b[43m \u001b[49m\u001b[38;5;241;43m*\u001b[39;49m\u001b[43margs\u001b[49m\u001b[43m,\u001b[49m\u001b[43m \u001b[49m\u001b[43mtol\u001b[49m\u001b[43m \u001b[49m\u001b[38;5;241;43m=\u001b[39;49m\u001b[43m \u001b[49m\u001b[43mtol\u001b[49m\u001b[43m,\u001b[49m\u001b[43m \u001b[49m\u001b[43moptions\u001b[49m\u001b[38;5;241;43m=\u001b[39;49m\u001b[43m \u001b[49m\u001b[43m{\u001b[49m\u001b[38;5;124;43m'\u001b[39;49m\u001b[38;5;124;43mdisp\u001b[39;49m\u001b[38;5;124;43m'\u001b[39;49m\u001b[43m:\u001b[49m\u001b[38;5;28;43;01mTrue\u001b[39;49;00m\u001b[43m}\u001b[49m\u001b[43m,\u001b[49m\u001b[43m \u001b[49m\u001b[38;5;241;43m*\u001b[39;49m\u001b[38;5;241;43m*\u001b[39;49m\u001b[43mkwargs\u001b[49m\u001b[43m,\u001b[49m\u001b[43m \u001b[49m\u001b[43m)\u001b[49m\n\u001b[1;32m    960\u001b[0m \u001b[38;5;66;03m# Remove checkpoint file at end.\u001b[39;00m\n\u001b[1;32m    961\u001b[0m \u001b[38;5;66;03m# try:\u001b[39;00m\n\u001b[1;32m    962\u001b[0m \u001b[38;5;66;03m#    os.remove(checkpoint_filename)\u001b[39;00m\n\u001b[1;32m    963\u001b[0m \u001b[38;5;66;03m# except:\u001b[39;00m\n\u001b[1;32m    964\u001b[0m \u001b[38;5;66;03m#    pass\u001b[39;00m\n\u001b[1;32m    966\u001b[0m \u001b[38;5;28;01mreturn\u001b[39;00m result\n",
      "File \u001b[0;32m/opt/conda/envs/pySunODE/lib/python3.12/site-packages/scipy/optimize/_minimize.py:731\u001b[0m, in \u001b[0;36mminimize\u001b[0;34m(fun, x0, args, method, jac, hess, hessp, bounds, constraints, tol, callback, options)\u001b[0m\n\u001b[1;32m    728\u001b[0m     res \u001b[38;5;241m=\u001b[39m _minimize_newtoncg(fun, x0, args, jac, hess, hessp, callback,\n\u001b[1;32m    729\u001b[0m                              \u001b[38;5;241m*\u001b[39m\u001b[38;5;241m*\u001b[39moptions)\n\u001b[1;32m    730\u001b[0m \u001b[38;5;28;01melif\u001b[39;00m meth \u001b[38;5;241m==\u001b[39m \u001b[38;5;124m'\u001b[39m\u001b[38;5;124ml-bfgs-b\u001b[39m\u001b[38;5;124m'\u001b[39m:\n\u001b[0;32m--> 731\u001b[0m     res \u001b[38;5;241m=\u001b[39m \u001b[43m_minimize_lbfgsb\u001b[49m\u001b[43m(\u001b[49m\u001b[43mfun\u001b[49m\u001b[43m,\u001b[49m\u001b[43m \u001b[49m\u001b[43mx0\u001b[49m\u001b[43m,\u001b[49m\u001b[43m \u001b[49m\u001b[43margs\u001b[49m\u001b[43m,\u001b[49m\u001b[43m \u001b[49m\u001b[43mjac\u001b[49m\u001b[43m,\u001b[49m\u001b[43m \u001b[49m\u001b[43mbounds\u001b[49m\u001b[43m,\u001b[49m\n\u001b[1;32m    732\u001b[0m \u001b[43m                           \u001b[49m\u001b[43mcallback\u001b[49m\u001b[38;5;241;43m=\u001b[39;49m\u001b[43mcallback\u001b[49m\u001b[43m,\u001b[49m\u001b[43m \u001b[49m\u001b[38;5;241;43m*\u001b[39;49m\u001b[38;5;241;43m*\u001b[39;49m\u001b[43moptions\u001b[49m\u001b[43m)\u001b[49m\n\u001b[1;32m    733\u001b[0m \u001b[38;5;28;01melif\u001b[39;00m meth \u001b[38;5;241m==\u001b[39m \u001b[38;5;124m'\u001b[39m\u001b[38;5;124mtnc\u001b[39m\u001b[38;5;124m'\u001b[39m:\n\u001b[1;32m    734\u001b[0m     res \u001b[38;5;241m=\u001b[39m _minimize_tnc(fun, x0, args, jac, bounds, callback\u001b[38;5;241m=\u001b[39mcallback,\n\u001b[1;32m    735\u001b[0m                         \u001b[38;5;241m*\u001b[39m\u001b[38;5;241m*\u001b[39moptions)\n",
      "File \u001b[0;32m/opt/conda/envs/pySunODE/lib/python3.12/site-packages/scipy/optimize/_lbfgsb_py.py:407\u001b[0m, in \u001b[0;36m_minimize_lbfgsb\u001b[0;34m(fun, x0, args, jac, bounds, disp, maxcor, ftol, gtol, eps, maxfun, maxiter, iprint, callback, maxls, finite_diff_rel_step, **unknown_options)\u001b[0m\n\u001b[1;32m    401\u001b[0m task_str \u001b[38;5;241m=\u001b[39m task\u001b[38;5;241m.\u001b[39mtobytes()\n\u001b[1;32m    402\u001b[0m \u001b[38;5;28;01mif\u001b[39;00m task_str\u001b[38;5;241m.\u001b[39mstartswith(\u001b[38;5;124mb\u001b[39m\u001b[38;5;124m'\u001b[39m\u001b[38;5;124mFG\u001b[39m\u001b[38;5;124m'\u001b[39m):\n\u001b[1;32m    403\u001b[0m     \u001b[38;5;66;03m# The minimization routine wants f and g at the current x.\u001b[39;00m\n\u001b[1;32m    404\u001b[0m     \u001b[38;5;66;03m# Note that interruptions due to maxfun are postponed\u001b[39;00m\n\u001b[1;32m    405\u001b[0m     \u001b[38;5;66;03m# until the completion of the current minimization iteration.\u001b[39;00m\n\u001b[1;32m    406\u001b[0m     \u001b[38;5;66;03m# Overwrite f and g:\u001b[39;00m\n\u001b[0;32m--> 407\u001b[0m     f, g \u001b[38;5;241m=\u001b[39m \u001b[43mfunc_and_grad\u001b[49m\u001b[43m(\u001b[49m\u001b[43mx\u001b[49m\u001b[43m)\u001b[49m\n\u001b[1;32m    408\u001b[0m \u001b[38;5;28;01melif\u001b[39;00m task_str\u001b[38;5;241m.\u001b[39mstartswith(\u001b[38;5;124mb\u001b[39m\u001b[38;5;124m'\u001b[39m\u001b[38;5;124mNEW_X\u001b[39m\u001b[38;5;124m'\u001b[39m):\n\u001b[1;32m    409\u001b[0m     \u001b[38;5;66;03m# new iteration\u001b[39;00m\n\u001b[1;32m    410\u001b[0m     n_iterations \u001b[38;5;241m+\u001b[39m\u001b[38;5;241m=\u001b[39m \u001b[38;5;241m1\u001b[39m\n",
      "File \u001b[0;32m/opt/conda/envs/pySunODE/lib/python3.12/site-packages/scipy/optimize/_differentiable_functions.py:344\u001b[0m, in \u001b[0;36mScalarFunction.fun_and_grad\u001b[0;34m(self, x)\u001b[0m\n\u001b[1;32m    342\u001b[0m     \u001b[38;5;28mself\u001b[39m\u001b[38;5;241m.\u001b[39m_update_x(x)\n\u001b[1;32m    343\u001b[0m \u001b[38;5;28mself\u001b[39m\u001b[38;5;241m.\u001b[39m_update_fun()\n\u001b[0;32m--> 344\u001b[0m \u001b[38;5;28;43mself\u001b[39;49m\u001b[38;5;241;43m.\u001b[39;49m\u001b[43m_update_grad\u001b[49m\u001b[43m(\u001b[49m\u001b[43m)\u001b[49m\n\u001b[1;32m    345\u001b[0m \u001b[38;5;28;01mreturn\u001b[39;00m \u001b[38;5;28mself\u001b[39m\u001b[38;5;241m.\u001b[39mf, \u001b[38;5;28mself\u001b[39m\u001b[38;5;241m.\u001b[39mg\n",
      "File \u001b[0;32m/opt/conda/envs/pySunODE/lib/python3.12/site-packages/scipy/optimize/_differentiable_functions.py:306\u001b[0m, in \u001b[0;36mScalarFunction._update_grad\u001b[0;34m(self)\u001b[0m\n\u001b[1;32m    304\u001b[0m \u001b[38;5;28;01mif\u001b[39;00m \u001b[38;5;28mself\u001b[39m\u001b[38;5;241m.\u001b[39m_orig_grad \u001b[38;5;129;01min\u001b[39;00m FD_METHODS:\n\u001b[1;32m    305\u001b[0m     \u001b[38;5;28mself\u001b[39m\u001b[38;5;241m.\u001b[39m_update_fun()\n\u001b[0;32m--> 306\u001b[0m \u001b[38;5;28mself\u001b[39m\u001b[38;5;241m.\u001b[39mg \u001b[38;5;241m=\u001b[39m \u001b[38;5;28;43mself\u001b[39;49m\u001b[38;5;241;43m.\u001b[39;49m\u001b[43m_wrapped_grad\u001b[49m\u001b[43m(\u001b[49m\u001b[38;5;28;43mself\u001b[39;49m\u001b[38;5;241;43m.\u001b[39;49m\u001b[43mx\u001b[49m\u001b[43m,\u001b[49m\u001b[43m \u001b[49m\u001b[43mf0\u001b[49m\u001b[38;5;241;43m=\u001b[39;49m\u001b[38;5;28;43mself\u001b[39;49m\u001b[38;5;241;43m.\u001b[39;49m\u001b[43mf\u001b[49m\u001b[43m)\u001b[49m\n\u001b[1;32m    307\u001b[0m \u001b[38;5;28mself\u001b[39m\u001b[38;5;241m.\u001b[39mg_updated \u001b[38;5;241m=\u001b[39m \u001b[38;5;28;01mTrue\u001b[39;00m\n",
      "File \u001b[0;32m/opt/conda/envs/pySunODE/lib/python3.12/site-packages/scipy/optimize/_differentiable_functions.py:47\u001b[0m, in \u001b[0;36m_wrapper_grad.<locals>.wrapped1\u001b[0;34m(x, f0)\u001b[0m\n\u001b[1;32m     45\u001b[0m \u001b[38;5;28;01mdef\u001b[39;00m \u001b[38;5;21mwrapped1\u001b[39m(x, f0\u001b[38;5;241m=\u001b[39m\u001b[38;5;28;01mNone\u001b[39;00m):\n\u001b[1;32m     46\u001b[0m     ncalls[\u001b[38;5;241m0\u001b[39m] \u001b[38;5;241m+\u001b[39m\u001b[38;5;241m=\u001b[39m \u001b[38;5;241m1\u001b[39m\n\u001b[0;32m---> 47\u001b[0m     \u001b[38;5;28;01mreturn\u001b[39;00m \u001b[43mapprox_derivative\u001b[49m\u001b[43m(\u001b[49m\n\u001b[1;32m     48\u001b[0m \u001b[43m        \u001b[49m\u001b[43mfun\u001b[49m\u001b[43m,\u001b[49m\u001b[43m \u001b[49m\u001b[43mx\u001b[49m\u001b[43m,\u001b[49m\u001b[43m \u001b[49m\u001b[43mf0\u001b[49m\u001b[38;5;241;43m=\u001b[39;49m\u001b[43mf0\u001b[49m\u001b[43m,\u001b[49m\u001b[43m \u001b[49m\u001b[38;5;241;43m*\u001b[39;49m\u001b[38;5;241;43m*\u001b[39;49m\u001b[43mfinite_diff_options\u001b[49m\n\u001b[1;32m     49\u001b[0m \u001b[43m    \u001b[49m\u001b[43m)\u001b[49m\n",
      "File \u001b[0;32m/opt/conda/envs/pySunODE/lib/python3.12/site-packages/scipy/optimize/_numdiff.py:519\u001b[0m, in \u001b[0;36mapprox_derivative\u001b[0;34m(fun, x0, method, rel_step, abs_step, f0, bounds, sparsity, as_linear_operator, args, kwargs)\u001b[0m\n\u001b[1;32m    516\u001b[0m     use_one_sided \u001b[38;5;241m=\u001b[39m \u001b[38;5;28;01mFalse\u001b[39;00m\n\u001b[1;32m    518\u001b[0m \u001b[38;5;28;01mif\u001b[39;00m sparsity \u001b[38;5;129;01mis\u001b[39;00m \u001b[38;5;28;01mNone\u001b[39;00m:\n\u001b[0;32m--> 519\u001b[0m     \u001b[38;5;28;01mreturn\u001b[39;00m \u001b[43m_dense_difference\u001b[49m\u001b[43m(\u001b[49m\u001b[43mfun_wrapped\u001b[49m\u001b[43m,\u001b[49m\u001b[43m \u001b[49m\u001b[43mx0\u001b[49m\u001b[43m,\u001b[49m\u001b[43m \u001b[49m\u001b[43mf0\u001b[49m\u001b[43m,\u001b[49m\u001b[43m \u001b[49m\u001b[43mh\u001b[49m\u001b[43m,\u001b[49m\n\u001b[1;32m    520\u001b[0m \u001b[43m                             \u001b[49m\u001b[43muse_one_sided\u001b[49m\u001b[43m,\u001b[49m\u001b[43m \u001b[49m\u001b[43mmethod\u001b[49m\u001b[43m)\u001b[49m\n\u001b[1;32m    521\u001b[0m \u001b[38;5;28;01melse\u001b[39;00m:\n\u001b[1;32m    522\u001b[0m     \u001b[38;5;28;01mif\u001b[39;00m \u001b[38;5;129;01mnot\u001b[39;00m issparse(sparsity) \u001b[38;5;129;01mand\u001b[39;00m \u001b[38;5;28mlen\u001b[39m(sparsity) \u001b[38;5;241m==\u001b[39m \u001b[38;5;241m2\u001b[39m:\n",
      "File \u001b[0;32m/opt/conda/envs/pySunODE/lib/python3.12/site-packages/scipy/optimize/_numdiff.py:592\u001b[0m, in \u001b[0;36m_dense_difference\u001b[0;34m(fun, x0, f0, h, use_one_sided, method)\u001b[0m\n\u001b[1;32m    590\u001b[0m     x1[i] \u001b[38;5;241m+\u001b[39m\u001b[38;5;241m=\u001b[39m h[i]\n\u001b[1;32m    591\u001b[0m     dx \u001b[38;5;241m=\u001b[39m x1[i] \u001b[38;5;241m-\u001b[39m x0[i]  \u001b[38;5;66;03m# Recompute dx as exactly representable number.\u001b[39;00m\n\u001b[0;32m--> 592\u001b[0m     df \u001b[38;5;241m=\u001b[39m \u001b[43mfun\u001b[49m\u001b[43m(\u001b[49m\u001b[43mx1\u001b[49m\u001b[43m)\u001b[49m \u001b[38;5;241m-\u001b[39m f0\n\u001b[1;32m    593\u001b[0m \u001b[38;5;28;01melif\u001b[39;00m method \u001b[38;5;241m==\u001b[39m \u001b[38;5;124m'\u001b[39m\u001b[38;5;124m3-point\u001b[39m\u001b[38;5;124m'\u001b[39m \u001b[38;5;129;01mand\u001b[39;00m use_one_sided[i]:\n\u001b[1;32m    594\u001b[0m     x1[i] \u001b[38;5;241m+\u001b[39m\u001b[38;5;241m=\u001b[39m h[i]\n",
      "File \u001b[0;32m/opt/conda/envs/pySunODE/lib/python3.12/site-packages/scipy/optimize/_numdiff.py:470\u001b[0m, in \u001b[0;36mapprox_derivative.<locals>.fun_wrapped\u001b[0;34m(x)\u001b[0m\n\u001b[1;32m    467\u001b[0m \u001b[38;5;28;01mif\u001b[39;00m xp\u001b[38;5;241m.\u001b[39misdtype(x\u001b[38;5;241m.\u001b[39mdtype, \u001b[38;5;124m\"\u001b[39m\u001b[38;5;124mreal floating\u001b[39m\u001b[38;5;124m\"\u001b[39m):\n\u001b[1;32m    468\u001b[0m     x \u001b[38;5;241m=\u001b[39m xp\u001b[38;5;241m.\u001b[39mastype(x, x0\u001b[38;5;241m.\u001b[39mdtype)\n\u001b[0;32m--> 470\u001b[0m f \u001b[38;5;241m=\u001b[39m np\u001b[38;5;241m.\u001b[39matleast_1d(\u001b[43mfun\u001b[49m\u001b[43m(\u001b[49m\u001b[43mx\u001b[49m\u001b[43m,\u001b[49m\u001b[43m \u001b[49m\u001b[38;5;241;43m*\u001b[39;49m\u001b[43margs\u001b[49m\u001b[43m,\u001b[49m\u001b[43m \u001b[49m\u001b[38;5;241;43m*\u001b[39;49m\u001b[38;5;241;43m*\u001b[39;49m\u001b[43mkwargs\u001b[49m\u001b[43m)\u001b[49m)\n\u001b[1;32m    471\u001b[0m \u001b[38;5;28;01mif\u001b[39;00m f\u001b[38;5;241m.\u001b[39mndim \u001b[38;5;241m>\u001b[39m \u001b[38;5;241m1\u001b[39m:\n\u001b[1;32m    472\u001b[0m     \u001b[38;5;28;01mraise\u001b[39;00m \u001b[38;5;167;01mRuntimeError\u001b[39;00m(\u001b[38;5;124m\"\u001b[39m\u001b[38;5;124m`fun` return value has \u001b[39m\u001b[38;5;124m\"\u001b[39m\n\u001b[1;32m    473\u001b[0m                        \u001b[38;5;124m\"\u001b[39m\u001b[38;5;124mmore than 1 dimension.\u001b[39m\u001b[38;5;124m\"\u001b[39m)\n",
      "File \u001b[0;32m/opt/conda/envs/pySunODE/lib/python3.12/site-packages/scipy/optimize/_differentiable_functions.py:20\u001b[0m, in \u001b[0;36m_wrapper_fun.<locals>.wrapped\u001b[0;34m(x)\u001b[0m\n\u001b[1;32m     16\u001b[0m ncalls[\u001b[38;5;241m0\u001b[39m] \u001b[38;5;241m+\u001b[39m\u001b[38;5;241m=\u001b[39m \u001b[38;5;241m1\u001b[39m\n\u001b[1;32m     17\u001b[0m \u001b[38;5;66;03m# Send a copy because the user may overwrite it.\u001b[39;00m\n\u001b[1;32m     18\u001b[0m \u001b[38;5;66;03m# Overwriting results in undefined behaviour because\u001b[39;00m\n\u001b[1;32m     19\u001b[0m \u001b[38;5;66;03m# fun(self.x) will change self.x, with the two no longer linked.\u001b[39;00m\n\u001b[0;32m---> 20\u001b[0m fx \u001b[38;5;241m=\u001b[39m \u001b[43mfun\u001b[49m\u001b[43m(\u001b[49m\u001b[43mnp\u001b[49m\u001b[38;5;241;43m.\u001b[39;49m\u001b[43mcopy\u001b[49m\u001b[43m(\u001b[49m\u001b[43mx\u001b[49m\u001b[43m)\u001b[49m\u001b[43m,\u001b[49m\u001b[43m \u001b[49m\u001b[38;5;241;43m*\u001b[39;49m\u001b[43margs\u001b[49m\u001b[43m)\u001b[49m\n\u001b[1;32m     21\u001b[0m \u001b[38;5;66;03m# Make sure the function returns a true scalar\u001b[39;00m\n\u001b[1;32m     22\u001b[0m \u001b[38;5;28;01mif\u001b[39;00m \u001b[38;5;129;01mnot\u001b[39;00m np\u001b[38;5;241m.\u001b[39misscalar(fx):\n",
      "File \u001b[0;32m/workspaces/miniconda/PK-Analysis/utils.py:626\u001b[0m, in \u001b[0;36mOneCompartmentModel._objective_function2\u001b[0;34m(self, params, beta_data, parallel, parallel_n_jobs)\u001b[0m\n\u001b[1;32m    624\u001b[0m thetas \u001b[38;5;241m=\u001b[39m pd\u001b[38;5;241m.\u001b[39mDataFrame(params[\u001b[38;5;28mself\u001b[39m\u001b[38;5;241m.\u001b[39mn_population_coeff:]\u001b[38;5;241m.\u001b[39mreshape(\u001b[38;5;241m1\u001b[39m,\u001b[38;5;241m-\u001b[39m\u001b[38;5;241m1\u001b[39m), columns \u001b[38;5;241m=\u001b[39m \u001b[38;5;28mself\u001b[39m\u001b[38;5;241m.\u001b[39minit_betas\u001b[38;5;241m.\u001b[39mcolumns)\n\u001b[1;32m    625\u001b[0m model_coeffs \u001b[38;5;241m=\u001b[39m \u001b[38;5;28mself\u001b[39m\u001b[38;5;241m.\u001b[39m_generate_pk_model_coeff_vectorized(pop_coeffs, thetas, beta_data)\n\u001b[0;32m--> 626\u001b[0m preds \u001b[38;5;241m=\u001b[39m \u001b[38;5;28;43mself\u001b[39;49m\u001b[38;5;241;43m.\u001b[39;49m\u001b[43m_solve_ivp\u001b[49m\u001b[43m(\u001b[49m\u001b[43mmodel_coeffs\u001b[49m\u001b[43m,\u001b[49m\u001b[43m \u001b[49m\u001b[43mparallel\u001b[49m\u001b[43m \u001b[49m\u001b[38;5;241;43m=\u001b[39;49m\u001b[43m \u001b[49m\u001b[43mparallel\u001b[49m\u001b[43m,\u001b[49m\u001b[43m \u001b[49m\u001b[43mparallel_n_jobs\u001b[49m\u001b[43m \u001b[49m\u001b[38;5;241;43m=\u001b[39;49m\u001b[43m \u001b[49m\u001b[43mparallel_n_jobs\u001b[49m\u001b[43m)\u001b[49m\n\u001b[1;32m    627\u001b[0m error \u001b[38;5;241m=\u001b[39m \u001b[38;5;28mself\u001b[39m\u001b[38;5;241m.\u001b[39mloss_function(\u001b[38;5;28mself\u001b[39m\u001b[38;5;241m.\u001b[39my, preds, \u001b[38;5;241m*\u001b[39m\u001b[38;5;241m*\u001b[39m\u001b[38;5;28mself\u001b[39m\u001b[38;5;241m.\u001b[39mloss_params)\n\u001b[1;32m    628\u001b[0m \u001b[38;5;28;01mreturn\u001b[39;00m error\n",
      "File \u001b[0;32m/workspaces/miniconda/PK-Analysis/utils.py:506\u001b[0m, in \u001b[0;36mOneCompartmentModel._solve_ivp\u001b[0;34m(self, model_coeffs, parallel, parallel_n_jobs, timepoints)\u001b[0m\n\u001b[1;32m    500\u001b[0m     iter_obj \u001b[38;5;241m=\u001b[39m  \u001b[38;5;28mzip\u001b[39m(model_coeffs\u001b[38;5;241m.\u001b[39miterrows(), \u001b[38;5;28mself\u001b[39m\u001b[38;5;241m.\u001b[39msubject_y0)\n\u001b[1;32m    501\u001b[0m     partial_solve_ivp \u001b[38;5;241m=\u001b[39m partial(\u001b[38;5;28mself\u001b[39m\u001b[38;5;241m.\u001b[39m_solve_ivp_parallel,\n\u001b[1;32m    502\u001b[0m                          fun \u001b[38;5;241m=\u001b[39m \u001b[38;5;28mself\u001b[39m\u001b[38;5;241m.\u001b[39mpk_model_function,\n\u001b[1;32m    503\u001b[0m                          tspan \u001b[38;5;241m=\u001b[39m \u001b[38;5;28mself\u001b[39m\u001b[38;5;241m.\u001b[39mglobal_tspan,\n\u001b[1;32m    504\u001b[0m                          teval \u001b[38;5;241m=\u001b[39m \u001b[38;5;28mself\u001b[39m\u001b[38;5;241m.\u001b[39mglobal_tp \u001b[38;5;28;01mif\u001b[39;00m timepoints \u001b[38;5;129;01mis\u001b[39;00m \u001b[38;5;28;01mNone\u001b[39;00m \u001b[38;5;28;01melse\u001b[39;00m timepoints,\n\u001b[1;32m    505\u001b[0m                          )\n\u001b[0;32m--> 506\u001b[0m     sol \u001b[38;5;241m=\u001b[39m \u001b[43mParallel\u001b[49m\u001b[43m(\u001b[49m\u001b[43mn_jobs\u001b[49m\u001b[38;5;241;43m=\u001b[39;49m\u001b[43mparallel_n_jobs\u001b[49m\u001b[43m)\u001b[49m\u001b[43m(\u001b[49m\u001b[43mdelayed\u001b[49m\u001b[43m(\u001b[49m\u001b[43mpartial_solve_ivp\u001b[49m\u001b[43m)\u001b[49m\u001b[43m(\u001b[49m\u001b[43my0\u001b[49m\u001b[43m,\u001b[49m\u001b[43m \u001b[49m\u001b[43midx_row\u001b[49m\u001b[43m[\u001b[49m\u001b[38;5;241;43m1\u001b[39;49m\u001b[43m]\u001b[49m\u001b[43m)\u001b[49m\u001b[43m \u001b[49m\u001b[38;5;28;43;01mfor\u001b[39;49;00m\u001b[43m \u001b[49m\u001b[43midx_row\u001b[49m\u001b[43m,\u001b[49m\u001b[43m \u001b[49m\u001b[43my0\u001b[49m\u001b[43m \u001b[49m\u001b[38;5;129;43;01min\u001b[39;49;00m\u001b[43m \u001b[49m\u001b[43miter_obj\u001b[49m\u001b[43m)\u001b[49m\n\u001b[1;32m    507\u001b[0m     sol \u001b[38;5;241m=\u001b[39m [sol_i\u001b[38;5;241m.\u001b[39my[\u001b[38;5;241m0\u001b[39m] \u001b[38;5;28;01mfor\u001b[39;00m sol_i \u001b[38;5;129;01min\u001b[39;00m sol]\n\u001b[1;32m    508\u001b[0m \u001b[38;5;28;01melse\u001b[39;00m:\n",
      "File \u001b[0;32m/opt/conda/envs/pySunODE/lib/python3.12/site-packages/joblib/parallel.py:2007\u001b[0m, in \u001b[0;36mParallel.__call__\u001b[0;34m(self, iterable)\u001b[0m\n\u001b[1;32m   2001\u001b[0m \u001b[38;5;66;03m# The first item from the output is blank, but it makes the interpreter\u001b[39;00m\n\u001b[1;32m   2002\u001b[0m \u001b[38;5;66;03m# progress until it enters the Try/Except block of the generator and\u001b[39;00m\n\u001b[1;32m   2003\u001b[0m \u001b[38;5;66;03m# reaches the first `yield` statement. This starts the asynchronous\u001b[39;00m\n\u001b[1;32m   2004\u001b[0m \u001b[38;5;66;03m# dispatch of the tasks to the workers.\u001b[39;00m\n\u001b[1;32m   2005\u001b[0m \u001b[38;5;28mnext\u001b[39m(output)\n\u001b[0;32m-> 2007\u001b[0m \u001b[38;5;28;01mreturn\u001b[39;00m output \u001b[38;5;28;01mif\u001b[39;00m \u001b[38;5;28mself\u001b[39m\u001b[38;5;241m.\u001b[39mreturn_generator \u001b[38;5;28;01melse\u001b[39;00m \u001b[38;5;28;43mlist\u001b[39;49m\u001b[43m(\u001b[49m\u001b[43moutput\u001b[49m\u001b[43m)\u001b[49m\n",
      "File \u001b[0;32m/opt/conda/envs/pySunODE/lib/python3.12/site-packages/joblib/parallel.py:1650\u001b[0m, in \u001b[0;36mParallel._get_outputs\u001b[0;34m(self, iterator, pre_dispatch)\u001b[0m\n\u001b[1;32m   1647\u001b[0m     \u001b[38;5;28;01myield\u001b[39;00m\n\u001b[1;32m   1649\u001b[0m     \u001b[38;5;28;01mwith\u001b[39;00m \u001b[38;5;28mself\u001b[39m\u001b[38;5;241m.\u001b[39m_backend\u001b[38;5;241m.\u001b[39mretrieval_context():\n\u001b[0;32m-> 1650\u001b[0m         \u001b[38;5;28;01myield from\u001b[39;00m \u001b[38;5;28mself\u001b[39m\u001b[38;5;241m.\u001b[39m_retrieve()\n\u001b[1;32m   1652\u001b[0m \u001b[38;5;28;01mexcept\u001b[39;00m \u001b[38;5;167;01mGeneratorExit\u001b[39;00m:\n\u001b[1;32m   1653\u001b[0m     \u001b[38;5;66;03m# The generator has been garbage collected before being fully\u001b[39;00m\n\u001b[1;32m   1654\u001b[0m     \u001b[38;5;66;03m# consumed. This aborts the remaining tasks if possible and warn\u001b[39;00m\n\u001b[1;32m   1655\u001b[0m     \u001b[38;5;66;03m# the user if necessary.\u001b[39;00m\n\u001b[1;32m   1656\u001b[0m     \u001b[38;5;28mself\u001b[39m\u001b[38;5;241m.\u001b[39m_exception \u001b[38;5;241m=\u001b[39m \u001b[38;5;28;01mTrue\u001b[39;00m\n",
      "File \u001b[0;32m/opt/conda/envs/pySunODE/lib/python3.12/site-packages/joblib/parallel.py:1762\u001b[0m, in \u001b[0;36mParallel._retrieve\u001b[0;34m(self)\u001b[0m\n\u001b[1;32m   1757\u001b[0m \u001b[38;5;66;03m# If the next job is not ready for retrieval yet, we just wait for\u001b[39;00m\n\u001b[1;32m   1758\u001b[0m \u001b[38;5;66;03m# async callbacks to progress.\u001b[39;00m\n\u001b[1;32m   1759\u001b[0m \u001b[38;5;28;01mif\u001b[39;00m ((\u001b[38;5;28mlen\u001b[39m(\u001b[38;5;28mself\u001b[39m\u001b[38;5;241m.\u001b[39m_jobs) \u001b[38;5;241m==\u001b[39m \u001b[38;5;241m0\u001b[39m) \u001b[38;5;129;01mor\u001b[39;00m\n\u001b[1;32m   1760\u001b[0m     (\u001b[38;5;28mself\u001b[39m\u001b[38;5;241m.\u001b[39m_jobs[\u001b[38;5;241m0\u001b[39m]\u001b[38;5;241m.\u001b[39mget_status(\n\u001b[1;32m   1761\u001b[0m         timeout\u001b[38;5;241m=\u001b[39m\u001b[38;5;28mself\u001b[39m\u001b[38;5;241m.\u001b[39mtimeout) \u001b[38;5;241m==\u001b[39m TASK_PENDING)):\n\u001b[0;32m-> 1762\u001b[0m     \u001b[43mtime\u001b[49m\u001b[38;5;241;43m.\u001b[39;49m\u001b[43msleep\u001b[49m\u001b[43m(\u001b[49m\u001b[38;5;241;43m0.01\u001b[39;49m\u001b[43m)\u001b[49m\n\u001b[1;32m   1763\u001b[0m     \u001b[38;5;28;01mcontinue\u001b[39;00m\n\u001b[1;32m   1765\u001b[0m \u001b[38;5;66;03m# We need to be careful: the job list can be filling up as\u001b[39;00m\n\u001b[1;32m   1766\u001b[0m \u001b[38;5;66;03m# we empty it and Python list are not thread-safe by\u001b[39;00m\n\u001b[1;32m   1767\u001b[0m \u001b[38;5;66;03m# default hence the use of the lock\u001b[39;00m\n",
      "\u001b[0;31mKeyboardInterrupt\u001b[0m: "
     ]
    }
   ],
   "source": [
    "mod_sse_mm = mod_sse_mm.fit2(scale_df,checkpoint_filename='check_test2_mm.jb', parallel=True, parallel_n_jobs=4)"
   ]
  },
  {
   "cell_type": "code",
   "execution_count": 17,
   "metadata": {},
   "outputs": [
    {
     "name": "stderr",
     "output_type": "stream",
     "text": [
      " This problem is unconstrained.\n"
     ]
    },
    {
     "name": "stdout",
     "output_type": "stream",
     "text": [
      "RUNNING THE L-BFGS-B CODE\n",
      "\n",
      "           * * *\n",
      "\n",
      "Machine precision = 2.220D-16\n",
      " N =            5     M =           10\n",
      "\n",
      "At X0         0 variables are exactly at the bounds\n",
      "\n",
      "At iterate    0    f=  6.47340D+06    |proj g|=  7.75525D+06\n",
      "\n",
      "At iterate    1    f=  2.22428D+06    |proj g|=  3.11198D+06\n",
      "\n",
      "At iterate    2    f=  2.04938D+06    |proj g|=  2.73193D+06\n",
      "\n",
      "At iterate    3    f=  1.76539D+06    |proj g|=  3.57271D+05\n",
      "\n",
      "At iterate    4    f=  1.75967D+06    |proj g|=  2.67493D+05\n",
      "\n",
      "At iterate    5    f=  1.75547D+06    |proj g|=  1.85133D+05\n",
      "Iteration 5: Checkpoint saved to logs/check_test2__5__5.jb\n",
      "\n",
      "At iterate    6    f=  1.75356D+06    |proj g|=  5.54949D+04\n",
      "\n",
      "At iterate    7    f=  1.75331D+06    |proj g|=  2.18176D+04\n",
      "\n",
      "At iterate    8    f=  1.75316D+06    |proj g|=  3.42912D+04\n",
      "\n",
      "At iterate    9    f=  1.75299D+06    |proj g|=  3.72207D+04\n",
      "\n",
      "At iterate   10    f=  1.75279D+06    |proj g|=  2.22034D+04\n",
      "Iteration 10: Checkpoint saved to logs/check_test2__5__10.jb\n",
      "\n",
      "At iterate   11    f=  1.75272D+06    |proj g|=  5.63050D+03\n",
      "\n",
      "At iterate   12    f=  1.75272D+06    |proj g|=  8.09482D+02\n",
      "\n",
      "At iterate   13    f=  1.75272D+06    |proj g|=  5.89760D+01\n",
      "\n",
      "At iterate   14    f=  1.75272D+06    |proj g|=  2.96393D+01\n",
      "\n",
      "           * * *\n",
      "\n",
      "Tit   = total number of iterations\n",
      "Tnf   = total number of function evaluations\n",
      "Tnint = total number of segments explored during Cauchy searches\n",
      "Skip  = number of BFGS updates skipped\n",
      "Nact  = number of active bounds at final generalized Cauchy point\n",
      "Projg = norm of the final projected gradient\n",
      "F     = final function value\n",
      "\n",
      "           * * *\n",
      "\n",
      "   N    Tit     Tnf  Tnint  Skip  Nact     Projg        F\n",
      "    5     14     16      1     0     0   2.964D+01   1.753D+06\n",
      "  F =   1752721.7062722065     \n",
      "\n",
      "CONVERGENCE: REL_REDUCTION_OF_F_<=_FACTR*EPSMCH             \n"
     ]
    }
   ],
   "source": [
    "mod_sse = mod_sse.fit2(scale_df, checkpoint_filename='check_test2.jb', parallel=True, parallel_n_jobs=4)"
   ]
  },
  {
   "cell_type": "code",
   "execution_count": 21,
   "metadata": {},
   "outputs": [
    {
     "data": {
      "text/plain": [
       "array([0.36111812, 1.10767102, 0.89983385, 0.70093422, 0.981095  ])"
      ]
     },
     "execution_count": 21,
     "metadata": {},
     "output_type": "execute_result"
    }
   ],
   "source": [
    "np.exp(mod_sse.fit_result_['x'])"
   ]
  },
  {
   "cell_type": "code",
   "execution_count": 23,
   "metadata": {},
   "outputs": [
    {
     "name": "stdout",
     "output_type": "stream",
     "text": [
      "RUNNING THE L-BFGS-B CODE\n",
      "\n",
      "           * * *\n",
      "\n",
      "Machine precision = 2.220D-16\n",
      " N =            2     M =           10\n",
      "\n",
      "At X0         0 variables are exactly at the bounds\n",
      "\n",
      "At iterate    0    f=  2.24542D+06    |proj g|=  2.89943D+06\n"
     ]
    },
    {
     "name": "stderr",
     "output_type": "stream",
     "text": [
      " This problem is unconstrained.\n"
     ]
    },
    {
     "name": "stdout",
     "output_type": "stream",
     "text": [
      "\n",
      "At iterate    1    f=  1.86205D+06    |proj g|=  3.68038D+05\n",
      "\n",
      "At iterate    2    f=  1.85653D+06    |proj g|=  3.80382D+04\n",
      "\n",
      "At iterate    3    f=  1.85647D+06    |proj g|=  3.98513D+02\n",
      "\n",
      "At iterate    4    f=  1.85647D+06    |proj g|=  3.72529D-01\n",
      "\n",
      "At iterate    5    f=  1.85647D+06    |proj g|=  1.86265D-01\n",
      "Iteration 5: Checkpoint saved to logs/check_test2_nocov__5.jb\n",
      "\n",
      "           * * *\n",
      "\n",
      "Tit   = total number of iterations\n",
      "Tnf   = total number of function evaluations\n",
      "Tnint = total number of segments explored during Cauchy searches\n",
      "Skip  = number of BFGS updates skipped\n",
      "Nact  = number of active bounds at final generalized Cauchy point\n",
      "Projg = norm of the final projected gradient\n",
      "F     = final function value\n",
      "\n",
      "           * * *\n",
      "\n",
      "   N    Tit     Tnf  Tnint  Skip  Nact     Projg        F\n",
      "    2      5      7      1     0     0   1.863D-01   1.856D+06\n",
      "  F =   1856467.4158051831     \n",
      "\n",
      "CONVERGENCE: REL_REDUCTION_OF_F_<=_FACTR*EPSMCH             \n"
     ]
    }
   ],
   "source": [
    "mod_sse_no_cov = mod_sse_no_cov.fit2(scale_df, checkpoint_filename='check_test2_nocov.jb', parallel=True, parallel_n_jobs=4)"
   ]
  },
  {
   "cell_type": "code",
   "execution_count": 18,
   "metadata": {},
   "outputs": [
    {
     "name": "stdout",
     "output_type": "stream",
     "text": [
      "RUNNING THE L-BFGS-B CODE\n",
      "\n",
      "           * * *\n",
      "\n",
      "Machine precision = 2.220D-16\n",
      " N =            2     M =           10\n",
      "\n",
      "At X0         0 variables are exactly at the bounds\n",
      "\n",
      "At iterate    0    f=  2.24542D+06    |proj g|=  2.89943D+06\n"
     ]
    },
    {
     "name": "stderr",
     "output_type": "stream",
     "text": [
      " This problem is unconstrained.\n"
     ]
    },
    {
     "name": "stdout",
     "output_type": "stream",
     "text": [
      "\n",
      "At iterate    1    f=  1.86205D+06    |proj g|=  3.68038D+05\n",
      "\n",
      "At iterate    2    f=  1.85653D+06    |proj g|=  3.80382D+04\n",
      "\n",
      "At iterate    3    f=  1.85647D+06    |proj g|=  3.98513D+02\n",
      "\n",
      "At iterate    4    f=  1.85647D+06    |proj g|=  3.72529D-01\n",
      "\n",
      "At iterate    5    f=  1.85647D+06    |proj g|=  1.86265D-01\n",
      "Iteration 5: Checkpoint saved to logs/check_test2_nocov__5.jb\n",
      "\n",
      "           * * *\n",
      "\n",
      "Tit   = total number of iterations\n",
      "Tnf   = total number of function evaluations\n",
      "Tnint = total number of segments explored during Cauchy searches\n",
      "Skip  = number of BFGS updates skipped\n",
      "Nact  = number of active bounds at final generalized Cauchy point\n",
      "Projg = norm of the final projected gradient\n",
      "F     = final function value\n",
      "\n",
      "           * * *\n",
      "\n",
      "   N    Tit     Tnf  Tnint  Skip  Nact     Projg        F\n",
      "    2      5      7      1     0     0   1.863D-01   1.856D+06\n",
      "  F =   1856467.4158051831     \n",
      "\n",
      "CONVERGENCE: REL_REDUCTION_OF_F_<=_FACTR*EPSMCH             \n"
     ]
    }
   ],
   "source": [
    "mod_sse_no_cov = mod_sse_no_cov.fit2(scale_df, checkpoint_filename='check_test2_nocov.jb', parallel=True, parallel_n_jobs=4)"
   ]
  },
  {
   "cell_type": "code",
   "execution_count": 17,
   "metadata": {},
   "outputs": [
    {
     "data": {
      "text/plain": [
       "array([2.75000000e+02, 2.18899784e+02, 1.74220057e+02, ...,\n",
       "       1.07801534e-02, 5.59765801e-05, 3.30577211e-07])"
      ]
     },
     "execution_count": 17,
     "metadata": {},
     "output_type": "execute_result"
    }
   ],
   "source": [
    "mod_sse.predict2(scale_df)"
   ]
  },
  {
   "cell_type": "code",
   "execution_count": 19,
   "metadata": {},
   "outputs": [
    {
     "data": {
      "text/plain": [
       "array([0.6254745 , 1.91854309, 0.89983208, 0.70093536, 0.98109918])"
      ]
     },
     "execution_count": 19,
     "metadata": {},
     "output_type": "execute_result"
    }
   ],
   "source": [
    "np.exp(mod_sse.fit_result_['x'])"
   ]
  },
  {
   "cell_type": "code",
   "execution_count": 17,
   "metadata": {},
   "outputs": [
    {
     "name": "stdout",
     "output_type": "stream",
     "text": [
      "RUNNING THE L-BFGS-B CODE\n",
      "\n",
      "           * * *\n",
      "\n",
      "Machine precision = 2.220D-16\n",
      " N =            5     M =           10\n",
      "\n",
      "At X0         0 variables are exactly at the bounds\n",
      "\n",
      "At iterate    0    f=  2.24542D+06    |proj g|=  2.89943D+06\n"
     ]
    },
    {
     "name": "stderr",
     "output_type": "stream",
     "text": [
      " This problem is unconstrained.\n"
     ]
    },
    {
     "name": "stdout",
     "output_type": "stream",
     "text": [
      "\n",
      "At iterate    1    f=  1.81944D+06    |proj g|=  7.18267D+05\n",
      "\n",
      "At iterate    2    f=  1.80455D+06    |proj g|=  2.25158D+05\n",
      "\n",
      "At iterate    3    f=  1.78737D+06    |proj g|=  2.75996D+05\n",
      "\n",
      "At iterate    4    f=  1.76216D+06    |proj g|=  1.56072D+05\n",
      "\n",
      "At iterate    5    f=  1.75378D+06    |proj g|=  1.05386D+05\n",
      "Iteration 5: Checkpoint saved to logs/check_test2__5.jb\n",
      "\n",
      "At iterate    6    f=  1.75291D+06    |proj g|=  5.70806D+04\n",
      "\n",
      "At iterate    7    f=  1.75272D+06    |proj g|=  1.64185D+03\n",
      "\n",
      "At iterate    8    f=  1.75272D+06    |proj g|=  3.64380D+01\n",
      "\n",
      "At iterate    9    f=  1.75272D+06    |proj g|=  6.21658D+00\n",
      "\n",
      "           * * *\n",
      "\n",
      "Tit   = total number of iterations\n",
      "Tnf   = total number of function evaluations\n",
      "Tnint = total number of segments explored during Cauchy searches\n",
      "Skip  = number of BFGS updates skipped\n",
      "Nact  = number of active bounds at final generalized Cauchy point\n",
      "Projg = norm of the final projected gradient\n",
      "F     = final function value\n",
      "\n",
      "           * * *\n",
      "\n",
      "   N    Tit     Tnf  Tnint  Skip  Nact     Projg        F\n",
      "    5      9     13      1     0     0   6.217D+00   1.753D+06\n",
      "  F =   1752721.7046903432     \n",
      "\n",
      "CONVERGENCE: REL_REDUCTION_OF_F_<=_FACTR*EPSMCH             \n"
     ]
    }
   ],
   "source": [
    "#with numba\n",
    "mod_sse = mod_sse.fit2(scale_df, checkpoint_filename='check_test2.jb', parallel=True, parallel_n_jobs=2)"
   ]
  },
  {
   "cell_type": "code",
   "execution_count": null,
   "metadata": {},
   "outputs": [
    {
     "name": "stdout",
     "output_type": "stream",
     "text": [
      "RUNNING THE L-BFGS-B CODE\n",
      "\n",
      "           * * *\n",
      "\n",
      "Machine precision = 2.220D-16\n",
      " N =            5     M =           10\n",
      "\n",
      "At X0         0 variables are exactly at the bounds\n",
      "\n",
      "At iterate    0    f=  2.24542D+06    |proj g|=  2.89943D+06\n"
     ]
    },
    {
     "name": "stderr",
     "output_type": "stream",
     "text": [
      " This problem is unconstrained.\n"
     ]
    },
    {
     "name": "stdout",
     "output_type": "stream",
     "text": [
      "\n",
      "At iterate    1    f=  1.81944D+06    |proj g|=  7.18267D+05\n",
      "\n",
      "At iterate    2    f=  1.80455D+06    |proj g|=  2.25158D+05\n",
      "\n",
      "At iterate    3    f=  1.78737D+06    |proj g|=  2.75996D+05\n",
      "\n",
      "At iterate    4    f=  1.76216D+06    |proj g|=  1.56072D+05\n",
      "\n",
      "At iterate    5    f=  1.75378D+06    |proj g|=  1.05386D+05\n",
      "Iteration 5: Checkpoint saved to logs/check_test2__5.jb\n",
      "\n",
      "At iterate    6    f=  1.75291D+06    |proj g|=  5.70806D+04\n",
      "\n",
      "At iterate    7    f=  1.75272D+06    |proj g|=  1.64185D+03\n",
      "\n",
      "At iterate    8    f=  1.75272D+06    |proj g|=  3.64380D+01\n",
      "\n",
      "At iterate    9    f=  1.75272D+06    |proj g|=  6.21658D+00\n",
      "\n",
      "           * * *\n",
      "\n",
      "Tit   = total number of iterations\n",
      "Tnf   = total number of function evaluations\n",
      "Tnint = total number of segments explored during Cauchy searches\n",
      "Skip  = number of BFGS updates skipped\n",
      "Nact  = number of active bounds at final generalized Cauchy point\n",
      "Projg = norm of the final projected gradient\n",
      "F     = final function value\n",
      "\n",
      "           * * *\n",
      "\n",
      "   N    Tit     Tnf  Tnint  Skip  Nact     Projg        F\n",
      "    5      9     13      1     0     0   6.217D+00   1.753D+06\n",
      "  F =   1752721.7046903432     \n",
      "\n",
      "CONVERGENCE: REL_REDUCTION_OF_F_<=_FACTR*EPSMCH             \n"
     ]
    }
   ],
   "source": [
    "mod_sse = mod_sse.fit2(scale_df, checkpoint_filename='check_test2.jb', parallel=True, parallel_n_jobs=4)"
   ]
  },
  {
   "cell_type": "code",
   "execution_count": 17,
   "metadata": {},
   "outputs": [
    {
     "name": "stdout",
     "output_type": "stream",
     "text": [
      "RUNNING THE L-BFGS-B CODE\n",
      "\n",
      "           * * *\n",
      "\n",
      "Machine precision = 2.220D-16\n",
      " N =            5     M =           10\n",
      "\n",
      "At X0         0 variables are exactly at the bounds\n",
      "\n",
      "At iterate    0    f=  2.24542D+06    |proj g|=  2.89943D+06\n"
     ]
    },
    {
     "name": "stderr",
     "output_type": "stream",
     "text": [
      " This problem is unconstrained.\n"
     ]
    },
    {
     "name": "stdout",
     "output_type": "stream",
     "text": [
      "\n",
      "At iterate    1    f=  1.81944D+06    |proj g|=  7.18267D+05\n",
      "\n",
      "At iterate    2    f=  1.80455D+06    |proj g|=  2.25158D+05\n",
      "\n",
      "At iterate    3    f=  1.78737D+06    |proj g|=  2.75996D+05\n",
      "\n",
      "At iterate    4    f=  1.76216D+06    |proj g|=  1.56072D+05\n",
      "\n",
      "At iterate    5    f=  1.75378D+06    |proj g|=  1.05386D+05\n",
      "Iteration 5: Checkpoint saved to logs/check_test__5.jb\n",
      "\n",
      "At iterate    6    f=  1.75291D+06    |proj g|=  5.70817D+04\n",
      "\n",
      "At iterate    7    f=  1.75272D+06    |proj g|=  1.64236D+03\n",
      "\n",
      "At iterate    8    f=  1.75272D+06    |proj g|=  3.61353D+01\n",
      "\n",
      "At iterate    9    f=  1.75272D+06    |proj g|=  6.07688D+00\n",
      "\n",
      "           * * *\n",
      "\n",
      "Tit   = total number of iterations\n",
      "Tnf   = total number of function evaluations\n",
      "Tnint = total number of segments explored during Cauchy searches\n",
      "Skip  = number of BFGS updates skipped\n",
      "Nact  = number of active bounds at final generalized Cauchy point\n",
      "Projg = norm of the final projected gradient\n",
      "F     = final function value\n",
      "\n",
      "           * * *\n",
      "\n",
      "   N    Tit     Tnf  Tnint  Skip  Nact     Projg        F\n",
      "    5      9     13      1     0     0   6.077D+00   1.753D+06\n",
      "  F =   1752721.7046898128     \n",
      "\n",
      "CONVERGENCE: REL_REDUCTION_OF_F_<=_FACTR*EPSMCH             \n"
     ]
    }
   ],
   "source": [
    "mod_sse2= mod_sse2.fit(scale_df)"
   ]
  },
  {
   "cell_type": "code",
   "execution_count": 17,
   "metadata": {},
   "outputs": [
    {
     "data": {
      "text/plain": [
       "78"
      ]
     },
     "execution_count": 17,
     "metadata": {},
     "output_type": "execute_result"
    }
   ],
   "source": [
    "mod_sse2.objective_calls"
   ]
  },
  {
   "cell_type": "code",
   "execution_count": 17,
   "metadata": {},
   "outputs": [
    {
     "name": "stdout",
     "output_type": "stream",
     "text": [
      "Iteration 5: Checkpoint saved to logs/check_allo_sse__5.jb\n"
     ]
    }
   ],
   "source": [
    "import cProfile\n",
    "import pstats\n",
    "\n",
    "#profiler = cProfile.Profile()\n",
    "#profiler.enable()\n",
    "\n",
    "mod_sse = mod_sse.fit(scale_df, parallel=True, warm_start=False, checkpoint_filename='check_allo_sse.jb')\n",
    "\n",
    "#profiler.disable()\n",
    "#stats = pstats.Stats(profiler).sort_stats('cumtime') # 'cumtime' for total time in a function\n"
   ]
  },
  {
   "cell_type": "code",
   "execution_count": 22,
   "metadata": {},
   "outputs": [],
   "source": [
    "sse_df = mod_sse.predict(scale_df, return_df=True)"
   ]
  },
  {
   "cell_type": "code",
   "execution_count": 18,
   "metadata": {},
   "outputs": [
    {
     "data": {
      "text/plain": [
       "  message: CONVERGENCE: REL_REDUCTION_OF_F_<=_FACTR*EPSMCH\n",
       "  success: True\n",
       "   status: 0\n",
       "      fun: 1752721.7046898128\n",
       "        x: [-4.692e-01  6.516e-01 -1.055e-01 -3.553e-01 -1.908e-02]\n",
       "      nit: 9\n",
       "      jac: [-5.355e-01  6.054e-01 -6.985e-02  3.073e+00 -6.077e+00]\n",
       "     nfev: 78\n",
       "     njev: 13\n",
       " hess_inv: <5x5 LbfgsInvHessProduct with dtype=float64>"
      ]
     },
     "execution_count": 18,
     "metadata": {},
     "output_type": "execute_result"
    }
   ],
   "source": [
    "mod_sse.fit_result_"
   ]
  },
  {
   "cell_type": "code",
   "execution_count": 19,
   "metadata": {},
   "outputs": [
    {
     "data": {
      "text/html": [
       "<div>\n",
       "<style scoped>\n",
       "    .dataframe tbody tr th:only-of-type {\n",
       "        vertical-align: middle;\n",
       "    }\n",
       "\n",
       "    .dataframe tbody tr th {\n",
       "        vertical-align: top;\n",
       "    }\n",
       "\n",
       "    .dataframe thead th {\n",
       "        text-align: right;\n",
       "    }\n",
       "</style>\n",
       "<table border=\"1\" class=\"dataframe\">\n",
       "  <thead>\n",
       "    <tr style=\"text-align: right;\">\n",
       "      <th></th>\n",
       "      <th>population_coeff</th>\n",
       "      <th>model_coeff</th>\n",
       "      <th>model_coeff_indep_var</th>\n",
       "      <th>log_coeff</th>\n",
       "      <th>log_coeff_history_final</th>\n",
       "      <th>coeff_estimates_equal</th>\n",
       "      <th>coeff</th>\n",
       "    </tr>\n",
       "  </thead>\n",
       "  <tbody>\n",
       "    <tr>\n",
       "      <th>0</th>\n",
       "      <td>True</td>\n",
       "      <td>k</td>\n",
       "      <td>None</td>\n",
       "      <td>-0.469245</td>\n",
       "      <td>-0.469245</td>\n",
       "      <td>True</td>\n",
       "      <td>0.625474</td>\n",
       "    </tr>\n",
       "    <tr>\n",
       "      <th>1</th>\n",
       "      <td>True</td>\n",
       "      <td>vd</td>\n",
       "      <td>None</td>\n",
       "      <td>0.651566</td>\n",
       "      <td>0.651566</td>\n",
       "      <td>True</td>\n",
       "      <td>1.918543</td>\n",
       "    </tr>\n",
       "    <tr>\n",
       "      <th>2</th>\n",
       "      <td>False</td>\n",
       "      <td>k</td>\n",
       "      <td>AGE_scale</td>\n",
       "      <td>-0.105547</td>\n",
       "      <td>-0.105547</td>\n",
       "      <td>True</td>\n",
       "      <td>0.899832</td>\n",
       "    </tr>\n",
       "    <tr>\n",
       "      <th>3</th>\n",
       "      <td>False</td>\n",
       "      <td>k</td>\n",
       "      <td>SEX</td>\n",
       "      <td>-0.355340</td>\n",
       "      <td>-0.355340</td>\n",
       "      <td>True</td>\n",
       "      <td>0.700935</td>\n",
       "    </tr>\n",
       "    <tr>\n",
       "      <th>4</th>\n",
       "      <td>False</td>\n",
       "      <td>vd</td>\n",
       "      <td>WT_scale</td>\n",
       "      <td>-0.019082</td>\n",
       "      <td>-0.019082</td>\n",
       "      <td>False</td>\n",
       "      <td>0.981099</td>\n",
       "    </tr>\n",
       "  </tbody>\n",
       "</table>\n",
       "</div>"
      ],
      "text/plain": [
       "   population_coeff model_coeff model_coeff_indep_var  log_coeff  \\\n",
       "0              True           k                  None  -0.469245   \n",
       "1              True          vd                  None   0.651566   \n",
       "2             False           k             AGE_scale  -0.105547   \n",
       "3             False           k                   SEX  -0.355340   \n",
       "4             False          vd              WT_scale  -0.019082   \n",
       "\n",
       "   log_coeff_history_final  coeff_estimates_equal     coeff  \n",
       "0                -0.469245                   True  0.625474  \n",
       "1                 0.651566                   True  1.918543  \n",
       "2                -0.105547                   True  0.899832  \n",
       "3                -0.355340                   True  0.700935  \n",
       "4                -0.019082                  False  0.981099  "
      ]
     },
     "execution_count": 19,
     "metadata": {},
     "output_type": "execute_result"
    }
   ],
   "source": [
    "mod_sse.fit_result_summary_"
   ]
  },
  {
   "cell_type": "code",
   "execution_count": 20,
   "metadata": {},
   "outputs": [
    {
     "name": "stdout",
     "output_type": "stream",
     "text": [
      "Iteration 5: Checkpoint saved to logs/check_allo_mse__15__5.jb\n"
     ]
    }
   ],
   "source": [
    "from utils import OneCompartmentModel, mean_squared_error_loss\n",
    "\n",
    "\n",
    "mod_mse = OneCompartmentModel(dep_vars= {'k':[ ObjectiveFunctionColumn('AGE_scale'),\n",
    "                                                ObjectiveFunctionColumn('SEX')],\n",
    "                                           'vd':[ObjectiveFunctionColumn('WT_scale',\n",
    "                                                                         model_method='linear', \n",
    "                                                                         #allometric_norm_value=wt_scaler.transform([[70]])[0][0]\n",
    "                                                                         )]}, \n",
    "                          loss_function=mean_squared_error_loss\n",
    "                          )\n",
    "mod_mse = mod_mse.fit(scale_df, parallel=True, checkpoint_filename='check_allo_mse.jb')"
   ]
  },
  {
   "cell_type": "code",
   "execution_count": 21,
   "metadata": {},
   "outputs": [
    {
     "data": {
      "text/plain": [
       "  message: CONVERGENCE: REL_REDUCTION_OF_F_<=_FACTR*EPSMCH\n",
       "  success: True\n",
       "   status: 0\n",
       "      fun: 1081.9269782036092\n",
       "        x: [-4.692e-01  6.516e-01 -1.055e-01 -3.553e-01 -1.908e-02]\n",
       "      nit: 9\n",
       "      jac: [-2.046e-04  3.638e-04 -6.821e-05  1.887e-03 -3.820e-03]\n",
       "     nfev: 78\n",
       "     njev: 13\n",
       " hess_inv: <5x5 LbfgsInvHessProduct with dtype=float64>"
      ]
     },
     "execution_count": 21,
     "metadata": {},
     "output_type": "execute_result"
    }
   ],
   "source": [
    "mod_mse.fit_result_"
   ]
  },
  {
   "cell_type": "code",
   "execution_count": 23,
   "metadata": {},
   "outputs": [],
   "source": [
    "rse_df = mod_mse.predict(scale_df, return_df=True)"
   ]
  },
  {
   "cell_type": "code",
   "execution_count": 20,
   "metadata": {},
   "outputs": [
    {
     "name": "stdout",
     "output_type": "stream",
     "text": [
      "RUNNING THE L-BFGS-B CODE\n",
      "\n",
      "           * * *\n",
      "\n",
      "Machine precision = 2.220D-16\n",
      " N =            5     M =           10\n",
      "\n",
      "At X0         0 variables are exactly at the bounds\n",
      "\n",
      "At iterate    0    f=  3.54922D+01    |proj g|=  2.51729D+01\n"
     ]
    },
    {
     "name": "stderr",
     "output_type": "stream",
     "text": [
      " This problem is unconstrained.\n"
     ]
    },
    {
     "name": "stdout",
     "output_type": "stream",
     "text": [
      "\n",
      "At iterate    1    f=  3.05319D+01    |proj g|=  1.03816D+01\n",
      "\n",
      "At iterate    2    f=  3.00048D+01    |proj g|=  5.00334D+00\n",
      "\n",
      "At iterate    3    f=  2.98923D+01    |proj g|=  1.74563D+00\n",
      "\n",
      "At iterate    4    f=  2.98186D+01    |proj g|=  8.75281D-01\n",
      "\n",
      "Iteration 5: Checkpoint saved to logs/huber_log__5.jb\n",
      "At iterate    5    f=  2.97633D+01    |proj g|=  1.38042D+00\n",
      "\n",
      "At iterate    6    f=  2.96746D+01    |proj g|=  3.41867D+00\n",
      "\n",
      "At iterate    7    f=  2.95968D+01    |proj g|=  1.36899D+00\n",
      "\n",
      "At iterate    8    f=  2.95796D+01    |proj g|=  7.75420D-01\n",
      "\n",
      "At iterate    9    f=  2.95773D+01    |proj g|=  3.23592D-01\n",
      "\n",
      "At iterate   10    f=  2.95763D+01    |proj g|=  1.60589D-01\n",
      "Iteration 10: Checkpoint saved to logs/huber_log__10.jb\n",
      "\n",
      "At iterate   11    f=  2.95761D+01    |proj g|=  5.65404D-02\n",
      "\n",
      "           * * *\n",
      "\n",
      "Tit   = total number of iterations\n",
      "Tnf   = total number of function evaluations\n",
      "Tnint = total number of segments explored during Cauchy searches\n",
      "Skip  = number of BFGS updates skipped\n",
      "Nact  = number of active bounds at final generalized Cauchy point\n",
      "Projg = norm of the final projected gradient\n",
      "F     = final function value\n",
      "\n",
      "           * * *\n",
      "\n",
      "   N    Tit     Tnf  Tnint  Skip  Nact     Projg        F\n",
      "    5     11     16      1     0     0   5.654D-02   2.958D+01\n",
      "  F =   29.576097159457785     \n",
      "\n",
      "CONVERGENCE: REL_REDUCTION_OF_F_<=_FACTR*EPSMCH             \n"
     ]
    }
   ],
   "source": [
    "from utils import huber_loss\n",
    "\n",
    "mod_huber = OneCompartmentModel(dep_vars= {'k':[ ObjectiveFunctionColumn('AGE_scale'),\n",
    "                                                ObjectiveFunctionColumn('SEX')],\n",
    "                                           'vd':[ObjectiveFunctionColumn('WT_scale',\n",
    "                                                                         model_method='linear', \n",
    "                                                                         \n",
    "                                                                         )]}, \n",
    "                          loss_function=huber_loss,\n",
    "                          loss_params={'delta':1.73}, \n",
    "                          optimizer_tol=1e-5\n",
    "                          )\n",
    "mod_huber = mod_huber.fit2(scale_df, parallel=True, parallel_n_jobs=4, checkpoint_filename='huber_log.jb')"
   ]
  },
  {
   "cell_type": "code",
   "execution_count": 22,
   "metadata": {},
   "outputs": [
    {
     "data": {
      "text/plain": [
       "array([0.59805546, 2.00650275, 0.91321679, 0.67233459, 0.92652849])"
      ]
     },
     "execution_count": 22,
     "metadata": {},
     "output_type": "execute_result"
    }
   ],
   "source": [
    "np.exp(mod_huber.fit_result_['x'])"
   ]
  },
  {
   "cell_type": "code",
   "execution_count": 27,
   "metadata": {},
   "outputs": [
    {
     "data": {
      "text/html": [
       "<div>\n",
       "<style scoped>\n",
       "    .dataframe tbody tr th:only-of-type {\n",
       "        vertical-align: middle;\n",
       "    }\n",
       "\n",
       "    .dataframe tbody tr th {\n",
       "        vertical-align: top;\n",
       "    }\n",
       "\n",
       "    .dataframe thead th {\n",
       "        text-align: right;\n",
       "    }\n",
       "</style>\n",
       "<table border=\"1\" class=\"dataframe\">\n",
       "  <thead>\n",
       "    <tr style=\"text-align: right;\">\n",
       "      <th></th>\n",
       "      <th>population_coeff</th>\n",
       "      <th>model_coeff</th>\n",
       "      <th>model_coeff_indep_var</th>\n",
       "      <th>log_coeff</th>\n",
       "      <th>log_coeff_history_final</th>\n",
       "      <th>coeff_estimates_equal</th>\n",
       "      <th>coeff</th>\n",
       "    </tr>\n",
       "  </thead>\n",
       "  <tbody>\n",
       "    <tr>\n",
       "      <th>0</th>\n",
       "      <td>True</td>\n",
       "      <td>k</td>\n",
       "      <td>None</td>\n",
       "      <td>-0.514065</td>\n",
       "      <td>-0.514065</td>\n",
       "      <td>True</td>\n",
       "      <td>0.598060</td>\n",
       "    </tr>\n",
       "    <tr>\n",
       "      <th>1</th>\n",
       "      <td>True</td>\n",
       "      <td>vd</td>\n",
       "      <td>None</td>\n",
       "      <td>0.696386</td>\n",
       "      <td>0.696386</td>\n",
       "      <td>True</td>\n",
       "      <td>2.006488</td>\n",
       "    </tr>\n",
       "    <tr>\n",
       "      <th>2</th>\n",
       "      <td>False</td>\n",
       "      <td>k</td>\n",
       "      <td>AGE_scale</td>\n",
       "      <td>-0.090781</td>\n",
       "      <td>-0.090781</td>\n",
       "      <td>True</td>\n",
       "      <td>0.913217</td>\n",
       "    </tr>\n",
       "    <tr>\n",
       "      <th>3</th>\n",
       "      <td>False</td>\n",
       "      <td>k</td>\n",
       "      <td>SEX</td>\n",
       "      <td>-0.397012</td>\n",
       "      <td>-0.397012</td>\n",
       "      <td>True</td>\n",
       "      <td>0.672326</td>\n",
       "    </tr>\n",
       "    <tr>\n",
       "      <th>4</th>\n",
       "      <td>False</td>\n",
       "      <td>vd</td>\n",
       "      <td>WT_scale</td>\n",
       "      <td>-0.076311</td>\n",
       "      <td>-0.076311</td>\n",
       "      <td>False</td>\n",
       "      <td>0.926528</td>\n",
       "    </tr>\n",
       "  </tbody>\n",
       "</table>\n",
       "</div>"
      ],
      "text/plain": [
       "   population_coeff model_coeff model_coeff_indep_var  log_coeff  \\\n",
       "0              True           k                  None  -0.514065   \n",
       "1              True          vd                  None   0.696386   \n",
       "2             False           k             AGE_scale  -0.090781   \n",
       "3             False           k                   SEX  -0.397012   \n",
       "4             False          vd              WT_scale  -0.076311   \n",
       "\n",
       "   log_coeff_history_final  coeff_estimates_equal     coeff  \n",
       "0                -0.514065                   True  0.598060  \n",
       "1                 0.696386                   True  2.006488  \n",
       "2                -0.090781                   True  0.913217  \n",
       "3                -0.397012                   True  0.672326  \n",
       "4                -0.076311                  False  0.926528  "
      ]
     },
     "execution_count": 27,
     "metadata": {},
     "output_type": "execute_result"
    }
   ],
   "source": [
    "mod_huber.fit_result_summary_"
   ]
  },
  {
   "cell_type": "code",
   "execution_count": 28,
   "metadata": {},
   "outputs": [],
   "source": [
    "huber_df = mod_huber.predict(scale_df, return_df=True)"
   ]
  },
  {
   "cell_type": "code",
   "execution_count": 25,
   "metadata": {},
   "outputs": [
    {
     "name": "stderr",
     "output_type": "stream",
     "text": [
      "/opt/conda/envs/pySunODE/lib/python3.12/site-packages/sklearn/utils/validation.py:2739: UserWarning: X does not have valid feature names, but RobustScaler was fitted with feature names\n",
      "  warnings.warn(\n"
     ]
    }
   ],
   "source": [
    "from sklearn.model_selection import GroupKFold\n",
    "from utils import OneCompartmentModel\n",
    "huber_deltas = np.linspace(1.25,1.9, 30)\n",
    "#best_delta = 1.7655\n",
    "best_delta = 1.723\n",
    "tols = np.linspace(1e-2,1e-10, 100 )\n",
    "cv_df = scale_df.copy().reset_index(drop = True)\n",
    "X = cv_df.drop(columns = 'DV').copy()\n",
    "y = cv_df['DV'].copy()\n",
    "groups = cv_df['SUBJID'].copy()\n",
    "allo_scaler = wt_scaler.transform([[70]])[0][0]\n"
   ]
  },
  {
   "cell_type": "code",
   "execution_count": 26,
   "metadata": {},
   "outputs": [
    {
     "name": "stderr",
     "output_type": "stream",
     "text": [
      " 33%|███▎      | 33/100 [49:33<1:40:36, 90.09s/it]\n"
     ]
    },
    {
     "ename": "KeyboardInterrupt",
     "evalue": "",
     "output_type": "error",
     "traceback": [
      "\u001b[0;31m---------------------------------------------------------------------------\u001b[0m",
      "\u001b[0;31mKeyboardInterrupt\u001b[0m                         Traceback (most recent call last)",
      "Cell \u001b[0;32mIn[26], line 36\u001b[0m\n\u001b[1;32m     23\u001b[0m test_X \u001b[38;5;241m=\u001b[39m cv_df\u001b[38;5;241m.\u001b[39miloc[test_index, :]\u001b[38;5;241m.\u001b[39mcopy()  \n\u001b[1;32m     25\u001b[0m mod_huber \u001b[38;5;241m=\u001b[39m OneCompartmentModel(dep_vars\u001b[38;5;241m=\u001b[39m {\u001b[38;5;124m'\u001b[39m\u001b[38;5;124mk\u001b[39m\u001b[38;5;124m'\u001b[39m:[ ObjectiveFunctionColumn(\u001b[38;5;124m'\u001b[39m\u001b[38;5;124mAGE_scale\u001b[39m\u001b[38;5;124m'\u001b[39m, ),\n\u001b[1;32m     26\u001b[0m                                             ObjectiveFunctionColumn(\u001b[38;5;124m'\u001b[39m\u001b[38;5;124mSEX\u001b[39m\u001b[38;5;124m'\u001b[39m) ],\n\u001b[1;32m     27\u001b[0m                                     \u001b[38;5;124m'\u001b[39m\u001b[38;5;124mvd\u001b[39m\u001b[38;5;124m'\u001b[39m:[ObjectiveFunctionColumn(\u001b[38;5;124m'\u001b[39m\u001b[38;5;124mWT_scale\u001b[39m\u001b[38;5;124m'\u001b[39m,\n\u001b[0;32m   (...)\u001b[0m\n\u001b[1;32m     34\u001b[0m                     optimizer_tol\u001b[38;5;241m=\u001b[39md\n\u001b[1;32m     35\u001b[0m                     )\n\u001b[0;32m---> 36\u001b[0m mod_huber \u001b[38;5;241m=\u001b[39m \u001b[43mmod_huber\u001b[49m\u001b[38;5;241;43m.\u001b[39;49m\u001b[43mfit\u001b[49m\u001b[43m(\u001b[49m\u001b[43mtrain_X\u001b[49m\u001b[43m,\u001b[49m\u001b[43m \u001b[49m\u001b[43mparallel\u001b[49m\u001b[38;5;241;43m=\u001b[39;49m\u001b[43mfit_parallel\u001b[49m\u001b[43m,\u001b[49m\u001b[43mparallel_n_jobs\u001b[49m\u001b[38;5;241;43m=\u001b[39;49m\u001b[38;5;241;43m4\u001b[39;49m\u001b[43m \u001b[49m\u001b[43m,\u001b[49m\u001b[43mcheckpoint_filename\u001b[49m\u001b[38;5;241;43m=\u001b[39;49m\u001b[38;5;124;43mf\u001b[39;49m\u001b[38;5;124;43m'\u001b[39;49m\u001b[38;5;124;43mhuber_opt_d\u001b[39;49m\u001b[38;5;132;43;01m{\u001b[39;49;00m\u001b[43md\u001b[49m\u001b[38;5;132;43;01m}\u001b[39;49;00m\u001b[38;5;124;43m_cv\u001b[39;49m\u001b[38;5;132;43;01m{\u001b[39;49;00m\u001b[43mi\u001b[49m\u001b[38;5;132;43;01m}\u001b[39;49;00m\u001b[38;5;124;43m.jb\u001b[39;49m\u001b[38;5;124;43m'\u001b[39;49m\u001b[43m)\u001b[49m\n\u001b[1;32m     37\u001b[0m test_preds \u001b[38;5;241m=\u001b[39m mod_huber\u001b[38;5;241m.\u001b[39mpredict(test_X, parallel\u001b[38;5;241m=\u001b[39mfit_parallel,parallel_n_jobs\u001b[38;5;241m=\u001b[39m\u001b[38;5;241m4\u001b[39m )\n\u001b[1;32m     38\u001b[0m inner_mad \u001b[38;5;241m=\u001b[39m np\u001b[38;5;241m.\u001b[39mmean(np\u001b[38;5;241m.\u001b[39mabs(test_preds \u001b[38;5;241m-\u001b[39m test_X[\u001b[38;5;124m'\u001b[39m\u001b[38;5;124mDV\u001b[39m\u001b[38;5;124m'\u001b[39m]\u001b[38;5;241m.\u001b[39mvalues))\n",
      "File \u001b[0;32m/workspaces/miniconda/PK-Analysis/utils.py:386\u001b[0m, in \u001b[0;36mOneCompartmentModel.fit\u001b[0;34m(self, data, parallel, parallel_n_jobs, warm_start, checkpoint_filename)\u001b[0m\n\u001b[1;32m    383\u001b[0m \u001b[38;5;28;01mdef\u001b[39;00m \u001b[38;5;21mfit\u001b[39m(\u001b[38;5;28mself\u001b[39m, data, parallel \u001b[38;5;241m=\u001b[39m \u001b[38;5;28;01mFalse\u001b[39;00m, parallel_n_jobs \u001b[38;5;241m=\u001b[39m \u001b[38;5;241m-\u001b[39m\u001b[38;5;241m1\u001b[39m , warm_start \u001b[38;5;241m=\u001b[39m \u001b[38;5;28;01mFalse\u001b[39;00m, checkpoint_filename\u001b[38;5;241m=\u001b[39m\u001b[38;5;124m'\u001b[39m\u001b[38;5;124mcheck_test.jb\u001b[39m\u001b[38;5;124m'\u001b[39m):\n\u001b[1;32m    384\u001b[0m     \u001b[38;5;66;03m# bounds = [(None, None) for i in range(len(self.dep_vars) + len(self.population_coeff))]\u001b[39;00m\n\u001b[1;32m    385\u001b[0m     objective_function \u001b[38;5;241m=\u001b[39m partial(\u001b[38;5;28mself\u001b[39m\u001b[38;5;241m.\u001b[39m_objective_function, parallel \u001b[38;5;241m=\u001b[39m parallel, parallel_n_jobs \u001b[38;5;241m=\u001b[39m parallel_n_jobs)\n\u001b[0;32m--> 386\u001b[0m     \u001b[38;5;28mself\u001b[39m\u001b[38;5;241m.\u001b[39mfit_result_ \u001b[38;5;241m=\u001b[39m \u001b[43moptimize_with_checkpoint_joblib\u001b[49m\u001b[43m(\u001b[49m\u001b[43mobjective_function\u001b[49m\u001b[43m,\u001b[49m\n\u001b[1;32m    387\u001b[0m \u001b[43m                                                       \u001b[49m\u001b[38;5;28;43mself\u001b[39;49m\u001b[38;5;241;43m.\u001b[39;49m\u001b[43minit_vals\u001b[49m\u001b[43m,\u001b[49m\n\u001b[1;32m    388\u001b[0m \u001b[43m                                                       \u001b[49m\u001b[43mn_checkpoint\u001b[49m\u001b[38;5;241;43m=\u001b[39;49m\u001b[38;5;241;43m5\u001b[39;49m\u001b[43m,\u001b[49m\n\u001b[1;32m    389\u001b[0m \u001b[43m                                                       \u001b[49m\u001b[43mcheckpoint_filename\u001b[49m\u001b[38;5;241;43m=\u001b[39;49m\u001b[43mcheckpoint_filename\u001b[49m\u001b[43m,\u001b[49m\n\u001b[1;32m    390\u001b[0m \u001b[43m                                                       \u001b[49m\u001b[43margs\u001b[49m\u001b[38;5;241;43m=\u001b[39;49m\u001b[43m(\u001b[49m\u001b[43mdata\u001b[49m\u001b[43m,\u001b[49m\u001b[43m)\u001b[49m\u001b[43m,\u001b[49m\n\u001b[1;32m    391\u001b[0m \u001b[43m                                                       \u001b[49m\u001b[43mwarm_start\u001b[49m\u001b[38;5;241;43m=\u001b[39;49m\u001b[43mwarm_start\u001b[49m\u001b[43m,\u001b[49m\n\u001b[1;32m    392\u001b[0m \u001b[43m                                                       \u001b[49m\u001b[43mtol\u001b[49m\u001b[43m \u001b[49m\u001b[38;5;241;43m=\u001b[39;49m\u001b[43m \u001b[49m\u001b[38;5;28;43mself\u001b[39;49m\u001b[38;5;241;43m.\u001b[39;49m\u001b[43moptimzer_tol\u001b[49m\u001b[43m,\u001b[49m\n\u001b[1;32m    393\u001b[0m \u001b[43m                                                       \u001b[49m\u001b[43mbounds\u001b[49m\u001b[38;5;241;43m=\u001b[39;49m\u001b[38;5;28;43mself\u001b[39;49m\u001b[38;5;241;43m.\u001b[39;49m\u001b[43mbounds\u001b[49m\n\u001b[1;32m    394\u001b[0m \u001b[43m                                                       \u001b[49m\u001b[43m)\u001b[49m\n\u001b[1;32m    395\u001b[0m     res_df \u001b[38;5;241m=\u001b[39m []\n\u001b[1;32m    396\u001b[0m     written_indep_var_rows \u001b[38;5;241m=\u001b[39m \u001b[38;5;241m0\u001b[39m\n",
      "File \u001b[0;32m/workspaces/miniconda/PK-Analysis/utils.py:679\u001b[0m, in \u001b[0;36moptimize_with_checkpoint_joblib\u001b[0;34m(func, x0, n_checkpoint, checkpoint_filename, warm_start, tol, *args, **kwargs)\u001b[0m\n\u001b[1;32m    675\u001b[0m         user_callback(xk)\n\u001b[1;32m    677\u001b[0m     kwargs[\u001b[38;5;124m'\u001b[39m\u001b[38;5;124mcallback\u001b[39m\u001b[38;5;124m'\u001b[39m] \u001b[38;5;241m=\u001b[39m combined_callback\n\u001b[0;32m--> 679\u001b[0m result \u001b[38;5;241m=\u001b[39m \u001b[43mminimize\u001b[49m\u001b[43m(\u001b[49m\u001b[43mfunc\u001b[49m\u001b[43m,\u001b[49m\u001b[43m \u001b[49m\u001b[43mx0\u001b[49m\u001b[43m,\u001b[49m\u001b[43m \u001b[49m\u001b[38;5;241;43m*\u001b[39;49m\u001b[43margs\u001b[49m\u001b[43m,\u001b[49m\u001b[43m \u001b[49m\u001b[43mtol\u001b[49m\u001b[43m \u001b[49m\u001b[38;5;241;43m=\u001b[39;49m\u001b[43m \u001b[49m\u001b[43mtol\u001b[49m\u001b[43m,\u001b[49m\u001b[43m \u001b[49m\u001b[38;5;241;43m*\u001b[39;49m\u001b[38;5;241;43m*\u001b[39;49m\u001b[43mkwargs\u001b[49m\u001b[43m)\u001b[49m\n\u001b[1;32m    681\u001b[0m \u001b[38;5;66;03m# Remove checkpoint file at end.\u001b[39;00m\n\u001b[1;32m    682\u001b[0m \u001b[38;5;66;03m# try:\u001b[39;00m\n\u001b[1;32m    683\u001b[0m \u001b[38;5;66;03m#    os.remove(checkpoint_filename)\u001b[39;00m\n\u001b[1;32m    684\u001b[0m \u001b[38;5;66;03m# except:\u001b[39;00m\n\u001b[1;32m    685\u001b[0m \u001b[38;5;66;03m#    pass\u001b[39;00m\n\u001b[1;32m    687\u001b[0m \u001b[38;5;28;01mreturn\u001b[39;00m result\n",
      "File \u001b[0;32m/opt/conda/envs/pySunODE/lib/python3.12/site-packages/scipy/optimize/_minimize.py:731\u001b[0m, in \u001b[0;36mminimize\u001b[0;34m(fun, x0, args, method, jac, hess, hessp, bounds, constraints, tol, callback, options)\u001b[0m\n\u001b[1;32m    728\u001b[0m     res \u001b[38;5;241m=\u001b[39m _minimize_newtoncg(fun, x0, args, jac, hess, hessp, callback,\n\u001b[1;32m    729\u001b[0m                              \u001b[38;5;241m*\u001b[39m\u001b[38;5;241m*\u001b[39moptions)\n\u001b[1;32m    730\u001b[0m \u001b[38;5;28;01melif\u001b[39;00m meth \u001b[38;5;241m==\u001b[39m \u001b[38;5;124m'\u001b[39m\u001b[38;5;124ml-bfgs-b\u001b[39m\u001b[38;5;124m'\u001b[39m:\n\u001b[0;32m--> 731\u001b[0m     res \u001b[38;5;241m=\u001b[39m \u001b[43m_minimize_lbfgsb\u001b[49m\u001b[43m(\u001b[49m\u001b[43mfun\u001b[49m\u001b[43m,\u001b[49m\u001b[43m \u001b[49m\u001b[43mx0\u001b[49m\u001b[43m,\u001b[49m\u001b[43m \u001b[49m\u001b[43margs\u001b[49m\u001b[43m,\u001b[49m\u001b[43m \u001b[49m\u001b[43mjac\u001b[49m\u001b[43m,\u001b[49m\u001b[43m \u001b[49m\u001b[43mbounds\u001b[49m\u001b[43m,\u001b[49m\n\u001b[1;32m    732\u001b[0m \u001b[43m                           \u001b[49m\u001b[43mcallback\u001b[49m\u001b[38;5;241;43m=\u001b[39;49m\u001b[43mcallback\u001b[49m\u001b[43m,\u001b[49m\u001b[43m \u001b[49m\u001b[38;5;241;43m*\u001b[39;49m\u001b[38;5;241;43m*\u001b[39;49m\u001b[43moptions\u001b[49m\u001b[43m)\u001b[49m\n\u001b[1;32m    733\u001b[0m \u001b[38;5;28;01melif\u001b[39;00m meth \u001b[38;5;241m==\u001b[39m \u001b[38;5;124m'\u001b[39m\u001b[38;5;124mtnc\u001b[39m\u001b[38;5;124m'\u001b[39m:\n\u001b[1;32m    734\u001b[0m     res \u001b[38;5;241m=\u001b[39m _minimize_tnc(fun, x0, args, jac, bounds, callback\u001b[38;5;241m=\u001b[39mcallback,\n\u001b[1;32m    735\u001b[0m                         \u001b[38;5;241m*\u001b[39m\u001b[38;5;241m*\u001b[39moptions)\n",
      "File \u001b[0;32m/opt/conda/envs/pySunODE/lib/python3.12/site-packages/scipy/optimize/_lbfgsb_py.py:407\u001b[0m, in \u001b[0;36m_minimize_lbfgsb\u001b[0;34m(fun, x0, args, jac, bounds, disp, maxcor, ftol, gtol, eps, maxfun, maxiter, iprint, callback, maxls, finite_diff_rel_step, **unknown_options)\u001b[0m\n\u001b[1;32m    401\u001b[0m task_str \u001b[38;5;241m=\u001b[39m task\u001b[38;5;241m.\u001b[39mtobytes()\n\u001b[1;32m    402\u001b[0m \u001b[38;5;28;01mif\u001b[39;00m task_str\u001b[38;5;241m.\u001b[39mstartswith(\u001b[38;5;124mb\u001b[39m\u001b[38;5;124m'\u001b[39m\u001b[38;5;124mFG\u001b[39m\u001b[38;5;124m'\u001b[39m):\n\u001b[1;32m    403\u001b[0m     \u001b[38;5;66;03m# The minimization routine wants f and g at the current x.\u001b[39;00m\n\u001b[1;32m    404\u001b[0m     \u001b[38;5;66;03m# Note that interruptions due to maxfun are postponed\u001b[39;00m\n\u001b[1;32m    405\u001b[0m     \u001b[38;5;66;03m# until the completion of the current minimization iteration.\u001b[39;00m\n\u001b[1;32m    406\u001b[0m     \u001b[38;5;66;03m# Overwrite f and g:\u001b[39;00m\n\u001b[0;32m--> 407\u001b[0m     f, g \u001b[38;5;241m=\u001b[39m \u001b[43mfunc_and_grad\u001b[49m\u001b[43m(\u001b[49m\u001b[43mx\u001b[49m\u001b[43m)\u001b[49m\n\u001b[1;32m    408\u001b[0m \u001b[38;5;28;01melif\u001b[39;00m task_str\u001b[38;5;241m.\u001b[39mstartswith(\u001b[38;5;124mb\u001b[39m\u001b[38;5;124m'\u001b[39m\u001b[38;5;124mNEW_X\u001b[39m\u001b[38;5;124m'\u001b[39m):\n\u001b[1;32m    409\u001b[0m     \u001b[38;5;66;03m# new iteration\u001b[39;00m\n\u001b[1;32m    410\u001b[0m     n_iterations \u001b[38;5;241m+\u001b[39m\u001b[38;5;241m=\u001b[39m \u001b[38;5;241m1\u001b[39m\n",
      "File \u001b[0;32m/opt/conda/envs/pySunODE/lib/python3.12/site-packages/scipy/optimize/_differentiable_functions.py:344\u001b[0m, in \u001b[0;36mScalarFunction.fun_and_grad\u001b[0;34m(self, x)\u001b[0m\n\u001b[1;32m    342\u001b[0m     \u001b[38;5;28mself\u001b[39m\u001b[38;5;241m.\u001b[39m_update_x(x)\n\u001b[1;32m    343\u001b[0m \u001b[38;5;28mself\u001b[39m\u001b[38;5;241m.\u001b[39m_update_fun()\n\u001b[0;32m--> 344\u001b[0m \u001b[38;5;28;43mself\u001b[39;49m\u001b[38;5;241;43m.\u001b[39;49m\u001b[43m_update_grad\u001b[49m\u001b[43m(\u001b[49m\u001b[43m)\u001b[49m\n\u001b[1;32m    345\u001b[0m \u001b[38;5;28;01mreturn\u001b[39;00m \u001b[38;5;28mself\u001b[39m\u001b[38;5;241m.\u001b[39mf, \u001b[38;5;28mself\u001b[39m\u001b[38;5;241m.\u001b[39mg\n",
      "File \u001b[0;32m/opt/conda/envs/pySunODE/lib/python3.12/site-packages/scipy/optimize/_differentiable_functions.py:306\u001b[0m, in \u001b[0;36mScalarFunction._update_grad\u001b[0;34m(self)\u001b[0m\n\u001b[1;32m    304\u001b[0m \u001b[38;5;28;01mif\u001b[39;00m \u001b[38;5;28mself\u001b[39m\u001b[38;5;241m.\u001b[39m_orig_grad \u001b[38;5;129;01min\u001b[39;00m FD_METHODS:\n\u001b[1;32m    305\u001b[0m     \u001b[38;5;28mself\u001b[39m\u001b[38;5;241m.\u001b[39m_update_fun()\n\u001b[0;32m--> 306\u001b[0m \u001b[38;5;28mself\u001b[39m\u001b[38;5;241m.\u001b[39mg \u001b[38;5;241m=\u001b[39m \u001b[38;5;28;43mself\u001b[39;49m\u001b[38;5;241;43m.\u001b[39;49m\u001b[43m_wrapped_grad\u001b[49m\u001b[43m(\u001b[49m\u001b[38;5;28;43mself\u001b[39;49m\u001b[38;5;241;43m.\u001b[39;49m\u001b[43mx\u001b[49m\u001b[43m,\u001b[49m\u001b[43m \u001b[49m\u001b[43mf0\u001b[49m\u001b[38;5;241;43m=\u001b[39;49m\u001b[38;5;28;43mself\u001b[39;49m\u001b[38;5;241;43m.\u001b[39;49m\u001b[43mf\u001b[49m\u001b[43m)\u001b[49m\n\u001b[1;32m    307\u001b[0m \u001b[38;5;28mself\u001b[39m\u001b[38;5;241m.\u001b[39mg_updated \u001b[38;5;241m=\u001b[39m \u001b[38;5;28;01mTrue\u001b[39;00m\n",
      "File \u001b[0;32m/opt/conda/envs/pySunODE/lib/python3.12/site-packages/scipy/optimize/_differentiable_functions.py:47\u001b[0m, in \u001b[0;36m_wrapper_grad.<locals>.wrapped1\u001b[0;34m(x, f0)\u001b[0m\n\u001b[1;32m     45\u001b[0m \u001b[38;5;28;01mdef\u001b[39;00m \u001b[38;5;21mwrapped1\u001b[39m(x, f0\u001b[38;5;241m=\u001b[39m\u001b[38;5;28;01mNone\u001b[39;00m):\n\u001b[1;32m     46\u001b[0m     ncalls[\u001b[38;5;241m0\u001b[39m] \u001b[38;5;241m+\u001b[39m\u001b[38;5;241m=\u001b[39m \u001b[38;5;241m1\u001b[39m\n\u001b[0;32m---> 47\u001b[0m     \u001b[38;5;28;01mreturn\u001b[39;00m \u001b[43mapprox_derivative\u001b[49m\u001b[43m(\u001b[49m\n\u001b[1;32m     48\u001b[0m \u001b[43m        \u001b[49m\u001b[43mfun\u001b[49m\u001b[43m,\u001b[49m\u001b[43m \u001b[49m\u001b[43mx\u001b[49m\u001b[43m,\u001b[49m\u001b[43m \u001b[49m\u001b[43mf0\u001b[49m\u001b[38;5;241;43m=\u001b[39;49m\u001b[43mf0\u001b[49m\u001b[43m,\u001b[49m\u001b[43m \u001b[49m\u001b[38;5;241;43m*\u001b[39;49m\u001b[38;5;241;43m*\u001b[39;49m\u001b[43mfinite_diff_options\u001b[49m\n\u001b[1;32m     49\u001b[0m \u001b[43m    \u001b[49m\u001b[43m)\u001b[49m\n",
      "File \u001b[0;32m/opt/conda/envs/pySunODE/lib/python3.12/site-packages/scipy/optimize/_numdiff.py:519\u001b[0m, in \u001b[0;36mapprox_derivative\u001b[0;34m(fun, x0, method, rel_step, abs_step, f0, bounds, sparsity, as_linear_operator, args, kwargs)\u001b[0m\n\u001b[1;32m    516\u001b[0m     use_one_sided \u001b[38;5;241m=\u001b[39m \u001b[38;5;28;01mFalse\u001b[39;00m\n\u001b[1;32m    518\u001b[0m \u001b[38;5;28;01mif\u001b[39;00m sparsity \u001b[38;5;129;01mis\u001b[39;00m \u001b[38;5;28;01mNone\u001b[39;00m:\n\u001b[0;32m--> 519\u001b[0m     \u001b[38;5;28;01mreturn\u001b[39;00m \u001b[43m_dense_difference\u001b[49m\u001b[43m(\u001b[49m\u001b[43mfun_wrapped\u001b[49m\u001b[43m,\u001b[49m\u001b[43m \u001b[49m\u001b[43mx0\u001b[49m\u001b[43m,\u001b[49m\u001b[43m \u001b[49m\u001b[43mf0\u001b[49m\u001b[43m,\u001b[49m\u001b[43m \u001b[49m\u001b[43mh\u001b[49m\u001b[43m,\u001b[49m\n\u001b[1;32m    520\u001b[0m \u001b[43m                             \u001b[49m\u001b[43muse_one_sided\u001b[49m\u001b[43m,\u001b[49m\u001b[43m \u001b[49m\u001b[43mmethod\u001b[49m\u001b[43m)\u001b[49m\n\u001b[1;32m    521\u001b[0m \u001b[38;5;28;01melse\u001b[39;00m:\n\u001b[1;32m    522\u001b[0m     \u001b[38;5;28;01mif\u001b[39;00m \u001b[38;5;129;01mnot\u001b[39;00m issparse(sparsity) \u001b[38;5;129;01mand\u001b[39;00m \u001b[38;5;28mlen\u001b[39m(sparsity) \u001b[38;5;241m==\u001b[39m \u001b[38;5;241m2\u001b[39m:\n",
      "File \u001b[0;32m/opt/conda/envs/pySunODE/lib/python3.12/site-packages/scipy/optimize/_numdiff.py:592\u001b[0m, in \u001b[0;36m_dense_difference\u001b[0;34m(fun, x0, f0, h, use_one_sided, method)\u001b[0m\n\u001b[1;32m    590\u001b[0m     x1[i] \u001b[38;5;241m+\u001b[39m\u001b[38;5;241m=\u001b[39m h[i]\n\u001b[1;32m    591\u001b[0m     dx \u001b[38;5;241m=\u001b[39m x1[i] \u001b[38;5;241m-\u001b[39m x0[i]  \u001b[38;5;66;03m# Recompute dx as exactly representable number.\u001b[39;00m\n\u001b[0;32m--> 592\u001b[0m     df \u001b[38;5;241m=\u001b[39m \u001b[43mfun\u001b[49m\u001b[43m(\u001b[49m\u001b[43mx1\u001b[49m\u001b[43m)\u001b[49m \u001b[38;5;241m-\u001b[39m f0\n\u001b[1;32m    593\u001b[0m \u001b[38;5;28;01melif\u001b[39;00m method \u001b[38;5;241m==\u001b[39m \u001b[38;5;124m'\u001b[39m\u001b[38;5;124m3-point\u001b[39m\u001b[38;5;124m'\u001b[39m \u001b[38;5;129;01mand\u001b[39;00m use_one_sided[i]:\n\u001b[1;32m    594\u001b[0m     x1[i] \u001b[38;5;241m+\u001b[39m\u001b[38;5;241m=\u001b[39m h[i]\n",
      "File \u001b[0;32m/opt/conda/envs/pySunODE/lib/python3.12/site-packages/scipy/optimize/_numdiff.py:470\u001b[0m, in \u001b[0;36mapprox_derivative.<locals>.fun_wrapped\u001b[0;34m(x)\u001b[0m\n\u001b[1;32m    467\u001b[0m \u001b[38;5;28;01mif\u001b[39;00m xp\u001b[38;5;241m.\u001b[39misdtype(x\u001b[38;5;241m.\u001b[39mdtype, \u001b[38;5;124m\"\u001b[39m\u001b[38;5;124mreal floating\u001b[39m\u001b[38;5;124m\"\u001b[39m):\n\u001b[1;32m    468\u001b[0m     x \u001b[38;5;241m=\u001b[39m xp\u001b[38;5;241m.\u001b[39mastype(x, x0\u001b[38;5;241m.\u001b[39mdtype)\n\u001b[0;32m--> 470\u001b[0m f \u001b[38;5;241m=\u001b[39m np\u001b[38;5;241m.\u001b[39matleast_1d(\u001b[43mfun\u001b[49m\u001b[43m(\u001b[49m\u001b[43mx\u001b[49m\u001b[43m,\u001b[49m\u001b[43m \u001b[49m\u001b[38;5;241;43m*\u001b[39;49m\u001b[43margs\u001b[49m\u001b[43m,\u001b[49m\u001b[43m \u001b[49m\u001b[38;5;241;43m*\u001b[39;49m\u001b[38;5;241;43m*\u001b[39;49m\u001b[43mkwargs\u001b[49m\u001b[43m)\u001b[49m)\n\u001b[1;32m    471\u001b[0m \u001b[38;5;28;01mif\u001b[39;00m f\u001b[38;5;241m.\u001b[39mndim \u001b[38;5;241m>\u001b[39m \u001b[38;5;241m1\u001b[39m:\n\u001b[1;32m    472\u001b[0m     \u001b[38;5;28;01mraise\u001b[39;00m \u001b[38;5;167;01mRuntimeError\u001b[39;00m(\u001b[38;5;124m\"\u001b[39m\u001b[38;5;124m`fun` return value has \u001b[39m\u001b[38;5;124m\"\u001b[39m\n\u001b[1;32m    473\u001b[0m                        \u001b[38;5;124m\"\u001b[39m\u001b[38;5;124mmore than 1 dimension.\u001b[39m\u001b[38;5;124m\"\u001b[39m)\n",
      "File \u001b[0;32m/opt/conda/envs/pySunODE/lib/python3.12/site-packages/scipy/optimize/_differentiable_functions.py:20\u001b[0m, in \u001b[0;36m_wrapper_fun.<locals>.wrapped\u001b[0;34m(x)\u001b[0m\n\u001b[1;32m     16\u001b[0m ncalls[\u001b[38;5;241m0\u001b[39m] \u001b[38;5;241m+\u001b[39m\u001b[38;5;241m=\u001b[39m \u001b[38;5;241m1\u001b[39m\n\u001b[1;32m     17\u001b[0m \u001b[38;5;66;03m# Send a copy because the user may overwrite it.\u001b[39;00m\n\u001b[1;32m     18\u001b[0m \u001b[38;5;66;03m# Overwriting results in undefined behaviour because\u001b[39;00m\n\u001b[1;32m     19\u001b[0m \u001b[38;5;66;03m# fun(self.x) will change self.x, with the two no longer linked.\u001b[39;00m\n\u001b[0;32m---> 20\u001b[0m fx \u001b[38;5;241m=\u001b[39m \u001b[43mfun\u001b[49m\u001b[43m(\u001b[49m\u001b[43mnp\u001b[49m\u001b[38;5;241;43m.\u001b[39;49m\u001b[43mcopy\u001b[49m\u001b[43m(\u001b[49m\u001b[43mx\u001b[49m\u001b[43m)\u001b[49m\u001b[43m,\u001b[49m\u001b[43m \u001b[49m\u001b[38;5;241;43m*\u001b[39;49m\u001b[43margs\u001b[49m\u001b[43m)\u001b[49m\n\u001b[1;32m     21\u001b[0m \u001b[38;5;66;03m# Make sure the function returns a true scalar\u001b[39;00m\n\u001b[1;32m     22\u001b[0m \u001b[38;5;28;01mif\u001b[39;00m \u001b[38;5;129;01mnot\u001b[39;00m np\u001b[38;5;241m.\u001b[39misscalar(fx):\n",
      "File \u001b[0;32m/workspaces/miniconda/PK-Analysis/utils.py:377\u001b[0m, in \u001b[0;36mOneCompartmentModel._objective_function\u001b[0;34m(self, params, data, parallel, parallel_n_jobs)\u001b[0m\n\u001b[1;32m    375\u001b[0m _betas \u001b[38;5;241m=\u001b[39m \u001b[38;5;28mself\u001b[39m\u001b[38;5;241m.\u001b[39m_populate_model_betas(other_params)\n\u001b[1;32m    376\u001b[0m \u001b[38;5;66;03m#preds = np.concatenate(self._predict_parallel(data = data)) if parallel else self._predict_alt(data=data)\u001b[39;00m\n\u001b[0;32m--> 377\u001b[0m preds \u001b[38;5;241m=\u001b[39m \u001b[38;5;28;43mself\u001b[39;49m\u001b[38;5;241;43m.\u001b[39;49m\u001b[43mpredict\u001b[49m\u001b[43m(\u001b[49m\u001b[43mdata\u001b[49m\u001b[43m,\u001b[49m\u001b[43m \u001b[49m\u001b[43mparallel\u001b[49m\u001b[43m \u001b[49m\u001b[38;5;241;43m=\u001b[39;49m\u001b[43m \u001b[49m\u001b[43mparallel\u001b[49m\u001b[43m,\u001b[49m\u001b[43m \u001b[49m\u001b[43mparallel_n_jobs\u001b[49m\u001b[43m \u001b[49m\u001b[38;5;241;43m=\u001b[39;49m\u001b[43m \u001b[49m\u001b[43mparallel_n_jobs\u001b[49m\u001b[43m)\u001b[49m\n\u001b[1;32m    378\u001b[0m \u001b[38;5;66;03m#residuals = data[self.conc_at_time_col] - preds\u001b[39;00m\n\u001b[1;32m    379\u001b[0m \u001b[38;5;66;03m#sse = np.sum(residuals**2)\u001b[39;00m\n\u001b[1;32m    380\u001b[0m error \u001b[38;5;241m=\u001b[39m \u001b[38;5;28mself\u001b[39m\u001b[38;5;241m.\u001b[39mloss_function(data[\u001b[38;5;28mself\u001b[39m\u001b[38;5;241m.\u001b[39mconc_at_time_col], preds, \u001b[38;5;241m*\u001b[39m\u001b[38;5;241m*\u001b[39m\u001b[38;5;28mself\u001b[39m\u001b[38;5;241m.\u001b[39mloss_params)\n",
      "File \u001b[0;32m/workspaces/miniconda/PK-Analysis/utils.py:360\u001b[0m, in \u001b[0;36mOneCompartmentModel.predict\u001b[0;34m(self, data, parallel, parallel_n_jobs, return_df)\u001b[0m\n\u001b[1;32m    358\u001b[0m \u001b[38;5;28;01mdef\u001b[39;00m \u001b[38;5;21mpredict\u001b[39m(\u001b[38;5;28mself\u001b[39m, data, parallel \u001b[38;5;241m=\u001b[39m \u001b[38;5;28;01mTrue\u001b[39;00m, parallel_n_jobs \u001b[38;5;241m=\u001b[39m \u001b[38;5;241m-\u001b[39m\u001b[38;5;241m1\u001b[39m, return_df\u001b[38;5;241m=\u001b[39m\u001b[38;5;28;01mFalse\u001b[39;00m):\n\u001b[1;32m    359\u001b[0m     \u001b[38;5;28;01mif\u001b[39;00m parallel:\n\u001b[0;32m--> 360\u001b[0m         predictions \u001b[38;5;241m=\u001b[39m \u001b[38;5;28;43mself\u001b[39;49m\u001b[38;5;241;43m.\u001b[39;49m\u001b[43m_predict_parallel\u001b[49m\u001b[43m(\u001b[49m\u001b[43mdata\u001b[49m\u001b[43m,\u001b[49m\u001b[43m \u001b[49m\u001b[43mparallel_n_jobs\u001b[49m\u001b[38;5;241;43m=\u001b[39;49m\u001b[43mparallel_n_jobs\u001b[49m\u001b[43m)\u001b[49m\n\u001b[1;32m    361\u001b[0m     \u001b[38;5;28;01melse\u001b[39;00m:\n\u001b[1;32m    362\u001b[0m         predictions \u001b[38;5;241m=\u001b[39m \u001b[38;5;28mself\u001b[39m\u001b[38;5;241m.\u001b[39m_predict_alt(data)\n",
      "File \u001b[0;32m/workspaces/miniconda/PK-Analysis/utils.py:345\u001b[0m, in \u001b[0;36mOneCompartmentModel._predict_parallel\u001b[0;34m(self, data, parallel_n_jobs)\u001b[0m\n\u001b[1;32m    344\u001b[0m \u001b[38;5;28;01mdef\u001b[39;00m \u001b[38;5;21m_predict_parallel\u001b[39m(\u001b[38;5;28mself\u001b[39m, data, parallel_n_jobs \u001b[38;5;241m=\u001b[39m \u001b[38;5;241m-\u001b[39m\u001b[38;5;241m1\u001b[39m):\n\u001b[0;32m--> 345\u001b[0m     predictions \u001b[38;5;241m=\u001b[39m \u001b[43mParallel\u001b[49m\u001b[43m(\u001b[49m\u001b[43mn_jobs\u001b[49m\u001b[38;5;241;43m=\u001b[39;49m\u001b[43mparallel_n_jobs\u001b[49m\u001b[43m)\u001b[49m\u001b[43m(\u001b[49m\u001b[43mdelayed\u001b[49m\u001b[43m(\u001b[49m\u001b[38;5;28;43mself\u001b[39;49m\u001b[38;5;241;43m.\u001b[39;49m\u001b[43m_predict_inner\u001b[49m\u001b[43m)\u001b[49m\u001b[43m(\u001b[49m\u001b[43mdata_out\u001b[49m\u001b[43m)\u001b[49m\u001b[43m \u001b[49m\u001b[38;5;28;43;01mfor\u001b[39;49;00m\u001b[43m \u001b[49m\u001b[43mdata_out\u001b[49m\u001b[43m \u001b[49m\u001b[38;5;129;43;01min\u001b[39;49;00m\u001b[43m \u001b[49m\u001b[38;5;28;43mself\u001b[39;49m\u001b[38;5;241;43m.\u001b[39;49m\u001b[43m_subject_iterator\u001b[49m\u001b[43m(\u001b[49m\u001b[43mdata\u001b[49m\u001b[43m)\u001b[49m\u001b[43m)\u001b[49m\n\u001b[1;32m    346\u001b[0m     \u001b[38;5;28;01mreturn\u001b[39;00m np\u001b[38;5;241m.\u001b[39mconcatenate(predictions)\n",
      "File \u001b[0;32m/opt/conda/envs/pySunODE/lib/python3.12/site-packages/joblib/parallel.py:2007\u001b[0m, in \u001b[0;36mParallel.__call__\u001b[0;34m(self, iterable)\u001b[0m\n\u001b[1;32m   2001\u001b[0m \u001b[38;5;66;03m# The first item from the output is blank, but it makes the interpreter\u001b[39;00m\n\u001b[1;32m   2002\u001b[0m \u001b[38;5;66;03m# progress until it enters the Try/Except block of the generator and\u001b[39;00m\n\u001b[1;32m   2003\u001b[0m \u001b[38;5;66;03m# reaches the first `yield` statement. This starts the asynchronous\u001b[39;00m\n\u001b[1;32m   2004\u001b[0m \u001b[38;5;66;03m# dispatch of the tasks to the workers.\u001b[39;00m\n\u001b[1;32m   2005\u001b[0m \u001b[38;5;28mnext\u001b[39m(output)\n\u001b[0;32m-> 2007\u001b[0m \u001b[38;5;28;01mreturn\u001b[39;00m output \u001b[38;5;28;01mif\u001b[39;00m \u001b[38;5;28mself\u001b[39m\u001b[38;5;241m.\u001b[39mreturn_generator \u001b[38;5;28;01melse\u001b[39;00m \u001b[38;5;28;43mlist\u001b[39;49m\u001b[43m(\u001b[49m\u001b[43moutput\u001b[49m\u001b[43m)\u001b[49m\n",
      "File \u001b[0;32m/opt/conda/envs/pySunODE/lib/python3.12/site-packages/joblib/parallel.py:1650\u001b[0m, in \u001b[0;36mParallel._get_outputs\u001b[0;34m(self, iterator, pre_dispatch)\u001b[0m\n\u001b[1;32m   1647\u001b[0m     \u001b[38;5;28;01myield\u001b[39;00m\n\u001b[1;32m   1649\u001b[0m     \u001b[38;5;28;01mwith\u001b[39;00m \u001b[38;5;28mself\u001b[39m\u001b[38;5;241m.\u001b[39m_backend\u001b[38;5;241m.\u001b[39mretrieval_context():\n\u001b[0;32m-> 1650\u001b[0m         \u001b[38;5;28;01myield from\u001b[39;00m \u001b[38;5;28mself\u001b[39m\u001b[38;5;241m.\u001b[39m_retrieve()\n\u001b[1;32m   1652\u001b[0m \u001b[38;5;28;01mexcept\u001b[39;00m \u001b[38;5;167;01mGeneratorExit\u001b[39;00m:\n\u001b[1;32m   1653\u001b[0m     \u001b[38;5;66;03m# The generator has been garbage collected before being fully\u001b[39;00m\n\u001b[1;32m   1654\u001b[0m     \u001b[38;5;66;03m# consumed. This aborts the remaining tasks if possible and warn\u001b[39;00m\n\u001b[1;32m   1655\u001b[0m     \u001b[38;5;66;03m# the user if necessary.\u001b[39;00m\n\u001b[1;32m   1656\u001b[0m     \u001b[38;5;28mself\u001b[39m\u001b[38;5;241m.\u001b[39m_exception \u001b[38;5;241m=\u001b[39m \u001b[38;5;28;01mTrue\u001b[39;00m\n",
      "File \u001b[0;32m/opt/conda/envs/pySunODE/lib/python3.12/site-packages/joblib/parallel.py:1768\u001b[0m, in \u001b[0;36mParallel._retrieve\u001b[0;34m(self)\u001b[0m\n\u001b[1;32m   1763\u001b[0m     \u001b[38;5;28;01mcontinue\u001b[39;00m\n\u001b[1;32m   1765\u001b[0m \u001b[38;5;66;03m# We need to be careful: the job list can be filling up as\u001b[39;00m\n\u001b[1;32m   1766\u001b[0m \u001b[38;5;66;03m# we empty it and Python list are not thread-safe by\u001b[39;00m\n\u001b[1;32m   1767\u001b[0m \u001b[38;5;66;03m# default hence the use of the lock\u001b[39;00m\n\u001b[0;32m-> 1768\u001b[0m \u001b[38;5;28;01mwith\u001b[39;00m \u001b[38;5;28mself\u001b[39m\u001b[38;5;241m.\u001b[39m_lock:\n\u001b[1;32m   1769\u001b[0m     batched_results \u001b[38;5;241m=\u001b[39m \u001b[38;5;28mself\u001b[39m\u001b[38;5;241m.\u001b[39m_jobs\u001b[38;5;241m.\u001b[39mpopleft()\n\u001b[1;32m   1771\u001b[0m \u001b[38;5;66;03m# Flatten the batched results to output one output at a time\u001b[39;00m\n",
      "\u001b[0;31mKeyboardInterrupt\u001b[0m: "
     ]
    }
   ],
   "source": [
    "\n",
    "import warnings\n",
    "from tqdm import tqdm\n",
    "from utils import huber_loss\n",
    "import joblib as jb\n",
    "\n",
    "g_kfold = GroupKFold(n_splits=10, shuffle = True, random_state=42)\n",
    "g_kfold.get_n_splits(X, y, groups)\n",
    "fit_parallel = True\n",
    "\n",
    "\n",
    "\n",
    "\n",
    "\n",
    "\n",
    "res = []\n",
    "for idx, d in enumerate(tqdm(tols)):\n",
    "    cv_error = []\n",
    "    train_idx_history = []\n",
    "    test_idx_history = [] \n",
    "    for i, (train_index, test_index) in enumerate(g_kfold.split(X, y, groups)):\n",
    "        \n",
    "        train_X = cv_df.iloc[train_index, :].copy()\n",
    "        test_X = cv_df.iloc[test_index, :].copy()  \n",
    "\n",
    "        mod_huber = OneCompartmentModel(dep_vars= {'k':[ ObjectiveFunctionColumn('AGE_scale', ),\n",
    "                                                    ObjectiveFunctionColumn('SEX') ],\n",
    "                                            'vd':[ObjectiveFunctionColumn('WT_scale',\n",
    "                                                                            model_method='linear', \n",
    "                                                                            \n",
    "                                                                            \n",
    "                                                                            )]}, \n",
    "                            loss_function=huber_loss,\n",
    "                            loss_params={'delta':best_delta}, \n",
    "                            optimizer_tol=d\n",
    "                            )\n",
    "        mod_huber = mod_huber.fit(train_X, parallel=fit_parallel,parallel_n_jobs=4 ,checkpoint_filename=f'huber_opt_d{d}_cv{i}.jb')\n",
    "        test_preds = mod_huber.predict(test_X, parallel=fit_parallel,parallel_n_jobs=4 )\n",
    "        inner_mad = np.mean(np.abs(test_preds - test_X['DV'].values))\n",
    "        cv_error.append(inner_mad)\n",
    "\n",
    "        train_idx_history.append(train_index)\n",
    "        test_idx_history.append(test_index)\n",
    "    res.append(\n",
    "        {\n",
    "            'd':d, \n",
    "            'train_idx':train_idx_history, \n",
    "            'test_idx':test_idx_history,\n",
    "            'cv_error':cv_error,\n",
    "            'avg_cv_error':np.mean(cv_error) if all((i is not None for i in cv_error)) else None\n",
    "        }\n",
    "    )\n",
    "    \n",
    "    res_df = pd.DataFrame(res)\n",
    "    with open('cv_log_tol.jb', 'wb') as f:\n",
    "        jb.dump(res_df, f)\n",
    "res_df = pd.DataFrame(res)\n",
    "        "
   ]
  },
  {
   "cell_type": "code",
   "execution_count": 16,
   "metadata": {},
   "outputs": [],
   "source": [
    "import joblib as jb\n",
    "debug_X = cv_df.iloc[debug_idx, :].copy()\n",
    "debug_X_test = cv_df.iloc[debug_test_idx, :].copy()\n",
    "\n",
    "with open('debug_X.jb', 'wb') as f:\n",
    "    jb.dump(debug_X, f)\n",
    "with open('debug_X_test.jb', 'wb') as f:\n",
    "    jb.dump(debug_X_test, f)"
   ]
  },
  {
   "cell_type": "code",
   "execution_count": 21,
   "metadata": {},
   "outputs": [],
   "source": [
    "import joblib as jb\n",
    "from utils import OneCompartmentModel, huber_loss\n",
    "\n",
    "with open('debug_X.jb', 'rb') as f:\n",
    "    debug_X = jb.load(f)"
   ]
  },
  {
   "cell_type": "code",
   "execution_count": 17,
   "metadata": {},
   "outputs": [],
   "source": [
    "mod_huber = OneCompartmentModel(dep_vars= {'k':[ ObjectiveFunctionColumn('AGE_scale'),\n",
    "                                            ObjectiveFunctionColumn('SEX')],\n",
    "                                    'vd':[ObjectiveFunctionColumn('WT_scale',\n",
    "                                                                    model_method='linear', \n",
    "                                                                    #allometric_norm_value=allo_scaler\n",
    "                                                                    )]}, \n",
    "                    loss_function=huber_loss,\n",
    "                    loss_params={'delta':best_delta}, \n",
    "                    optimizer_tol=1e-3\n",
    "                    )\n",
    "mod_huber = mod_huber.fit(scale_df, parallel=True,parallel_n_jobs=4 ,checkpoint_filename=f'huber_opt_debug.jb')"
   ]
  },
  {
   "cell_type": "code",
   "execution_count": 29,
   "metadata": {},
   "outputs": [
    {
     "data": {
      "text/plain": [
       "<matplotlib.legend.Legend at 0x7f626f578c80>"
      ]
     },
     "execution_count": 29,
     "metadata": {},
     "output_type": "execute_result"
    },
    {
     "data": {
      "image/png": "[encoded data removed]",
      "text/plain": [
       "<Figure size 640x480 with 1 Axes>"
      ]
     },
     "metadata": {},
     "output_type": "display_data"
    }
   ],
   "source": [
    "import matplotlib.pyplot as plt\n",
    "fig, axs = plt.subplots(1)\n",
    "plot_df = rse_df.loc[rse_df['SUBJID'] == 5, :]\n",
    "global_mad = np.mean(np.abs(rse_df['DV'] - rse_df['pred_y']))\n",
    "mad = np.mean(np.abs(plot_df['DV'] - plot_df['pred_y']))\n",
    "axs.plot(plot_df['TIME'], plot_df['DV'])\n",
    "axs.plot(plot_df['TIME'], plot_df['pred_y'], label = f'MSE Opt: SubMAD = {np.round(mad, 2)}, TotalMAD:{np.round(global_mad, 2)}' )\n",
    "\n",
    "plot_df = sse_df.loc[sse_df['SUBJID'] == 5, :]\n",
    "global_mad = np.mean(np.abs(sse_df['DV'] - sse_df['pred_y']))\n",
    "mad = np.mean(np.abs(plot_df['DV'] - plot_df['pred_y']))\n",
    "#axs[0].plot(plot_df['TIME'], plot_df['DV'])\n",
    "axs.plot(plot_df['TIME'], plot_df['pred_y'], label = f'SSE Opt: SubMAD = {np.round(mad, 2)}, TotalMAD:{np.round(global_mad, 2)}')\n",
    "\n",
    "plot_df = huber_df.loc[huber_df['SUBJID'] == 5, :]\n",
    "global_mad = np.mean(np.abs(huber_df['DV'] - huber_df['pred_y']))\n",
    "mad = np.mean(np.abs(plot_df['DV'] - plot_df['pred_y']))\n",
    "#axs[0].plot(plot_df['TIME'], plot_df['DV'])\n",
    "axs.plot(plot_df['TIME'], plot_df['pred_y'], label = f'Huber Opt: SubMAD = {np.round(mad, 2)}, TotalMAD:{np.round(global_mad, 2)}')\n",
    "plt.legend()"
   ]
  },
  {
   "cell_type": "code",
   "execution_count": null,
   "metadata": {},
   "outputs": [],
   "source": [
    "from sklearn."
   ]
  },
  {
   "cell_type": "code",
   "execution_count": 19,
   "metadata": {},
   "outputs": [
    {
     "name": "stdout",
     "output_type": "stream",
     "text": [
      "No checkpoint found, starting from initial guess.\n",
      "1\n",
      "no log\n",
      "2\n",
      "no log\n",
      "3\n",
      "no log\n",
      "4\n",
      "no log\n",
      "5\n",
      "Iteration 5: Checkpoint saved to check_test_5.jb\n",
      "no log\n"
     ]
    }
   ],
   "source": [
    "mod_lin_mse = OneCompartmentModel(dep_vars= {'k':[ ObjectiveFunctionColumn('AGE_scale'),\n",
    "                                                ObjectiveFunctionColumn('SEX')],\n",
    "                                           'vd':[ObjectiveFunctionColumn('WT_scale',)]})\n",
    "mod_lin_mse = mod_lin_mse.fit(scale_df)"
   ]
  },
  {
   "cell_type": "code",
   "execution_count": 20,
   "metadata": {},
   "outputs": [
    {
     "data": {
      "text/plain": [
       "  message: CONVERGENCE: REL_REDUCTION_OF_F_<=_FACTR*EPSMCH\n",
       "  success: True\n",
       "   status: 0\n",
       "      fun: 1117.8093170102954\n",
       "        x: [-5.936e-01  8.015e-01 -4.243e-02 -8.184e-02  1.066e-02]\n",
       "      nit: 5\n",
       "      jac: [ 4.338e+02  6.055e+02  5.694e+02  4.067e+02 -1.042e+01]\n",
       "     nfev: 228\n",
       "     njev: 38\n",
       " hess_inv: <5x5 LbfgsInvHessProduct with dtype=float64>"
      ]
     },
     "execution_count": 20,
     "metadata": {},
     "output_type": "execute_result"
    }
   ],
   "source": [
    "mod_lin_mse.fit_result_"
   ]
  },
  {
   "cell_type": "code",
   "execution_count": 21,
   "metadata": {},
   "outputs": [
    {
     "name": "stdout",
     "output_type": "stream",
     "text": [
      "No checkpoint found, starting from initial guess.\n"
     ]
    },
    {
     "name": "stdout",
     "output_type": "stream",
     "text": [
      "1\n",
      "no log\n",
      "2\n",
      "no log\n",
      "3\n",
      "no log\n",
      "4\n",
      "no log\n",
      "5\n",
      "Iteration 5: Checkpoint saved to check_test_5.jb\n",
      "no log\n",
      "6\n",
      "no log\n",
      "7\n",
      "no log\n",
      "8\n",
      "no log\n",
      "9\n",
      "no log\n",
      "10\n",
      "Iteration 10: Checkpoint saved to check_test_10.jb\n",
      "no log\n",
      "11\n",
      "no log\n",
      "12\n",
      "no log\n",
      "13\n",
      "no log\n",
      "14\n",
      "no log\n",
      "15\n",
      "Iteration 15: Checkpoint saved to check_test_15.jb\n",
      "no log\n"
     ]
    },
    {
     "ename": "KeyboardInterrupt",
     "evalue": "",
     "output_type": "error",
     "traceback": [
      "\u001b[0;31m---------------------------------------------------------------------------\u001b[0m",
      "\u001b[0;31mKeyboardInterrupt\u001b[0m                         Traceback (most recent call last)",
      "Cell \u001b[0;32mIn[21], line 6\u001b[0m\n\u001b[1;32m      1\u001b[0m mod_lin_sse \u001b[38;5;241m=\u001b[39m OneCompartmentModel(dep_vars\u001b[38;5;241m=\u001b[39m {\u001b[38;5;124m'\u001b[39m\u001b[38;5;124mk\u001b[39m\u001b[38;5;124m'\u001b[39m:[ ObjectiveFunctionColumn(\u001b[38;5;124m'\u001b[39m\u001b[38;5;124mAGE_scale\u001b[39m\u001b[38;5;124m'\u001b[39m),\n\u001b[1;32m      2\u001b[0m                                                 ObjectiveFunctionColumn(\u001b[38;5;124m'\u001b[39m\u001b[38;5;124mSEX\u001b[39m\u001b[38;5;124m'\u001b[39m)],\n\u001b[1;32m      3\u001b[0m                                            \u001b[38;5;124m'\u001b[39m\u001b[38;5;124mvd\u001b[39m\u001b[38;5;124m'\u001b[39m:[ObjectiveFunctionColumn(\u001b[38;5;124m'\u001b[39m\u001b[38;5;124mWT_scale\u001b[39m\u001b[38;5;124m'\u001b[39m,)]},\n\u001b[1;32m      4\u001b[0m                                   loss_function\u001b[38;5;241m=\u001b[39msum_of_squares_loss\n\u001b[1;32m      5\u001b[0m                                   )\n\u001b[0;32m----> 6\u001b[0m mod_lin_sse \u001b[38;5;241m=\u001b[39m \u001b[43mmod_lin_sse\u001b[49m\u001b[38;5;241;43m.\u001b[39;49m\u001b[43mfit\u001b[49m\u001b[43m(\u001b[49m\u001b[43mscale_df\u001b[49m\u001b[43m)\u001b[49m\n",
      "File \u001b[0;32m/workspaces/miniconda/PK-Analysis/utils.py:367\u001b[0m, in \u001b[0;36mOneCompartmentModel.fit\u001b[0;34m(self, data, parallel)\u001b[0m\n\u001b[1;32m    364\u001b[0m \u001b[38;5;28;01mdef\u001b[39;00m \u001b[38;5;21mfit\u001b[39m(\u001b[38;5;28mself\u001b[39m, data, parallel \u001b[38;5;241m=\u001b[39m \u001b[38;5;28;01mFalse\u001b[39;00m):\n\u001b[1;32m    365\u001b[0m     \u001b[38;5;66;03m# bounds = [(None, None) for i in range(len(self.dep_vars) + len(self.population_coeff))]\u001b[39;00m\n\u001b[1;32m    366\u001b[0m     objective_function \u001b[38;5;241m=\u001b[39m partial(\u001b[38;5;28mself\u001b[39m\u001b[38;5;241m.\u001b[39m_objective_function, parallel \u001b[38;5;241m=\u001b[39m parallel)\n\u001b[0;32m--> 367\u001b[0m     \u001b[38;5;28mself\u001b[39m\u001b[38;5;241m.\u001b[39mfit_result_ \u001b[38;5;241m=\u001b[39m \u001b[43moptimize_with_checkpoint_joblib\u001b[49m\u001b[43m(\u001b[49m\u001b[43mobjective_function\u001b[49m\u001b[43m,\u001b[49m\n\u001b[1;32m    368\u001b[0m \u001b[43m                                                       \u001b[49m\u001b[38;5;28;43mself\u001b[39;49m\u001b[38;5;241;43m.\u001b[39;49m\u001b[43minit_vals\u001b[49m\u001b[43m,\u001b[49m\n\u001b[1;32m    369\u001b[0m \u001b[43m                                                       \u001b[49m\u001b[43mn_checkpoint\u001b[49m\u001b[38;5;241;43m=\u001b[39;49m\u001b[38;5;241;43m5\u001b[39;49m\u001b[43m,\u001b[49m\n\u001b[1;32m    370\u001b[0m \u001b[43m                                                       \u001b[49m\u001b[43mcheckpoint_filename\u001b[49m\u001b[38;5;241;43m=\u001b[39;49m\u001b[38;5;124;43m'\u001b[39;49m\u001b[38;5;124;43mcheck_test.jb\u001b[39;49m\u001b[38;5;124;43m'\u001b[39;49m\u001b[43m,\u001b[49m\n\u001b[1;32m    371\u001b[0m \u001b[43m                                                       \u001b[49m\u001b[43margs\u001b[49m\u001b[38;5;241;43m=\u001b[39;49m\u001b[43m(\u001b[49m\u001b[43mdata\u001b[49m\u001b[43m,\u001b[49m\u001b[43m)\u001b[49m\u001b[43m,\u001b[49m\n\u001b[1;32m    372\u001b[0m \u001b[43m                                                       \u001b[49m\u001b[43mbounds\u001b[49m\u001b[38;5;241;43m=\u001b[39;49m\u001b[38;5;28;43mself\u001b[39;49m\u001b[38;5;241;43m.\u001b[39;49m\u001b[43mbounds\u001b[49m\n\u001b[1;32m    373\u001b[0m \u001b[43m                                                       \u001b[49m\u001b[43m)\u001b[49m\n\u001b[1;32m    374\u001b[0m     res_df \u001b[38;5;241m=\u001b[39m []\n\u001b[1;32m    375\u001b[0m     written_indep_var_rows \u001b[38;5;241m=\u001b[39m \u001b[38;5;241m0\u001b[39m\n",
      "File \u001b[0;32m/workspaces/miniconda/PK-Analysis/utils.py:646\u001b[0m, in \u001b[0;36moptimize_with_checkpoint_joblib\u001b[0;34m(func, x0, n_checkpoint, checkpoint_filename, *args, **kwargs)\u001b[0m\n\u001b[1;32m    642\u001b[0m         user_callback(xk)\n\u001b[1;32m    644\u001b[0m     kwargs[\u001b[38;5;124m'\u001b[39m\u001b[38;5;124mcallback\u001b[39m\u001b[38;5;124m'\u001b[39m] \u001b[38;5;241m=\u001b[39m combined_callback\n\u001b[0;32m--> 646\u001b[0m result \u001b[38;5;241m=\u001b[39m \u001b[43mminimize\u001b[49m\u001b[43m(\u001b[49m\u001b[43mfunc\u001b[49m\u001b[43m,\u001b[49m\u001b[43m \u001b[49m\u001b[43mx0\u001b[49m\u001b[43m,\u001b[49m\u001b[43m \u001b[49m\u001b[38;5;241;43m*\u001b[39;49m\u001b[43margs\u001b[49m\u001b[43m,\u001b[49m\u001b[43m \u001b[49m\u001b[38;5;241;43m*\u001b[39;49m\u001b[38;5;241;43m*\u001b[39;49m\u001b[43mkwargs\u001b[49m\u001b[43m)\u001b[49m\n\u001b[1;32m    648\u001b[0m \u001b[38;5;66;03m# Remove checkpoint file at end.\u001b[39;00m\n\u001b[1;32m    649\u001b[0m \u001b[38;5;66;03m# try:\u001b[39;00m\n\u001b[1;32m    650\u001b[0m \u001b[38;5;66;03m#    os.remove(checkpoint_filename)\u001b[39;00m\n\u001b[1;32m    651\u001b[0m \u001b[38;5;66;03m# except:\u001b[39;00m\n\u001b[1;32m    652\u001b[0m \u001b[38;5;66;03m#    pass\u001b[39;00m\n\u001b[1;32m    654\u001b[0m \u001b[38;5;28;01mreturn\u001b[39;00m result\n",
      "File \u001b[0;32m/opt/conda/envs/pySunODE/lib/python3.12/site-packages/scipy/optimize/_minimize.py:731\u001b[0m, in \u001b[0;36mminimize\u001b[0;34m(fun, x0, args, method, jac, hess, hessp, bounds, constraints, tol, callback, options)\u001b[0m\n\u001b[1;32m    728\u001b[0m     res \u001b[38;5;241m=\u001b[39m _minimize_newtoncg(fun, x0, args, jac, hess, hessp, callback,\n\u001b[1;32m    729\u001b[0m                              \u001b[38;5;241m*\u001b[39m\u001b[38;5;241m*\u001b[39moptions)\n\u001b[1;32m    730\u001b[0m \u001b[38;5;28;01melif\u001b[39;00m meth \u001b[38;5;241m==\u001b[39m \u001b[38;5;124m'\u001b[39m\u001b[38;5;124ml-bfgs-b\u001b[39m\u001b[38;5;124m'\u001b[39m:\n\u001b[0;32m--> 731\u001b[0m     res \u001b[38;5;241m=\u001b[39m \u001b[43m_minimize_lbfgsb\u001b[49m\u001b[43m(\u001b[49m\u001b[43mfun\u001b[49m\u001b[43m,\u001b[49m\u001b[43m \u001b[49m\u001b[43mx0\u001b[49m\u001b[43m,\u001b[49m\u001b[43m \u001b[49m\u001b[43margs\u001b[49m\u001b[43m,\u001b[49m\u001b[43m \u001b[49m\u001b[43mjac\u001b[49m\u001b[43m,\u001b[49m\u001b[43m \u001b[49m\u001b[43mbounds\u001b[49m\u001b[43m,\u001b[49m\n\u001b[1;32m    732\u001b[0m \u001b[43m                           \u001b[49m\u001b[43mcallback\u001b[49m\u001b[38;5;241;43m=\u001b[39;49m\u001b[43mcallback\u001b[49m\u001b[43m,\u001b[49m\u001b[43m \u001b[49m\u001b[38;5;241;43m*\u001b[39;49m\u001b[38;5;241;43m*\u001b[39;49m\u001b[43moptions\u001b[49m\u001b[43m)\u001b[49m\n\u001b[1;32m    733\u001b[0m \u001b[38;5;28;01melif\u001b[39;00m meth \u001b[38;5;241m==\u001b[39m \u001b[38;5;124m'\u001b[39m\u001b[38;5;124mtnc\u001b[39m\u001b[38;5;124m'\u001b[39m:\n\u001b[1;32m    734\u001b[0m     res \u001b[38;5;241m=\u001b[39m _minimize_tnc(fun, x0, args, jac, bounds, callback\u001b[38;5;241m=\u001b[39mcallback,\n\u001b[1;32m    735\u001b[0m                         \u001b[38;5;241m*\u001b[39m\u001b[38;5;241m*\u001b[39moptions)\n",
      "File \u001b[0;32m/opt/conda/envs/pySunODE/lib/python3.12/site-packages/scipy/optimize/_lbfgsb_py.py:407\u001b[0m, in \u001b[0;36m_minimize_lbfgsb\u001b[0;34m(fun, x0, args, jac, bounds, disp, maxcor, ftol, gtol, eps, maxfun, maxiter, iprint, callback, maxls, finite_diff_rel_step, **unknown_options)\u001b[0m\n\u001b[1;32m    401\u001b[0m task_str \u001b[38;5;241m=\u001b[39m task\u001b[38;5;241m.\u001b[39mtobytes()\n\u001b[1;32m    402\u001b[0m \u001b[38;5;28;01mif\u001b[39;00m task_str\u001b[38;5;241m.\u001b[39mstartswith(\u001b[38;5;124mb\u001b[39m\u001b[38;5;124m'\u001b[39m\u001b[38;5;124mFG\u001b[39m\u001b[38;5;124m'\u001b[39m):\n\u001b[1;32m    403\u001b[0m     \u001b[38;5;66;03m# The minimization routine wants f and g at the current x.\u001b[39;00m\n\u001b[1;32m    404\u001b[0m     \u001b[38;5;66;03m# Note that interruptions due to maxfun are postponed\u001b[39;00m\n\u001b[1;32m    405\u001b[0m     \u001b[38;5;66;03m# until the completion of the current minimization iteration.\u001b[39;00m\n\u001b[1;32m    406\u001b[0m     \u001b[38;5;66;03m# Overwrite f and g:\u001b[39;00m\n\u001b[0;32m--> 407\u001b[0m     f, g \u001b[38;5;241m=\u001b[39m \u001b[43mfunc_and_grad\u001b[49m\u001b[43m(\u001b[49m\u001b[43mx\u001b[49m\u001b[43m)\u001b[49m\n\u001b[1;32m    408\u001b[0m \u001b[38;5;28;01melif\u001b[39;00m task_str\u001b[38;5;241m.\u001b[39mstartswith(\u001b[38;5;124mb\u001b[39m\u001b[38;5;124m'\u001b[39m\u001b[38;5;124mNEW_X\u001b[39m\u001b[38;5;124m'\u001b[39m):\n\u001b[1;32m    409\u001b[0m     \u001b[38;5;66;03m# new iteration\u001b[39;00m\n\u001b[1;32m    410\u001b[0m     n_iterations \u001b[38;5;241m+\u001b[39m\u001b[38;5;241m=\u001b[39m \u001b[38;5;241m1\u001b[39m\n",
      "File \u001b[0;32m/opt/conda/envs/pySunODE/lib/python3.12/site-packages/scipy/optimize/_differentiable_functions.py:344\u001b[0m, in \u001b[0;36mScalarFunction.fun_and_grad\u001b[0;34m(self, x)\u001b[0m\n\u001b[1;32m    342\u001b[0m     \u001b[38;5;28mself\u001b[39m\u001b[38;5;241m.\u001b[39m_update_x(x)\n\u001b[1;32m    343\u001b[0m \u001b[38;5;28mself\u001b[39m\u001b[38;5;241m.\u001b[39m_update_fun()\n\u001b[0;32m--> 344\u001b[0m \u001b[38;5;28;43mself\u001b[39;49m\u001b[38;5;241;43m.\u001b[39;49m\u001b[43m_update_grad\u001b[49m\u001b[43m(\u001b[49m\u001b[43m)\u001b[49m\n\u001b[1;32m    345\u001b[0m \u001b[38;5;28;01mreturn\u001b[39;00m \u001b[38;5;28mself\u001b[39m\u001b[38;5;241m.\u001b[39mf, \u001b[38;5;28mself\u001b[39m\u001b[38;5;241m.\u001b[39mg\n",
      "File \u001b[0;32m/opt/conda/envs/pySunODE/lib/python3.12/site-packages/scipy/optimize/_differentiable_functions.py:306\u001b[0m, in \u001b[0;36mScalarFunction._update_grad\u001b[0;34m(self)\u001b[0m\n\u001b[1;32m    304\u001b[0m \u001b[38;5;28;01mif\u001b[39;00m \u001b[38;5;28mself\u001b[39m\u001b[38;5;241m.\u001b[39m_orig_grad \u001b[38;5;129;01min\u001b[39;00m FD_METHODS:\n\u001b[1;32m    305\u001b[0m     \u001b[38;5;28mself\u001b[39m\u001b[38;5;241m.\u001b[39m_update_fun()\n\u001b[0;32m--> 306\u001b[0m \u001b[38;5;28mself\u001b[39m\u001b[38;5;241m.\u001b[39mg \u001b[38;5;241m=\u001b[39m \u001b[38;5;28;43mself\u001b[39;49m\u001b[38;5;241;43m.\u001b[39;49m\u001b[43m_wrapped_grad\u001b[49m\u001b[43m(\u001b[49m\u001b[38;5;28;43mself\u001b[39;49m\u001b[38;5;241;43m.\u001b[39;49m\u001b[43mx\u001b[49m\u001b[43m,\u001b[49m\u001b[43m \u001b[49m\u001b[43mf0\u001b[49m\u001b[38;5;241;43m=\u001b[39;49m\u001b[38;5;28;43mself\u001b[39;49m\u001b[38;5;241;43m.\u001b[39;49m\u001b[43mf\u001b[49m\u001b[43m)\u001b[49m\n\u001b[1;32m    307\u001b[0m \u001b[38;5;28mself\u001b[39m\u001b[38;5;241m.\u001b[39mg_updated \u001b[38;5;241m=\u001b[39m \u001b[38;5;28;01mTrue\u001b[39;00m\n",
      "File \u001b[0;32m/opt/conda/envs/pySunODE/lib/python3.12/site-packages/scipy/optimize/_differentiable_functions.py:47\u001b[0m, in \u001b[0;36m_wrapper_grad.<locals>.wrapped1\u001b[0;34m(x, f0)\u001b[0m\n\u001b[1;32m     45\u001b[0m \u001b[38;5;28;01mdef\u001b[39;00m \u001b[38;5;21mwrapped1\u001b[39m(x, f0\u001b[38;5;241m=\u001b[39m\u001b[38;5;28;01mNone\u001b[39;00m):\n\u001b[1;32m     46\u001b[0m     ncalls[\u001b[38;5;241m0\u001b[39m] \u001b[38;5;241m+\u001b[39m\u001b[38;5;241m=\u001b[39m \u001b[38;5;241m1\u001b[39m\n\u001b[0;32m---> 47\u001b[0m     \u001b[38;5;28;01mreturn\u001b[39;00m \u001b[43mapprox_derivative\u001b[49m\u001b[43m(\u001b[49m\n\u001b[1;32m     48\u001b[0m \u001b[43m        \u001b[49m\u001b[43mfun\u001b[49m\u001b[43m,\u001b[49m\u001b[43m \u001b[49m\u001b[43mx\u001b[49m\u001b[43m,\u001b[49m\u001b[43m \u001b[49m\u001b[43mf0\u001b[49m\u001b[38;5;241;43m=\u001b[39;49m\u001b[43mf0\u001b[49m\u001b[43m,\u001b[49m\u001b[43m \u001b[49m\u001b[38;5;241;43m*\u001b[39;49m\u001b[38;5;241;43m*\u001b[39;49m\u001b[43mfinite_diff_options\u001b[49m\n\u001b[1;32m     49\u001b[0m \u001b[43m    \u001b[49m\u001b[43m)\u001b[49m\n",
      "File \u001b[0;32m/opt/conda/envs/pySunODE/lib/python3.12/site-packages/scipy/optimize/_numdiff.py:519\u001b[0m, in \u001b[0;36mapprox_derivative\u001b[0;34m(fun, x0, method, rel_step, abs_step, f0, bounds, sparsity, as_linear_operator, args, kwargs)\u001b[0m\n\u001b[1;32m    516\u001b[0m     use_one_sided \u001b[38;5;241m=\u001b[39m \u001b[38;5;28;01mFalse\u001b[39;00m\n\u001b[1;32m    518\u001b[0m \u001b[38;5;28;01mif\u001b[39;00m sparsity \u001b[38;5;129;01mis\u001b[39;00m \u001b[38;5;28;01mNone\u001b[39;00m:\n\u001b[0;32m--> 519\u001b[0m     \u001b[38;5;28;01mreturn\u001b[39;00m \u001b[43m_dense_difference\u001b[49m\u001b[43m(\u001b[49m\u001b[43mfun_wrapped\u001b[49m\u001b[43m,\u001b[49m\u001b[43m \u001b[49m\u001b[43mx0\u001b[49m\u001b[43m,\u001b[49m\u001b[43m \u001b[49m\u001b[43mf0\u001b[49m\u001b[43m,\u001b[49m\u001b[43m \u001b[49m\u001b[43mh\u001b[49m\u001b[43m,\u001b[49m\n\u001b[1;32m    520\u001b[0m \u001b[43m                             \u001b[49m\u001b[43muse_one_sided\u001b[49m\u001b[43m,\u001b[49m\u001b[43m \u001b[49m\u001b[43mmethod\u001b[49m\u001b[43m)\u001b[49m\n\u001b[1;32m    521\u001b[0m \u001b[38;5;28;01melse\u001b[39;00m:\n\u001b[1;32m    522\u001b[0m     \u001b[38;5;28;01mif\u001b[39;00m \u001b[38;5;129;01mnot\u001b[39;00m issparse(sparsity) \u001b[38;5;129;01mand\u001b[39;00m \u001b[38;5;28mlen\u001b[39m(sparsity) \u001b[38;5;241m==\u001b[39m \u001b[38;5;241m2\u001b[39m:\n",
      "File \u001b[0;32m/opt/conda/envs/pySunODE/lib/python3.12/site-packages/scipy/optimize/_numdiff.py:592\u001b[0m, in \u001b[0;36m_dense_difference\u001b[0;34m(fun, x0, f0, h, use_one_sided, method)\u001b[0m\n\u001b[1;32m    590\u001b[0m     x1[i] \u001b[38;5;241m+\u001b[39m\u001b[38;5;241m=\u001b[39m h[i]\n\u001b[1;32m    591\u001b[0m     dx \u001b[38;5;241m=\u001b[39m x1[i] \u001b[38;5;241m-\u001b[39m x0[i]  \u001b[38;5;66;03m# Recompute dx as exactly representable number.\u001b[39;00m\n\u001b[0;32m--> 592\u001b[0m     df \u001b[38;5;241m=\u001b[39m \u001b[43mfun\u001b[49m\u001b[43m(\u001b[49m\u001b[43mx1\u001b[49m\u001b[43m)\u001b[49m \u001b[38;5;241m-\u001b[39m f0\n\u001b[1;32m    593\u001b[0m \u001b[38;5;28;01melif\u001b[39;00m method \u001b[38;5;241m==\u001b[39m \u001b[38;5;124m'\u001b[39m\u001b[38;5;124m3-point\u001b[39m\u001b[38;5;124m'\u001b[39m \u001b[38;5;129;01mand\u001b[39;00m use_one_sided[i]:\n\u001b[1;32m    594\u001b[0m     x1[i] \u001b[38;5;241m+\u001b[39m\u001b[38;5;241m=\u001b[39m h[i]\n",
      "File \u001b[0;32m/opt/conda/envs/pySunODE/lib/python3.12/site-packages/scipy/optimize/_numdiff.py:470\u001b[0m, in \u001b[0;36mapprox_derivative.<locals>.fun_wrapped\u001b[0;34m(x)\u001b[0m\n\u001b[1;32m    467\u001b[0m \u001b[38;5;28;01mif\u001b[39;00m xp\u001b[38;5;241m.\u001b[39misdtype(x\u001b[38;5;241m.\u001b[39mdtype, \u001b[38;5;124m\"\u001b[39m\u001b[38;5;124mreal floating\u001b[39m\u001b[38;5;124m\"\u001b[39m):\n\u001b[1;32m    468\u001b[0m     x \u001b[38;5;241m=\u001b[39m xp\u001b[38;5;241m.\u001b[39mastype(x, x0\u001b[38;5;241m.\u001b[39mdtype)\n\u001b[0;32m--> 470\u001b[0m f \u001b[38;5;241m=\u001b[39m np\u001b[38;5;241m.\u001b[39matleast_1d(\u001b[43mfun\u001b[49m\u001b[43m(\u001b[49m\u001b[43mx\u001b[49m\u001b[43m,\u001b[49m\u001b[43m \u001b[49m\u001b[38;5;241;43m*\u001b[39;49m\u001b[43margs\u001b[49m\u001b[43m,\u001b[49m\u001b[43m \u001b[49m\u001b[38;5;241;43m*\u001b[39;49m\u001b[38;5;241;43m*\u001b[39;49m\u001b[43mkwargs\u001b[49m\u001b[43m)\u001b[49m)\n\u001b[1;32m    471\u001b[0m \u001b[38;5;28;01mif\u001b[39;00m f\u001b[38;5;241m.\u001b[39mndim \u001b[38;5;241m>\u001b[39m \u001b[38;5;241m1\u001b[39m:\n\u001b[1;32m    472\u001b[0m     \u001b[38;5;28;01mraise\u001b[39;00m \u001b[38;5;167;01mRuntimeError\u001b[39;00m(\u001b[38;5;124m\"\u001b[39m\u001b[38;5;124m`fun` return value has \u001b[39m\u001b[38;5;124m\"\u001b[39m\n\u001b[1;32m    473\u001b[0m                        \u001b[38;5;124m\"\u001b[39m\u001b[38;5;124mmore than 1 dimension.\u001b[39m\u001b[38;5;124m\"\u001b[39m)\n",
      "File \u001b[0;32m/opt/conda/envs/pySunODE/lib/python3.12/site-packages/scipy/optimize/_differentiable_functions.py:20\u001b[0m, in \u001b[0;36m_wrapper_fun.<locals>.wrapped\u001b[0;34m(x)\u001b[0m\n\u001b[1;32m     16\u001b[0m ncalls[\u001b[38;5;241m0\u001b[39m] \u001b[38;5;241m+\u001b[39m\u001b[38;5;241m=\u001b[39m \u001b[38;5;241m1\u001b[39m\n\u001b[1;32m     17\u001b[0m \u001b[38;5;66;03m# Send a copy because the user may overwrite it.\u001b[39;00m\n\u001b[1;32m     18\u001b[0m \u001b[38;5;66;03m# Overwriting results in undefined behaviour because\u001b[39;00m\n\u001b[1;32m     19\u001b[0m \u001b[38;5;66;03m# fun(self.x) will change self.x, with the two no longer linked.\u001b[39;00m\n\u001b[0;32m---> 20\u001b[0m fx \u001b[38;5;241m=\u001b[39m \u001b[43mfun\u001b[49m\u001b[43m(\u001b[49m\u001b[43mnp\u001b[49m\u001b[38;5;241;43m.\u001b[39;49m\u001b[43mcopy\u001b[49m\u001b[43m(\u001b[49m\u001b[43mx\u001b[49m\u001b[43m)\u001b[49m\u001b[43m,\u001b[49m\u001b[43m \u001b[49m\u001b[38;5;241;43m*\u001b[39;49m\u001b[43margs\u001b[49m\u001b[43m)\u001b[49m\n\u001b[1;32m     21\u001b[0m \u001b[38;5;66;03m# Make sure the function returns a true scalar\u001b[39;00m\n\u001b[1;32m     22\u001b[0m \u001b[38;5;28;01mif\u001b[39;00m \u001b[38;5;129;01mnot\u001b[39;00m np\u001b[38;5;241m.\u001b[39misscalar(fx):\n",
      "File \u001b[0;32m/workspaces/miniconda/PK-Analysis/utils.py:358\u001b[0m, in \u001b[0;36mOneCompartmentModel._objective_function\u001b[0;34m(self, params, data, parallel)\u001b[0m\n\u001b[1;32m    356\u001b[0m other_params \u001b[38;5;241m=\u001b[39m params[n_pop_coeff:]\n\u001b[1;32m    357\u001b[0m _betas \u001b[38;5;241m=\u001b[39m \u001b[38;5;28mself\u001b[39m\u001b[38;5;241m.\u001b[39m_populate_model_betas(other_params)\n\u001b[0;32m--> 358\u001b[0m preds \u001b[38;5;241m=\u001b[39m np\u001b[38;5;241m.\u001b[39mconcatenate(\u001b[38;5;28mself\u001b[39m\u001b[38;5;241m.\u001b[39m_predict_parallel(data \u001b[38;5;241m=\u001b[39m data)) \u001b[38;5;28;01mif\u001b[39;00m parallel \u001b[38;5;28;01melse\u001b[39;00m \u001b[38;5;28;43mself\u001b[39;49m\u001b[38;5;241;43m.\u001b[39;49m\u001b[43m_predict_alt\u001b[49m\u001b[43m(\u001b[49m\u001b[43mdata\u001b[49m\u001b[38;5;241;43m=\u001b[39;49m\u001b[43mdata\u001b[49m\u001b[43m)\u001b[49m\n\u001b[1;32m    359\u001b[0m \u001b[38;5;66;03m#residuals = data[self.conc_at_time_col] - preds\u001b[39;00m\n\u001b[1;32m    360\u001b[0m \u001b[38;5;66;03m#sse = np.sum(residuals**2)\u001b[39;00m\n\u001b[1;32m    361\u001b[0m error \u001b[38;5;241m=\u001b[39m \u001b[38;5;28mself\u001b[39m\u001b[38;5;241m.\u001b[39mloss_function(data[\u001b[38;5;28mself\u001b[39m\u001b[38;5;241m.\u001b[39mconc_at_time_col], preds, \u001b[38;5;241m*\u001b[39m\u001b[38;5;241m*\u001b[39m\u001b[38;5;28mself\u001b[39m\u001b[38;5;241m.\u001b[39mloss_params)\n",
      "File \u001b[0;32m/workspaces/miniconda/PK-Analysis/utils.py:288\u001b[0m, in \u001b[0;36mOneCompartmentModel._predict_alt\u001b[0;34m(self, data)\u001b[0m\n\u001b[1;32m    286\u001b[0m \u001b[38;5;28;01mdef\u001b[39;00m \u001b[38;5;21m_predict_alt\u001b[39m(\u001b[38;5;28mself\u001b[39m, data):\n\u001b[1;32m    287\u001b[0m     predictions \u001b[38;5;241m=\u001b[39m []\n\u001b[0;32m--> 288\u001b[0m \u001b[43m    \u001b[49m\u001b[38;5;28;43;01mfor\u001b[39;49;00m\u001b[43m \u001b[49m\u001b[43msubject_data\u001b[49m\u001b[43m \u001b[49m\u001b[38;5;129;43;01min\u001b[39;49;00m\u001b[43m \u001b[49m\u001b[38;5;28;43mself\u001b[39;49m\u001b[38;5;241;43m.\u001b[39;49m\u001b[43m_subject_iterator\u001b[49m\u001b[43m(\u001b[49m\u001b[43mdata\u001b[49m\u001b[43m)\u001b[49m\u001b[43m:\u001b[49m\n\u001b[1;32m    289\u001b[0m \u001b[43m        \u001b[49m\u001b[43msubject_preds\u001b[49m\u001b[43m \u001b[49m\u001b[38;5;241;43m=\u001b[39;49m\u001b[43m \u001b[49m\u001b[38;5;28;43mself\u001b[39;49m\u001b[38;5;241;43m.\u001b[39;49m\u001b[43m_predict_inner\u001b[49m\u001b[43m(\u001b[49m\u001b[43msubject_data\u001b[49m\u001b[43m)\u001b[49m\n\u001b[1;32m    290\u001b[0m \u001b[43m        \u001b[49m\u001b[43mpredictions\u001b[49m\u001b[38;5;241;43m.\u001b[39;49m\u001b[43mextend\u001b[49m\u001b[43m(\u001b[49m\u001b[43msubject_preds\u001b[49m\u001b[43m)\u001b[49m\n",
      "File \u001b[0;32m/workspaces/miniconda/PK-Analysis/utils.py:231\u001b[0m, in \u001b[0;36mOneCompartmentModel._subject_iterator\u001b[0;34m(self, data)\u001b[0m\n\u001b[1;32m    229\u001b[0m subject_data \u001b[38;5;241m=\u001b[39m data\u001b[38;5;241m.\u001b[39mloc[subject_filt, :]\u001b[38;5;241m.\u001b[39mcopy()\n\u001b[1;32m    230\u001b[0m initial_conc \u001b[38;5;241m=\u001b[39m subject_data[conc_at_time_c]\u001b[38;5;241m.\u001b[39mvalues[\u001b[38;5;241m0\u001b[39m]\n\u001b[0;32m--> 231\u001b[0m subject_coeff \u001b[38;5;241m=\u001b[39m \u001b[43mdeepcopy\u001b[49m\u001b[43m(\u001b[49m\u001b[38;5;28;43mself\u001b[39;49m\u001b[38;5;241;43m.\u001b[39;49m\u001b[43mpopulation_coeff\u001b[49m\u001b[43m)\u001b[49m\n\u001b[1;32m    232\u001b[0m \u001b[38;5;66;03m#subject_coeff = deepcopy(population_coeff)\u001b[39;00m\n\u001b[1;32m    233\u001b[0m subject_coeff \u001b[38;5;241m=\u001b[39m {\n\u001b[1;32m    234\u001b[0m     obj\u001b[38;5;241m.\u001b[39mcoeff_name: obj\u001b[38;5;241m.\u001b[39moptimization_history[\u001b[38;5;241m-\u001b[39m\u001b[38;5;241m1\u001b[39m] \u001b[38;5;28;01mfor\u001b[39;00m obj \u001b[38;5;129;01min\u001b[39;00m subject_coeff}\n",
      "File \u001b[0;32m/opt/conda/envs/pySunODE/lib/python3.12/copy.py:136\u001b[0m, in \u001b[0;36mdeepcopy\u001b[0;34m(x, memo, _nil)\u001b[0m\n\u001b[1;32m    134\u001b[0m copier \u001b[38;5;241m=\u001b[39m _deepcopy_dispatch\u001b[38;5;241m.\u001b[39mget(\u001b[38;5;28mcls\u001b[39m)\n\u001b[1;32m    135\u001b[0m \u001b[38;5;28;01mif\u001b[39;00m copier \u001b[38;5;129;01mis\u001b[39;00m \u001b[38;5;129;01mnot\u001b[39;00m \u001b[38;5;28;01mNone\u001b[39;00m:\n\u001b[0;32m--> 136\u001b[0m     y \u001b[38;5;241m=\u001b[39m \u001b[43mcopier\u001b[49m\u001b[43m(\u001b[49m\u001b[43mx\u001b[49m\u001b[43m,\u001b[49m\u001b[43m \u001b[49m\u001b[43mmemo\u001b[49m\u001b[43m)\u001b[49m\n\u001b[1;32m    137\u001b[0m \u001b[38;5;28;01melse\u001b[39;00m:\n\u001b[1;32m    138\u001b[0m     \u001b[38;5;28;01mif\u001b[39;00m \u001b[38;5;28missubclass\u001b[39m(\u001b[38;5;28mcls\u001b[39m, \u001b[38;5;28mtype\u001b[39m):\n",
      "File \u001b[0;32m/opt/conda/envs/pySunODE/lib/python3.12/copy.py:196\u001b[0m, in \u001b[0;36m_deepcopy_list\u001b[0;34m(x, memo, deepcopy)\u001b[0m\n\u001b[1;32m    194\u001b[0m append \u001b[38;5;241m=\u001b[39m y\u001b[38;5;241m.\u001b[39mappend\n\u001b[1;32m    195\u001b[0m \u001b[38;5;28;01mfor\u001b[39;00m a \u001b[38;5;129;01min\u001b[39;00m x:\n\u001b[0;32m--> 196\u001b[0m     append(\u001b[43mdeepcopy\u001b[49m\u001b[43m(\u001b[49m\u001b[43ma\u001b[49m\u001b[43m,\u001b[49m\u001b[43m \u001b[49m\u001b[43mmemo\u001b[49m\u001b[43m)\u001b[49m)\n\u001b[1;32m    197\u001b[0m \u001b[38;5;28;01mreturn\u001b[39;00m y\n",
      "File \u001b[0;32m/opt/conda/envs/pySunODE/lib/python3.12/copy.py:162\u001b[0m, in \u001b[0;36mdeepcopy\u001b[0;34m(x, memo, _nil)\u001b[0m\n\u001b[1;32m    160\u001b[0m                 y \u001b[38;5;241m=\u001b[39m x\n\u001b[1;32m    161\u001b[0m             \u001b[38;5;28;01melse\u001b[39;00m:\n\u001b[0;32m--> 162\u001b[0m                 y \u001b[38;5;241m=\u001b[39m \u001b[43m_reconstruct\u001b[49m\u001b[43m(\u001b[49m\u001b[43mx\u001b[49m\u001b[43m,\u001b[49m\u001b[43m \u001b[49m\u001b[43mmemo\u001b[49m\u001b[43m,\u001b[49m\u001b[43m \u001b[49m\u001b[38;5;241;43m*\u001b[39;49m\u001b[43mrv\u001b[49m\u001b[43m)\u001b[49m\n\u001b[1;32m    164\u001b[0m \u001b[38;5;66;03m# If is its own copy, don't memoize.\u001b[39;00m\n\u001b[1;32m    165\u001b[0m \u001b[38;5;28;01mif\u001b[39;00m y \u001b[38;5;129;01mis\u001b[39;00m \u001b[38;5;129;01mnot\u001b[39;00m x:\n",
      "File \u001b[0;32m/opt/conda/envs/pySunODE/lib/python3.12/copy.py:259\u001b[0m, in \u001b[0;36m_reconstruct\u001b[0;34m(x, memo, func, args, state, listiter, dictiter, deepcopy)\u001b[0m\n\u001b[1;32m    257\u001b[0m \u001b[38;5;28;01mif\u001b[39;00m state \u001b[38;5;129;01mis\u001b[39;00m \u001b[38;5;129;01mnot\u001b[39;00m \u001b[38;5;28;01mNone\u001b[39;00m:\n\u001b[1;32m    258\u001b[0m     \u001b[38;5;28;01mif\u001b[39;00m deep:\n\u001b[0;32m--> 259\u001b[0m         state \u001b[38;5;241m=\u001b[39m \u001b[43mdeepcopy\u001b[49m\u001b[43m(\u001b[49m\u001b[43mstate\u001b[49m\u001b[43m,\u001b[49m\u001b[43m \u001b[49m\u001b[43mmemo\u001b[49m\u001b[43m)\u001b[49m\n\u001b[1;32m    260\u001b[0m     \u001b[38;5;28;01mif\u001b[39;00m \u001b[38;5;28mhasattr\u001b[39m(y, \u001b[38;5;124m'\u001b[39m\u001b[38;5;124m__setstate__\u001b[39m\u001b[38;5;124m'\u001b[39m):\n\u001b[1;32m    261\u001b[0m         y\u001b[38;5;241m.\u001b[39m__setstate__(state)\n",
      "File \u001b[0;32m/opt/conda/envs/pySunODE/lib/python3.12/copy.py:136\u001b[0m, in \u001b[0;36mdeepcopy\u001b[0;34m(x, memo, _nil)\u001b[0m\n\u001b[1;32m    134\u001b[0m copier \u001b[38;5;241m=\u001b[39m _deepcopy_dispatch\u001b[38;5;241m.\u001b[39mget(\u001b[38;5;28mcls\u001b[39m)\n\u001b[1;32m    135\u001b[0m \u001b[38;5;28;01mif\u001b[39;00m copier \u001b[38;5;129;01mis\u001b[39;00m \u001b[38;5;129;01mnot\u001b[39;00m \u001b[38;5;28;01mNone\u001b[39;00m:\n\u001b[0;32m--> 136\u001b[0m     y \u001b[38;5;241m=\u001b[39m \u001b[43mcopier\u001b[49m\u001b[43m(\u001b[49m\u001b[43mx\u001b[49m\u001b[43m,\u001b[49m\u001b[43m \u001b[49m\u001b[43mmemo\u001b[49m\u001b[43m)\u001b[49m\n\u001b[1;32m    137\u001b[0m \u001b[38;5;28;01melse\u001b[39;00m:\n\u001b[1;32m    138\u001b[0m     \u001b[38;5;28;01mif\u001b[39;00m \u001b[38;5;28missubclass\u001b[39m(\u001b[38;5;28mcls\u001b[39m, \u001b[38;5;28mtype\u001b[39m):\n",
      "File \u001b[0;32m/opt/conda/envs/pySunODE/lib/python3.12/copy.py:221\u001b[0m, in \u001b[0;36m_deepcopy_dict\u001b[0;34m(x, memo, deepcopy)\u001b[0m\n\u001b[1;32m    219\u001b[0m memo[\u001b[38;5;28mid\u001b[39m(x)] \u001b[38;5;241m=\u001b[39m y\n\u001b[1;32m    220\u001b[0m \u001b[38;5;28;01mfor\u001b[39;00m key, value \u001b[38;5;129;01min\u001b[39;00m x\u001b[38;5;241m.\u001b[39mitems():\n\u001b[0;32m--> 221\u001b[0m     y[deepcopy(key, memo)] \u001b[38;5;241m=\u001b[39m \u001b[43mdeepcopy\u001b[49m\u001b[43m(\u001b[49m\u001b[43mvalue\u001b[49m\u001b[43m,\u001b[49m\u001b[43m \u001b[49m\u001b[43mmemo\u001b[49m\u001b[43m)\u001b[49m\n\u001b[1;32m    222\u001b[0m \u001b[38;5;28;01mreturn\u001b[39;00m y\n",
      "File \u001b[0;32m/opt/conda/envs/pySunODE/lib/python3.12/copy.py:136\u001b[0m, in \u001b[0;36mdeepcopy\u001b[0;34m(x, memo, _nil)\u001b[0m\n\u001b[1;32m    134\u001b[0m copier \u001b[38;5;241m=\u001b[39m _deepcopy_dispatch\u001b[38;5;241m.\u001b[39mget(\u001b[38;5;28mcls\u001b[39m)\n\u001b[1;32m    135\u001b[0m \u001b[38;5;28;01mif\u001b[39;00m copier \u001b[38;5;129;01mis\u001b[39;00m \u001b[38;5;129;01mnot\u001b[39;00m \u001b[38;5;28;01mNone\u001b[39;00m:\n\u001b[0;32m--> 136\u001b[0m     y \u001b[38;5;241m=\u001b[39m \u001b[43mcopier\u001b[49m\u001b[43m(\u001b[49m\u001b[43mx\u001b[49m\u001b[43m,\u001b[49m\u001b[43m \u001b[49m\u001b[43mmemo\u001b[49m\u001b[43m)\u001b[49m\n\u001b[1;32m    137\u001b[0m \u001b[38;5;28;01melse\u001b[39;00m:\n\u001b[1;32m    138\u001b[0m     \u001b[38;5;28;01mif\u001b[39;00m \u001b[38;5;28missubclass\u001b[39m(\u001b[38;5;28mcls\u001b[39m, \u001b[38;5;28mtype\u001b[39m):\n",
      "File \u001b[0;32m/opt/conda/envs/pySunODE/lib/python3.12/copy.py:196\u001b[0m, in \u001b[0;36m_deepcopy_list\u001b[0;34m(x, memo, deepcopy)\u001b[0m\n\u001b[1;32m    194\u001b[0m append \u001b[38;5;241m=\u001b[39m y\u001b[38;5;241m.\u001b[39mappend\n\u001b[1;32m    195\u001b[0m \u001b[38;5;28;01mfor\u001b[39;00m a \u001b[38;5;129;01min\u001b[39;00m x:\n\u001b[0;32m--> 196\u001b[0m     append(\u001b[43mdeepcopy\u001b[49m\u001b[43m(\u001b[49m\u001b[43ma\u001b[49m\u001b[43m,\u001b[49m\u001b[43m \u001b[49m\u001b[43mmemo\u001b[49m\u001b[43m)\u001b[49m)\n\u001b[1;32m    197\u001b[0m \u001b[38;5;28;01mreturn\u001b[39;00m y\n",
      "File \u001b[0;32m/opt/conda/envs/pySunODE/lib/python3.12/copy.py:143\u001b[0m, in \u001b[0;36mdeepcopy\u001b[0;34m(x, memo, _nil)\u001b[0m\n\u001b[1;32m    141\u001b[0m copier \u001b[38;5;241m=\u001b[39m \u001b[38;5;28mgetattr\u001b[39m(x, \u001b[38;5;124m\"\u001b[39m\u001b[38;5;124m__deepcopy__\u001b[39m\u001b[38;5;124m\"\u001b[39m, \u001b[38;5;28;01mNone\u001b[39;00m)\n\u001b[1;32m    142\u001b[0m \u001b[38;5;28;01mif\u001b[39;00m copier \u001b[38;5;129;01mis\u001b[39;00m \u001b[38;5;129;01mnot\u001b[39;00m \u001b[38;5;28;01mNone\u001b[39;00m:\n\u001b[0;32m--> 143\u001b[0m     y \u001b[38;5;241m=\u001b[39m \u001b[43mcopier\u001b[49m\u001b[43m(\u001b[49m\u001b[43mmemo\u001b[49m\u001b[43m)\u001b[49m\n\u001b[1;32m    144\u001b[0m \u001b[38;5;28;01melse\u001b[39;00m:\n\u001b[1;32m    145\u001b[0m     reductor \u001b[38;5;241m=\u001b[39m dispatch_table\u001b[38;5;241m.\u001b[39mget(\u001b[38;5;28mcls\u001b[39m)\n",
      "\u001b[0;31mKeyboardInterrupt\u001b[0m: "
     ]
    }
   ],
   "source": [
    "mod_lin_sse = OneCompartmentModel(dep_vars= {'k':[ ObjectiveFunctionColumn('AGE_scale'),\n",
    "                                                ObjectiveFunctionColumn('SEX')],\n",
    "                                           'vd':[ObjectiveFunctionColumn('WT_scale',)]},\n",
    "                                  loss_function=sum_of_squares_loss\n",
    "                                  )\n",
    "mod_lin_sse = mod_lin_sse.fit(scale_df)"
   ]
  },
  {
   "cell_type": "code",
   "execution_count": 17,
   "metadata": {},
   "outputs": [
    {
     "data": {
      "text/plain": [
       "<function utils.one_compartment_model(t, y, k, Vd, dose)>"
      ]
     },
     "execution_count": 17,
     "metadata": {},
     "output_type": "execute_result"
    }
   ],
   "source": [
    "mod_lin_sse.fit_result_"
   ]
  },
  {
   "cell_type": "code",
   "execution_count": null,
   "metadata": {},
   "outputs": [
    {
     "name": "stdout",
     "output_type": "stream",
     "text": [
      "No checkpoint found, starting from initial guess.\n"
     ]
    },
    {
     "name": "stdout",
     "output_type": "stream",
     "text": [
      "1\n",
      "no log\n",
      "2\n",
      "no log\n",
      "3\n",
      "no log\n",
      "4\n",
      "no log\n"
     ]
    }
   ],
   "source": []
  },
  {
   "cell_type": "code",
   "execution_count": 19,
   "metadata": {},
   "outputs": [
    {
     "data": {
      "text/html": [
       "<div>\n",
       "<style scoped>\n",
       "    .dataframe tbody tr th:only-of-type {\n",
       "        vertical-align: middle;\n",
       "    }\n",
       "\n",
       "    .dataframe tbody tr th {\n",
       "        vertical-align: top;\n",
       "    }\n",
       "\n",
       "    .dataframe thead th {\n",
       "        text-align: right;\n",
       "    }\n",
       "</style>\n",
       "<table border=\"1\" class=\"dataframe\">\n",
       "  <thead>\n",
       "    <tr style=\"text-align: right;\">\n",
       "      <th></th>\n",
       "      <th>population_coeff</th>\n",
       "      <th>model_coeff</th>\n",
       "      <th>model_coeff_indep_var</th>\n",
       "      <th>log_coeff</th>\n",
       "      <th>log_coeff_history_final</th>\n",
       "      <th>coeff_estimates_equal</th>\n",
       "      <th>coeff</th>\n",
       "    </tr>\n",
       "  </thead>\n",
       "  <tbody>\n",
       "    <tr>\n",
       "      <th>0</th>\n",
       "      <td>True</td>\n",
       "      <td>k</td>\n",
       "      <td>None</td>\n",
       "      <td>-0.981034</td>\n",
       "      <td>-0.981034</td>\n",
       "      <td>True</td>\n",
       "      <td>0.374923</td>\n",
       "    </tr>\n",
       "    <tr>\n",
       "      <th>1</th>\n",
       "      <td>True</td>\n",
       "      <td>vd</td>\n",
       "      <td>None</td>\n",
       "      <td>0.024289</td>\n",
       "      <td>0.024289</td>\n",
       "      <td>True</td>\n",
       "      <td>1.024586</td>\n",
       "    </tr>\n",
       "    <tr>\n",
       "      <th>2</th>\n",
       "      <td>False</td>\n",
       "      <td>k</td>\n",
       "      <td>AGE_scale</td>\n",
       "      <td>-0.212214</td>\n",
       "      <td>-0.212214</td>\n",
       "      <td>True</td>\n",
       "      <td>0.808791</td>\n",
       "    </tr>\n",
       "    <tr>\n",
       "      <th>3</th>\n",
       "      <td>False</td>\n",
       "      <td>k</td>\n",
       "      <td>SEX</td>\n",
       "      <td>-0.510118</td>\n",
       "      <td>-0.510118</td>\n",
       "      <td>True</td>\n",
       "      <td>0.600425</td>\n",
       "    </tr>\n",
       "    <tr>\n",
       "      <th>4</th>\n",
       "      <td>False</td>\n",
       "      <td>vd</td>\n",
       "      <td>WT_scale</td>\n",
       "      <td>0.478995</td>\n",
       "      <td>0.478995</td>\n",
       "      <td>False</td>\n",
       "      <td>1.614451</td>\n",
       "    </tr>\n",
       "  </tbody>\n",
       "</table>\n",
       "</div>"
      ],
      "text/plain": [
       "   population_coeff model_coeff model_coeff_indep_var  log_coeff  \\\n",
       "0              True           k                  None  -0.981034   \n",
       "1              True          vd                  None   0.024289   \n",
       "2             False           k             AGE_scale  -0.212214   \n",
       "3             False           k                   SEX  -0.510118   \n",
       "4             False          vd              WT_scale   0.478995   \n",
       "\n",
       "   log_coeff_history_final  coeff_estimates_equal     coeff  \n",
       "0                -0.981034                   True  0.374923  \n",
       "1                 0.024289                   True  1.024586  \n",
       "2                -0.212214                   True  0.808791  \n",
       "3                -0.510118                   True  0.600425  \n",
       "4                 0.478995                  False  1.614451  "
      ]
     },
     "execution_count": 19,
     "metadata": {},
     "output_type": "execute_result"
    }
   ],
   "source": [
    "mod.fit_result_summary_"
   ]
  },
  {
   "cell_type": "code",
   "execution_count": 22,
   "metadata": {},
   "outputs": [
    {
     "data": {
      "text/plain": [
       "{'k': {'AGE_scale': ObjectiveFunctionBeta(column_name='AGE_scale', value=-0.21221418486812021, allometric_norm_value=None, model_method='linear', optimization_lower_bound=None, optimization_upper_bound=None),\n",
       "  'SEX': ObjectiveFunctionBeta(column_name='SEX', value=-0.5101181836714316, allometric_norm_value=None, model_method='linear', optimization_lower_bound=None, optimization_upper_bound=None)},\n",
       " 'vd': {'WT_scale': ObjectiveFunctionBeta(column_name='WT_scale', value=0.4789950131266872, allometric_norm_value=-0.5625, model_method='allometric', optimization_lower_bound=None, optimization_upper_bound=None)}}"
      ]
     },
     "execution_count": 22,
     "metadata": {},
     "output_type": "execute_result"
    }
   ],
   "source": [
    "mod.betas"
   ]
  },
  {
   "cell_type": "code",
   "execution_count": 27,
   "metadata": {},
   "outputs": [
    {
     "data": {
      "text/plain": [
       "[275.0,\n",
       " 219.41004075629095,\n",
       " 175.03386587702224,\n",
       " 139.58268793813124,\n",
       " 88.9423037340149,\n",
       " 56.6078393802286,\n",
       " 22.949008650562817,\n",
       " 9.303864360478595,\n",
       " 1.529228586544097,\n",
       " 0.10190992181331796,\n",
       " 0.006791884038671114,\n",
       " 3.0273384810627132e-05,\n",
       " 2.125513197246342e-07,\n",
       " 625.0,\n",
       " 481.17573769511966,\n",
       " 370.37613649441204,\n",
       " 219.53490305344727,\n",
       " 130.1742981976813,\n",
       " 45.74840597829629,\n",
       " 16.084801005138267,\n",
       " 1.9884628315634594,\n",
       " 0.08631915573715676,\n",
       " 0.0037505437025481115,\n",
       " 7.204241033197959e-06,\n",
       " 6.52943082436209e-08,\n",
       " 498.0,\n",
       " 405.4704513439597,\n",
       " 330.0988876867474,\n",
       " 218.70932158208004,\n",
       " 145.17709307579506,\n",
       " 63.82682873673082,\n",
       " 28.058975448400865,\n",
       " 5.422084397487072,\n",
       " 0.4606572228708948,\n",
       " 0.03915411389023722,\n",
       " 0.00028300209234933366,\n",
       " 2.0976521634348977e-06,\n",
       " 302.0,\n",
       " 236.96364925607656,\n",
       " 185.9030282198404,\n",
       " 114.43104717234311,\n",
       " 70.50760415245051,\n",
       " 26.73406925117478,\n",
       " 10.137453888528018,\n",
       " 1.458171696650773,\n",
       " 0.07959696157113466,\n",
       " 0.004340410232303384,\n",
       " 1.3029799550901507e-05,\n",
       " 6.707379605981528e-08,\n",
       " 632.0,\n",
       " 538.388981808825,\n",
       " 458.6210898034255,\n",
       " 332.6049212961801,\n",
       " 241.53243612817988,\n",
       " 127.22569635867205,\n",
       " 67.05261697748848,\n",
       " 18.605710929126673,\n",
       " 2.721769938505225,\n",
       " 0.39802306652143726,\n",
       " 0.00850401735934169,\n",
       " 0.00018199553812500293,\n",
       " 283.0,\n",
       " 229.76061354876651,\n",
       " 186.51679159194134,\n",
       " 122.87613750459204,\n",
       " 81.09779321996811,\n",
       " 35.25073610661864,\n",
       " 15.321515531285023,\n",
       " 2.8941193818313056,\n",
       " 0.23759031833161348,\n",
       " 0.019508995926739596,\n",
       " 0.0001318267038252865,\n",
       " 9.510710513967233e-07,\n",
       " 489.0,\n",
       " 382.27414960162866,\n",
       " 298.7914824170769,\n",
       " 233.4631178235529,\n",
       " 142.85762993727332,\n",
       " 87.26272088020765,\n",
       " 32.61093103704978,\n",
       " 12.189129390822355,\n",
       " 1.7028042980839055,\n",
       " 0.08879473551568148,\n",
       " 0.00463376429363297,\n",
       " 1.2561270443911168e-05,\n",
       " 8.514306115080874e-08,\n",
       " 379.0,\n",
       " 270.08066708812004,\n",
       " 137.19798580129165,\n",
       " 69.68376288387046,\n",
       " 17.998035720358338,\n",
       " 2.359030763059465,\n",
       " 0.3094712346821644,\n",
       " 0.005321829189474603,\n",
       " 9.165335963750002e-05,\n",
       " 318.0,\n",
       " 248.71950268394468,\n",
       " 152.05011098278322,\n",
       " 93.1329222852203,\n",
       " 34.869635329384934,\n",
       " 13.053193831854234,\n",
       " 1.8291950267435042,\n",
       " 0.09605442466172666,\n",
       " 0.005043374931230635,\n",
       " 1.4010103767425777e-05,\n",
       " 7.174955210753084e-08,\n",
       " 429.0,\n",
       " 304.8510137515595,\n",
       " 153.99594316893152,\n",
       " 77.77526639427163,\n",
       " 19.861676796521863,\n",
       " 2.5597570773450595,\n",
       " 0.3302443450870804,\n",
       " 0.005488833496265708,\n",
       " 9.140306489795648e-05,\n",
       " 481.0,\n",
       " 337.4483068588865,\n",
       " 236.60084471965675,\n",
       " 116.5923162185754,\n",
       " 57.435546326836075,\n",
       " 13.920074675892247,\n",
       " 1.6631077326982329,\n",
       " 0.19846506920517137,\n",
       " 0.0028305499749940195,\n",
       " 4.045714100587954e-05,\n",
       " 762.0,\n",
       " 657.9844152428022,\n",
       " 568.1466056609363,\n",
       " 423.3596360537603,\n",
       " 315.7788294123807,\n",
       " 175.6561985225002,\n",
       " 97.74783358475841,\n",
       " 30.21341394912807,\n",
       " 5.196909318187811,\n",
       " 0.8939036422056508,\n",
       " 0.026447371291353904,\n",
       " 0.0007830149333505319,\n",
       " 522.0,\n",
       " 335.8794302188002,\n",
       " 216.05346794286618,\n",
       " 89.54349763594419,\n",
       " 37.10008304976712,\n",
       " 6.368994336894413,\n",
       " 0.4530169085350281,\n",
       " 0.03222234438024047,\n",
       " 0.00016296624372361584,\n",
       " 9.294081544223915e-07,\n",
       " 414.0,\n",
       " 311.6657289617518,\n",
       " 176.57758626197497,\n",
       " 100.14879291785891,\n",
       " 32.18381044980666,\n",
       " 5.8646659906895575,\n",
       " 1.0687329437140756,\n",
       " 0.0354958685173451,\n",
       " 0.0011795382854172102,\n",
       " 427.0,\n",
       " 167.02552868052481,\n",
       " 65.42132754203901,\n",
       " 10.032519209713822,\n",
       " 0.6023116850664274,\n",
       " 0.000130134801798409,\n",
       " 5.64783993032267e-07,\n",
       " 405.0,\n",
       " 251.17880039968296,\n",
       " 96.70238221203377,\n",
       " 37.219231317037334,\n",
       " 5.514339543669114,\n",
       " 0.3146656426418377,\n",
       " 0.017961669353115935,\n",
       " 5.861803197154732e-05,\n",
       " 2.34823340936766e-07,\n",
       " 557.0,\n",
       " 461.4137301246992,\n",
       " 316.47452205785015,\n",
       " 217.22896339700753,\n",
       " 102.34157772171638,\n",
       " 48.21545753152773,\n",
       " 10.707082410799606,\n",
       " 1.1190713061183466,\n",
       " 0.11702228753246273,\n",
       " 0.0012790853608595368,\n",
       " 1.4064581024766022e-05,\n",
       " 573.0,\n",
       " 306.51437374724543,\n",
       " 164.1326876356597,\n",
       " 47.005373004076326,\n",
       " 13.46912969012089,\n",
       " 1.105389262218543,\n",
       " 0.02601358362617016,\n",
       " 0.0006120926541525674,\n",
       " 2.7680062613187094e-07,\n",
       " 1.3283075845978762e-07,\n",
       " 350.0,\n",
       " 235.59808598143564,\n",
       " 158.5116757801684,\n",
       " 71.89728008262982,\n",
       " 32.60233297947255,\n",
       " 6.704826621194864,\n",
       " 0.6248350312642627,\n",
       " 0.05820753163576801,\n",
       " 0.0005060136045841082,\n",
       " 4.4596118382181216e-06,\n",
       " 344.0,\n",
       " 226.7547928238083,\n",
       " 149.40747494570098,\n",
       " 64.98264355141237,\n",
       " 28.254616075997088,\n",
       " 5.342286238057877,\n",
       " 0.43927534146975944,\n",
       " 0.036117992283374825,\n",
       " 0.0002437915508819159,\n",
       " 1.729100706813471e-06,\n",
       " 366.0,\n",
       " 268.93473038961565,\n",
       " 197.49301657309277,\n",
       " 106.78268465517709,\n",
       " 57.66091587897234,\n",
       " 16.825107420585294,\n",
       " 2.65098597473653,\n",
       " 0.4177101422583727,\n",
       " 0.010373959653204787,\n",
       " 0.00025786479925757496,\n",
       " 445.0,\n",
       " 367.703326202306,\n",
       " 303.8076874076401,\n",
       " 207.30340381752123,\n",
       " 141.71987973713516,\n",
       " 66.0765233069161,\n",
       " 30.806741947687982,\n",
       " 6.700120667945564,\n",
       " 0.6801217475790335,\n",
       " 0.06894032124952648,\n",
       " 0.0007096015143686685,\n",
       " 7.3684186990855594e-06,\n",
       " 448.0,\n",
       " 364.58075707775686,\n",
       " 296.663512983411,\n",
       " 196.36334288052254,\n",
       " 130.21520232646319,\n",
       " 57.13650619629914,\n",
       " 25.068630924907634,\n",
       " 4.8252374177299515,\n",
       " 0.407525691646663,\n",
       " 0.03443215590956968,\n",
       " 0.00024599468539357737,\n",
       " 1.8097525603942548e-06,\n",
       " 498.0,\n",
       " 388.7586478756792,\n",
       " 303.4288921725822,\n",
       " 184.88126181347906,\n",
       " 112.74361538991771,\n",
       " 41.88106870387898,\n",
       " 15.559979197848264,\n",
       " 2.148985436504782,\n",
       " 0.11027475616220717,\n",
       " 0.005653675284622332,\n",
       " 1.486718249289879e-05,\n",
       " 9.420336097009354e-08,\n",
       " 725.0,\n",
       " 515.1611813981407,\n",
       " 260.2044004137037,\n",
       " 131.40029303074834,\n",
       " 33.548207708105544,\n",
       " 4.322165130405198,\n",
       " 0.5574274481176892,\n",
       " 0.00925827227265268,\n",
       " 0.0001540425856636096,\n",
       " 334.0,\n",
       " 287.16995828803556,\n",
       " 212.21024537318328,\n",
       " 156.8258129392567,\n",
       " 85.79588163824766,\n",
       " 46.914462576136174,\n",
       " 14.013374676529226,\n",
       " 2.2889381884810476,\n",
       " 0.3738851657099215,\n",
       " 0.00997695299343092,\n",
       " 0.0002664913718978569,\n",
       " 405.0,\n",
       " 336.2496480964974,\n",
       " 279.14826982370226,\n",
       " 192.29787570319033,\n",
       " 132.71186311488336,\n",
       " 63.06290871279036,\n",
       " 29.967704411791694,\n",
       " 6.7727203026765075,\n",
       " 0.7275958265607707,\n",
       " 0.07811434084394808,\n",
       " 0.0009009967630034209,\n",
       " 1.0485135678455843e-05,\n",
       " 1000.0,\n",
       " 805.1754395544011,\n",
       " 648.2297307368752,\n",
       " 420.0560282478818,\n",
       " 272.65721447097565,\n",
       " 114.65412771673364,\n",
       " 48.21331790583281,\n",
       " 8.525455917344097,\n",
       " 0.6339161872870568,\n",
       " 0.047133147338124175,\n",
       " 0.0002604327592719939,\n",
       " 1.493067209895937e-06,\n",
       " 586.0,\n",
       " 470.3503061585624,\n",
       " 302.8328067140974,\n",
       " 195.26821821713958,\n",
       " 81.09145444630423,\n",
       " 33.67284581468507,\n",
       " 5.8062180036170705,\n",
       " 0.41573219639821485,\n",
       " 0.029766895863682655,\n",
       " 0.0001524793970032233,\n",
       " 8.597075061612636e-07,\n",
       " 773.0,\n",
       " 632.4095769282106,\n",
       " 517.3390653273063,\n",
       " 346.0707122102649,\n",
       " 231.94198305648433,\n",
       " 103.94461252401399,\n",
       " 46.57798622319939,\n",
       " 9.35299929065227,\n",
       " 0.8420920449221174,\n",
       " 0.07585648877283646,\n",
       " 0.0006144380961963217,\n",
       " 5.046653974355884e-06,\n",
       " 317.0,\n",
       " 119.55261767966252,\n",
       " 17.04730926892184,\n",
       " 0.9167105424657231,\n",
       " 0.049285389405015485,\n",
       " 0.0001428462820895596,\n",
       " 4.693507191132413e-07,\n",
       " 348.0,\n",
       " 187.52940398159294,\n",
       " 101.15445458719054,\n",
       " 29.40050488754737,\n",
       " 8.547803638450926,\n",
       " 0.722463615316663,\n",
       " 0.017762646832152104,\n",
       " 0.00043683153473027746,\n",
       " 3.625400522894731e-07,\n",
       " 8.76803741985796e-08,\n",
       " 311.0,\n",
       " 192.39500007143397,\n",
       " 119.01202181202144,\n",
       " 45.60464518496385,\n",
       " 17.471935898071894,\n",
       " 2.563896471058306,\n",
       " 0.1440041606102156,\n",
       " 0.008090567851259237,\n",
       " 2.5504781623704174e-05,\n",
       " 1.1718415349593342e-07,\n",
       " 573.0,\n",
       " 459.7277808598384,\n",
       " 368.80128994657895,\n",
       " 237.29825227373473,\n",
       " 152.93116935939761,\n",
       " 63.39929601879846,\n",
       " 26.283235659593313,\n",
       " 4.517174047910947,\n",
       " 0.3218465495865147,\n",
       " 0.022931609181176274,\n",
       " 0.00011649872884740808,\n",
       " 6.522477648356277e-07,\n",
       " 589.0,\n",
       " 379.706345186045,\n",
       " 244.7041081794702,\n",
       " 101.8006388904258,\n",
       " 42.337634712431836,\n",
       " 7.323064928285438,\n",
       " 0.5267952981008077,\n",
       " 0.037895703716287074,\n",
       " 0.00019609093018421722,\n",
       " 1.1147496513522335e-06,\n",
       " 367.0,\n",
       " 285.9857334298169,\n",
       " 222.81657359278518,\n",
       " 135.28455625216745,\n",
       " 82.20280651319905,\n",
       " 30.319535831950073,\n",
       " 11.18502503441573,\n",
       " 1.5231145959780692,\n",
       " 0.07648985396566291,\n",
       " 0.003839474550850103,\n",
       " 9.697772885840748e-06,\n",
       " 1.1828177065176571e-07,\n",
       " 411.0,\n",
       " 318.3494000598834,\n",
       " 246.53948809527404,\n",
       " 147.90695835507066,\n",
       " 88.78529045067962,\n",
       " 31.96839692398577,\n",
       " 11.514146730998213,\n",
       " 1.4945815353187888,\n",
       " 0.06977476710797442,\n",
       " 0.0032619476108979974,\n",
       " 7.069293374919642e-06,\n",
       " 5.6921014446621344e-08,\n",
       " 397.0,\n",
       " 258.98326059713924,\n",
       " 110.32266905557981,\n",
       " 46.98289042294808,\n",
       " 8.520807387049981,\n",
       " 0.6580059356266593,\n",
       " 0.0508091383280999,\n",
       " 0.0003028678554899945,\n",
       " 1.876591139937093e-06,\n",
       " 264.0,\n",
       " 208.27408177650307,\n",
       " 164.28594032279608,\n",
       " 102.2219358210045,\n",
       " 63.67882642574929,\n",
       " 24.675458233552853,\n",
       " 9.562031394697092,\n",
       " 1.4361022980401756,\n",
       " 0.08363195616351038,\n",
       " 0.004871408456993579,\n",
       " 1.6437803024309085e-05,\n",
       " 9.410193131109637e-08,\n",
       " 336.0,\n",
       " 267.05357600394115,\n",
       " 168.59330458317484,\n",
       " 106.61457609918017,\n",
       " 42.57257939115007,\n",
       " 16.998319602167555,\n",
       " 2.7095348426455437,\n",
       " 0.17240678096366824,\n",
       " 0.01096991221803421,\n",
       " 4.460807566975888e-05,\n",
       " 2.439658069007725e-07,\n",
       " 237.0,\n",
       " 183.32663630615622,\n",
       " 109.61920663718101,\n",
       " 65.67755318436716,\n",
       " 23.52116560537485,\n",
       " 8.422876381317156,\n",
       " 1.0808627928716974,\n",
       " 0.0497032989006544,\n",
       " 0.0022839916359275445,\n",
       " 4.8729511073945145e-06,\n",
       " 5.8314283896123664e-08,\n",
       " 296.0,\n",
       " 220.0654664246708,\n",
       " 163.51384439090842,\n",
       " 90.50962629167998,\n",
       " 50.02158273063781,\n",
       " 15.302507807552415,\n",
       " 2.587214225190802,\n",
       " 0.43742142892406366,\n",
       " 0.012503634361571278,\n",
       " 0.00035765601869343166,\n",
       " 407.0,\n",
       " 321.47393695353355,\n",
       " 200.43186310573853,\n",
       " 125.19001649601438,\n",
       " 48.75808246942047,\n",
       " 18.98697857630689,\n",
       " 2.878721874595623,\n",
       " 0.1699491839506129,\n",
       " 0.010037770228201627,\n",
       " 3.4948207457099735e-05,\n",
       " 1.5456270460976154e-07,\n",
       " 426.0,\n",
       " 337.062305471823,\n",
       " 266.65315746460834,\n",
       " 166.8842472365365,\n",
       " 104.57516314160905,\n",
       " 41.0002174986239,\n",
       " 16.075056433043144,\n",
       " 2.4712577395843973,\n",
       " 0.14901086604309322,\n",
       " 0.008988501988668416,\n",
       " 3.260670629386589e-05,\n",
       " 1.5200892265772516e-07,\n",
       " 360.0,\n",
       " 220.6712014690152,\n",
       " 135.2630173001515,\n",
       " 50.89198092559889,\n",
       " 19.14386123765807,\n",
       " 2.707278702847134,\n",
       " 0.14390081596846754,\n",
       " 0.0076568117312325636,\n",
       " 2.1647264270226943e-05,\n",
       " 9.401659136315385e-08,\n",
       " 432.0,\n",
       " 341.3226642080072,\n",
       " 269.638223108866,\n",
       " 168.27447790985892,\n",
       " 105.14330382759798,\n",
       " 40.98805299971244,\n",
       " 15.978799513927921,\n",
       " 2.4286526636388994,\n",
       " 0.1439759275157586,\n",
       " 0.0085382671780687,\n",
       " 2.995733121284924e-05,\n",
       " 1.422635650151843e-07,\n",
       " 526.0,\n",
       " 416.7479714525907,\n",
       " 330.1400141721794,\n",
       " 207.17384862223983,\n",
       " 130.1766528537987,\n",
       " 51.315010977839805,\n",
       " 20.22845805264958,\n",
       " 3.143552970774854,\n",
       " 0.011808117427563564,\n",
       " 4.427245105902313e-05,\n",
       " 2.1259438218739888e-07,\n",
       " 327.0,\n",
       " 200.15273477164882,\n",
       " 75.05396091036098,\n",
       " 28.136529477957204,\n",
       " 3.9557722714986996,\n",
       " 0.20871978589701445,\n",
       " 0.01100002266994821,\n",
       " 3.0572334570736816e-05,\n",
       " 1.1976426784587932e-07,\n",
       " 706.0,\n",
       " 507.5836692011957,\n",
       " 364.7110219015035,\n",
       " 188.7735014055342,\n",
       " 97.63731338019197,\n",
       " 26.094731213792805,\n",
       " 3.609267894862563,\n",
       " 0.4994595372603875,\n",
       " 0.009547065100687337,\n",
       " 0.00018277743210393915,\n",
       " 392.0,\n",
       " 240.23994261876248,\n",
       " 147.2296266234702,\n",
       " 55.373009884556176,\n",
       " 20.82143539360748,\n",
       " 2.9422246882473027,\n",
       " 0.15620808924471236,\n",
       " 0.008302168601935889,\n",
       " 2.3442762869901788e-05,\n",
       " 1.0843664481982036e-07,\n",
       " 320.0,\n",
       " 253.91828490600827,\n",
       " 159.7732852198163,\n",
       " 100.7075270820935,\n",
       " 39.949925818866376,\n",
       " 15.846220639451357,\n",
       " 2.4927050481068163,\n",
       " 0.15549681931430775,\n",
       " 0.00970052018265279,\n",
       " 3.7900905550203467e-05,\n",
       " 2.0639837452506447e-07,\n",
       " 372.0,\n",
       " 227.55498952746817,\n",
       " 139.19583556496144,\n",
       " 52.156017974578226,\n",
       " 19.538408416464403,\n",
       " 2.7401179011839525,\n",
       " 0.14385392625309612,\n",
       " 0.007561003561472974,\n",
       " 2.0893348982841206e-05,\n",
       " 9.744696961855283e-08,\n",
       " 787.0,\n",
       " 411.25468336735264,\n",
       " 215.15852185935046,\n",
       " 58.792529470633866,\n",
       " 16.08582482904794,\n",
       " 1.202574545635873,\n",
       " 0.0245799297381676,\n",
       " 0.000502342801399482,\n",
       " 3.043731955533922e-07,\n",
       " 8.237156234177495e-08,\n",
       " 220.0,\n",
       " 171.07440824352202,\n",
       " 103.37566618737358,\n",
       " 62.5910403959096,\n",
       " 22.89454018450508,\n",
       " 8.373144978656978,\n",
       " 1.1203193809640553,\n",
       " 0.05489737275467166,\n",
       " 0.0026859912648154313,\n",
       " 6.591275526161133e-06,\n",
       " 3.9221920663079314e-08,\n",
       " 912.0,\n",
       " 648.3245641172932,\n",
       " 460.72346787850637,\n",
       " 233.05479745605362,\n",
       " 117.77200368362163,\n",
       " 30.094364482851233,\n",
       " 7.6948007179889775,\n",
       " 0.5026936923389468,\n",
       " 0.008386229662332389,\n",
       " 0.00014025367030757517,\n",
       " 1.300819504672546e-07,\n",
       " 1.0136624885155682e-06,\n",
       " 326.0,\n",
       " 205.05466074775228,\n",
       " 128.95567434381712,\n",
       " 51.07902703510053,\n",
       " 20.227433977634753,\n",
       " 3.17221770107059,\n",
       " 0.19697277684433967,\n",
       " 0.01222518231147363,\n",
       " 4.7289320718630324e-05,\n",
       " 2.5143357569438297e-07,\n",
       " 242.0,\n",
       " 189.78706432162124,\n",
       " 116.64931890044232,\n",
       " 71.83301408708776,\n",
       " 27.186990551388106,\n",
       " 10.287794611348344,\n",
       " 1.473022412970348,\n",
       " 0.07986328800928744,\n",
       " 0.004332549756799088,\n",
       " 1.2686996830498801e-05,\n",
       " 7.077092887472565e-08,\n",
       " 348.0,\n",
       " 212.41455519388307,\n",
       " 129.65588863200213,\n",
       " 48.37280997935357,\n",
       " 18.043154464250993,\n",
       " 2.508496182209818,\n",
       " 0.1300067141744699,\n",
       " 0.006746096163046113,\n",
       " 1.8186759186947843e-05,\n",
       " 8.52257919706356e-08,\n",
       " 334.0,\n",
       " 205.50049319712122,\n",
       " 77.86380817377514,\n",
       " 29.494320163970592,\n",
       " 4.233159323405319,\n",
       " 0.23037212523251643,\n",
       " 0.012529935770721253,\n",
       " 3.713954953298114e-05,\n",
       " 1.5094538321791235e-07,\n",
       " 749.0,\n",
       " 480.93831228702584,\n",
       " 308.7211707513037,\n",
       " 127.41833254911144,\n",
       " 52.57352248122192,\n",
       " 8.950603717710454,\n",
       " 0.6287551931707303,\n",
       " 0.04416847237941622,\n",
       " 0.0002181203597473263,\n",
       " 391.0,\n",
       " 240.16455424474458,\n",
       " 90.69041485665305,\n",
       " 34.23695455884485,\n",
       " 4.88087660748325,\n",
       " 0.2629601576733071,\n",
       " 0.014156057054511003,\n",
       " 4.104253520672405e-05,\n",
       " 1.520790816411072e-07,\n",
       " 283.0,\n",
       " 219.8261921483986,\n",
       " 170.7241040144287,\n",
       " 103.00126598158867,\n",
       " 62.184462548198,\n",
       " 22.645350458397512,\n",
       " 8.248619378799098,\n",
       " 1.095150531636554,\n",
       " 0.05291002005257811,\n",
       " 0.002557626829160163,\n",
       " 5.977121815533244e-06,\n",
       " 1.0840750239533221e-07,\n",
       " 339.0,\n",
       " 267.8434816712684,\n",
       " 167.094579783508,\n",
       " 104.42956898147466,\n",
       " 40.72127559431477,\n",
       " 15.87643047978218,\n",
       " 2.412906514453906,\n",
       " 0.14296117175683715,\n",
       " 0.008473823454377694,\n",
       " 2.9730490442638187e-05,\n",
       " 1.4227486717830805e-07,\n",
       " 290.0,\n",
       " 185.70821982861276,\n",
       " 76.22947210079742,\n",
       " 31.282279158853942,\n",
       " 5.268168549111284,\n",
       " 0.3640809709709409,\n",
       " 0.025161539648402315,\n",
       " 0.00012040402191729748,\n",
       " 6.17743698474137e-07,\n",
       " 619.0,\n",
       " 384.4799745752468,\n",
       " 238.78617545963309,\n",
       " 92.23867312046569,\n",
       " 35.62281296564257,\n",
       " 5.312659737815391,\n",
       " 0.30572286015916894,\n",
       " 0.01759317344513995,\n",
       " 5.824105057139659e-05,\n",
       " 2.772478146067658e-07,\n",
       " 509.0,\n",
       " 327.7703975792307,\n",
       " 211.00119164466858,\n",
       " 87.58597442869589,\n",
       " 36.34559246861993,\n",
       " 6.25893244754867,\n",
       " 0.44727268604769677,\n",
       " 0.031962689733997365,\n",
       " 0.00016319398313196942,\n",
       " 9.451278185463409e-07,\n",
       " 617.0,\n",
       " 389.7240200723829,\n",
       " 246.11457385857005,\n",
       " 98.30323541345902,\n",
       " 39.25439014929802,\n",
       " 6.259748963817197,\n",
       " 0.39860501663594994,\n",
       " 0.025373947914076503,\n",
       " 0.0001029958876699979,\n",
       " 4.5773554020687937e-07,\n",
       " 294.0,\n",
       " 181.8988588770784,\n",
       " 69.69330386633256,\n",
       " 26.69493641921365,\n",
       " 3.9172813821389063,\n",
       " 0.22035555965962755,\n",
       " 0.012396867928315895,\n",
       " 3.936418199511285e-05,\n",
       " 1.8743381429399327e-07,\n",
       " 751.0,\n",
       " 466.85323280720144,\n",
       " 290.1822942992716,\n",
       " 112.27593951072883,\n",
       " 43.43233411631105,\n",
       " 6.4987354308608225,\n",
       " 0.37583824967960544,\n",
       " 0.021734490909179092,\n",
       " 7.268182278123368e-05,\n",
       " 3.5007221411194514e-07,\n",
       " 373.0,\n",
       " 225.33122356258247,\n",
       " 82.30343039253907,\n",
       " 30.05532395774322,\n",
       " 4.010857240703634,\n",
       " 0.1955485751169333,\n",
       " 0.00952528672101531,\n",
       " 2.2622620887270536e-05,\n",
       " 9.708897799293186e-08,\n",
       " 278.0,\n",
       " 171.08729906737332,\n",
       " 64.85656476433898,\n",
       " 24.579322140834133,\n",
       " 3.5311860565047217,\n",
       " 0.19245105060553125,\n",
       " 0.010483071944746309,\n",
       " 3.122188907305708e-05,\n",
       " 1.4749821763968212e-07,\n",
       " 424.0,\n",
       " 298.29505168834686,\n",
       " 147.71373189442386,\n",
       " 73.12216963048962,\n",
       " 17.935915211352153,\n",
       " 2.1775595033921977,\n",
       " 0.26460736546433516,\n",
       " 0.0039015318251156743,\n",
       " 5.7678567183209544e-05,\n",
       " 350.0,\n",
       " 275.8626991151779,\n",
       " 217.3957862575996,\n",
       " 135.01642092384782,\n",
       " 83.94930517507228,\n",
       " 32.408490542336196,\n",
       " 12.511741709978098,\n",
       " 1.8651512851740297,\n",
       " 0.10741512107844647,\n",
       " 0.006186305176711954,\n",
       " 2.0495129022895676e-05,\n",
       " 9.769611284765913e-08,\n",
       " 302.0,\n",
       " 189.09358061768702,\n",
       " 74.20348154350465,\n",
       " 29.11036362158863,\n",
       " 4.480429595563663,\n",
       " 0.27061100530728655,\n",
       " 0.016351571252188078,\n",
       " 5.964795964614523e-05,\n",
       " 3.201348539792359e-07,\n",
       " 516.0,\n",
       " 349.5481824709428,\n",
       " 160.54748111364975,\n",
       " 73.7040086469876,\n",
       " 15.532241596491225,\n",
       " 1.5041185537356814,\n",
       " 0.14567887582983477,\n",
       " 0.0013651090706843297,\n",
       " 1.287151362491009e-05,\n",
       " 495.0,\n",
       " 310.4760656277871,\n",
       " 122.25973904023957,\n",
       " 48.12990257790035,\n",
       " 7.459314391397051,\n",
       " 0.45521889780534314,\n",
       " 0.027791424375569255,\n",
       " 0.00010358886295941817,\n",
       " 4.4222215576846734e-07,\n",
       " 436.0,\n",
       " 347.1830903278557,\n",
       " 276.42102573019366,\n",
       " 175.2083040017539,\n",
       " 111.21389183569104,\n",
       " 44.73288325694552,\n",
       " 17.99282175886526,\n",
       " 2.9110053666765667,\n",
       " 0.1894428058814393,\n",
       " 0.012329872826632645,\n",
       " 5.2311806413252954e-05,\n",
       " 2.643755667281176e-07,\n",
       " 308.0,\n",
       " 187.35286443302533,\n",
       " 113.96812556733292,\n",
       " 42.229291026389255,\n",
       " 15.64357639697101,\n",
       " 2.144944913696102,\n",
       " 0.10890855179652904,\n",
       " 0.005536267202290536,\n",
       " 1.4354161384487729e-05,\n",
       " 6.744864198165314e-08,\n",
       " 136.0,\n",
       " 85.5201967204674,\n",
       " 33.84855301608993,\n",
       " 13.393325023093375,\n",
       " 2.09701024648437,\n",
       " 0.12993777495688036,\n",
       " 0.008053811073928264,\n",
       " 3.0927127597844736e-05,\n",
       " 1.643219443608426e-07,\n",
       " 141.0,\n",
       " 86.79578596747191,\n",
       " 53.426414249531796,\n",
       " 20.271411815063836,\n",
       " 7.689984387583381,\n",
       " 1.1061706955556927,\n",
       " 0.06030504792483589,\n",
       " 0.0032899411980592307,\n",
       " 9.85947559839839e-06,\n",
       " 1.1141773911999109e-07,\n",
       " 419.0,\n",
       " 253.52887993304392,\n",
       " 153.41600940314385,\n",
       " 56.25054563362163,\n",
       " 20.618218711401653,\n",
       " 2.767544318195066,\n",
       " 0.13617621479303338,\n",
       " 0.006704547793928931,\n",
       " 1.6375526474798525e-05,\n",
       " 1.3582755317850342e-07,\n",
       " 146.0,\n",
       " 96.90379661140034,\n",
       " 42.73072631349385,\n",
       " 18.835893508382735,\n",
       " 3.659174884712923,\n",
       " 0.3133199560915658,\n",
       " 0.026840195352273652,\n",
       " 0.0001970864511010094,\n",
       " 1.5132879549608779e-06,\n",
       " 71.4000015258789,\n",
       " 44.432179178695236,\n",
       " 17.222576905277897,\n",
       " 6.67381480120182,\n",
       " 1.0022460608340291,\n",
       " 0.0583559191755537,\n",
       " 0.003399413786067117,\n",
       " 1.1511633859112198e-05,\n",
       " 1.3410293251211592e-07,\n",
       " 193.0,\n",
       " 118.23943155066972,\n",
       " 72.43680121854476,\n",
       " 27.22420505894978,\n",
       " 10.229638673990268,\n",
       " 1.4434603379275002,\n",
       " 0.07647344850509034,\n",
       " 0.004055864852691871,\n",
       " 1.1336645823414508e-05,\n",
       " 8.723351309491661e-08,\n",
       " 196.0,\n",
       " 165.97263510477356,\n",
       " 140.53776143776233,\n",
       " 100.70910626867357,\n",
       " 72.2734993476915,\n",
       " 37.165526661298074,\n",
       " 19.120949001639552,\n",
       " 5.060460635689738,\n",
       " 0.6888239573301483,\n",
       " 0.09369412874186168,\n",
       " 0.0017363816447929434,\n",
       " 3.223472008057885e-05,\n",
       " 160.0,\n",
       " 100.41362690172788,\n",
       " 39.58658308091722,\n",
       " 15.601977531546376,\n",
       " 2.423609103867191,\n",
       " 0.1484141583123974,\n",
       " 0.009091728729049408,\n",
       " 3.4045358024017066e-05,\n",
       " 1.627630989954161e-07,\n",
       " 72.19999694824219,\n",
       " 45.09410433556599,\n",
       " 17.607201686193363,\n",
       " 6.872842155863009,\n",
       " 1.047277871884565,\n",
       " 0.062316477549799486,\n",
       " 0.0037097754698685002,\n",
       " 1.3174978279619503e-05,\n",
       " 1.549583479655636e-07,\n",
       " 180.0,\n",
       " 140.61060352584593,\n",
       " 85.74720782027993,\n",
       " 52.39222370861587,\n",
       " 19.518811908300517,\n",
       " 7.270538998777603,\n",
       " 1.0088365825859926,\n",
       " 0.052203096532474784,\n",
       " 0.0026999988502285034,\n",
       " 7.199790891725407e-06,\n",
       " 6.126974072890276e-08,\n",
       " 112.0,\n",
       " 88.9573742855527,\n",
       " 56.08321140056475,\n",
       " 35.41796928048469,\n",
       " 14.104476616121932,\n",
       " 5.616300646847474,\n",
       " 0.8903655188518611,\n",
       " 0.0561919747540294,\n",
       " 0.003546372417356819,\n",
       " 1.41282519414226e-05,\n",
       " 9.216004105364325e-08,\n",
       " 154.0,\n",
       " 94.8915126261097,\n",
       " 36.06053174289148,\n",
       " 13.699851111013118,\n",
       " 1.9778456472232062,\n",
       " 0.10858457247313981,\n",
       " 0.0059592097981052755,\n",
       " 1.8053791899063852e-05,\n",
       " 9.809637804023867e-08,\n",
       " 154.0,\n",
       " 94.53377812933562,\n",
       " 58.028230587802895,\n",
       " 21.89529418387349,\n",
       " 8.25987968488812,\n",
       " 1.1748608471676787,\n",
       " 0.06298629274346963,\n",
       " 0.003379941638481424,\n",
       " 9.729690474290331e-06,\n",
       " 1.296319293343794e-07,\n",
       " 115.0,\n",
       " 71.47032291256306,\n",
       " 44.41242139716043,\n",
       " 17.17497362028827,\n",
       " 6.640465736658537,\n",
       " 0.9925757435766975,\n",
       " 0.05731358744349929,\n",
       " 0.003309253016116753,\n",
       " 1.1167910235865255e-05,\n",
       " 6.339442191964028e-08,\n",
       " 149.0,\n",
       " 105.93500481352152,\n",
       " 53.56783836474869,\n",
       " 27.082118741705813,\n",
       " 6.930314632689308,\n",
       " 0.8959191687377613,\n",
       " 0.11593813241000864,\n",
       " 0.0019389172981126705,\n",
       " 3.254979544174067e-05,\n",
       " 86.19999694824219,\n",
       " 67.69447989005658,\n",
       " 53.15325114776192,\n",
       " 32.77368889589492,\n",
       " 20.228665510783216,\n",
       " 7.696319874265445,\n",
       " 2.928395272897456,\n",
       " 0.42409173876828016,\n",
       " 0.02338787824856292,\n",
       " 0.001288820213398404,\n",
       " 3.9613370455372765e-06,\n",
       " 3.57066010119965e-08,\n",
       " 171.0,\n",
       " 110.7620849357595,\n",
       " 46.51694500666877,\n",
       " 19.53061667757412,\n",
       " 3.442978944091161,\n",
       " 0.25483280157047306,\n",
       " 0.018861017658044266,\n",
       " 0.00010318332938155448,\n",
       " 6.858383966180321e-07,\n",
       " 87.0999984741211,\n",
       " 55.16971744776023,\n",
       " 34.93692130041877,\n",
       " 14.032307905575127,\n",
       " 5.634551604544074,\n",
       " 0.908545726936028,\n",
       " 0.058827860101039964,\n",
       " 0.003808609646925765,\n",
       " 1.5939081642110164e-05,\n",
       " 1.5146879265855417e-07,\n",
       " 127.0,\n",
       " 78.35647112354965,\n",
       " 29.854516157516223,\n",
       " 11.371644669470065,\n",
       " ...]"
      ]
     },
     "execution_count": 27,
     "metadata": {},
     "output_type": "execute_result"
    }
   ],
   "source": [
    "mod.predict(scale_df)"
   ]
  },
  {
   "cell_type": "code",
   "execution_count": null,
   "metadata": {},
   "outputs": [],
   "source": [
    "\n",
    "objective_func_arbit_linear = partial(arbitrary_objective_function,\n",
    "                               dep_vars = {'k':[ ObjectiveFunctionColumn('AGE_scale'),\n",
    "                                                ObjectiveFunctionColumn('SEX')],\n",
    "                                           'vd':[ObjectiveFunctionColumn('WT_scale',)]}\n",
    "                               )\n",
    "\n",
    "\n",
    "result_arbit_lin = optimize_with_checkpoint_joblib(objective_func_arbit_linear, initial_guess, n_checkpoint=5, checkpoint_filename='check_args_arbit_lin.jb', args=(\n",
    "    # Bounds added to prevent negative values\n",
    "    scale_df,), bounds=[(None, None), (None, None), (None, None), (None, None), (None, None),])\n",
    "                             "
   ]
  },
  {
   "cell_type": "code",
   "execution_count": 18,
   "metadata": {},
   "outputs": [
    {
     "data": {
      "text/plain": [
       "array([0.37492311, 1.02458642, 0.80879145, 0.60042461, 1.61445107])"
      ]
     },
     "execution_count": 18,
     "metadata": {},
     "output_type": "execute_result"
    }
   ],
   "source": [
    "np.exp(result_arbit_allo['x'])"
   ]
  },
  {
   "cell_type": "code",
   "execution_count": 19,
   "metadata": {},
   "outputs": [
    {
     "data": {
      "text/plain": [
       "array([0.58163838, 2.20294476, 0.94509567, 0.86590837, 1.03079841])"
      ]
     },
     "execution_count": 19,
     "metadata": {},
     "output_type": "execute_result"
    }
   ],
   "source": [
    "np.exp(result_arbit_lin['x'])"
   ]
  },
  {
   "cell_type": "code",
   "execution_count": 12,
   "metadata": {},
   "outputs": [
    {
     "data": {
      "text/plain": [
       "array([0.37492311, 1.02458642, 0.80879145, 0.60042461, 1.61445107])"
      ]
     },
     "execution_count": 12,
     "metadata": {},
     "output_type": "execute_result"
    }
   ],
   "source": [
    "np.exp(result_arbit['x'])"
   ]
  },
  {
   "cell_type": "code",
   "execution_count": 14,
   "metadata": {},
   "outputs": [
    {
     "data": {
      "text/plain": [
       "array([0.58163838, 2.20294476, 0.94509567, 0.86590837, 1.03079841])"
      ]
     },
     "execution_count": 14,
     "metadata": {},
     "output_type": "execute_result"
    }
   ],
   "source": [
    "np.exp(result_arbit['x'])"
   ]
  },
  {
   "cell_type": "code",
   "execution_count": null,
   "metadata": {},
   "outputs": [],
   "source": [
    "from utils import objective_function__mgkg_age\n",
    "objective_func = partial(objective_function__mgkg_age, mgkg_c = 'MGKG_scale', age_c = 'AGE_scale')\n"
   ]
  },
  {
   "cell_type": "code",
   "execution_count": 35,
   "metadata": {},
   "outputs": [],
   "source": [
    "#scale_df = scale_df.reset_index()\n",
    "initial_guess = [np.log(0.6), np.log(2.0), 0, 0, 0, 0]  # Initial guesses for k_pop and Vd_pop, k_beta_age, k_beta_mgkg, Vd_beta_age, Vd_beta_mgkg\n",
    "result = optimize_with_checkpoint_joblib(objective_func, initial_guess, n_checkpoint=5, checkpoint_filename='check_args.jb', args=(\n",
    "    # Bounds added to prevent negative values\n",
    "    scale_df,), bounds=[(None, None), (None, None), (None, None), (None, None), (None, None), (None, None)])\n",
    "# result = minimize(objective_function, initial_guess, args=(work_df,), bounds=[(1e-6,None),(1e-6,None)])"
   ]
  },
  {
   "cell_type": "code",
   "execution_count": 38,
   "metadata": {},
   "outputs": [],
   "source": [
    "result"
   ]
  },
  {
   "cell_type": "code",
   "execution_count": 39,
   "metadata": {},
   "outputs": [],
   "source": [
    "np.exp(result['x'])"
   ]
  },
  {
   "cell_type": "code",
   "execution_count": 14,
   "metadata": {},
   "outputs": [],
   "source": [
    "def generate_predictions__mgkg_age(optimized_result, \n",
    "                                   df, subject_id_c='SUBJID', dose_c='DOSR',\n",
    "                                   time_c='TIME', conc_at_time_c='DV',\n",
    "                                   mgkg_c='MGKG', age_c='AGE'):\n",
    "    predictions = {}\n",
    "    k_pop, Vd_pop, k_beta_age, k_beta_mgkg, Vd_beta_age, Vd_beta_mgkg = optimized_result.x\n",
    "    data = df.copy()\n",
    "    for subject in data[subject_id_c].unique(): # Loop through each subject in the dataset\n",
    "        subject_filt =  data[subject_id_c] == subject\n",
    "        subject_data = data.loc[subject_filt, :].copy()\n",
    "        \n",
    "        mgkg = subject_data[mgkg_c].values[0]  # Extract dose information for the subject\n",
    "        age = subject_data[age_c].values[0]\n",
    "          # Get data for the current subject\n",
    "        initial_conc = subject_data[conc_at_time_c].values[0]  # Get the initial concentration\n",
    "        with np.errstate(over='ignore'):\n",
    "            k_i = np.exp(k_pop + (k_beta_age * age) + (k_beta_mgkg * mgkg))\n",
    "            Vd_i = np.exp(Vd_pop + (Vd_beta_age * age) + (Vd_beta_mgkg * mgkg))\n",
    "        # Solve the differential equation for the current subject\n",
    "        sol = solve_ivp(one_compartment_model, [subject_data[time_c].min(), subject_data[time_c].max()], [initial_conc], \n",
    "                        t_eval=subject_data[time_c], args=(k_i, Vd_i, mgkg))\n",
    "        predictions[subject] = sol\n",
    "    return predictions"
   ]
  },
  {
   "cell_type": "code",
   "execution_count": 22,
   "metadata": {},
   "outputs": [],
   "source": [
    "from utils import generate_ivp_predictions, stack_ivp_predictions, merge_ivp_predictions\n",
    "preds = generate_predictions__mgkg_age(result, scale_df)\n",
    "preds_plot_df = merge_ivp_predictions(scale_df, preds)"
   ]
  },
  {
   "cell_type": "code",
   "execution_count": 25,
   "metadata": {},
   "outputs": [],
   "source": [
    "from utils import generate_ivp_predictions, stack_ivp_predictions, merge_ivp_predictions\n",
    "predictions = generate_ivp_predictions(result_0, scale_df)"
   ]
  },
  {
   "cell_type": "code",
   "execution_count": 26,
   "metadata": {},
   "outputs": [],
   "source": [
    "merge_df_0 = merge_ivp_predictions(preds_plot_df, predictions)\n",
    "merge_df_0.head()\n",
    "merge_df = merge_df_0.copy()"
   ]
  },
  {
   "cell_type": "code",
   "execution_count": 23,
   "metadata": {},
   "outputs": [],
   "source": [
    "merge_df['PRED_DV_diff'] = (merge_df['Pred_DV'] - merge_df['DV'])\n",
    "merge_df['PRED_DV_diff_sign'] = np.sign(merge_df['PRED_DV_diff']+1e-6)\n",
    "merge_df['PRED_DV_diff_log'] = np.log((np.abs(merge_df['PRED_DV_diff']) + 1e-6)) * merge_df['PRED_DV_diff_sign']  \n",
    "merge_df['PRED_DV_diff_%'] = 100 * ((merge_df['Pred_DV'] - merge_df['DV'])/ ((merge_df['Pred_DV'] + merge_df['DV']) / 2))\n",
    "merge_df['log_PRED_DV_diff_%'] = np.log(np.abs(merge_df['PRED_DV_diff_%']) + 1e-6)"
   ]
  },
  {
   "cell_type": "code",
   "execution_count": 24,
   "metadata": {},
   "outputs": [],
   "source": [
    "merge_df"
   ]
  },
  {
   "cell_type": "code",
   "execution_count": 25,
   "metadata": {},
   "outputs": [],
   "source": [
    "plot_subject_levels(merge_df, x = 'TIME', y = 'PRED_DV_diff')"
   ]
  },
  {
   "cell_type": "code",
   "execution_count": 26,
   "metadata": {},
   "outputs": [],
   "source": [
    "plot_subject_levels(merge_df, x = 'TIME', y = 'PRED_DV_diff_log')"
   ]
  },
  {
   "cell_type": "code",
   "execution_count": 27,
   "metadata": {},
   "outputs": [],
   "source": [
    "import matplotlib.pyplot as plt\n",
    "subject_id = 5\n",
    "plot_df = scale_df.loc[scale_df['SUBJID'] == subject_id, :]\n",
    "plt.plot(predictions[subject_id].t, predictions[subject_id].y[0], label = 'PRED')\n",
    "plt.plot(predictions[subject_id].t, plot_df['DV'].values, label = 'TRUE')\n",
    "plt.legend()"
   ]
  },
  {
   "cell_type": "code",
   "execution_count": 24,
   "metadata": {},
   "outputs": [],
   "source": [
    "import matplotlib.pyplot as plt\n",
    "subject_id = 5\n",
    "plot_df = preds_plot_df.loc[preds_plot_df['SUBJID'] == subject_id, :]\n",
    "plt.plot(preds[subject_id].t, preds[subject_id].y[0], label = 'PRED')\n",
    "plt.plot(preds[subject_id].t, plot_df['DV'].values, label = 'TRUE')\n",
    "plt.legend()"
   ]
  },
  {
   "cell_type": "code",
   "execution_count": null,
   "metadata": {},
   "outputs": [],
   "source": []
  }
 ],
 "metadata": {
  "kernelspec": {
   "display_name": "pySunODE",
   "language": "python",
   "name": "python3"
  },
  "language_info": {
   "codemirror_mode": {
    "name": "ipython",
    "version": 3
   },
   "file_extension": ".py",
   "mimetype": "text/x-python",
   "name": "python",
   "nbconvert_exporter": "python",
   "pygments_lexer": "ipython3",
   "version": "3.12.8"
  }
 },
 "nbformat": 4,
 "nbformat_minor": 2
}
