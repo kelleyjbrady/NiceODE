{
 "cells": [
  {
   "cell_type": "code",
   "execution_count": 1,
   "id": "95db9bb8",
   "metadata": {},
   "outputs": [
    {
     "name": "stderr",
     "output_type": "stream",
     "text": [
      "/opt/poetry-venvs/niceode-fa7VnN3D-py3.13/lib/python3.13/site-packages/tqdm/auto.py:21: TqdmWarning: IProgress not found. Please update jupyter and ipywidgets. See https://ipywidgets.readthedocs.io/en/stable/user_install.html\n",
      "  from .autonotebook import tqdm as notebook_tqdm\n"
     ]
    },
    {
     "name": "stdout",
     "output_type": "stream",
     "text": [
      "JAX is running on: cpu\n",
      "JAX devices: [CpuDevice(id=0), CpuDevice(id=1), CpuDevice(id=2), CpuDevice(id=3)]\n"
     ]
    }
   ],
   "source": [
    "#Set the devices which Jax should use. \n",
    "#This must be done before importing jax\n",
    "import os\n",
    "# --- Control Flag ---\n",
    "USE_GPU = False\n",
    "# --------------------\n",
    "\n",
    "if USE_GPU:\n",
    "    # Set JAX to use the GPU. The device number (0) is for the first GPU.\n",
    "    os.environ['JAX_PLATFORMS'] = 'cuda,cpu'\n",
    "    # Optional: Pin JAX to a specific GPU\n",
    "    os.environ['CUDA_VISIBLE_DEVICES'] = '0' \n",
    "else:\n",
    "    os.environ['JAX_PLATFORMS'] = 'cpu'\n",
    "    import numpyro\n",
    "    numpyro.set_host_device_count(4)\n",
    "    \n",
    "\n",
    "import jax\n",
    "print(f\"JAX is running on: {jax.default_backend()}\")\n",
    "print(f\"JAX devices: {jax.devices()}\")\n",
    "\n",
    "import finitediffx as fdx\n",
    "import pandas as pd\n",
    "import numpyro\n",
    "from niceode.pymc_utils import make_pymc_model\n",
    "import pymc as pm\n",
    "from niceode.utils import (CompartmentalModel, \n",
    "                           ODEInitVals,\n",
    "                           PopulationCoeffcient,\n",
    "                           neg2_log_likelihood_loss,\n",
    "                           ObjectiveFunctionColumn,\n",
    "                           FOCE_approx_ll_loss,\n",
    "                           FOCEi_approx_ll_loss,\n",
    "                           FO_approx_ll_loss\n",
    "                           )\n",
    "from niceode.diffeqs import OneCompartmentAbsorption\n",
    "import numpy as np\n",
    "import joblib as jb\n",
    "from niceode.jax_utils import FO_approx_neg2ll_loss_jax, FOCE_approx_neg2ll_loss_jax_fdxOUTER\n"
   ]
  },
  {
   "cell_type": "code",
   "execution_count": 2,
   "id": "f7f89857",
   "metadata": {},
   "outputs": [],
   "source": [
    "df = pd.read_csv(r\"/workspaces/PK-Analysis/data/theo_nlmixr2.csv\", ) \n",
    "df.loc[df['AMT'] == 0.0, 'AMT'] = pd.NA\n",
    "df['AMT'] = df['AMT'].ffill()\n",
    "df = df.loc[df['EVID'] == 0, :].copy()"
   ]
  },
  {
   "cell_type": "code",
   "execution_count": 5,
   "id": "774a7566",
   "metadata": {},
   "outputs": [],
   "source": [
    "me_mod_foce_nojax =  CompartmentalModel(\n",
    "        model_name = \"debug_theoph_abs_ka-clME-vd_JAXFOCE_jaxoptspwrapLbfgsb_fdxouteriftinner_nodep_omegadiag_dermal\",\n",
    "            ode_t0_cols=[ ODEInitVals('DV'), ODEInitVals('AMT'),],\n",
    "            conc_at_time_col = 'DV',\n",
    "            subject_id_col = 'ID', \n",
    "            time_col = 'TIME',\n",
    "            population_coeff=[\n",
    "                                PopulationCoeffcient('ka', \n",
    "                                                    optimization_init_val=1.6, \n",
    "                                                    subject_level_intercept=True,\n",
    "                                                    #optimization_lower_bound = np.log(1e-6),\n",
    "                                                    #optimization_upper_bound = np.log(15),\n",
    "                                                    subject_level_intercept_sd_init_val = 0.6, \n",
    "                                                    #subject_level_intercept_sd_upper_bound = 20,\n",
    "                                                    #subject_level_intercept_sd_lower_bound=1e-6\n",
    "                                                    ),\n",
    "                                PopulationCoeffcient('cl',\n",
    "                                                    optimization_init_val = 3,\n",
    "                                                    #optimization_lower_bound = np.log(1e-4),\n",
    "                                                    #optimization_upper_bound=np.log(25),\n",
    "                                                    subject_level_intercept=True, \n",
    "                                                    subject_level_intercept_sd_init_val = 0.3, \n",
    "                                                   # subject_level_intercept_sd_upper_bound = 5,\n",
    "                                                   # subject_level_intercept_sd_lower_bound=1e-6\n",
    "                                                    ),\n",
    "                                PopulationCoeffcient('vd', optimization_init_val = 35,\n",
    "                                                    #, optimization_lower_bound = np.log(.1)\n",
    "                                                    #,optimization_upper_bound=np.log(80), \n",
    "                                                    subject_level_intercept=True, \n",
    "                                                    subject_level_intercept_sd_init_val = 0.1, \n",
    "                                                    #subject_level_intercept_sd_upper_bound = 5,\n",
    "                                                    #subject_level_intercept_sd_lower_bound=1e-6\n",
    "                                                    \n",
    "                                                    #, optimization_upper_bound = np.log(.05)\n",
    "                                                    ),\n",
    "                            ],\n",
    "            dep_vars= None, \n",
    "\n",
    "                                    pk_model_class=OneCompartmentAbsorption, \n",
    "                                    model_error_sigma=PopulationCoeffcient('sigma'\n",
    "                                                                            ,log_transform_init_val=False\n",
    "                                                                            , optimization_init_val=.5\n",
    "                                                                            ,optimization_lower_bound=0.00001\n",
    "                                                                            ,optimization_upper_bound=3\n",
    "                                                                            ),\n",
    "  \n",
    "                                    batch_id='theoph_test1',\n",
    "\n",
    "                                    significant_digits=3,\n",
    "                                    #me_loss_function=FO_approx_ll_loss,\n",
    "                                    jax_loss=FOCE_approx_neg2ll_loss_jax_fdxOUTER,\n",
    "                                    use_full_omega=True, \n",
    "                                    use_surrogate_neg2ll=True, \n",
    "                                    fit_jax_objective=True,\n",
    "                                    )"
   ]
  },
  {
   "cell_type": "code",
   "execution_count": 6,
   "id": "119b1cf6",
   "metadata": {},
   "outputs": [
    {
     "name": "stdout",
     "output_type": "stream",
     "text": [
      "Successfully compiled closed stiff ODE solver\n",
      "Sucessfully complied non-stiff ODE solver\n",
      "Sucessfully complied augmented dynamics stiff ODE solver\n"
     ]
    },
    {
     "name": "stderr",
     "output_type": "stream",
     "text": [
      "2025/09/10 22:32:44 WARNING mlflow.data.pandas_dataset: Failed to infer schema for Pandas dataset. Exception: Creating Schema with empty inputs is not allowed.\n"
     ]
    },
    {
     "name": "stdout",
     "output_type": "stream",
     "text": [
      "Sucessfully complied augmented dynamics stiff ODE solver\n",
      "Sucessfully complied stiff ODE solver\n",
      "Sucessfully complied KEYS stiff ODE solver\n",
      "Sucessfully complied non-stiff PyMC ODE solver\n",
      "Sucessfully complied hybrid-dimensional non-stiff PyMC ODE solver\n",
      "Sucessfully complied non-dimensional non-stiff PyMC ODE solver\n",
      "Sucessfully complied non-dimensional stiff PyMC ODE solver\n",
      "Sucessfully complied stiff PyMC ODE solver\n",
      "Compiling `FOCE_approx_neg2ll_loss_jax`\n",
      "Compiling `approx_neg2ll_loss_jax`\n",
      "Compiling `estimate_b_i_vmapped`\n",
      "Compiling `FOCE_inner_loss_fn` WITHOUT LAX\n",
      "Compiling `_solve_ivp_jax_worker`\n",
      "Compiling `FOCE_inner_loss_fn` WITHOUT LAX\n",
      "Compiling `_solve_ivp_jax_worker`\n",
      "Compiling `FOCE_inner_loss_fn` WITHOUT LAX\n",
      "Compiling `_solve_ivp_jax_worker`\n",
      "Compiling `_solve_augdyn_ivp_jax_worker`\n",
      "Compiling `_solve_augdyn_ivp_jax_worker`\n",
      "Compiling `FOCE_approx_neg2ll_loss_jax`\n",
      "Compiling `approx_neg2ll_loss_jax`\n",
      "Compiling `estimate_b_i_vmapped`\n",
      "Compiling `FOCE_inner_loss_fn` WITHOUT LAX\n",
      "Compiling `_solve_ivp_jax_worker`\n",
      "Compiling `FOCE_inner_loss_fn` WITHOUT LAX\n",
      "Compiling `_solve_ivp_jax_worker`\n",
      "Compiling `FOCE_inner_loss_fn` WITHOUT LAX\n",
      "Compiling `_solve_ivp_jax_worker`\n",
      "Compiling `_solve_augdyn_ivp_jax_worker`\n",
      "Compiling `_solve_augdyn_ivp_jax_worker`\n",
      "Compiling `_solve_ivp_jax_worker`\n",
      "Compiling `_solve_ivp_jax_worker`\n",
      "🏃 View run b-theoph_test1_m-debug_theoph_abs_ka-clME-vd_JAXFOCE_jaxoptspwrapLbfgsb_fdxouteriftinner_nodep_omegadiag_dermal_f-76443ec2-61cb-472e-a2cc-53c74357e5bb at: http://mlflow-server:5000/#/experiments/377/runs/acb4763442ed4574b3603f9471f987e1\n",
      "🧪 View experiment at: http://mlflow-server:5000/#/experiments/377\n"
     ]
    }
   ],
   "source": [
    "me_mod_foce_nojax = me_mod_foce_nojax.fit2(df, ci_level = None, debug_fit=False, )"
   ]
  },
  {
   "cell_type": "code",
   "execution_count": 8,
   "id": "99b34e6d",
   "metadata": {},
   "outputs": [],
   "source": [
    "pred_df = me_mod_foce_nojax.fit_result_.pred_df.copy()\n",
    "pred_cols = {'pop_pred_DV__PRED':'PRED_full_omega', 'indiv_pred_DV__IPRED':'IPRED_full_omega'}\n",
    "pred_df = pred_df.rename(columns=pred_cols)\n",
    "value_vars = ['DV'] + list(pred_cols.values())\n",
    "pred_df = pred_df.melt(id_vars = ['ID', 'TIME'], value_vars = value_vars, var_name = 'DV_and_PREDs', value_name = 'Conc')\n",
    "#me_mod_foce_nojax.append(pred_df.copy())"
   ]
  },
  {
   "cell_type": "code",
   "execution_count": 9,
   "id": "43ade0b5",
   "metadata": {},
   "outputs": [
    {
     "data": {
      "application/vnd.plotly.v1+json": {
       "config": {
        "plotlyServerURL": "https://plot.ly"
       },
       "data": [
        {
         "hovertemplate": "DV_and_PREDs=DV<br>ID=1<br>TIME=%{x}<br>Conc=%{y}<extra></extra>",
         "legendgroup": "DV",
         "line": {
          "color": "#636efa",
          "dash": "solid"
         },
         "marker": {
          "symbol": "circle"
         },
         "mode": "lines",
         "name": "DV",
         "orientation": "v",
         "showlegend": true,
         "type": "scatter",
         "x": {
          "bdata": "AAAAAAAAAAAAAAAAAADQPz0K16NwPeI/7FG4HoXr8T8pXI/C9SgAQI/C9Shcjw5AZmZmZmZmFEAfhetRuB4cQJqZmZmZGSJAPQrXo3A9KEAfhetRuF44QA==",
          "dtype": "f8"
         },
         "xaxis": "x",
         "y": {
          "bdata": "rkfhehSu5z+4HoXrUbgGQEjhehSuRxpAAAAAAAAAJUBSuB6F61EjQClcj8L1KCFAuB6F61G4IEDhehSuR+EdQI/C9ShcjxtAw/UoXI/CF0A9CtejcD0KQA==",
          "dtype": "f8"
         },
         "yaxis": "y"
        },
        {
         "hovertemplate": "DV_and_PREDs=PRED_full_omega<br>ID=1<br>TIME=%{x}<br>Conc=%{y}<extra></extra>",
         "legendgroup": "PRED_full_omega",
         "line": {
          "color": "#EF553B",
          "dash": "solid"
         },
         "marker": {
          "symbol": "circle"
         },
         "mode": "lines",
         "name": "PRED_full_omega",
         "orientation": "v",
         "showlegend": true,
         "type": "scatter",
         "x": {
          "bdata": "AAAAAAAAAAAAAAAAAADQPz0K16NwPeI/7FG4HoXr8T8pXI/C9SgAQI/C9Shcjw5AZmZmZmZmFEAfhetRuB4cQJqZmZmZGSJAPQrXo3A9KEAfhetRuF44QA==",
          "dtype": "f8"
         },
         "xaxis": "x",
         "y": {
          "bdata": "H7Ooo49QnT/hec5peOscQOj3Zyi1yyRAgid9ANJlJkBAk4X42OskQMNws1RrjyFAyfpoSvr8HkAbZRyod6gZQJUAr1OsDhVAelITOJUxD0A4bUkXHNTyPw==",
          "dtype": "f8"
         },
         "yaxis": "y"
        },
        {
         "hovertemplate": "DV_and_PREDs=IPRED_full_omega<br>ID=1<br>TIME=%{x}<br>Conc=%{y}<extra></extra>",
         "legendgroup": "IPRED_full_omega",
         "line": {
          "color": "#00cc96",
          "dash": "solid"
         },
         "marker": {
          "symbol": "circle"
         },
         "mode": "lines",
         "name": "IPRED_full_omega",
         "orientation": "v",
         "showlegend": true,
         "type": "scatter",
         "x": {
          "bdata": "AAAAAAAAAAAAAAAAAADQPz0K16NwPeI/7FG4HoXr8T8pXI/C9SgAQI/C9Shcjw5AZmZmZmZmFEAfhetRuB4cQJqZmZmZGSJAPQrXo3A9KEAfhetRuF44QA==",
          "dtype": "f8"
         },
         "xaxis": "x",
         "y": {
          "bdata": "kJsa3jz9mj+VtV82SSwYQABgog5uPSJAvgoaYCV3JECiyaNAgngjQNp9XD8agSBAACK5CgNMHUChb73ESXkYQJG5zbYFRhRAG6ufi0V1DkCiZt5i83LzPw==",
          "dtype": "f8"
         },
         "yaxis": "y"
        }
       ],
       "frames": [
        {
         "data": [
          {
           "hovertemplate": "DV_and_PREDs=DV<br>ID=1<br>TIME=%{x}<br>Conc=%{y}<extra></extra>",
           "legendgroup": "DV",
           "line": {
            "color": "#636efa",
            "dash": "solid"
           },
           "marker": {
            "symbol": "circle"
           },
           "mode": "lines",
           "name": "DV",
           "orientation": "v",
           "showlegend": true,
           "type": "scatter",
           "x": {
            "bdata": "AAAAAAAAAAAAAAAAAADQPz0K16NwPeI/7FG4HoXr8T8pXI/C9SgAQI/C9Shcjw5AZmZmZmZmFEAfhetRuB4cQJqZmZmZGSJAPQrXo3A9KEAfhetRuF44QA==",
            "dtype": "f8"
           },
           "xaxis": "x",
           "y": {
            "bdata": "rkfhehSu5z+4HoXrUbgGQEjhehSuRxpAAAAAAAAAJUBSuB6F61EjQClcj8L1KCFAuB6F61G4IEDhehSuR+EdQI/C9ShcjxtAw/UoXI/CF0A9CtejcD0KQA==",
            "dtype": "f8"
           },
           "yaxis": "y"
          },
          {
           "hovertemplate": "DV_and_PREDs=PRED_full_omega<br>ID=1<br>TIME=%{x}<br>Conc=%{y}<extra></extra>",
           "legendgroup": "PRED_full_omega",
           "line": {
            "color": "#EF553B",
            "dash": "solid"
           },
           "marker": {
            "symbol": "circle"
           },
           "mode": "lines",
           "name": "PRED_full_omega",
           "orientation": "v",
           "showlegend": true,
           "type": "scatter",
           "x": {
            "bdata": "AAAAAAAAAAAAAAAAAADQPz0K16NwPeI/7FG4HoXr8T8pXI/C9SgAQI/C9Shcjw5AZmZmZmZmFEAfhetRuB4cQJqZmZmZGSJAPQrXo3A9KEAfhetRuF44QA==",
            "dtype": "f8"
           },
           "xaxis": "x",
           "y": {
            "bdata": "H7Ooo49QnT/hec5peOscQOj3Zyi1yyRAgid9ANJlJkBAk4X42OskQMNws1RrjyFAyfpoSvr8HkAbZRyod6gZQJUAr1OsDhVAelITOJUxD0A4bUkXHNTyPw==",
            "dtype": "f8"
           },
           "yaxis": "y"
          },
          {
           "hovertemplate": "DV_and_PREDs=IPRED_full_omega<br>ID=1<br>TIME=%{x}<br>Conc=%{y}<extra></extra>",
           "legendgroup": "IPRED_full_omega",
           "line": {
            "color": "#00cc96",
            "dash": "solid"
           },
           "marker": {
            "symbol": "circle"
           },
           "mode": "lines",
           "name": "IPRED_full_omega",
           "orientation": "v",
           "showlegend": true,
           "type": "scatter",
           "x": {
            "bdata": "AAAAAAAAAAAAAAAAAADQPz0K16NwPeI/7FG4HoXr8T8pXI/C9SgAQI/C9Shcjw5AZmZmZmZmFEAfhetRuB4cQJqZmZmZGSJAPQrXo3A9KEAfhetRuF44QA==",
            "dtype": "f8"
           },
           "xaxis": "x",
           "y": {
            "bdata": "kJsa3jz9mj+VtV82SSwYQABgog5uPSJAvgoaYCV3JECiyaNAgngjQNp9XD8agSBAACK5CgNMHUChb73ESXkYQJG5zbYFRhRAG6ufi0V1DkCiZt5i83LzPw==",
            "dtype": "f8"
           },
           "yaxis": "y"
          }
         ],
         "name": "1"
        },
        {
         "data": [
          {
           "hovertemplate": "DV_and_PREDs=DV<br>ID=2<br>TIME=%{x}<br>Conc=%{y}<extra></extra>",
           "legendgroup": "DV",
           "line": {
            "color": "#636efa",
            "dash": "solid"
           },
           "marker": {
            "symbol": "circle"
           },
           "mode": "lines",
           "name": "DV",
           "orientation": "v",
           "showlegend": true,
           "type": "scatter",
           "x": {
            "bdata": "AAAAAAAAAABI4XoUrkfRP6RwPQrXo+A/AAAAAAAA8D+4HoXrUbj+PwAAAAAAAAxAFK5H4XoUFEAfhetRuB4cQAAAAAAAACJAAAAAAAAAKEDNzMzMzEw4QA==",
            "dtype": "f8"
           },
           "xaxis": "x",
           "y": {
            "bdata": "AAAAAAAAAACF61G4HoX7P6RwPQrXox9AH4XrUbieIEApXI/C9aggQGZmZmZmZhtAUrgehetRGECamZmZmZkVQDMzMzMzMxJAFK5H4XoUCEDNzMzMzMzsPw==",
            "dtype": "f8"
           },
           "yaxis": "y"
          },
          {
           "hovertemplate": "DV_and_PREDs=PRED_full_omega<br>ID=2<br>TIME=%{x}<br>Conc=%{y}<extra></extra>",
           "legendgroup": "PRED_full_omega",
           "line": {
            "color": "#EF553B",
            "dash": "solid"
           },
           "marker": {
            "symbol": "circle"
           },
           "mode": "lines",
           "name": "PRED_full_omega",
           "orientation": "v",
           "showlegend": true,
           "type": "scatter",
           "x": {
            "bdata": "AAAAAAAAAABI4XoUrkfRP6RwPQrXo+A/AAAAAAAA8D+4HoXrUbj+PwAAAAAAAAxAFK5H4XoUFEAfhetRuB4cQAAAAAAAACJAAAAAAAAAKEDNzMzMzEw4QA==",
            "dtype": "f8"
           },
           "xaxis": "x",
           "y": {
            "bdata": "AAAAAAAAAAD47pWSUwMeQKjefiBiHiRAFofUU+FDJkD8XceoKfokQEsrRO8w/yFAGBBeG6UFH0D5M/rUZXwZQFob0VnDBBVA04JBS7FZD0DGUWXiptTyPw==",
            "dtype": "f8"
           },
           "yaxis": "y"
          },
          {
           "hovertemplate": "DV_and_PREDs=IPRED_full_omega<br>ID=2<br>TIME=%{x}<br>Conc=%{y}<extra></extra>",
           "legendgroup": "IPRED_full_omega",
           "line": {
            "color": "#00cc96",
            "dash": "solid"
           },
           "marker": {
            "symbol": "circle"
           },
           "mode": "lines",
           "name": "IPRED_full_omega",
           "orientation": "v",
           "showlegend": true,
           "type": "scatter",
           "x": {
            "bdata": "AAAAAAAAAABI4XoUrkfRP6RwPQrXo+A/AAAAAAAA8D+4HoXrUbj+PwAAAAAAAAxAFK5H4XoUFEAfhetRuB4cQAAAAAAAACJAAAAAAAAAKEDNzMzMzEw4QA==",
            "dtype": "f8"
           },
           "xaxis": "x",
           "y": {
            "bdata": "AAAAAAAAAACe7Wq3fqoVQFm7Q16kmh1ALttJ72K1IEDCWejz+dAfQMzq4zHRaRtA1wMvhey0F0CAhayFHpATQEyFlylqNBBAPdq2yrlUCECJWqFlOgnuPw==",
            "dtype": "f8"
           },
           "yaxis": "y"
          }
         ],
         "name": "2"
        },
        {
         "data": [
          {
           "hovertemplate": "DV_and_PREDs=DV<br>ID=3<br>TIME=%{x}<br>Conc=%{y}<extra></extra>",
           "legendgroup": "DV",
           "line": {
            "color": "#636efa",
            "dash": "solid"
           },
           "marker": {
            "symbol": "circle"
           },
           "mode": "lines",
           "name": "DV",
           "orientation": "v",
           "showlegend": true,
           "type": "scatter",
           "x": {
            "bdata": "AAAAAAAAAABI4XoUrkfRP4/C9Shcj+I/UrgehetR8D8pXI/C9SgAQPYoXI/C9QxAUrgehetRFEBI4XoUrkccQAAAAAAAACJAzczMzMxMKEDsUbgehSs4QA==",
            "dtype": "f8"
           },
           "xaxis": "x",
           "y": {
            "bdata": "AAAAAAAAAACamZmZmZkRQJqZmZmZmRtAZmZmZmZmIEAzMzMzMzMfQAAAAAAAAB5AzczMzMzMGEAzMzMzMzMVQJqZmZmZmRNAmpmZmZmZDUDNzMzMzMzwPw==",
            "dtype": "f8"
           },
           "yaxis": "y"
          },
          {
           "hovertemplate": "DV_and_PREDs=PRED_full_omega<br>ID=3<br>TIME=%{x}<br>Conc=%{y}<extra></extra>",
           "legendgroup": "PRED_full_omega",
           "line": {
            "color": "#EF553B",
            "dash": "solid"
           },
           "marker": {
            "symbol": "circle"
           },
           "mode": "lines",
           "name": "PRED_full_omega",
           "orientation": "v",
           "showlegend": true,
           "type": "scatter",
           "x": {
            "bdata": "AAAAAAAAAABI4XoUrkfRP4/C9Shcj+I/UrgehetR8D8pXI/C9SgAQPYoXI/C9QxAUrgehetRFEBI4XoUrkccQAAAAAAAACJAzczMzMxMKEDsUbgehSs4QA==",
            "dtype": "f8"
           },
           "xaxis": "x",
           "y": {
            "bdata": "AAAAAAAAAABwfSQAvhYeQBEnY1hJyyRAAuiEqmtTJkA8JfrLWNUkQLIp/Tf01CFAMBxJ7SHrHkBhc715WXMZQKayvDxcEhVAhxMKxb/4DkC6sxltph7zPw==",
            "dtype": "f8"
           },
           "yaxis": "y"
          },
          {
           "hovertemplate": "DV_and_PREDs=IPRED_full_omega<br>ID=3<br>TIME=%{x}<br>Conc=%{y}<extra></extra>",
           "legendgroup": "IPRED_full_omega",
           "line": {
            "color": "#00cc96",
            "dash": "solid"
           },
           "marker": {
            "symbol": "circle"
           },
           "mode": "lines",
           "name": "IPRED_full_omega",
           "orientation": "v",
           "showlegend": true,
           "type": "scatter",
           "x": {
            "bdata": "AAAAAAAAAABI4XoUrkfRP4/C9Shcj+I/UrgehetR8D8pXI/C9SgAQPYoXI/C9QxAUrgehetRFEBI4XoUrkccQAAAAAAAACJAzczMzMxMKEDsUbgehSs4QA==",
            "dtype": "f8"
           },
           "xaxis": "x",
           "y": {
            "bdata": "AAAAAAAAAABZNPj8smEWQAuJIFAyfR9A9b7bBpsgIUAKr3ftwBwgQDoXlekbrBtA06TXwWgNGEBLjgVfT94TQCrrWkCigRBAYR9yrYVlCEBNOW2aaMTuPw==",
            "dtype": "f8"
           },
           "yaxis": "y"
          }
         ],
         "name": "3"
        },
        {
         "data": [
          {
           "hovertemplate": "DV_and_PREDs=DV<br>ID=4<br>TIME=%{x}<br>Conc=%{y}<extra></extra>",
           "legendgroup": "DV",
           "line": {
            "color": "#636efa",
            "dash": "solid"
           },
           "marker": {
            "symbol": "circle"
           },
           "mode": "lines",
           "name": "DV",
           "orientation": "v",
           "showlegend": true,
           "type": "scatter",
           "x": {
            "bdata": "AAAAAAAAAABmZmZmZmbWPzMzMzMzM+M/H4XrUbge8T8K16NwPQoBQAAAAAAAAAxAFK5H4XoUFEAUrkfhehQcQArXo3A9CiJA9ihcj8L1J0BmZmZmZqY4QA==",
            "dtype": "f8"
           },
           "xaxis": "x",
           "y": {
            "bdata": "AAAAAAAAAAA9CtejcD3+P2ZmZmZmZhJAMzMzMzMzIUDD9Shcj8IgQClcj8L1KB5AhetRuB6FG0AfhetRuB4XQFK4HoXrURVAw/UoXI/CEEBmZmZmZmbyPw==",
            "dtype": "f8"
           },
           "yaxis": "y"
          },
          {
           "hovertemplate": "DV_and_PREDs=PRED_full_omega<br>ID=4<br>TIME=%{x}<br>Conc=%{y}<extra></extra>",
           "legendgroup": "PRED_full_omega",
           "line": {
            "color": "#EF553B",
            "dash": "solid"
           },
           "marker": {
            "symbol": "circle"
           },
           "mode": "lines",
           "name": "PRED_full_omega",
           "orientation": "v",
           "showlegend": true,
           "type": "scatter",
           "x": {
            "bdata": "AAAAAAAAAABmZmZmZmbWPzMzMzMzM+M/H4XrUbge8T8K16NwPQoBQAAAAAAAAAxAFK5H4XoUFEAUrkfhehQcQArXo3A9CiJA9ihcj8L1J0BmZmZmZqY4QA==",
            "dtype": "f8"
           },
           "xaxis": "x",
           "y": {
            "bdata": "AAAAAAAAAACvm0Mtb0khQM7+0e6QACVAeCWX1N1bJkAJ9cEuT6YkQPyVpR5IEiJAPUApZI0mH0APMFvg150ZQAWK9lN/EBVAU+KvPLiKD0DAFf/sw0XyPw==",
            "dtype": "f8"
           },
           "yaxis": "y"
          },
          {
           "hovertemplate": "DV_and_PREDs=IPRED_full_omega<br>ID=4<br>TIME=%{x}<br>Conc=%{y}<extra></extra>",
           "legendgroup": "IPRED_full_omega",
           "line": {
            "color": "#00cc96",
            "dash": "solid"
           },
           "marker": {
            "symbol": "circle"
           },
           "mode": "lines",
           "name": "IPRED_full_omega",
           "orientation": "v",
           "showlegend": true,
           "type": "scatter",
           "x": {
            "bdata": "AAAAAAAAAABmZmZmZmbWPzMzMzMzM+M/H4XrUbge8T8K16NwPQoBQAAAAAAAAAxAFK5H4XoUFEAUrkfhehQcQArXo3A9CiJA9ihcj8L1J0BmZmZmZqY4QA==",
            "dtype": "f8"
           },
           "xaxis": "x",
           "y": {
            "bdata": "AAAAAAAAAAAGMSWBWJIXQD41glL4hh1AycFozSg4IEAjvRbe8IceQFhSi14D5RpAjlnNo/VSF0CrUzHTUVYTQO+QKusNCBBAUWJx1p9LCEBihlUGfaPtPw==",
            "dtype": "f8"
           },
           "yaxis": "y"
          }
         ],
         "name": "4"
        },
        {
         "data": [
          {
           "hovertemplate": "DV_and_PREDs=DV<br>ID=5<br>TIME=%{x}<br>Conc=%{y}<extra></extra>",
           "legendgroup": "DV",
           "line": {
            "color": "#636efa",
            "dash": "solid"
           },
           "marker": {
            "symbol": "circle"
           },
           "mode": "lines",
           "name": "DV",
           "orientation": "v",
           "showlegend": true,
           "type": "scatter",
           "x": {
            "bdata": "AAAAAAAAAAAzMzMzMzPTP6RwPQrXo+A/AAAAAAAA8D8pXI/C9SgAQAAAAAAAAAxAFK5H4XoUFEAUrkfhehQcQDMzMzMzMyJAAAAAAAAAKECamZmZmVk4QA==",
            "dtype": "f8"
           },
           "xaxis": "x",
           "y": {
            "bdata": "AAAAAAAAAAApXI/C9SgAQIXrUbgehRZAzczMzMzMJkApXI/C9agiQHsUrkfheiFAPQrXo3A9HkBcj8L1KFwcQJqZmZmZmRdAexSuR+F6EUAfhetRuB75Pw==",
            "dtype": "f8"
           },
           "yaxis": "y"
          },
          {
           "hovertemplate": "DV_and_PREDs=PRED_full_omega<br>ID=5<br>TIME=%{x}<br>Conc=%{y}<extra></extra>",
           "legendgroup": "PRED_full_omega",
           "line": {
            "color": "#EF553B",
            "dash": "solid"
           },
           "marker": {
            "symbol": "circle"
           },
           "mode": "lines",
           "name": "PRED_full_omega",
           "orientation": "v",
           "showlegend": true,
           "type": "scatter",
           "x": {
            "bdata": "AAAAAAAAAAAzMzMzMzPTP6RwPQrXo+A/AAAAAAAA8D8pXI/C9SgAQAAAAAAAAAxAFK5H4XoUFEAUrkfhehQcQDMzMzMzMyJAAAAAAAAAKECamZmZmVk4QA==",
            "dtype": "f8"
           },
           "xaxis": "x",
           "y": {
            "bdata": "AAAAAAAAAADva7bHYfgfQJfo/BL0NCRAGyetuttcJkCjOphqN98kQCv6yoBhEyJAxGsCbXIoH0B6eAjBZp8ZQPRq8m665xRAaIdAldl8D0DTusEYKtLyPw==",
            "dtype": "f8"
           },
           "yaxis": "y"
          },
          {
           "hovertemplate": "DV_and_PREDs=IPRED_full_omega<br>ID=5<br>TIME=%{x}<br>Conc=%{y}<extra></extra>",
           "legendgroup": "IPRED_full_omega",
           "line": {
            "color": "#00cc96",
            "dash": "solid"
           },
           "marker": {
            "symbol": "circle"
           },
           "mode": "lines",
           "name": "IPRED_full_omega",
           "orientation": "v",
           "showlegend": true,
           "type": "scatter",
           "x": {
            "bdata": "AAAAAAAAAAAzMzMzMzPTP6RwPQrXo+A/AAAAAAAA8D8pXI/C9SgAQAAAAAAAAAxAFK5H4XoUFEAUrkfhehQcQDMzMzMzMyJAAAAAAAAAKECamZmZmVk4QA==",
            "dtype": "f8"
           },
           "xaxis": "x",
           "y": {
            "bdata": "AAAAAAAAAAB7NCpVrIsZQFNZq9xvriBAPmGT5k86I0CHwHVhLGAiQJrdQEI4CyBAXwVHeD3YG0CepB6tfxoXQC5kxL7QBhNAgOOv5tYHDUAJXP4yPVbyPw==",
            "dtype": "f8"
           },
           "yaxis": "y"
          }
         ],
         "name": "5"
        },
        {
         "data": [
          {
           "hovertemplate": "DV_and_PREDs=DV<br>ID=6<br>TIME=%{x}<br>Conc=%{y}<extra></extra>",
           "legendgroup": "DV",
           "line": {
            "color": "#636efa",
            "dash": "solid"
           },
           "marker": {
            "symbol": "circle"
           },
           "mode": "lines",
           "name": "DV",
           "orientation": "v",
           "showlegend": true,
           "type": "scatter",
           "x": {
            "bdata": "AAAAAAAAAABI4XoUrkfRP4/C9Shcj+I/ZmZmZmZm8j89CtejcD0AQI/C9ShcjwxAAAAAAAAAFEAAAAAAAAAcQHE9CtejcCJAMzMzMzMzKECamZmZmdk3QA==",
            "dtype": "f8"
           },
           "xaxis": "x",
           "y": {
            "bdata": "AAAAAAAAAACkcD0K16P0P6RwPQrXowhAw/UoXI/CGUBI4XoUrkcZQB+F61G4HhZAw/UoXI/CE0AUrkfhehQQQK5H4XoUrgtAPQrXo3A9BkBxPQrXo3DtPw==",
            "dtype": "f8"
           },
           "yaxis": "y"
          },
          {
           "hovertemplate": "DV_and_PREDs=PRED_full_omega<br>ID=6<br>TIME=%{x}<br>Conc=%{y}<extra></extra>",
           "legendgroup": "PRED_full_omega",
           "line": {
            "color": "#EF553B",
            "dash": "solid"
           },
           "marker": {
            "symbol": "circle"
           },
           "mode": "lines",
           "name": "PRED_full_omega",
           "orientation": "v",
           "showlegend": true,
           "type": "scatter",
           "x": {
            "bdata": "AAAAAAAAAABI4XoUrkfRP4/C9Shcj+I/ZmZmZmZm8j89CtejcD0AQI/C9ShcjwxAAAAAAAAAFEAAAAAAAAAcQHE9CtejcCJAMzMzMzMzKECamZmZmdk3QA==",
            "dtype": "f8"
           },
           "xaxis": "x",
           "y": {
            "bdata": "AAAAAAAAAAB9Fd7FDiYeQLiGvPPe1SRAih8QGuhTJkCkr2uF5NokQBjerMty9CFAnwIUpyk5H0Bv7BqdJa0ZQOL0ZE//qRRAref2gncvD0AbH5gEPcTzPw==",
            "dtype": "f8"
           },
           "yaxis": "y"
          },
          {
           "hovertemplate": "DV_and_PREDs=IPRED_full_omega<br>ID=6<br>TIME=%{x}<br>Conc=%{y}<extra></extra>",
           "legendgroup": "IPRED_full_omega",
           "line": {
            "color": "#00cc96",
            "dash": "solid"
           },
           "marker": {
            "symbol": "circle"
           },
           "mode": "lines",
           "name": "IPRED_full_omega",
           "orientation": "v",
           "showlegend": true,
           "type": "scatter",
           "x": {
            "bdata": "AAAAAAAAAABI4XoUrkfRP4/C9Shcj+I/ZmZmZmZm8j89CtejcD0AQI/C9ShcjwxAAAAAAAAAFEAAAAAAAAAcQHE9CtejcCJAMzMzMzMzKECamZmZmdk3QA==",
            "dtype": "f8"
           },
           "xaxis": "x",
           "y": {
            "bdata": "AAAAAAAAAACkGEQ5ZqwQQAaeBIikxxdA7AGFd5QxGkCgP6Jja70YQCRbJ1ydaxVAMplvXDC1EkBSkIZKs/UOQFFlCP62FglAogToRNIZA0Bs9WgckhzpPw==",
            "dtype": "f8"
           },
           "yaxis": "y"
          }
         ],
         "name": "6"
        },
        {
         "data": [
          {
           "hovertemplate": "DV_and_PREDs=DV<br>ID=7<br>TIME=%{x}<br>Conc=%{y}<extra></extra>",
           "legendgroup": "DV",
           "line": {
            "color": "#636efa",
            "dash": "solid"
           },
           "marker": {
            "symbol": "circle"
           },
           "mode": "lines",
           "name": "DV",
           "orientation": "v",
           "showlegend": true,
           "type": "scatter",
           "x": {
            "bdata": "AAAAAAAAAAAAAAAAAADQPwAAAAAAAOA/UrgehetR8D8pXI/C9SgAQNejcD0K1wtAAAAAAAAAFEDsUbgehesbQAAAAAAAACJAmpmZmZkZKEC4HoXrUTg4QA==",
            "dtype": "f8"
           },
           "xaxis": "x",
           "y": {
            "bdata": "MzMzMzMzwz8zMzMzMzPrP83MzMzMzAJAFK5H4XoUFEBSuB6F61EaQFyPwvUoXBxApHA9CtejGkAAAAAAAAAVQI/C9ShcjxFAPQrXo3A9DEBmZmZmZmbyPw==",
            "dtype": "f8"
           },
           "yaxis": "y"
          },
          {
           "hovertemplate": "DV_and_PREDs=PRED_full_omega<br>ID=7<br>TIME=%{x}<br>Conc=%{y}<extra></extra>",
           "legendgroup": "PRED_full_omega",
           "line": {
            "color": "#EF553B",
            "dash": "solid"
           },
           "marker": {
            "symbol": "circle"
           },
           "mode": "lines",
           "name": "PRED_full_omega",
           "orientation": "v",
           "showlegend": true,
           "type": "scatter",
           "x": {
            "bdata": "AAAAAAAAAAAAAAAAAADQPwAAAAAAAOA/UrgehetR8D8pXI/C9SgAQNejcD0K1wtAAAAAAAAAFEDsUbgehesbQAAAAAAAACJAmpmZmZkZKEC4HoXrUTg4QA==",
            "dtype": "f8"
           },
           "xaxis": "x",
           "y": {
            "bdata": "xg3HfcfEdz8fBAaai88cQDXOx1+K9SNAXJ3jh1tdJkBXDV59jN4kQJtml4bbGyJApckByQ83H0Ag3yTESLgZQKih2VSqGxVA9yQO7oJUD0CrSt/fLg/zPw==",
            "dtype": "f8"
           },
           "yaxis": "y"
          },
          {
           "hovertemplate": "DV_and_PREDs=IPRED_full_omega<br>ID=7<br>TIME=%{x}<br>Conc=%{y}<extra></extra>",
           "legendgroup": "IPRED_full_omega",
           "line": {
            "color": "#00cc96",
            "dash": "solid"
           },
           "marker": {
            "symbol": "circle"
           },
           "mode": "lines",
           "name": "IPRED_full_omega",
           "orientation": "v",
           "showlegend": true,
           "type": "scatter",
           "x": {
            "bdata": "AAAAAAAAAAAAAAAAAADQPwAAAAAAAOA/UrgehetR8D8pXI/C9SgAQNejcD0K1wtAAAAAAAAAFEDsUbgehesbQAAAAAAAACJAmpmZmZkZKEC4HoXrUTg4QA==",
            "dtype": "f8"
           },
           "xaxis": "x",
           "y": {
            "bdata": "l2g+DTGnbT8Q1HCsPmQQQBgpKqvRlRdAePemwNmUG0C/VWSixk0aQPy0OkSiABdApa1DDuz0E0BsXsqjypUQQL9MfsOAdgtAxA1c5MamBEBO4CuVj3zqPw==",
            "dtype": "f8"
           },
           "yaxis": "y"
          }
         ],
         "name": "7"
        },
        {
         "data": [
          {
           "hovertemplate": "DV_and_PREDs=DV<br>ID=8<br>TIME=%{x}<br>Conc=%{y}<extra></extra>",
           "legendgroup": "DV",
           "line": {
            "color": "#636efa",
            "dash": "solid"
           },
           "marker": {
            "symbol": "circle"
           },
           "mode": "lines",
           "name": "DV",
           "orientation": "v",
           "showlegend": true,
           "type": "scatter",
           "x": {
            "bdata": "AAAAAAAAAAAAAAAAAADQP6RwPQrXo+A/XI/C9Shc7z8pXI/C9SgAQD0K16NwPQxAMzMzMzMzFECamZmZmZkcQKRwPQrXIyJAMzMzMzMzKEAfhetRuB44QA==",
            "dtype": "f8"
           },
           "xaxis": "x",
           "y": {
            "bdata": "AAAAAAAAAABmZmZmZmYIQGZmZmZmZghAPQrXo3A9HUA9CtejcD0eQFyPwvUoXBpAhetRuB6FF0DsUbgehesSQEjhehSuRxJAAAAAAAAACEAAAAAAAAD0Pw==",
            "dtype": "f8"
           },
           "yaxis": "y"
          },
          {
           "hovertemplate": "DV_and_PREDs=PRED_full_omega<br>ID=8<br>TIME=%{x}<br>Conc=%{y}<extra></extra>",
           "legendgroup": "PRED_full_omega",
           "line": {
            "color": "#EF553B",
            "dash": "solid"
           },
           "marker": {
            "symbol": "circle"
           },
           "mode": "lines",
           "name": "PRED_full_omega",
           "orientation": "v",
           "showlegend": true,
           "type": "scatter",
           "x": {
            "bdata": "AAAAAAAAAAAAAAAAAADQP6RwPQrXo+A/XI/C9Shc7z8pXI/C9SgAQD0K16NwPQxAMzMzMzMzFECamZmZmZkcQKRwPQrXIyJAMzMzMzMzKEAfhetRuB44QA==",
            "dtype": "f8"
           },
           "xaxis": "x",
           "y": {
            "bdata": "AAAAAAAAAACtKiCYacAcQPnAVPdlKyRASH9CmjpQJkA8JfrLWNUkQNIFlPpN/SFAChZ3iWMCH0CaiGKWk0AZQPewhiOL7RRAUggh3KEfD0CD2fWeojbzPw==",
            "dtype": "f8"
           },
           "yaxis": "y"
          },
          {
           "hovertemplate": "DV_and_PREDs=IPRED_full_omega<br>ID=8<br>TIME=%{x}<br>Conc=%{y}<extra></extra>",
           "legendgroup": "IPRED_full_omega",
           "line": {
            "color": "#00cc96",
            "dash": "solid"
           },
           "marker": {
            "symbol": "circle"
           },
           "mode": "lines",
           "name": "IPRED_full_omega",
           "orientation": "v",
           "showlegend": true,
           "type": "scatter",
           "x": {
            "bdata": "AAAAAAAAAAAAAAAAAADQP6RwPQrXo+A/XI/C9Shc7z8pXI/C9SgAQD0K16NwPQxAMzMzMzMzFECamZmZmZkcQKRwPQrXIyJAMzMzMzMzKEAfhetRuB44QA==",
            "dtype": "f8"
           },
           "xaxis": "x",
           "y": {
            "bdata": "AAAAAAAAAAA2HKIMwS8SQNuo8qeDPxpA191SO77QHUC3V1HTF0kcQAVjT7nQjhhAPiGBSIBDFUBa7c5pJm0RQDU5ggq3DQ1AG/FyMnrNBUB8dKTilurrPw==",
            "dtype": "f8"
           },
           "yaxis": "y"
          }
         ],
         "name": "8"
        },
        {
         "data": [
          {
           "hovertemplate": "DV_and_PREDs=DV<br>ID=9<br>TIME=%{x}<br>Conc=%{y}<extra></extra>",
           "legendgroup": "DV",
           "line": {
            "color": "#636efa",
            "dash": "solid"
           },
           "marker": {
            "symbol": "circle"
           },
           "mode": "lines",
           "name": "DV",
           "orientation": "v",
           "showlegend": true,
           "type": "scatter",
           "x": {
            "bdata": "AAAAAAAAAAAzMzMzMzPTPylcj8L1KOQ/zczMzMzM8D8pXI/C9SgAQD0K16NwPQxAFK5H4XoUFECuR+F6FK4cQJqZmZmZmSFAMzMzMzMzJ0CuR+F6FG44QA==",
            "dtype": "f8"
           },
           "xaxis": "x",
           "y": {
            "bdata": "AAAAAAAAAAB7FK5H4XodQI/C9ShcDyJAj8L1KFyPHEBSuB6F61EZQKRwPQrXoxZArkfhehSuFkD2KFyPwvUQQHE9CtejcBBASOF6FK5HCUDsUbgehevxPw==",
            "dtype": "f8"
           },
           "yaxis": "y"
          },
          {
           "hovertemplate": "DV_and_PREDs=PRED_full_omega<br>ID=9<br>TIME=%{x}<br>Conc=%{y}<extra></extra>",
           "legendgroup": "PRED_full_omega",
           "line": {
            "color": "#EF553B",
            "dash": "solid"
           },
           "marker": {
            "symbol": "circle"
           },
           "mode": "lines",
           "name": "PRED_full_omega",
           "orientation": "v",
           "showlegend": true,
           "type": "scatter",
           "x": {
            "bdata": "AAAAAAAAAAAzMzMzMzPTPylcj8L1KOQ/zczMzMzM8D8pXI/C9SgAQD0K16NwPQxAFK5H4XoUFECuR+F6FK4cQJqZmZmZmSFAMzMzMzMzJ0CuR+F6FG44QA==",
            "dtype": "f8"
           },
           "xaxis": "x",
           "y": {
            "bdata": "AAAAAAAAAAAuJisbRcMaQN/t27X4xyFAvpw7N2u5IkDfHI4o43ghQObOq9KbLB5ACyUpiTQVGkAjQk19+iIVQC3nlESwBRJALPYf8HNoC0AfGTlm4kPvPw==",
            "dtype": "f8"
           },
           "yaxis": "y"
          },
          {
           "hovertemplate": "DV_and_PREDs=IPRED_full_omega<br>ID=9<br>TIME=%{x}<br>Conc=%{y}<extra></extra>",
           "legendgroup": "IPRED_full_omega",
           "line": {
            "color": "#00cc96",
            "dash": "solid"
           },
           "marker": {
            "symbol": "circle"
           },
           "mode": "lines",
           "name": "IPRED_full_omega",
           "orientation": "v",
           "showlegend": true,
           "type": "scatter",
           "x": {
            "bdata": "AAAAAAAAAAAzMzMzMzPTPylcj8L1KOQ/zczMzMzM8D8pXI/C9SgAQD0K16NwPQxAFK5H4XoUFECuR+F6FK4cQJqZmZmZmSFAMzMzMzMzJ0CuR+F6FG44QA==",
            "dtype": "f8"
           },
           "xaxis": "x",
           "y": {
            "bdata": "AAAAAAAAAAAxSYpj3Y0XQAt/D3KaBR9AWE5fXjQ+IEA+e+hRpDUeQJcfXawGDBpA0otW2mV8FkB4dixDDDASQLr2Yny3+A5AmYyArkh+B0CHzAYnXIDqPw==",
            "dtype": "f8"
           },
           "yaxis": "y"
          }
         ],
         "name": "9"
        },
        {
         "data": [
          {
           "hovertemplate": "DV_and_PREDs=DV<br>ID=10<br>TIME=%{x}<br>Conc=%{y}<extra></extra>",
           "legendgroup": "DV",
           "line": {
            "color": "#636efa",
            "dash": "solid"
           },
           "marker": {
            "symbol": "circle"
           },
           "mode": "lines",
           "name": "DV",
           "orientation": "v",
           "showlegend": true,
           "type": "scatter",
           "x": {
            "bdata": "AAAAAAAAAACuR+F6FK7XP6RwPQrXo+g/UrgehetR8D9mZmZmZmYAQGZmZmZmZgxAMzMzMzMzFEBSuB6F61EcQMP1KFyPwiJAMzMzMzMzKEAzMzMzM7M3QA==",
            "dtype": "f8"
           },
           "xaxis": "x",
           "y": {
            "bdata": "uB6F61G4zj8fhetRuB4HQOF6FK5H4RRApHA9CtejGUBSuB6F61EfQOxRuB6FayRAXI/C9ShcIkAK16NwPQogQI/C9ShcjxxAuB6F61G4FkBcj8L1KFwDQA==",
            "dtype": "f8"
           },
           "yaxis": "y"
          },
          {
           "hovertemplate": "DV_and_PREDs=PRED_full_omega<br>ID=10<br>TIME=%{x}<br>Conc=%{y}<extra></extra>",
           "legendgroup": "PRED_full_omega",
           "line": {
            "color": "#EF553B",
            "dash": "solid"
           },
           "marker": {
            "symbol": "circle"
           },
           "mode": "lines",
           "name": "PRED_full_omega",
           "orientation": "v",
           "showlegend": true,
           "type": "scatter",
           "x": {
            "bdata": "AAAAAAAAAACuR+F6FK7XP6RwPQrXo+g/UrgehetR8D9mZmZmZmYAQGZmZmZmZgxAMzMzMzMzFEBSuB6F61EcQMP1KFyPwiJAMzMzMzMzKEAzMzMzM7M3QA==",
            "dtype": "f8"
           },
           "xaxis": "x",
           "y": {
            "bdata": "nqQFy9IDgz9kVJn8ncUhQB1muZgiACZAAEQPb+BkJkBJJ8QOVNYkQNbM36Y+AiJAyaNu6HUaH0Dp4rAHuIAZQA6rTQ1GXRRARaYs0cg3D0DbDY3DVxT0Pw==",
            "dtype": "f8"
           },
           "yaxis": "y"
          },
          {
           "hovertemplate": "DV_and_PREDs=IPRED_full_omega<br>ID=10<br>TIME=%{x}<br>Conc=%{y}<extra></extra>",
           "legendgroup": "IPRED_full_omega",
           "line": {
            "color": "#00cc96",
            "dash": "solid"
           },
           "marker": {
            "symbol": "circle"
           },
           "mode": "lines",
           "name": "IPRED_full_omega",
           "orientation": "v",
           "showlegend": true,
           "type": "scatter",
           "x": {
            "bdata": "AAAAAAAAAACuR+F6FK7XP6RwPQrXo+g/UrgehetR8D9mZmZmZmYAQGZmZmZmZgxAMzMzMzMzFEBSuB6F61EcQMP1KFyPwiJAMzMzMzMzKEAzMzMzM7M3QA==",
            "dtype": "f8"
           },
           "xaxis": "x",
           "y": {
            "bdata": "aGVLDc3sfj/tGqnLDy0aQMi/veZjNiFAG8m3y6DmIUCNyqwTiy4hQMr+mohKBh5AhinmQn8oGkAaUQ0RfbQVQGUgOEZskRFAxUt5m+lcC0DlVCzM/tbyPw==",
            "dtype": "f8"
           },
           "yaxis": "y"
          }
         ],
         "name": "10"
        },
        {
         "data": [
          {
           "hovertemplate": "DV_and_PREDs=DV<br>ID=11<br>TIME=%{x}<br>Conc=%{y}<extra></extra>",
           "legendgroup": "DV",
           "line": {
            "color": "#636efa",
            "dash": "solid"
           },
           "marker": {
            "symbol": "circle"
           },
           "mode": "lines",
           "name": "DV",
           "orientation": "v",
           "showlegend": true,
           "type": "scatter",
           "x": {
            "bdata": "AAAAAAAAAAAAAAAAAADQPwAAAAAAAOA/XI/C9Shc7z+uR+F6FK7/P83MzMzMzAxAFK5H4XoUFEAfhetRuB4cQI/C9ShcDyJAPQrXo3A9KEAUrkfhehQ4QA==",
            "dtype": "f8"
           },
           "xaxis": "x",
           "y": {
            "bdata": "AAAAAAAAAABxPQrXo3ATQPYoXI/C9RxAAAAAAAAAIEA9CtejcD0bQHsUrkfhehdA4XoUrkfhFEDNzMzMzMwRQPYoXI/C9QxAhetRuB6FBUCF61G4HoXrPw==",
            "dtype": "f8"
           },
           "yaxis": "y"
          },
          {
           "hovertemplate": "DV_and_PREDs=PRED_full_omega<br>ID=11<br>TIME=%{x}<br>Conc=%{y}<extra></extra>",
           "legendgroup": "PRED_full_omega",
           "line": {
            "color": "#EF553B",
            "dash": "solid"
           },
           "marker": {
            "symbol": "circle"
           },
           "mode": "lines",
           "name": "PRED_full_omega",
           "orientation": "v",
           "showlegend": true,
           "type": "scatter",
           "x": {
            "bdata": "AAAAAAAAAAAAAAAAAADQPwAAAAAAAOA/XI/C9Shc7z+uR+F6FK7/P83MzMzMzAxAFK5H4XoUFEAfhetRuB4cQI/C9ShcDyJAPQrXo3A9KEAUrkfhehQ4QA==",
            "dtype": "f8"
           },
           "xaxis": "x",
           "y": {
            "bdata": "AAAAAAAAAAAIDTgccMocQGzsVLkw8yNAJ1pBaQJYJkCMRcDI0fAkQAM8vsge5CFACk8c1I4kH0CEuxd6y5UZQMfUPXrgCRVAD62v3+EaD0CKW4oIolDzPw==",
            "dtype": "f8"
           },
           "yaxis": "y"
          },
          {
           "hovertemplate": "DV_and_PREDs=IPRED_full_omega<br>ID=11<br>TIME=%{x}<br>Conc=%{y}<extra></extra>",
           "legendgroup": "IPRED_full_omega",
           "line": {
            "color": "#00cc96",
            "dash": "solid"
           },
           "marker": {
            "symbol": "circle"
           },
           "mode": "lines",
           "name": "IPRED_full_omega",
           "orientation": "v",
           "showlegend": true,
           "type": "scatter",
           "x": {
            "bdata": "AAAAAAAAAAAAAAAAAADQPwAAAAAAAOA/XI/C9Shc7z+uR+F6FK7/P83MzMzMzAxAFK5H4XoUFEAfhetRuB4cQI/C9ShcDyJAPQrXo3A9KEAUrkfhehQ4QA==",
            "dtype": "f8"
           },
           "xaxis": "x",
           "y": {
            "bdata": "AAAAAAAAAAAtEqk9CWYUQEAvPFAaYhxA7YV5AXbrH0CK140C5fodQEf2AdGwohlAuPetjG1TFkBoA5uwr1sSQPEo3QkFOA5A9AMozKVeBkCaMdK3J+7rPw==",
            "dtype": "f8"
           },
           "yaxis": "y"
          }
         ],
         "name": "11"
        },
        {
         "data": [
          {
           "hovertemplate": "DV_and_PREDs=DV<br>ID=12<br>TIME=%{x}<br>Conc=%{y}<extra></extra>",
           "legendgroup": "DV",
           "line": {
            "color": "#636efa",
            "dash": "solid"
           },
           "marker": {
            "symbol": "circle"
           },
           "mode": "lines",
           "name": "DV",
           "orientation": "v",
           "showlegend": true,
           "type": "scatter",
           "x": {
            "bdata": "AAAAAAAAAAAAAAAAAADQPwAAAAAAAOA/AAAAAAAA8D8AAAAAAAAAQClcj8L1KAxASOF6FK5HFEBI4XoUrkccQI/C9ShcDyJAmpmZmZkZKEBmZmZmZiY4QA==",
            "dtype": "f8"
           },
           "xaxis": "x",
           "y": {
            "bdata": "AAAAAAAAAAAAAAAAAAD0P65H4XoUrg9ASOF6FK5HH0BxPQrXo3AjQAAAAAAAgCNApHA9CtcjIUBcj8L1KFwaQHE9CtejcBhASOF6FK5HEkC4HoXrUbjyPw==",
            "dtype": "f8"
           },
           "yaxis": "y"
          },
          {
           "hovertemplate": "DV_and_PREDs=PRED_full_omega<br>ID=12<br>TIME=%{x}<br>Conc=%{y}<extra></extra>",
           "legendgroup": "PRED_full_omega",
           "line": {
            "color": "#EF553B",
            "dash": "solid"
           },
           "marker": {
            "symbol": "circle"
           },
           "mode": "lines",
           "name": "PRED_full_omega",
           "orientation": "v",
           "showlegend": true,
           "type": "scatter",
           "x": {
            "bdata": "AAAAAAAAAAAAAAAAAADQPwAAAAAAAOA/AAAAAAAA8D8AAAAAAAAAQClcj8L1KAxASOF6FK5HFEBI4XoUrkccQI/C9ShcDyJAmpmZmZkZKEBmZmZmZiY4QA==",
            "dtype": "f8"
           },
           "xaxis": "x",
           "y": {
            "bdata": "AAAAAAAAAADrozckB94cQPXm7MjDACRAIWWmm0ZpJkAYnoi28PQkQIyyEqFbFCJARodmb8ESH0B78yHCkI0ZQMNdI1AxGBVAHtPD4+dmD0CHiYQV9jvzPw==",
            "dtype": "f8"
           },
           "yaxis": "y"
          },
          {
           "hovertemplate": "DV_and_PREDs=IPRED_full_omega<br>ID=12<br>TIME=%{x}<br>Conc=%{y}<extra></extra>",
           "legendgroup": "IPRED_full_omega",
           "line": {
            "color": "#00cc96",
            "dash": "solid"
           },
           "marker": {
            "symbol": "circle"
           },
           "mode": "lines",
           "name": "IPRED_full_omega",
           "orientation": "v",
           "showlegend": true,
           "type": "scatter",
           "x": {
            "bdata": "AAAAAAAAAAAAAAAAAADQPwAAAAAAAOA/AAAAAAAA8D8AAAAAAAAAQClcj8L1KAxASOF6FK5HFEBI4XoUrkccQI/C9ShcDyJAmpmZmZkZKEBmZmZmZiY4QA==",
            "dtype": "f8"
           },
           "xaxis": "x",
           "y": {
            "bdata": "AAAAAAAAAACG8wht3i8VQNS8wOKV1x5AouM9rhJCIkBRFFqftZshQKJ1uhHFth5A3sICtIigGkBdTGSiOiUWQKxXqotkfBJAm/bhIpD9C0D6FMbJglvyPw==",
            "dtype": "f8"
           },
           "yaxis": "y"
          }
         ],
         "name": "12"
        }
       ],
       "layout": {
        "legend": {
         "title": {
          "text": "DV_and_PREDs"
         },
         "tracegroupgap": 0
        },
        "margin": {
         "t": 60
        },
        "sliders": [
         {
          "active": 0,
          "currentvalue": {
           "prefix": "ID="
          },
          "len": 0.9,
          "pad": {
           "b": 10,
           "t": 60
          },
          "steps": [
           {
            "args": [
             [
              "1"
             ],
             {
              "frame": {
               "duration": 0,
               "redraw": false
              },
              "fromcurrent": true,
              "mode": "immediate",
              "transition": {
               "duration": 0,
               "easing": "linear"
              }
             }
            ],
            "label": "1",
            "method": "animate"
           },
           {
            "args": [
             [
              "2"
             ],
             {
              "frame": {
               "duration": 0,
               "redraw": false
              },
              "fromcurrent": true,
              "mode": "immediate",
              "transition": {
               "duration": 0,
               "easing": "linear"
              }
             }
            ],
            "label": "2",
            "method": "animate"
           },
           {
            "args": [
             [
              "3"
             ],
             {
              "frame": {
               "duration": 0,
               "redraw": false
              },
              "fromcurrent": true,
              "mode": "immediate",
              "transition": {
               "duration": 0,
               "easing": "linear"
              }
             }
            ],
            "label": "3",
            "method": "animate"
           },
           {
            "args": [
             [
              "4"
             ],
             {
              "frame": {
               "duration": 0,
               "redraw": false
              },
              "fromcurrent": true,
              "mode": "immediate",
              "transition": {
               "duration": 0,
               "easing": "linear"
              }
             }
            ],
            "label": "4",
            "method": "animate"
           },
           {
            "args": [
             [
              "5"
             ],
             {
              "frame": {
               "duration": 0,
               "redraw": false
              },
              "fromcurrent": true,
              "mode": "immediate",
              "transition": {
               "duration": 0,
               "easing": "linear"
              }
             }
            ],
            "label": "5",
            "method": "animate"
           },
           {
            "args": [
             [
              "6"
             ],
             {
              "frame": {
               "duration": 0,
               "redraw": false
              },
              "fromcurrent": true,
              "mode": "immediate",
              "transition": {
               "duration": 0,
               "easing": "linear"
              }
             }
            ],
            "label": "6",
            "method": "animate"
           },
           {
            "args": [
             [
              "7"
             ],
             {
              "frame": {
               "duration": 0,
               "redraw": false
              },
              "fromcurrent": true,
              "mode": "immediate",
              "transition": {
               "duration": 0,
               "easing": "linear"
              }
             }
            ],
            "label": "7",
            "method": "animate"
           },
           {
            "args": [
             [
              "8"
             ],
             {
              "frame": {
               "duration": 0,
               "redraw": false
              },
              "fromcurrent": true,
              "mode": "immediate",
              "transition": {
               "duration": 0,
               "easing": "linear"
              }
             }
            ],
            "label": "8",
            "method": "animate"
           },
           {
            "args": [
             [
              "9"
             ],
             {
              "frame": {
               "duration": 0,
               "redraw": false
              },
              "fromcurrent": true,
              "mode": "immediate",
              "transition": {
               "duration": 0,
               "easing": "linear"
              }
             }
            ],
            "label": "9",
            "method": "animate"
           },
           {
            "args": [
             [
              "10"
             ],
             {
              "frame": {
               "duration": 0,
               "redraw": false
              },
              "fromcurrent": true,
              "mode": "immediate",
              "transition": {
               "duration": 0,
               "easing": "linear"
              }
             }
            ],
            "label": "10",
            "method": "animate"
           },
           {
            "args": [
             [
              "11"
             ],
             {
              "frame": {
               "duration": 0,
               "redraw": false
              },
              "fromcurrent": true,
              "mode": "immediate",
              "transition": {
               "duration": 0,
               "easing": "linear"
              }
             }
            ],
            "label": "11",
            "method": "animate"
           },
           {
            "args": [
             [
              "12"
             ],
             {
              "frame": {
               "duration": 0,
               "redraw": false
              },
              "fromcurrent": true,
              "mode": "immediate",
              "transition": {
               "duration": 0,
               "easing": "linear"
              }
             }
            ],
            "label": "12",
            "method": "animate"
           }
          ],
          "x": 0.1,
          "xanchor": "left",
          "y": 0,
          "yanchor": "top"
         }
        ],
        "template": {
         "data": {
          "bar": [
           {
            "error_x": {
             "color": "#2a3f5f"
            },
            "error_y": {
             "color": "#2a3f5f"
            },
            "marker": {
             "line": {
              "color": "#E5ECF6",
              "width": 0.5
             },
             "pattern": {
              "fillmode": "overlay",
              "size": 10,
              "solidity": 0.2
             }
            },
            "type": "bar"
           }
          ],
          "barpolar": [
           {
            "marker": {
             "line": {
              "color": "#E5ECF6",
              "width": 0.5
             },
             "pattern": {
              "fillmode": "overlay",
              "size": 10,
              "solidity": 0.2
             }
            },
            "type": "barpolar"
           }
          ],
          "carpet": [
           {
            "aaxis": {
             "endlinecolor": "#2a3f5f",
             "gridcolor": "white",
             "linecolor": "white",
             "minorgridcolor": "white",
             "startlinecolor": "#2a3f5f"
            },
            "baxis": {
             "endlinecolor": "#2a3f5f",
             "gridcolor": "white",
             "linecolor": "white",
             "minorgridcolor": "white",
             "startlinecolor": "#2a3f5f"
            },
            "type": "carpet"
           }
          ],
          "choropleth": [
           {
            "colorbar": {
             "outlinewidth": 0,
             "ticks": ""
            },
            "type": "choropleth"
           }
          ],
          "contour": [
           {
            "colorbar": {
             "outlinewidth": 0,
             "ticks": ""
            },
            "colorscale": [
             [
              0,
              "#0d0887"
             ],
             [
              0.1111111111111111,
              "#46039f"
             ],
             [
              0.2222222222222222,
              "#7201a8"
             ],
             [
              0.3333333333333333,
              "#9c179e"
             ],
             [
              0.4444444444444444,
              "#bd3786"
             ],
             [
              0.5555555555555556,
              "#d8576b"
             ],
             [
              0.6666666666666666,
              "#ed7953"
             ],
             [
              0.7777777777777778,
              "#fb9f3a"
             ],
             [
              0.8888888888888888,
              "#fdca26"
             ],
             [
              1,
              "#f0f921"
             ]
            ],
            "type": "contour"
           }
          ],
          "contourcarpet": [
           {
            "colorbar": {
             "outlinewidth": 0,
             "ticks": ""
            },
            "type": "contourcarpet"
           }
          ],
          "heatmap": [
           {
            "colorbar": {
             "outlinewidth": 0,
             "ticks": ""
            },
            "colorscale": [
             [
              0,
              "#0d0887"
             ],
             [
              0.1111111111111111,
              "#46039f"
             ],
             [
              0.2222222222222222,
              "#7201a8"
             ],
             [
              0.3333333333333333,
              "#9c179e"
             ],
             [
              0.4444444444444444,
              "#bd3786"
             ],
             [
              0.5555555555555556,
              "#d8576b"
             ],
             [
              0.6666666666666666,
              "#ed7953"
             ],
             [
              0.7777777777777778,
              "#fb9f3a"
             ],
             [
              0.8888888888888888,
              "#fdca26"
             ],
             [
              1,
              "#f0f921"
             ]
            ],
            "type": "heatmap"
           }
          ],
          "histogram": [
           {
            "marker": {
             "pattern": {
              "fillmode": "overlay",
              "size": 10,
              "solidity": 0.2
             }
            },
            "type": "histogram"
           }
          ],
          "histogram2d": [
           {
            "colorbar": {
             "outlinewidth": 0,
             "ticks": ""
            },
            "colorscale": [
             [
              0,
              "#0d0887"
             ],
             [
              0.1111111111111111,
              "#46039f"
             ],
             [
              0.2222222222222222,
              "#7201a8"
             ],
             [
              0.3333333333333333,
              "#9c179e"
             ],
             [
              0.4444444444444444,
              "#bd3786"
             ],
             [
              0.5555555555555556,
              "#d8576b"
             ],
             [
              0.6666666666666666,
              "#ed7953"
             ],
             [
              0.7777777777777778,
              "#fb9f3a"
             ],
             [
              0.8888888888888888,
              "#fdca26"
             ],
             [
              1,
              "#f0f921"
             ]
            ],
            "type": "histogram2d"
           }
          ],
          "histogram2dcontour": [
           {
            "colorbar": {
             "outlinewidth": 0,
             "ticks": ""
            },
            "colorscale": [
             [
              0,
              "#0d0887"
             ],
             [
              0.1111111111111111,
              "#46039f"
             ],
             [
              0.2222222222222222,
              "#7201a8"
             ],
             [
              0.3333333333333333,
              "#9c179e"
             ],
             [
              0.4444444444444444,
              "#bd3786"
             ],
             [
              0.5555555555555556,
              "#d8576b"
             ],
             [
              0.6666666666666666,
              "#ed7953"
             ],
             [
              0.7777777777777778,
              "#fb9f3a"
             ],
             [
              0.8888888888888888,
              "#fdca26"
             ],
             [
              1,
              "#f0f921"
             ]
            ],
            "type": "histogram2dcontour"
           }
          ],
          "mesh3d": [
           {
            "colorbar": {
             "outlinewidth": 0,
             "ticks": ""
            },
            "type": "mesh3d"
           }
          ],
          "parcoords": [
           {
            "line": {
             "colorbar": {
              "outlinewidth": 0,
              "ticks": ""
             }
            },
            "type": "parcoords"
           }
          ],
          "pie": [
           {
            "automargin": true,
            "type": "pie"
           }
          ],
          "scatter": [
           {
            "fillpattern": {
             "fillmode": "overlay",
             "size": 10,
             "solidity": 0.2
            },
            "type": "scatter"
           }
          ],
          "scatter3d": [
           {
            "line": {
             "colorbar": {
              "outlinewidth": 0,
              "ticks": ""
             }
            },
            "marker": {
             "colorbar": {
              "outlinewidth": 0,
              "ticks": ""
             }
            },
            "type": "scatter3d"
           }
          ],
          "scattercarpet": [
           {
            "marker": {
             "colorbar": {
              "outlinewidth": 0,
              "ticks": ""
             }
            },
            "type": "scattercarpet"
           }
          ],
          "scattergeo": [
           {
            "marker": {
             "colorbar": {
              "outlinewidth": 0,
              "ticks": ""
             }
            },
            "type": "scattergeo"
           }
          ],
          "scattergl": [
           {
            "marker": {
             "colorbar": {
              "outlinewidth": 0,
              "ticks": ""
             }
            },
            "type": "scattergl"
           }
          ],
          "scattermap": [
           {
            "marker": {
             "colorbar": {
              "outlinewidth": 0,
              "ticks": ""
             }
            },
            "type": "scattermap"
           }
          ],
          "scattermapbox": [
           {
            "marker": {
             "colorbar": {
              "outlinewidth": 0,
              "ticks": ""
             }
            },
            "type": "scattermapbox"
           }
          ],
          "scatterpolar": [
           {
            "marker": {
             "colorbar": {
              "outlinewidth": 0,
              "ticks": ""
             }
            },
            "type": "scatterpolar"
           }
          ],
          "scatterpolargl": [
           {
            "marker": {
             "colorbar": {
              "outlinewidth": 0,
              "ticks": ""
             }
            },
            "type": "scatterpolargl"
           }
          ],
          "scatterternary": [
           {
            "marker": {
             "colorbar": {
              "outlinewidth": 0,
              "ticks": ""
             }
            },
            "type": "scatterternary"
           }
          ],
          "surface": [
           {
            "colorbar": {
             "outlinewidth": 0,
             "ticks": ""
            },
            "colorscale": [
             [
              0,
              "#0d0887"
             ],
             [
              0.1111111111111111,
              "#46039f"
             ],
             [
              0.2222222222222222,
              "#7201a8"
             ],
             [
              0.3333333333333333,
              "#9c179e"
             ],
             [
              0.4444444444444444,
              "#bd3786"
             ],
             [
              0.5555555555555556,
              "#d8576b"
             ],
             [
              0.6666666666666666,
              "#ed7953"
             ],
             [
              0.7777777777777778,
              "#fb9f3a"
             ],
             [
              0.8888888888888888,
              "#fdca26"
             ],
             [
              1,
              "#f0f921"
             ]
            ],
            "type": "surface"
           }
          ],
          "table": [
           {
            "cells": {
             "fill": {
              "color": "#EBF0F8"
             },
             "line": {
              "color": "white"
             }
            },
            "header": {
             "fill": {
              "color": "#C8D4E3"
             },
             "line": {
              "color": "white"
             }
            },
            "type": "table"
           }
          ]
         },
         "layout": {
          "annotationdefaults": {
           "arrowcolor": "#2a3f5f",
           "arrowhead": 0,
           "arrowwidth": 1
          },
          "autotypenumbers": "strict",
          "coloraxis": {
           "colorbar": {
            "outlinewidth": 0,
            "ticks": ""
           }
          },
          "colorscale": {
           "diverging": [
            [
             0,
             "#8e0152"
            ],
            [
             0.1,
             "#c51b7d"
            ],
            [
             0.2,
             "#de77ae"
            ],
            [
             0.3,
             "#f1b6da"
            ],
            [
             0.4,
             "#fde0ef"
            ],
            [
             0.5,
             "#f7f7f7"
            ],
            [
             0.6,
             "#e6f5d0"
            ],
            [
             0.7,
             "#b8e186"
            ],
            [
             0.8,
             "#7fbc41"
            ],
            [
             0.9,
             "#4d9221"
            ],
            [
             1,
             "#276419"
            ]
           ],
           "sequential": [
            [
             0,
             "#0d0887"
            ],
            [
             0.1111111111111111,
             "#46039f"
            ],
            [
             0.2222222222222222,
             "#7201a8"
            ],
            [
             0.3333333333333333,
             "#9c179e"
            ],
            [
             0.4444444444444444,
             "#bd3786"
            ],
            [
             0.5555555555555556,
             "#d8576b"
            ],
            [
             0.6666666666666666,
             "#ed7953"
            ],
            [
             0.7777777777777778,
             "#fb9f3a"
            ],
            [
             0.8888888888888888,
             "#fdca26"
            ],
            [
             1,
             "#f0f921"
            ]
           ],
           "sequentialminus": [
            [
             0,
             "#0d0887"
            ],
            [
             0.1111111111111111,
             "#46039f"
            ],
            [
             0.2222222222222222,
             "#7201a8"
            ],
            [
             0.3333333333333333,
             "#9c179e"
            ],
            [
             0.4444444444444444,
             "#bd3786"
            ],
            [
             0.5555555555555556,
             "#d8576b"
            ],
            [
             0.6666666666666666,
             "#ed7953"
            ],
            [
             0.7777777777777778,
             "#fb9f3a"
            ],
            [
             0.8888888888888888,
             "#fdca26"
            ],
            [
             1,
             "#f0f921"
            ]
           ]
          },
          "colorway": [
           "#636efa",
           "#EF553B",
           "#00cc96",
           "#ab63fa",
           "#FFA15A",
           "#19d3f3",
           "#FF6692",
           "#B6E880",
           "#FF97FF",
           "#FECB52"
          ],
          "font": {
           "color": "#2a3f5f"
          },
          "geo": {
           "bgcolor": "white",
           "lakecolor": "white",
           "landcolor": "#E5ECF6",
           "showlakes": true,
           "showland": true,
           "subunitcolor": "white"
          },
          "hoverlabel": {
           "align": "left"
          },
          "hovermode": "closest",
          "mapbox": {
           "style": "light"
          },
          "paper_bgcolor": "white",
          "plot_bgcolor": "#E5ECF6",
          "polar": {
           "angularaxis": {
            "gridcolor": "white",
            "linecolor": "white",
            "ticks": ""
           },
           "bgcolor": "#E5ECF6",
           "radialaxis": {
            "gridcolor": "white",
            "linecolor": "white",
            "ticks": ""
           }
          },
          "scene": {
           "xaxis": {
            "backgroundcolor": "#E5ECF6",
            "gridcolor": "white",
            "gridwidth": 2,
            "linecolor": "white",
            "showbackground": true,
            "ticks": "",
            "zerolinecolor": "white"
           },
           "yaxis": {
            "backgroundcolor": "#E5ECF6",
            "gridcolor": "white",
            "gridwidth": 2,
            "linecolor": "white",
            "showbackground": true,
            "ticks": "",
            "zerolinecolor": "white"
           },
           "zaxis": {
            "backgroundcolor": "#E5ECF6",
            "gridcolor": "white",
            "gridwidth": 2,
            "linecolor": "white",
            "showbackground": true,
            "ticks": "",
            "zerolinecolor": "white"
           }
          },
          "shapedefaults": {
           "line": {
            "color": "#2a3f5f"
           }
          },
          "ternary": {
           "aaxis": {
            "gridcolor": "white",
            "linecolor": "white",
            "ticks": ""
           },
           "baxis": {
            "gridcolor": "white",
            "linecolor": "white",
            "ticks": ""
           },
           "bgcolor": "#E5ECF6",
           "caxis": {
            "gridcolor": "white",
            "linecolor": "white",
            "ticks": ""
           }
          },
          "title": {
           "x": 0.05
          },
          "xaxis": {
           "automargin": true,
           "gridcolor": "white",
           "linecolor": "white",
           "ticks": "",
           "title": {
            "standoff": 15
           },
           "zerolinecolor": "white",
           "zerolinewidth": 2
          },
          "yaxis": {
           "automargin": true,
           "gridcolor": "white",
           "linecolor": "white",
           "ticks": "",
           "title": {
            "standoff": 15
           },
           "zerolinecolor": "white",
           "zerolinewidth": 2
          }
         }
        },
        "updatemenus": [
         {
          "buttons": [
           {
            "args": [
             null,
             {
              "frame": {
               "duration": 500,
               "redraw": false
              },
              "fromcurrent": true,
              "mode": "immediate",
              "transition": {
               "duration": 500,
               "easing": "linear"
              }
             }
            ],
            "label": "&#9654;",
            "method": "animate"
           },
           {
            "args": [
             [
              null
             ],
             {
              "frame": {
               "duration": 0,
               "redraw": false
              },
              "fromcurrent": true,
              "mode": "immediate",
              "transition": {
               "duration": 0,
               "easing": "linear"
              }
             }
            ],
            "label": "&#9724;",
            "method": "animate"
           }
          ],
          "direction": "left",
          "pad": {
           "r": 10,
           "t": 70
          },
          "showactive": false,
          "type": "buttons",
          "x": 0.1,
          "xanchor": "right",
          "y": 0,
          "yanchor": "top"
         }
        ],
        "xaxis": {
         "anchor": "y",
         "domain": [
          0,
          1
         ],
         "title": {
          "text": "TIME"
         }
        },
        "yaxis": {
         "anchor": "x",
         "domain": [
          0,
          1
         ],
         "title": {
          "text": "Conc"
         }
        }
       }
      }
     },
     "metadata": {},
     "output_type": "display_data"
    }
   ],
   "source": [
    "import plotly.express as px\n",
    "\n",
    "\n",
    "px.line(data_frame=pred_df, x = 'TIME', y = 'Conc', color = 'DV_and_PREDs', animation_frame='ID')"
   ]
  },
  {
   "cell_type": "code",
   "execution_count": null,
   "id": "4fd5d5c4",
   "metadata": {},
   "outputs": [],
   "source": []
  }
 ],
 "metadata": {
  "kernelspec": {
   "display_name": "niceode-fa7VnN3D-py3.13",
   "language": "python",
   "name": "python3"
  },
  "language_info": {
   "codemirror_mode": {
    "name": "ipython",
    "version": 3
   },
   "file_extension": ".py",
   "mimetype": "text/x-python",
   "name": "python",
   "nbconvert_exporter": "python",
   "pygments_lexer": "ipython3",
   "version": "3.13.5"
  }
 },
 "nbformat": 4,
 "nbformat_minor": 5
}
