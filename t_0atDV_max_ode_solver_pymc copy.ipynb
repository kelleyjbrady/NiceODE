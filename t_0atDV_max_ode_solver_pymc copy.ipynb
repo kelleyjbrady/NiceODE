{
 "cells": [
  {
   "cell_type": "code",
   "execution_count": 1,
   "metadata": {},
   "outputs": [],
   "source": [
    "import pandas as pd\n",
    "import matplotlib.pyplot as plt\n",
    "import seaborn as sns\n",
    "from utils import plot_subject_levels"
   ]
  },
  {
   "cell_type": "code",
   "execution_count": 2,
   "metadata": {},
   "outputs": [],
   "source": [
    "df = pd.read_csv(r'/workspaces/miniconda/PKdata/data-raw/KI20160914/KI20160914.csv')"
   ]
  },
  {
   "cell_type": "code",
   "execution_count": null,
   "metadata": {},
   "outputs": [],
   "source": [
    "plot_subject_levels(df)"
   ]
  },
  {
   "cell_type": "code",
   "execution_count": 4,
   "metadata": {},
   "outputs": [],
   "source": [
    "from scipy.integrate import solve_ivp\n",
    "import numpy as np\n",
    "from tqdm import tqdm\n",
    "from utils import one_compartment_model, objective_function"
   ]
  },
  {
   "cell_type": "code",
   "execution_count": 5,
   "metadata": {},
   "outputs": [],
   "source": [
    "#prepare day 1 data\n",
    "opt_df = df.dropna(subset = 'DV').copy()\n",
    "opt_df['DV'] = opt_df['DV'].astype(pd.Float32Dtype())\n",
    "opt_df = opt_df.loc[opt_df['DAY'] == 1, :]\n",
    "\n",
    "#Within day 1 data, per subject identify the max concentration\n",
    "#Drop time points occuring before the max, and set the time at that max conc to t=0\n",
    "dfs = []\n",
    "for c in opt_df['SUBJID'].drop_duplicates():\n",
    "    work_df = opt_df.loc[opt_df['SUBJID'] == c, :].reset_index(drop = True)\n",
    "    max_idx = work_df.loc[work_df['DV'] == work_df['DV'].max(), :].index[0]\n",
    "    work_df = work_df.iloc[max_idx:, :]\n",
    "    work_df['TIME'] = work_df['TIME'] - work_df['TIME'].min()\n",
    "    dfs.append(work_df.copy())\n",
    "work_df = pd.concat(dfs)"
   ]
  },
  {
   "cell_type": "code",
   "execution_count": null,
   "metadata": {},
   "outputs": [],
   "source": [
    "#plot the prepared data\n",
    "plot_subject_levels(work_df)"
   ]
  },
  {
   "cell_type": "code",
   "execution_count": 7,
   "metadata": {},
   "outputs": [],
   "source": [
    "import numpy as np\n",
    "from scipy.optimize import minimize\n",
    "from joblib import dump, load\n",
    "import os\n",
    "from functools import partial\n",
    "from utils import optimize_with_checkpoint_joblib"
   ]
  },
  {
   "cell_type": "code",
   "execution_count": null,
   "metadata": {},
   "outputs": [],
   "source": [
    "from sklearn.preprocessing import RobustScaler\n",
    "scale_df = work_df.copy()\n",
    "#scale_df[['DV']] = RobustScaler().fit_transform(scale_df[['DV']])\n",
    "mgkg_scaler = RobustScaler()\n",
    "age_scaler = RobustScaler()\n",
    "wt_scaler = RobustScaler()\n",
    "\n",
    "scale_df['MGKG'] = (scale_df['DOSR'] / scale_df['WT'])\n",
    "scale_df['WT_scale'] = wt_scaler.fit_transform(scale_df[['WT']])\n",
    "scale_df['MGKG_scale'] = mgkg_scaler.fit_transform(scale_df[['MGKG']])\n",
    "scale_df['AGE_scale'] = age_scaler.fit_transform(scale_df[['AGE']])\n",
    "scale_df['DOSR'] = scale_df['DOSR'] / 100\n",
    "plot_subject_levels(scale_df)"
   ]
  },
  {
   "cell_type": "code",
   "execution_count": null,
   "metadata": {},
   "outputs": [],
   "source": [
    "scale_df"
   ]
  },
  {
   "cell_type": "code",
   "execution_count": null,
   "metadata": {},
   "outputs": [],
   "source": [
    "from utils import OneCompartmentModel, ObjectiveFunctionColumn\n",
    "mod_sse = OneCompartmentModel(dep_vars= {'k':[ ObjectiveFunctionColumn('AGE_scale'),\n",
    "                                                ObjectiveFunctionColumn('SEX' )],\n",
    "                                           'vd':[ObjectiveFunctionColumn('WT_scale',\n",
    "                                                                         model_method='linear',\n",
    "                                                                         \n",
    "                                                                         allometric_norm_value=wt_scaler.transform([[70]])[0][0], \n",
    "                                                                         \n",
    "                                                                         )]}, \n",
    "                              #loss_function=sum_of_squares_loss, \n",
    "                              optimizer_tol=None\n",
    "                              )"
   ]
  },
  {
   "cell_type": "code",
   "execution_count": 11,
   "metadata": {},
   "outputs": [],
   "source": [
    "init_summary = mod_sse.init_vals_pd"
   ]
  },
  {
   "cell_type": "code",
   "execution_count": 12,
   "metadata": {},
   "outputs": [],
   "source": [
    "import pymc as pm"
   ]
  },
  {
   "cell_type": "code",
   "execution_count": null,
   "metadata": {},
   "outputs": [],
   "source": [
    "model_params = init_summary.loc[init_summary['population_coeff'], :]\n",
    "model_params"
   ]
  },
  {
   "cell_type": "code",
   "execution_count": null,
   "metadata": {},
   "outputs": [],
   "source": [
    "model_param_dep_vars = init_summary.loc[init_summary['population_coeff'] == False, :]\n",
    "model_param_dep_vars"
   ]
  },
  {
   "cell_type": "code",
   "execution_count": null,
   "metadata": {},
   "outputs": [],
   "source": [
    "model_params.to_dict()"
   ]
  },
  {
   "cell_type": "code",
   "execution_count": null,
   "metadata": {},
   "outputs": [],
   "source": [
    "model_param_dep_vars.to_dict()"
   ]
  },
  {
   "cell_type": "code",
   "execution_count": 17,
   "metadata": {},
   "outputs": [],
   "source": []
  },
  {
   "cell_type": "code",
   "execution_count": 17,
   "metadata": {},
   "outputs": [],
   "source": [
    "def one_compartment_model(t, y, theta ):\n",
    "    \"\"\"\n",
    "    Defines the differential equation for a one-compartment pharmacokinetic model.\n",
    "\n",
    "    This function calculates the rate of change of drug concentration in the central \n",
    "    compartment over time.\n",
    "\n",
    "    Args:\n",
    "      t (float): Time point (not used in this specific model, but required by solve_ivp).\n",
    "      y (list): Current drug concentration in the central compartment.\n",
    "      k (float): Elimination rate constant.\n",
    "      Vd (float): Volume of distribution.\n",
    "\n",
    "\n",
    "    Returns:\n",
    "      float: The rate of change of drug concentration (dC/dt).\n",
    "    \"\"\"\n",
    "    k, Vd = theta\n",
    "    C = y[0]  # Extract concentration from the state vector\n",
    "    dCdt = -(k/Vd) * C  # Calculate the rate of change\n",
    "    return dCdt"
   ]
  },
  {
   "cell_type": "code",
   "execution_count": 18,
   "metadata": {},
   "outputs": [],
   "source": [
    "from pytensor.compile.ops import as_op\n",
    "import pytensor.tensor as pt\n",
    "import pytensor\n",
    "from scipy.integrate import solve_ivp\n",
    "import os\n",
    "\n",
    "# Set PyTensor flags for debugging\n",
    "os.environ[\"PYTENSOR_FLAGS\"] = \"optimizer=fast_compile,exception_verbosity=high\""
   ]
  },
  {
   "cell_type": "code",
   "execution_count": 19,
   "metadata": {},
   "outputs": [],
   "source": [
    "debug_df = scale_df.loc[scale_df['SUBJID'].isin([1,2]), :]"
   ]
  },
  {
   "cell_type": "code",
   "execution_count": 20,
   "metadata": {},
   "outputs": [],
   "source": [
    "all_subject_data = debug_df[['SUBJID', 'AGE_scale', 'WT_scale', 'SEX']].drop_duplicates(subset = 'SUBJID', keep='first').copy()"
   ]
  },
  {
   "cell_type": "code",
   "execution_count": 21,
   "metadata": {},
   "outputs": [],
   "source": [
    "pm_df = debug_df.copy()\n",
    "pm_subj_df = all_subject_data.copy()"
   ]
  },
  {
   "cell_type": "code",
   "execution_count": 22,
   "metadata": {},
   "outputs": [],
   "source": [
    "coords = {'subject':pm_df['SUBJID'].unique()}"
   ]
  },
  {
   "cell_type": "code",
   "execution_count": null,
   "metadata": {},
   "outputs": [],
   "source": [
    "all_subject_data"
   ]
  },
  {
   "cell_type": "code",
   "execution_count": 24,
   "metadata": {},
   "outputs": [],
   "source": [
    "import logging\n",
    "\n",
    "# Configure logging to capture console output\n",
    "logging.basicConfig(filename='pymc_debug.log', level=logging.INFO, \n",
    "                    format='%(asctime)s - %(levelname)s - %(message)s')"
   ]
  },
  {
   "cell_type": "code",
   "execution_count": null,
   "metadata": {},
   "outputs": [],
   "source": [
    "old_subj_loop = True\n",
    "pt_printing = True\n",
    "with pm.Model(coords=coords) as model:\n",
    "    \n",
    "    \n",
    "    betas = {}\n",
    "    seen_coeff = []\n",
    "    for idx, row in model_param_dep_vars.iterrows():\n",
    "        coeff_name = row['model_coeff']\n",
    "        \n",
    "        beta_name = row['model_coeff_dep_var']\n",
    "        if coeff_name not in seen_coeff:\n",
    "            betas[coeff_name] = {}\n",
    "        betas[coeff_name].update({beta_name:pm.Normal(f\"beta_{coeff_name}_{beta_name}\", mu = 0, sigma = 1)})\n",
    "        seen_coeff.append(coeff_name)\n",
    "        \n",
    "    population_coeff = {}\n",
    "    pop_coeff_intercept_mu = {}\n",
    "    pop_coeff_intercept_sigma = {}\n",
    "    pop_coeff_intercept_i = {}\n",
    "    pm_model_params = []\n",
    "    for idx, row in model_params.iterrows():\n",
    "        coeff_name = row['model_coeff']\n",
    "        population_coeff[coeff_name]=pm.Normal(f\"{coeff_name}_pop\", mu = 0, sigma = 1)\n",
    "        pop_coeff_intercept_mu[coeff_name] = pm.Normal(f\"{coeff_name}_intercept_mu\", mu = 0, sigma = 1)\n",
    "        pop_coeff_intercept_sigma[coeff_name] = pm.HalfNormal(f\"{coeff_name}_intercept_sigma\", sigma = 10)\n",
    "        pop_coeff_intercept_i[coeff_name] = pm.Normal(f\"{coeff_name}_intercept_sub\",\n",
    "                                                      mu = pop_coeff_intercept_mu[coeff_name], \n",
    "                                                      sigma = pop_coeff_intercept_sigma[coeff_name],\n",
    "                                                      dims = 'subject'\n",
    "                                                      )\n",
    "        print(f\"Shape of pop_coeff_intercept_i[{coeff_name}]: {pop_coeff_intercept_i[coeff_name].shape.eval()}\")\n",
    "        model_coeff = (population_coeff[coeff_name] + pop_coeff_intercept_i[coeff_name])\n",
    "        for beta_name in betas[coeff_name]:\n",
    "            print(f\"Shape of model_coeff: {model_coeff.shape.eval()}\")\n",
    "            print(f\"Shape of betas[{coeff_name}][{beta_name}]: {betas[coeff_name][beta_name].shape.eval()}\")\n",
    "            print(f\"Shape of pm_subj_df[{beta_name}]: {pm_subj_df[beta_name].shape}\")\n",
    "            #print(f\"Shape of pm_subj_df[{beta_name}][{sub_idx}]: {pm_subj_df[beta_name][sub_idx].shape}\")\n",
    "            model_coeff = pm.math.exp((model_coeff + betas[coeff_name][beta_name] * pm_subj_df[beta_name]))\n",
    "        pm_model_params.append(\n",
    "            pm.Deterministic(f\"{coeff_name}_i\", model_coeff, dims = 'subject')\n",
    "        )\n",
    "    all_conc = []  \n",
    "    for sub_idx, subject in enumerate(pm_df['SUBJID'].unique()):\n",
    "        subject_data = pm_df.loc[pm_df['SUBJID'] == subject, :]\n",
    "        initial_conc = subject_data['DV'].values[0]#.item()\n",
    "        t_eval = subject_data['TIME'].values\n",
    "        t_span = [subject_data['TIME'].min(), subject_data['TIME'].max()]\n",
    "        theta = [i[sub_idx] for i in pm_model_params]\n",
    "        if old_subj_loop:\n",
    "            @as_op(itypes=[pt.dscalar for i in pm_model_params], otypes=[pt.dvector])\n",
    "            def pytensor_forward_model_matrix(*args):\n",
    "                theta = [i for i in args]\n",
    "                sol = solve_ivp(one_compartment_model, t_span, [initial_conc], t_eval=t_eval, args=(theta,) )\n",
    "                ode_sol = sol.y[0]\n",
    "                #print(\"\\nShape of ode_sol within function:\", ode_sol.shape)\n",
    "                #print(\"\\nValues of ode_sol within function:\", ode_sol)\n",
    "                return ode_sol\n",
    "            \n",
    "        \n",
    "        #theta = pytensor.printing.Print(\"\\nShape of theta before stack\")(pt.shape(theta))\n",
    "        #theta = pm.math.stack(theta)\n",
    "        #theta = pytensor.printing.Print(\"\\nShape of theta after stack\")(pt.shape(theta))\n",
    "        #print\n",
    "        if old_subj_loop:\n",
    "            ode_sol = pytensor_forward_model_matrix(*theta) #issue could be that this is not the same length for each subject\n",
    "        else:\n",
    "            sol = solve_ivp(one_compartment_model, t_span, [initial_conc], t_eval=t_eval, args=(*theta,) )\n",
    "            #print(sol)\n",
    "            ode_sol = sol.y[0] \n",
    "        if pt_printing:\n",
    "            #_ = pytensor.printing.Print(\"Shape of ode_sol\")(pt.shape(ode_sol))\n",
    "            #ode_sol = pytensor.printing.Print(\"ode_sol Values:\")(ode_sol)\n",
    "        all_conc.append(ode_sol)\n",
    "    all_conc = pt.concatenate(all_conc, axis=0)\n",
    "    #if pt_printing:\n",
    "    #    all_conc = pytensor.printing.Print(\"Shape of all_conc\")(\n",
    "    #    pt.shape(all_conc)\n",
    "    #)\n",
    "    sigma_obs = pm.HalfNormal(\"sigma_obs\", sigma=1)\n",
    "    pm.LogNormal(\"obs\", mu=all_conc, sigma=sigma_obs, observed=pm_df[\"DV\"].values.reshape(-1,1))\n",
    "        \n",
    "        "
   ]
  },
  {
   "cell_type": "code",
   "execution_count": null,
   "metadata": {},
   "outputs": [],
   "source": [
    "pm.model_to_graphviz(model)"
   ]
  },
  {
   "cell_type": "code",
   "execution_count": null,
   "metadata": {},
   "outputs": [],
   "source": [
    "vars_list = list(model.values_to_rvs.keys())[:-1]\n",
    "\n",
    "sampler = \"DEMetropolisZ\"\n",
    "tune = draws = 2\n",
    "with model:\n",
    "    trace_DEMZ = pm.sample(step=[pm.DEMetropolisZ(vars_list)], tune=tune, draws=draws, chains = 1)\n"
   ]
  },
  {
   "cell_type": "code",
   "execution_count": null,
   "metadata": {},
   "outputs": [],
   "source": []
  }
 ],
 "metadata": {
  "kernelspec": {
   "display_name": "base",
   "language": "python",
   "name": "python3"
  },
  "language_info": {
   "codemirror_mode": {
    "name": "ipython",
    "version": 3
   },
   "file_extension": ".py",
   "mimetype": "text/x-python",
   "name": "python",
   "nbconvert_exporter": "python",
   "pygments_lexer": "ipython3",
   "version": "3.12.7"
  }
 },
 "nbformat": 4,
 "nbformat_minor": 2
}
